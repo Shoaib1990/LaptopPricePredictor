{
 "cells": [
  {
   "cell_type": "code",
   "execution_count": 1,
   "id": "4a76309c",
   "metadata": {},
   "outputs": [],
   "source": [
    "import pandas as pd\n",
    "import numpy as np\n",
    "import seaborn as sns\n",
    "import matplotlib.pyplot as plt"
   ]
  },
  {
   "cell_type": "code",
   "execution_count": null,
   "id": "5fedccc5",
   "metadata": {},
   "outputs": [],
   "source": []
  },
  {
   "cell_type": "code",
   "execution_count": null,
   "id": "9b633db9",
   "metadata": {},
   "outputs": [],
   "source": []
  },
  {
   "cell_type": "code",
   "execution_count": 2,
   "id": "d1b8d57d",
   "metadata": {},
   "outputs": [],
   "source": [
    "df = pd.read_csv('data/_laptop_data.csv', encoding='unicode_escape')"
   ]
  },
  {
   "cell_type": "code",
   "execution_count": 3,
   "id": "d55bb8c8",
   "metadata": {},
   "outputs": [
    {
     "data": {
      "text/html": [
       "<div>\n",
       "<style scoped>\n",
       "    .dataframe tbody tr th:only-of-type {\n",
       "        vertical-align: middle;\n",
       "    }\n",
       "\n",
       "    .dataframe tbody tr th {\n",
       "        vertical-align: top;\n",
       "    }\n",
       "\n",
       "    .dataframe thead th {\n",
       "        text-align: right;\n",
       "    }\n",
       "</style>\n",
       "<table border=\"1\" class=\"dataframe\">\n",
       "  <thead>\n",
       "    <tr style=\"text-align: right;\">\n",
       "      <th></th>\n",
       "      <th>web-scraper-order</th>\n",
       "      <th>web-scraper-start-url</th>\n",
       "      <th>single</th>\n",
       "      <th>single-href</th>\n",
       "      <th>title</th>\n",
       "      <th>price</th>\n",
       "      <th>manufacturer</th>\n",
       "      <th>model_name</th>\n",
       "      <th>screen_size</th>\n",
       "      <th>display_resolution</th>\n",
       "      <th>cpu_model</th>\n",
       "      <th>processor</th>\n",
       "      <th>graphics_copressor</th>\n",
       "      <th>ram</th>\n",
       "      <th>storage</th>\n",
       "      <th>operating_system</th>\n",
       "      <th>weight</th>\n",
       "      <th>num_processors</th>\n",
       "      <th>processor_brand</th>\n",
       "    </tr>\n",
       "  </thead>\n",
       "  <tbody>\n",
       "    <tr>\n",
       "      <th>0</th>\n",
       "      <td>1715882222-101</td>\n",
       "      <td>https://www.amazon.ca/s?k=microsoft+laptop&amp;i=e...</td>\n",
       "      <td>Surface Book 2 (2017): 13.5\" Touchscreen Lapto...</td>\n",
       "      <td>https://www.amazon.ca/Microsoft-13-5-Surface-I...</td>\n",
       "      <td>Microsoft Surface Book 2 (2017): 13.5\" Touchsc...</td>\n",
       "      <td>2287</td>\n",
       "      <td>Microsoft</td>\n",
       "      <td>Surface Book 2</td>\n",
       "      <td>13.5</td>\n",
       "      <td>_3000 x 2000</td>\n",
       "      <td>Intel Core i7</td>\n",
       "      <td>_4.2 GHz core_i7</td>\n",
       "      <td>NVIDIA</td>\n",
       "      <td>8</td>\n",
       "      <td>256 GB SSD</td>\n",
       "      <td>Windows 10 Pro</td>\n",
       "      <td>NaN</td>\n",
       "      <td>4</td>\n",
       "      <td>Intel</td>\n",
       "    </tr>\n",
       "    <tr>\n",
       "      <th>1</th>\n",
       "      <td>1715882215-100</td>\n",
       "      <td>https://www.amazon.ca/s?k=microsoft+laptop&amp;i=e...</td>\n",
       "      <td>Surface Book 3 - 15\" Touch-Screen PixelSense -...</td>\n",
       "      <td>https://www.amazon.ca/Microsoft-Surface-Book-T...</td>\n",
       "      <td>Microsoft Surface Book 3 - 15\" Touch-Screen Pi...</td>\n",
       "      <td>2999</td>\n",
       "      <td>Microsoft</td>\n",
       "      <td>Surface Book 3</td>\n",
       "      <td>15</td>\n",
       "      <td>_3000 x 2000</td>\n",
       "      <td>Intel Core i7</td>\n",
       "      <td>NaN</td>\n",
       "      <td>NVIDIA</td>\n",
       "      <td>16</td>\n",
       "      <td>256 GB SSD</td>\n",
       "      <td>Windows 10</td>\n",
       "      <td>NaN</td>\n",
       "      <td>4</td>\n",
       "      <td>Intel</td>\n",
       "    </tr>\n",
       "    <tr>\n",
       "      <th>2</th>\n",
       "      <td>1715877814-82</td>\n",
       "      <td>https://www.amazon.ca/s?k=dell+laptop&amp;i=electr...</td>\n",
       "      <td>G15 5530 2023 Gaming Laptop ~ 15.6\" FHD 165Hz ...</td>\n",
       "      <td>https://www.amazon.ca/Dell-i9-13900HX-DDR4-2TB...</td>\n",
       "      <td>Dell G15 5530 2023 Gaming Laptop ~ 15.6\" FHD 1...</td>\n",
       "      <td>2995</td>\n",
       "      <td>Dell</td>\n",
       "      <td>G15 5530</td>\n",
       "      <td>15.6</td>\n",
       "      <td>_1920 x 1080</td>\n",
       "      <td>Intel Core i9</td>\n",
       "      <td>_2.9 GHz intel_core_i9</td>\n",
       "      <td>NVIDIA</td>\n",
       "      <td>64</td>\n",
       "      <td>2048 GB SSD</td>\n",
       "      <td>Windows 11 Pro</td>\n",
       "      <td>NaN</td>\n",
       "      <td>24</td>\n",
       "      <td>Intel</td>\n",
       "    </tr>\n",
       "    <tr>\n",
       "      <th>3</th>\n",
       "      <td>1715877520-1</td>\n",
       "      <td>https://www.amazon.ca/s?k=dell+laptop&amp;i=electr...</td>\n",
       "      <td>Vostro 7000 7620 Laptop (2022) | 16\" FHD+ | Co...</td>\n",
       "      <td>https://www.amazon.ca/Dell-Vostro-7000-7620-La...</td>\n",
       "      <td>Dell Vostro 7000 7620 Laptop (2022) | 16\" FHD+...</td>\n",
       "      <td>1999</td>\n",
       "      <td>Dell</td>\n",
       "      <td>Vostro 7620 Laptop</td>\n",
       "      <td>16 Inches</td>\n",
       "      <td>_1920 x 1200</td>\n",
       "      <td>Intel Core i7</td>\n",
       "      <td>_3.5 GHz core_i7</td>\n",
       "      <td>NVIDIA</td>\n",
       "      <td>8</td>\n",
       "      <td>1024 GB SSD</td>\n",
       "      <td>Windows 11 Pro</td>\n",
       "      <td>NaN</td>\n",
       "      <td>14</td>\n",
       "      <td>Intel</td>\n",
       "    </tr>\n",
       "    <tr>\n",
       "      <th>4</th>\n",
       "      <td>1715881880-17</td>\n",
       "      <td>https://www.amazon.ca/s?k=microsoft+laptop&amp;i=e...</td>\n",
       "      <td>Surface Book 2 15\"(Intel Core i7, 16GB Ram, 1 ...</td>\n",
       "      <td>https://www.amazon.ca/Microsoft-Surface-Book-I...</td>\n",
       "      <td>Microsoft Surface Book 2 15\"(Intel Core i7, 16...</td>\n",
       "      <td>2999</td>\n",
       "      <td>Microsoft</td>\n",
       "      <td>Surface Book 2</td>\n",
       "      <td>15</td>\n",
       "      <td>_3000 x 2000</td>\n",
       "      <td>Intel Core i7</td>\n",
       "      <td>_4.2 GHz core_i7</td>\n",
       "      <td>NVIDIA</td>\n",
       "      <td>16</td>\n",
       "      <td>1024 GB SSD</td>\n",
       "      <td>Windows 10 Pro</td>\n",
       "      <td>NaN</td>\n",
       "      <td>4</td>\n",
       "      <td>Intel</td>\n",
       "    </tr>\n",
       "  </tbody>\n",
       "</table>\n",
       "</div>"
      ],
      "text/plain": [
       "  web-scraper-order                              web-scraper-start-url  \\\n",
       "0    1715882222-101  https://www.amazon.ca/s?k=microsoft+laptop&i=e...   \n",
       "1    1715882215-100  https://www.amazon.ca/s?k=microsoft+laptop&i=e...   \n",
       "2     1715877814-82  https://www.amazon.ca/s?k=dell+laptop&i=electr...   \n",
       "3      1715877520-1  https://www.amazon.ca/s?k=dell+laptop&i=electr...   \n",
       "4     1715881880-17  https://www.amazon.ca/s?k=microsoft+laptop&i=e...   \n",
       "\n",
       "                                              single  \\\n",
       "0  Surface Book 2 (2017): 13.5\" Touchscreen Lapto...   \n",
       "1  Surface Book 3 - 15\" Touch-Screen PixelSense -...   \n",
       "2  G15 5530 2023 Gaming Laptop ~ 15.6\" FHD 165Hz ...   \n",
       "3  Vostro 7000 7620 Laptop (2022) | 16\" FHD+ | Co...   \n",
       "4  Surface Book 2 15\"(Intel Core i7, 16GB Ram, 1 ...   \n",
       "\n",
       "                                         single-href  \\\n",
       "0  https://www.amazon.ca/Microsoft-13-5-Surface-I...   \n",
       "1  https://www.amazon.ca/Microsoft-Surface-Book-T...   \n",
       "2  https://www.amazon.ca/Dell-i9-13900HX-DDR4-2TB...   \n",
       "3  https://www.amazon.ca/Dell-Vostro-7000-7620-La...   \n",
       "4  https://www.amazon.ca/Microsoft-Surface-Book-I...   \n",
       "\n",
       "                                               title price manufacturer  \\\n",
       "0  Microsoft Surface Book 2 (2017): 13.5\" Touchsc...  2287    Microsoft   \n",
       "1  Microsoft Surface Book 3 - 15\" Touch-Screen Pi...  2999    Microsoft   \n",
       "2  Dell G15 5530 2023 Gaming Laptop ~ 15.6\" FHD 1...  2995         Dell   \n",
       "3  Dell Vostro 7000 7620 Laptop (2022) | 16\" FHD+...  1999         Dell   \n",
       "4  Microsoft Surface Book 2 15\"(Intel Core i7, 16...  2999    Microsoft   \n",
       "\n",
       "           model_name screen_size display_resolution      cpu_model  \\\n",
       "0      Surface Book 2        13.5       _3000 x 2000  Intel Core i7   \n",
       "1      Surface Book 3          15       _3000 x 2000  Intel Core i7   \n",
       "2            G15 5530        15.6       _1920 x 1080  Intel Core i9   \n",
       "3  Vostro 7620 Laptop   16 Inches       _1920 x 1200  Intel Core i7   \n",
       "4      Surface Book 2          15       _3000 x 2000  Intel Core i7   \n",
       "\n",
       "                processor graphics_copressor  ram      storage  \\\n",
       "0        _4.2 GHz core_i7             NVIDIA    8   256 GB SSD   \n",
       "1                     NaN             NVIDIA   16   256 GB SSD   \n",
       "2  _2.9 GHz intel_core_i9             NVIDIA   64  2048 GB SSD   \n",
       "3        _3.5 GHz core_i7             NVIDIA    8  1024 GB SSD   \n",
       "4        _4.2 GHz core_i7             NVIDIA   16  1024 GB SSD   \n",
       "\n",
       "  operating_system weight  num_processors processor_brand  \n",
       "0   Windows 10 Pro    NaN               4           Intel  \n",
       "1       Windows 10    NaN               4           Intel  \n",
       "2   Windows 11 Pro    NaN              24           Intel  \n",
       "3   Windows 11 Pro    NaN              14           Intel  \n",
       "4   Windows 10 Pro    NaN               4           Intel  "
      ]
     },
     "execution_count": 3,
     "metadata": {},
     "output_type": "execute_result"
    }
   ],
   "source": [
    "df.head()"
   ]
  },
  {
   "cell_type": "code",
   "execution_count": 4,
   "id": "a4cf5b6e",
   "metadata": {},
   "outputs": [
    {
     "data": {
      "text/plain": [
       "array(['Microsoft', 'Dell', 'Samsung', 'Lenovo', 'Asus', 'Acer', 'HP',\n",
       "       'Apple', 'ACEMAGIC', 'LG', 'Ruzava'], dtype=object)"
      ]
     },
     "execution_count": 4,
     "metadata": {},
     "output_type": "execute_result"
    }
   ],
   "source": [
    "df['manufacturer'].unique()"
   ]
  },
  {
   "cell_type": "code",
   "execution_count": 5,
   "id": "53c47c3d",
   "metadata": {},
   "outputs": [
    {
     "data": {
      "text/plain": [
       "(1262, 19)"
      ]
     },
     "execution_count": 5,
     "metadata": {},
     "output_type": "execute_result"
    }
   ],
   "source": [
    "df.shape"
   ]
  },
  {
   "cell_type": "code",
   "execution_count": 6,
   "id": "1896bf04",
   "metadata": {},
   "outputs": [
    {
     "name": "stdout",
     "output_type": "stream",
     "text": [
      "<class 'pandas.core.frame.DataFrame'>\n",
      "RangeIndex: 1262 entries, 0 to 1261\n",
      "Data columns (total 19 columns):\n",
      " #   Column                 Non-Null Count  Dtype \n",
      "---  ------                 --------------  ----- \n",
      " 0   web-scraper-order      1262 non-null   object\n",
      " 1   web-scraper-start-url  1262 non-null   object\n",
      " 2   single                 1262 non-null   object\n",
      " 3   single-href            1262 non-null   object\n",
      " 4   title                  1262 non-null   object\n",
      " 5   price                  1262 non-null   object\n",
      " 6   manufacturer           1262 non-null   object\n",
      " 7   model_name             1113 non-null   object\n",
      " 8   screen_size            1262 non-null   object\n",
      " 9   display_resolution     1262 non-null   object\n",
      " 10  cpu_model              1262 non-null   object\n",
      " 11  processor              1209 non-null   object\n",
      " 12  graphics_copressor     1262 non-null   object\n",
      " 13  ram                    1262 non-null   int64 \n",
      " 14  storage                1262 non-null   object\n",
      " 15  operating_system       1262 non-null   object\n",
      " 16  weight                 633 non-null    object\n",
      " 17  num_processors         1262 non-null   int64 \n",
      " 18  processor_brand        1262 non-null   object\n",
      "dtypes: int64(2), object(17)\n",
      "memory usage: 187.5+ KB\n"
     ]
    }
   ],
   "source": [
    "df.info()"
   ]
  },
  {
   "cell_type": "code",
   "execution_count": 7,
   "id": "c2852d81",
   "metadata": {},
   "outputs": [
    {
     "data": {
      "text/plain": [
       "0"
      ]
     },
     "execution_count": 7,
     "metadata": {},
     "output_type": "execute_result"
    }
   ],
   "source": [
    "df.duplicated().sum()"
   ]
  },
  {
   "cell_type": "code",
   "execution_count": 8,
   "id": "c2c2b0dd",
   "metadata": {},
   "outputs": [
    {
     "data": {
      "text/plain": [
       "web-scraper-order          0\n",
       "web-scraper-start-url      0\n",
       "single                     0\n",
       "single-href                0\n",
       "title                      0\n",
       "price                      0\n",
       "manufacturer               0\n",
       "model_name               149\n",
       "screen_size                0\n",
       "display_resolution         0\n",
       "cpu_model                  0\n",
       "processor                 53\n",
       "graphics_copressor         0\n",
       "ram                        0\n",
       "storage                    0\n",
       "operating_system           0\n",
       "weight                   629\n",
       "num_processors             0\n",
       "processor_brand            0\n",
       "dtype: int64"
      ]
     },
     "execution_count": 8,
     "metadata": {},
     "output_type": "execute_result"
    }
   ],
   "source": [
    "df.isnull().sum()"
   ]
  },
  {
   "cell_type": "code",
   "execution_count": 9,
   "id": "dbdcef11",
   "metadata": {},
   "outputs": [],
   "source": [
    "cleaned_df = df.drop(columns=['web-scraper-order','web-scraper-start-url','single','single-href','weight'])"
   ]
  },
  {
   "cell_type": "code",
   "execution_count": 10,
   "id": "0b1898a8",
   "metadata": {},
   "outputs": [],
   "source": [
    "cleaned_df['ram'] = cleaned_df['ram'].astype('int32')"
   ]
  },
  {
   "cell_type": "code",
   "execution_count": 11,
   "id": "2c8c16f5",
   "metadata": {},
   "outputs": [],
   "source": [
    "cleaned_df['price'] = cleaned_df['price'].str.replace(',','', regex=False).astype(float)"
   ]
  },
  {
   "cell_type": "code",
   "execution_count": null,
   "id": "59f8d724",
   "metadata": {},
   "outputs": [],
   "source": []
  },
  {
   "cell_type": "code",
   "execution_count": 12,
   "id": "2a0e0236",
   "metadata": {},
   "outputs": [
    {
     "name": "stdout",
     "output_type": "stream",
     "text": [
      "<class 'pandas.core.frame.DataFrame'>\n",
      "RangeIndex: 1262 entries, 0 to 1261\n",
      "Data columns (total 14 columns):\n",
      " #   Column              Non-Null Count  Dtype  \n",
      "---  ------              --------------  -----  \n",
      " 0   title               1262 non-null   object \n",
      " 1   price               1262 non-null   float64\n",
      " 2   manufacturer        1262 non-null   object \n",
      " 3   model_name          1113 non-null   object \n",
      " 4   screen_size         1262 non-null   object \n",
      " 5   display_resolution  1262 non-null   object \n",
      " 6   cpu_model           1262 non-null   object \n",
      " 7   processor           1209 non-null   object \n",
      " 8   graphics_copressor  1262 non-null   object \n",
      " 9   ram                 1262 non-null   int32  \n",
      " 10  storage             1262 non-null   object \n",
      " 11  operating_system    1262 non-null   object \n",
      " 12  num_processors      1262 non-null   int64  \n",
      " 13  processor_brand     1262 non-null   object \n",
      "dtypes: float64(1), int32(1), int64(1), object(11)\n",
      "memory usage: 133.2+ KB\n"
     ]
    }
   ],
   "source": [
    "cleaned_df.info()"
   ]
  },
  {
   "cell_type": "code",
   "execution_count": 13,
   "id": "b2cd481c",
   "metadata": {},
   "outputs": [
    {
     "name": "stderr",
     "output_type": "stream",
     "text": [
      "/Users/shoaib/opt/anaconda3/lib/python3.9/site-packages/seaborn/distributions.py:2619: FutureWarning: `distplot` is a deprecated function and will be removed in a future version. Please adapt your code to use either `displot` (a figure-level function with similar flexibility) or `histplot` (an axes-level function for histograms).\n",
      "  warnings.warn(msg, FutureWarning)\n"
     ]
    },
    {
     "data": {
      "text/plain": [
       "<AxesSubplot:ylabel='Density'>"
      ]
     },
     "execution_count": 13,
     "metadata": {},
     "output_type": "execute_result"
    },
    {
     "data": {
      "image/png": "[encoded data removed]",
      "text/plain": [
       "<Figure size 640x480 with 1 Axes>"
      ]
     },
     "metadata": {},
     "output_type": "display_data"
    }
   ],
   "source": [
    "sns.distplot([cleaned_df['price']])"
   ]
  },
  {
   "cell_type": "code",
   "execution_count": 14,
   "id": "ebb7f9d4",
   "metadata": {},
   "outputs": [
    {
     "data": {
      "text/plain": [
       "<AxesSubplot:>"
      ]
     },
     "execution_count": 14,
     "metadata": {},
     "output_type": "execute_result"
    },
    {
     "data": {
      "image/png": "[encoded data removed]",
      "text/plain": [
       "<Figure size 640x480 with 1 Axes>"
      ]
     },
     "metadata": {},
     "output_type": "display_data"
    }
   ],
   "source": [
    "cleaned_df['manufacturer'].value_counts().plot(kind='bar')"
   ]
  },
  {
   "cell_type": "code",
   "execution_count": 15,
   "id": "dec45b24",
   "metadata": {},
   "outputs": [
    {
     "data": {
      "text/plain": [
       "Acer         222\n",
       "HP           217\n",
       "Lenovo       207\n",
       "Dell         199\n",
       "Asus         198\n",
       "Microsoft     77\n",
       "Samsung       71\n",
       "Apple         64\n",
       "ACEMAGIC       3\n",
       "LG             3\n",
       "Ruzava         1\n",
       "Name: manufacturer, dtype: int64"
      ]
     },
     "execution_count": 15,
     "metadata": {},
     "output_type": "execute_result"
    }
   ],
   "source": [
    "cleaned_df['manufacturer'].value_counts()"
   ]
  },
  {
   "cell_type": "code",
   "execution_count": 16,
   "id": "60b6f633",
   "metadata": {},
   "outputs": [],
   "source": [
    "# Remove rows where 'manufacturer' contains 'LG', 'Ruzava' or 'ACEMAGIC'\n",
    "cleaned_df = cleaned_df[~cleaned_df['manufacturer'].str.contains('LG|Ruzava|ACEMAGIC', case=False)]"
   ]
  },
  {
   "cell_type": "code",
   "execution_count": 17,
   "id": "7dda2152",
   "metadata": {},
   "outputs": [
    {
     "data": {
      "text/plain": [
       "Acer         222\n",
       "HP           217\n",
       "Lenovo       207\n",
       "Dell         199\n",
       "Asus         198\n",
       "Microsoft     77\n",
       "Samsung       71\n",
       "Apple         64\n",
       "Name: manufacturer, dtype: int64"
      ]
     },
     "execution_count": 17,
     "metadata": {},
     "output_type": "execute_result"
    }
   ],
   "source": [
    "cleaned_df['manufacturer'].value_counts()"
   ]
  },
  {
   "cell_type": "code",
   "execution_count": 18,
   "id": "1b90ffd2",
   "metadata": {},
   "outputs": [
    {
     "data": {
      "image/png": "[encoded data removed]",
      "text/plain": [
       "<Figure size 640x480 with 1 Axes>"
      ]
     },
     "metadata": {},
     "output_type": "display_data"
    }
   ],
   "source": [
    "sns.barplot(x=cleaned_df['manufacturer'], y=cleaned_df['price'])\n",
    "plt.xticks(rotation='vertical')\n",
    "plt.show()"
   ]
  },
  {
   "cell_type": "code",
   "execution_count": 19,
   "id": "a6ad330a",
   "metadata": {},
   "outputs": [],
   "source": [
    "def is_touchable(title):\n",
    "    keywords = ['touchscreen', 'touch screen', 'touch-screen']\n",
    "    for keyword in keywords:\n",
    "        if keyword.lower() in title.lower():\n",
    "            return 1\n",
    "    return 0"
   ]
  },
  {
   "cell_type": "code",
   "execution_count": 20,
   "id": "9b836bcf",
   "metadata": {},
   "outputs": [],
   "source": [
    "cleaned_df['touchable'] = cleaned_df['title'].apply(is_touchable)"
   ]
  },
  {
   "cell_type": "code",
   "execution_count": 21,
   "id": "5a0dbca7",
   "metadata": {},
   "outputs": [
    {
     "data": {
      "text/html": [
       "<div>\n",
       "<style scoped>\n",
       "    .dataframe tbody tr th:only-of-type {\n",
       "        vertical-align: middle;\n",
       "    }\n",
       "\n",
       "    .dataframe tbody tr th {\n",
       "        vertical-align: top;\n",
       "    }\n",
       "\n",
       "    .dataframe thead th {\n",
       "        text-align: right;\n",
       "    }\n",
       "</style>\n",
       "<table border=\"1\" class=\"dataframe\">\n",
       "  <thead>\n",
       "    <tr style=\"text-align: right;\">\n",
       "      <th></th>\n",
       "      <th>title</th>\n",
       "      <th>price</th>\n",
       "      <th>manufacturer</th>\n",
       "      <th>model_name</th>\n",
       "      <th>screen_size</th>\n",
       "      <th>display_resolution</th>\n",
       "      <th>cpu_model</th>\n",
       "      <th>processor</th>\n",
       "      <th>graphics_copressor</th>\n",
       "      <th>ram</th>\n",
       "      <th>storage</th>\n",
       "      <th>operating_system</th>\n",
       "      <th>num_processors</th>\n",
       "      <th>processor_brand</th>\n",
       "      <th>touchable</th>\n",
       "    </tr>\n",
       "  </thead>\n",
       "  <tbody>\n",
       "    <tr>\n",
       "      <th>714</th>\n",
       "      <td>HP 15.6\" HD Everyday Slim Business Laptop, Int...</td>\n",
       "      <td>639.0</td>\n",
       "      <td>HP</td>\n",
       "      <td>NaN</td>\n",
       "      <td>15.6</td>\n",
       "      <td>_1366 x 768</td>\n",
       "      <td>Intel Core i3</td>\n",
       "      <td>_3 GHz core_i3</td>\n",
       "      <td>Intel</td>\n",
       "      <td>16</td>\n",
       "      <td>512 GB SSD</td>\n",
       "      <td>Windows 11 Pro</td>\n",
       "      <td>2</td>\n",
       "      <td>Intel</td>\n",
       "      <td>0</td>\n",
       "    </tr>\n",
       "    <tr>\n",
       "      <th>51</th>\n",
       "      <td>Dell G5 15 5511 15.6\" FHD Gaming Laptop - Inte...</td>\n",
       "      <td>846.0</td>\n",
       "      <td>Dell</td>\n",
       "      <td>G5</td>\n",
       "      <td>15.6</td>\n",
       "      <td>_1920 x 1080</td>\n",
       "      <td>Intel Core i5</td>\n",
       "      <td>_2.7 GHz apple_ci5</td>\n",
       "      <td>NVIDIA</td>\n",
       "      <td>8</td>\n",
       "      <td>256 GB SSD</td>\n",
       "      <td>Windows 11 Home</td>\n",
       "      <td>6</td>\n",
       "      <td>Intel</td>\n",
       "      <td>0</td>\n",
       "    </tr>\n",
       "    <tr>\n",
       "      <th>787</th>\n",
       "      <td>HP 15.6\" HD Everyday Laptop, Intel Pentium Sil...</td>\n",
       "      <td>669.0</td>\n",
       "      <td>HP</td>\n",
       "      <td>NaN</td>\n",
       "      <td>15.6</td>\n",
       "      <td>_1366 x 768</td>\n",
       "      <td>Intel Pentium</td>\n",
       "      <td>_1.1 GHz pentium</td>\n",
       "      <td>Intel</td>\n",
       "      <td>16</td>\n",
       "      <td>1024 GB SSD</td>\n",
       "      <td>Windows 11</td>\n",
       "      <td>4</td>\n",
       "      <td>AMD</td>\n",
       "      <td>0</td>\n",
       "    </tr>\n",
       "    <tr>\n",
       "      <th>1153</th>\n",
       "      <td>Lenovo IdeaPad 3 14\" FHD Laptop - AMD Ryzen 7 ...</td>\n",
       "      <td>648.0</td>\n",
       "      <td>Lenovo</td>\n",
       "      <td>Lenovo IdeaPad 3</td>\n",
       "      <td>14</td>\n",
       "      <td>_1920 x 1080</td>\n",
       "      <td>AMD Ryzen 7</td>\n",
       "      <td>_1.8 GHz ryzen_7</td>\n",
       "      <td>AMD</td>\n",
       "      <td>8</td>\n",
       "      <td>512 GB SSD</td>\n",
       "      <td>Windows 11 Home</td>\n",
       "      <td>8</td>\n",
       "      <td>AMD</td>\n",
       "      <td>0</td>\n",
       "    </tr>\n",
       "    <tr>\n",
       "      <th>1039</th>\n",
       "      <td>Surface Laptop 3 13\" i7/16/256 Cobalt Blue Fab...</td>\n",
       "      <td>1325.0</td>\n",
       "      <td>Microsoft</td>\n",
       "      <td>Surface Laptop 3</td>\n",
       "      <td>13.5</td>\n",
       "      <td>_2256 x 1504</td>\n",
       "      <td>Intel Core i7</td>\n",
       "      <td>_3.9 GHz core_i7_1065g7</td>\n",
       "      <td>Intel</td>\n",
       "      <td>16</td>\n",
       "      <td>256 GB SSD</td>\n",
       "      <td>Windows 10 Home</td>\n",
       "      <td>4</td>\n",
       "      <td>Intel</td>\n",
       "      <td>0</td>\n",
       "    </tr>\n",
       "    <tr>\n",
       "      <th>1209</th>\n",
       "      <td>Dell Inspiron 2-in-1 Touch Laptop, 14\" WUXGA I...</td>\n",
       "      <td>1104.0</td>\n",
       "      <td>Dell</td>\n",
       "      <td>Inspiron</td>\n",
       "      <td>14</td>\n",
       "      <td>_1920 x 1200</td>\n",
       "      <td>AMD Ryzen 5</td>\n",
       "      <td>_2 GHz ryzen_5</td>\n",
       "      <td>AMD</td>\n",
       "      <td>8</td>\n",
       "      <td>1024 GB SSD</td>\n",
       "      <td>Windows 11 Pro</td>\n",
       "      <td>6</td>\n",
       "      <td>AMD</td>\n",
       "      <td>0</td>\n",
       "    </tr>\n",
       "    <tr>\n",
       "      <th>648</th>\n",
       "      <td>Acer Aspire 5 A515 Laptop 2023 15.6Ã FHD 1920...</td>\n",
       "      <td>1591.0</td>\n",
       "      <td>Acer</td>\n",
       "      <td>Aspire 5 A515</td>\n",
       "      <td>15.6</td>\n",
       "      <td>_1920 x 1080</td>\n",
       "      <td>Intel Core i7</td>\n",
       "      <td>_2.8 GHz core_i7_family</td>\n",
       "      <td>Intel</td>\n",
       "      <td>32</td>\n",
       "      <td>1024 GB SSD</td>\n",
       "      <td>Windows 11 Home</td>\n",
       "      <td>10</td>\n",
       "      <td>Intel</td>\n",
       "      <td>0</td>\n",
       "    </tr>\n",
       "    <tr>\n",
       "      <th>1076</th>\n",
       "      <td>Acer Aspire 3 Laptop, 15.6\" FHD Display, AMD R...</td>\n",
       "      <td>849.0</td>\n",
       "      <td>Acer</td>\n",
       "      <td>Aspire</td>\n",
       "      <td>15.6</td>\n",
       "      <td>_1920 x 1080</td>\n",
       "      <td>AMD Ryzen 7</td>\n",
       "      <td>_1.8 GHz ryzen_7</td>\n",
       "      <td>AMD</td>\n",
       "      <td>16</td>\n",
       "      <td>512 GB SSD</td>\n",
       "      <td>Windows 11 Pro</td>\n",
       "      <td>8</td>\n",
       "      <td>AMD</td>\n",
       "      <td>0</td>\n",
       "    </tr>\n",
       "    <tr>\n",
       "      <th>466</th>\n",
       "      <td>Microsoft Surface Laptop Go - 12.4\" - Intel Co...</td>\n",
       "      <td>1109.0</td>\n",
       "      <td>Microsoft</td>\n",
       "      <td>Surface</td>\n",
       "      <td>12.3</td>\n",
       "      <td>_2736 x 1824</td>\n",
       "      <td>Intel Core i5</td>\n",
       "      <td>_3.6 GHz core_i5</td>\n",
       "      <td>Intel</td>\n",
       "      <td>8</td>\n",
       "      <td>256 GB SSD</td>\n",
       "      <td>Windows 10</td>\n",
       "      <td>4</td>\n",
       "      <td>Intel</td>\n",
       "      <td>0</td>\n",
       "    </tr>\n",
       "    <tr>\n",
       "      <th>1</th>\n",
       "      <td>Microsoft Surface Book 3 - 15\" Touch-Screen Pi...</td>\n",
       "      <td>2999.0</td>\n",
       "      <td>Microsoft</td>\n",
       "      <td>Surface Book 3</td>\n",
       "      <td>15</td>\n",
       "      <td>_3000 x 2000</td>\n",
       "      <td>Intel Core i7</td>\n",
       "      <td>NaN</td>\n",
       "      <td>NVIDIA</td>\n",
       "      <td>16</td>\n",
       "      <td>256 GB SSD</td>\n",
       "      <td>Windows 10</td>\n",
       "      <td>4</td>\n",
       "      <td>Intel</td>\n",
       "      <td>1</td>\n",
       "    </tr>\n",
       "  </tbody>\n",
       "</table>\n",
       "</div>"
      ],
      "text/plain": [
       "                                                  title   price manufacturer  \\\n",
       "714   HP 15.6\" HD Everyday Slim Business Laptop, Int...   639.0           HP   \n",
       "51    Dell G5 15 5511 15.6\" FHD Gaming Laptop - Inte...   846.0         Dell   \n",
       "787   HP 15.6\" HD Everyday Laptop, Intel Pentium Sil...   669.0           HP   \n",
       "1153  Lenovo IdeaPad 3 14\" FHD Laptop - AMD Ryzen 7 ...   648.0       Lenovo   \n",
       "1039  Surface Laptop 3 13\" i7/16/256 Cobalt Blue Fab...  1325.0    Microsoft   \n",
       "1209  Dell Inspiron 2-in-1 Touch Laptop, 14\" WUXGA I...  1104.0         Dell   \n",
       "648   Acer Aspire 5 A515 Laptop 2023 15.6Ã FHD 1920...  1591.0         Acer   \n",
       "1076  Acer Aspire 3 Laptop, 15.6\" FHD Display, AMD R...   849.0         Acer   \n",
       "466   Microsoft Surface Laptop Go - 12.4\" - Intel Co...  1109.0    Microsoft   \n",
       "1     Microsoft Surface Book 3 - 15\" Touch-Screen Pi...  2999.0    Microsoft   \n",
       "\n",
       "            model_name screen_size display_resolution      cpu_model  \\\n",
       "714                NaN        15.6        _1366 x 768  Intel Core i3   \n",
       "51                  G5        15.6       _1920 x 1080  Intel Core i5   \n",
       "787                NaN        15.6        _1366 x 768  Intel Pentium   \n",
       "1153  Lenovo IdeaPad 3          14       _1920 x 1080    AMD Ryzen 7   \n",
       "1039  Surface Laptop 3        13.5       _2256 x 1504  Intel Core i7   \n",
       "1209          Inspiron          14       _1920 x 1200    AMD Ryzen 5   \n",
       "648      Aspire 5 A515        15.6       _1920 x 1080  Intel Core i7   \n",
       "1076            Aspire        15.6       _1920 x 1080    AMD Ryzen 7   \n",
       "466            Surface        12.3       _2736 x 1824  Intel Core i5   \n",
       "1       Surface Book 3          15       _3000 x 2000  Intel Core i7   \n",
       "\n",
       "                    processor graphics_copressor  ram      storage  \\\n",
       "714            _3 GHz core_i3              Intel   16   512 GB SSD   \n",
       "51         _2.7 GHz apple_ci5             NVIDIA    8   256 GB SSD   \n",
       "787          _1.1 GHz pentium              Intel   16  1024 GB SSD   \n",
       "1153         _1.8 GHz ryzen_7                AMD    8   512 GB SSD   \n",
       "1039  _3.9 GHz core_i7_1065g7              Intel   16   256 GB SSD   \n",
       "1209           _2 GHz ryzen_5                AMD    8  1024 GB SSD   \n",
       "648   _2.8 GHz core_i7_family              Intel   32  1024 GB SSD   \n",
       "1076         _1.8 GHz ryzen_7                AMD   16   512 GB SSD   \n",
       "466          _3.6 GHz core_i5              Intel    8   256 GB SSD   \n",
       "1                         NaN             NVIDIA   16   256 GB SSD   \n",
       "\n",
       "     operating_system  num_processors processor_brand  touchable  \n",
       "714    Windows 11 Pro               2           Intel          0  \n",
       "51    Windows 11 Home               6           Intel          0  \n",
       "787        Windows 11               4             AMD          0  \n",
       "1153  Windows 11 Home               8             AMD          0  \n",
       "1039  Windows 10 Home               4           Intel          0  \n",
       "1209   Windows 11 Pro               6             AMD          0  \n",
       "648   Windows 11 Home              10           Intel          0  \n",
       "1076   Windows 11 Pro               8             AMD          0  \n",
       "466        Windows 10               4           Intel          0  \n",
       "1          Windows 10               4           Intel          1  "
      ]
     },
     "execution_count": 21,
     "metadata": {},
     "output_type": "execute_result"
    }
   ],
   "source": [
    "cleaned_df.sample(10)"
   ]
  },
  {
   "cell_type": "code",
   "execution_count": 22,
   "id": "c7d3405d",
   "metadata": {},
   "outputs": [
    {
     "data": {
      "text/plain": [
       "<AxesSubplot:>"
      ]
     },
     "execution_count": 22,
     "metadata": {},
     "output_type": "execute_result"
    },
    {
     "data": {
      "image/png": "[encoded data removed]",
      "text/plain": [
       "<Figure size 640x480 with 1 Axes>"
      ]
     },
     "metadata": {},
     "output_type": "display_data"
    }
   ],
   "source": [
    "cleaned_df['touchable'].value_counts().plot(kind='bar')"
   ]
  },
  {
   "cell_type": "code",
   "execution_count": 23,
   "id": "030378c5",
   "metadata": {},
   "outputs": [
    {
     "data": {
      "text/plain": [
       "<AxesSubplot:xlabel='touchable', ylabel='price'>"
      ]
     },
     "execution_count": 23,
     "metadata": {},
     "output_type": "execute_result"
    },
    {
     "data": {
      "image/png": "[encoded data removed]",
      "text/plain": [
       "<Figure size 640x480 with 1 Axes>"
      ]
     },
     "metadata": {},
     "output_type": "display_data"
    }
   ],
   "source": [
    "sns.barplot(x=cleaned_df['touchable'], y=cleaned_df['price'])"
   ]
  },
  {
   "cell_type": "code",
   "execution_count": 24,
   "id": "e6ee2c4b",
   "metadata": {},
   "outputs": [],
   "source": [
    "def is_ips(title):\n",
    "    if \"IPS\".lower() in title.lower():\n",
    "            return 1\n",
    "    return 0"
   ]
  },
  {
   "cell_type": "code",
   "execution_count": 25,
   "id": "2bbaaa6a",
   "metadata": {},
   "outputs": [],
   "source": [
    "cleaned_df['ips'] = cleaned_df['title'].apply(is_ips)"
   ]
  },
  {
   "cell_type": "code",
   "execution_count": 26,
   "id": "5c6cec50",
   "metadata": {},
   "outputs": [
    {
     "data": {
      "text/html": [
       "<div>\n",
       "<style scoped>\n",
       "    .dataframe tbody tr th:only-of-type {\n",
       "        vertical-align: middle;\n",
       "    }\n",
       "\n",
       "    .dataframe tbody tr th {\n",
       "        vertical-align: top;\n",
       "    }\n",
       "\n",
       "    .dataframe thead th {\n",
       "        text-align: right;\n",
       "    }\n",
       "</style>\n",
       "<table border=\"1\" class=\"dataframe\">\n",
       "  <thead>\n",
       "    <tr style=\"text-align: right;\">\n",
       "      <th></th>\n",
       "      <th>title</th>\n",
       "      <th>price</th>\n",
       "      <th>manufacturer</th>\n",
       "      <th>model_name</th>\n",
       "      <th>screen_size</th>\n",
       "      <th>display_resolution</th>\n",
       "      <th>cpu_model</th>\n",
       "      <th>processor</th>\n",
       "      <th>graphics_copressor</th>\n",
       "      <th>ram</th>\n",
       "      <th>storage</th>\n",
       "      <th>operating_system</th>\n",
       "      <th>num_processors</th>\n",
       "      <th>processor_brand</th>\n",
       "      <th>touchable</th>\n",
       "      <th>ips</th>\n",
       "    </tr>\n",
       "  </thead>\n",
       "  <tbody>\n",
       "    <tr>\n",
       "      <th>176</th>\n",
       "      <td>Newest Acer Nitro 5 15.6Ã FHD Gaming Laptop, ...</td>\n",
       "      <td>1199.0</td>\n",
       "      <td>Acer</td>\n",
       "      <td>NH. Q59AA. 002</td>\n",
       "      <td>15.6</td>\n",
       "      <td>_1920x1080</td>\n",
       "      <td>Intel Core i5</td>\n",
       "      <td>_2.4 GHz core_i5</td>\n",
       "      <td>NVIDIA</td>\n",
       "      <td>32</td>\n",
       "      <td>256 GB SSD</td>\n",
       "      <td>Windows 10</td>\n",
       "      <td>4</td>\n",
       "      <td>Intel</td>\n",
       "      <td>0</td>\n",
       "      <td>0</td>\n",
       "    </tr>\n",
       "    <tr>\n",
       "      <th>358</th>\n",
       "      <td>Apple 2024 MacBook Air 15-inch Laptop with M3 ...</td>\n",
       "      <td>1749.0</td>\n",
       "      <td>Apple</td>\n",
       "      <td>MacBook Air</td>\n",
       "      <td>15.3 Inches</td>\n",
       "      <td>_2880 x 1864</td>\n",
       "      <td>M3</td>\n",
       "      <td>8</td>\n",
       "      <td>Mac</td>\n",
       "      <td>8</td>\n",
       "      <td>512 GB SSD</td>\n",
       "      <td>Mac OS</td>\n",
       "      <td>8</td>\n",
       "      <td>Apple</td>\n",
       "      <td>0</td>\n",
       "      <td>0</td>\n",
       "    </tr>\n",
       "    <tr>\n",
       "      <th>474</th>\n",
       "      <td>Samsung Galaxy Book2 15.6 Inch Amoled i7 (inte...</td>\n",
       "      <td>1189.0</td>\n",
       "      <td>Samsung</td>\n",
       "      <td>Galaxy Book2</td>\n",
       "      <td>15.6</td>\n",
       "      <td>_1920 x 1080</td>\n",
       "      <td>Intel Core i7</td>\n",
       "      <td>_1.7 GHz apple_ci7</td>\n",
       "      <td>Intel</td>\n",
       "      <td>8</td>\n",
       "      <td>256 GB SSD</td>\n",
       "      <td>Windows 11 Home</td>\n",
       "      <td>4</td>\n",
       "      <td>Intel</td>\n",
       "      <td>0</td>\n",
       "      <td>0</td>\n",
       "    </tr>\n",
       "    <tr>\n",
       "      <th>6</th>\n",
       "      <td>Samsung Galaxy Book4 Ultra Laptop, 16\", Intel ...</td>\n",
       "      <td>3599.0</td>\n",
       "      <td>Samsung</td>\n",
       "      <td>Galaxy Book4 Ultra</td>\n",
       "      <td>16 Inches</td>\n",
       "      <td>_2880 x 1800</td>\n",
       "      <td>Intel Core i9</td>\n",
       "      <td>_5.1 GHz core_i9</td>\n",
       "      <td>NVIDIA</td>\n",
       "      <td>32</td>\n",
       "      <td>1024 GB SSD</td>\n",
       "      <td>Windows 11 Home</td>\n",
       "      <td>16</td>\n",
       "      <td>Intel</td>\n",
       "      <td>0</td>\n",
       "      <td>0</td>\n",
       "    </tr>\n",
       "    <tr>\n",
       "      <th>21</th>\n",
       "      <td>Lenovo Legion Pro 5i Gaming Laptop 2023 16\" WQ...</td>\n",
       "      <td>2779.0</td>\n",
       "      <td>Lenovo</td>\n",
       "      <td>Legion Pro 5i</td>\n",
       "      <td>16 Inches</td>\n",
       "      <td>_2560 x 1600</td>\n",
       "      <td>Intel Core i7</td>\n",
       "      <td>_2.9 GHz core_i7_family</td>\n",
       "      <td>NVIDIA</td>\n",
       "      <td>32</td>\n",
       "      <td>2048 GB SSD</td>\n",
       "      <td>Windows 11 Pro</td>\n",
       "      <td>16</td>\n",
       "      <td>Intel</td>\n",
       "      <td>0</td>\n",
       "      <td>1</td>\n",
       "    </tr>\n",
       "    <tr>\n",
       "      <th>1057</th>\n",
       "      <td>Lenovo ThinkPad E14 G3 14\" FHD Business Laptop...</td>\n",
       "      <td>1399.0</td>\n",
       "      <td>Lenovo</td>\n",
       "      <td>ThinkPad</td>\n",
       "      <td>14</td>\n",
       "      <td>_1920 x 1080</td>\n",
       "      <td>AMD Ryzen 7</td>\n",
       "      <td>_1.8 GHz ryzen_7</td>\n",
       "      <td>AMD</td>\n",
       "      <td>40</td>\n",
       "      <td>2048 GB SSD</td>\n",
       "      <td>Windows 10 Pro</td>\n",
       "      <td>8</td>\n",
       "      <td>AMD</td>\n",
       "      <td>0</td>\n",
       "      <td>0</td>\n",
       "    </tr>\n",
       "    <tr>\n",
       "      <th>1098</th>\n",
       "      <td>ASUS Vivobook 16 16'' FHD Business Laptop, AMD...</td>\n",
       "      <td>1089.0</td>\n",
       "      <td>Asus</td>\n",
       "      <td>VivoBook</td>\n",
       "      <td>16 Inches</td>\n",
       "      <td>_1920 x 1080 pixels</td>\n",
       "      <td>AMD Ryzen 7</td>\n",
       "      <td>_3.2 GHz ryzen_7</td>\n",
       "      <td>AMD</td>\n",
       "      <td>40</td>\n",
       "      <td>2048 GB SSD</td>\n",
       "      <td>_Windows 11 Home</td>\n",
       "      <td>8</td>\n",
       "      <td>_AMD</td>\n",
       "      <td>0</td>\n",
       "      <td>0</td>\n",
       "    </tr>\n",
       "    <tr>\n",
       "      <th>57</th>\n",
       "      <td>ASUS ROG Strix G17 Gaming Laptop, 17.3\" QHD 24...</td>\n",
       "      <td>3099.0</td>\n",
       "      <td>Asus</td>\n",
       "      <td>ROG Strix</td>\n",
       "      <td>17.3 Inches</td>\n",
       "      <td>_1920 x 1200 pixel</td>\n",
       "      <td>AMD Ryzen 9</td>\n",
       "      <td>_3 GHz ryzen_9</td>\n",
       "      <td>NVIDIA</td>\n",
       "      <td>32</td>\n",
       "      <td>2048 GB SSD</td>\n",
       "      <td>_Windows 11 Pro</td>\n",
       "      <td>12</td>\n",
       "      <td>_AMD</td>\n",
       "      <td>0</td>\n",
       "      <td>0</td>\n",
       "    </tr>\n",
       "    <tr>\n",
       "      <th>502</th>\n",
       "      <td>HP Pavilion x360 15 inch Laptop, FHD Display, ...</td>\n",
       "      <td>1144.0</td>\n",
       "      <td>HP</td>\n",
       "      <td>HP Pavilion x360 Convertible</td>\n",
       "      <td>15</td>\n",
       "      <td>_1920 x 1080</td>\n",
       "      <td>Intel Core i5</td>\n",
       "      <td>_core_i5</td>\n",
       "      <td>Intel</td>\n",
       "      <td>8</td>\n",
       "      <td>512 GB SSD</td>\n",
       "      <td>Windows 11</td>\n",
       "      <td>1</td>\n",
       "      <td>Intel</td>\n",
       "      <td>0</td>\n",
       "      <td>0</td>\n",
       "    </tr>\n",
       "    <tr>\n",
       "      <th>836</th>\n",
       "      <td>Lenovo Ideapad 1 14\" HD Laptop, Intel Celeron ...</td>\n",
       "      <td>279.0</td>\n",
       "      <td>Lenovo</td>\n",
       "      <td>IdeaPad</td>\n",
       "      <td>14</td>\n",
       "      <td>_1366 x 768</td>\n",
       "      <td>Intel Celeron</td>\n",
       "      <td>_1.1 GHz celeron_n</td>\n",
       "      <td>Intel</td>\n",
       "      <td>4</td>\n",
       "      <td>64 GB Emmc</td>\n",
       "      <td>Windows 11</td>\n",
       "      <td>2</td>\n",
       "      <td>Intel</td>\n",
       "      <td>0</td>\n",
       "      <td>0</td>\n",
       "    </tr>\n",
       "  </tbody>\n",
       "</table>\n",
       "</div>"
      ],
      "text/plain": [
       "                                                  title   price manufacturer  \\\n",
       "176   Newest Acer Nitro 5 15.6Ã FHD Gaming Laptop, ...  1199.0         Acer   \n",
       "358   Apple 2024 MacBook Air 15-inch Laptop with M3 ...  1749.0        Apple   \n",
       "474   Samsung Galaxy Book2 15.6 Inch Amoled i7 (inte...  1189.0      Samsung   \n",
       "6     Samsung Galaxy Book4 Ultra Laptop, 16\", Intel ...  3599.0      Samsung   \n",
       "21    Lenovo Legion Pro 5i Gaming Laptop 2023 16\" WQ...  2779.0       Lenovo   \n",
       "1057  Lenovo ThinkPad E14 G3 14\" FHD Business Laptop...  1399.0       Lenovo   \n",
       "1098  ASUS Vivobook 16 16'' FHD Business Laptop, AMD...  1089.0         Asus   \n",
       "57    ASUS ROG Strix G17 Gaming Laptop, 17.3\" QHD 24...  3099.0         Asus   \n",
       "502   HP Pavilion x360 15 inch Laptop, FHD Display, ...  1144.0           HP   \n",
       "836   Lenovo Ideapad 1 14\" HD Laptop, Intel Celeron ...   279.0       Lenovo   \n",
       "\n",
       "                        model_name  screen_size   display_resolution  \\\n",
       "176                 NH. Q59AA. 002         15.6           _1920x1080   \n",
       "358                    MacBook Air  15.3 Inches         _2880 x 1864   \n",
       "474                   Galaxy Book2         15.6         _1920 x 1080   \n",
       "6               Galaxy Book4 Ultra    16 Inches         _2880 x 1800   \n",
       "21                   Legion Pro 5i    16 Inches         _2560 x 1600   \n",
       "1057                      ThinkPad           14         _1920 x 1080   \n",
       "1098                      VivoBook    16 Inches  _1920 x 1080 pixels   \n",
       "57                       ROG Strix  17.3 Inches   _1920 x 1200 pixel   \n",
       "502   HP Pavilion x360 Convertible           15         _1920 x 1080   \n",
       "836                        IdeaPad           14          _1366 x 768   \n",
       "\n",
       "          cpu_model                processor graphics_copressor  ram  \\\n",
       "176   Intel Core i5         _2.4 GHz core_i5             NVIDIA   32   \n",
       "358              M3                        8                Mac    8   \n",
       "474   Intel Core i7       _1.7 GHz apple_ci7              Intel    8   \n",
       "6     Intel Core i9         _5.1 GHz core_i9             NVIDIA   32   \n",
       "21    Intel Core i7  _2.9 GHz core_i7_family             NVIDIA   32   \n",
       "1057    AMD Ryzen 7         _1.8 GHz ryzen_7                AMD   40   \n",
       "1098    AMD Ryzen 7         _3.2 GHz ryzen_7                AMD   40   \n",
       "57      AMD Ryzen 9           _3 GHz ryzen_9             NVIDIA   32   \n",
       "502   Intel Core i5                 _core_i5              Intel    8   \n",
       "836   Intel Celeron       _1.1 GHz celeron_n              Intel    4   \n",
       "\n",
       "          storage  operating_system  num_processors processor_brand  \\\n",
       "176    256 GB SSD        Windows 10               4           Intel   \n",
       "358    512 GB SSD            Mac OS               8           Apple   \n",
       "474    256 GB SSD   Windows 11 Home               4           Intel   \n",
       "6     1024 GB SSD   Windows 11 Home              16           Intel   \n",
       "21    2048 GB SSD    Windows 11 Pro              16           Intel   \n",
       "1057  2048 GB SSD    Windows 10 Pro               8             AMD   \n",
       "1098  2048 GB SSD  _Windows 11 Home               8            _AMD   \n",
       "57    2048 GB SSD   _Windows 11 Pro              12            _AMD   \n",
       "502    512 GB SSD        Windows 11               1           Intel   \n",
       "836    64 GB Emmc        Windows 11               2           Intel   \n",
       "\n",
       "      touchable  ips  \n",
       "176           0    0  \n",
       "358           0    0  \n",
       "474           0    0  \n",
       "6             0    0  \n",
       "21            0    1  \n",
       "1057          0    0  \n",
       "1098          0    0  \n",
       "57            0    0  \n",
       "502           0    0  \n",
       "836           0    0  "
      ]
     },
     "execution_count": 26,
     "metadata": {},
     "output_type": "execute_result"
    }
   ],
   "source": [
    "cleaned_df.sample(10)"
   ]
  },
  {
   "cell_type": "code",
   "execution_count": 27,
   "id": "0ce77618",
   "metadata": {},
   "outputs": [
    {
     "data": {
      "text/plain": [
       "<AxesSubplot:>"
      ]
     },
     "execution_count": 27,
     "metadata": {},
     "output_type": "execute_result"
    },
    {
     "data": {
      "image/png": "[encoded data removed]",
      "text/plain": [
       "<Figure size 640x480 with 1 Axes>"
      ]
     },
     "metadata": {},
     "output_type": "display_data"
    }
   ],
   "source": [
    "cleaned_df['ips'].value_counts().plot(kind='bar')"
   ]
  },
  {
   "cell_type": "code",
   "execution_count": 28,
   "id": "f79607a0",
   "metadata": {},
   "outputs": [
    {
     "data": {
      "text/plain": [
       "<AxesSubplot:xlabel='ips', ylabel='price'>"
      ]
     },
     "execution_count": 28,
     "metadata": {},
     "output_type": "execute_result"
    },
    {
     "data": {
      "image/png": "[encoded data removed]",
      "text/plain": [
       "<Figure size 640x480 with 1 Axes>"
      ]
     },
     "metadata": {},
     "output_type": "display_data"
    }
   ],
   "source": [
    "sns.barplot(x=cleaned_df['ips'], y=cleaned_df['price'])"
   ]
  },
  {
   "cell_type": "code",
   "execution_count": 29,
   "id": "e87e20e1",
   "metadata": {},
   "outputs": [],
   "source": [
    "new = cleaned_df['display_resolution'].str.split('x', n=1, expand=True)"
   ]
  },
  {
   "cell_type": "code",
   "execution_count": 30,
   "id": "01ceafce",
   "metadata": {},
   "outputs": [],
   "source": [
    "cleaned_df['x_res'] = new[0]\n",
    "cleaned_df['y_res'] = new[1]"
   ]
  },
  {
   "cell_type": "code",
   "execution_count": 31,
   "id": "cff5127a",
   "metadata": {},
   "outputs": [
    {
     "data": {
      "text/html": [
       "<div>\n",
       "<style scoped>\n",
       "    .dataframe tbody tr th:only-of-type {\n",
       "        vertical-align: middle;\n",
       "    }\n",
       "\n",
       "    .dataframe tbody tr th {\n",
       "        vertical-align: top;\n",
       "    }\n",
       "\n",
       "    .dataframe thead th {\n",
       "        text-align: right;\n",
       "    }\n",
       "</style>\n",
       "<table border=\"1\" class=\"dataframe\">\n",
       "  <thead>\n",
       "    <tr style=\"text-align: right;\">\n",
       "      <th></th>\n",
       "      <th>title</th>\n",
       "      <th>price</th>\n",
       "      <th>manufacturer</th>\n",
       "      <th>model_name</th>\n",
       "      <th>screen_size</th>\n",
       "      <th>display_resolution</th>\n",
       "      <th>cpu_model</th>\n",
       "      <th>processor</th>\n",
       "      <th>graphics_copressor</th>\n",
       "      <th>ram</th>\n",
       "      <th>storage</th>\n",
       "      <th>operating_system</th>\n",
       "      <th>num_processors</th>\n",
       "      <th>processor_brand</th>\n",
       "      <th>touchable</th>\n",
       "      <th>ips</th>\n",
       "      <th>x_res</th>\n",
       "      <th>y_res</th>\n",
       "    </tr>\n",
       "  </thead>\n",
       "  <tbody>\n",
       "    <tr>\n",
       "      <th>517</th>\n",
       "      <td>HP 15.6\" FHD IPS Touchscreen Laptop, 11th Gen ...</td>\n",
       "      <td>989.0</td>\n",
       "      <td>HP</td>\n",
       "      <td>NaN</td>\n",
       "      <td>15.6</td>\n",
       "      <td>_1920 x 1080</td>\n",
       "      <td>Intel Core i7</td>\n",
       "      <td>_2.8 GHz core_i7</td>\n",
       "      <td>Intel</td>\n",
       "      <td>16</td>\n",
       "      <td>512 GB SSD</td>\n",
       "      <td>Windows 11 Home</td>\n",
       "      <td>4</td>\n",
       "      <td>Intel</td>\n",
       "      <td>1</td>\n",
       "      <td>1</td>\n",
       "      <td>_1920</td>\n",
       "      <td>1080</td>\n",
       "    </tr>\n",
       "    <tr>\n",
       "      <th>467</th>\n",
       "      <td>Microsoft Surface Laptop 2 (2018): 13.5\" Touch...</td>\n",
       "      <td>1699.0</td>\n",
       "      <td>Microsoft</td>\n",
       "      <td>Surface Laptop 2</td>\n",
       "      <td>13.5</td>\n",
       "      <td>_2256 x 1504</td>\n",
       "      <td>Intel Core i5</td>\n",
       "      <td>NaN</td>\n",
       "      <td>Intel</td>\n",
       "      <td>8</td>\n",
       "      <td>256 GB SSD</td>\n",
       "      <td>Windows 10 Home</td>\n",
       "      <td>4</td>\n",
       "      <td>Intel</td>\n",
       "      <td>1</td>\n",
       "      <td>0</td>\n",
       "      <td>_2256</td>\n",
       "      <td>1504</td>\n",
       "    </tr>\n",
       "    <tr>\n",
       "      <th>967</th>\n",
       "      <td>Microsoft Surface Laptop (2017): 13.5\" Touchsc...</td>\n",
       "      <td>1376.0</td>\n",
       "      <td>Microsoft</td>\n",
       "      <td>Microsoft Surface</td>\n",
       "      <td>13.5</td>\n",
       "      <td>_2256 x 1504</td>\n",
       "      <td>Intel Core i7</td>\n",
       "      <td>_4 GHz core_i7</td>\n",
       "      <td>Intel</td>\n",
       "      <td>16</td>\n",
       "      <td>512 GB SSD</td>\n",
       "      <td>Windows 10 S</td>\n",
       "      <td>2</td>\n",
       "      <td>Intel</td>\n",
       "      <td>0</td>\n",
       "      <td>0</td>\n",
       "      <td>_2256</td>\n",
       "      <td>1504</td>\n",
       "    </tr>\n",
       "    <tr>\n",
       "      <th>919</th>\n",
       "      <td>Lenovo Thinkpad E16 Gen 1 16\" WUXGA (1920 x 12...</td>\n",
       "      <td>1259.0</td>\n",
       "      <td>Lenovo</td>\n",
       "      <td>Lenovo Thinkpad E16 Gen 1</td>\n",
       "      <td>16 Inches</td>\n",
       "      <td>_1920 x 1200</td>\n",
       "      <td>Intel Core i7</td>\n",
       "      <td>_3.7 GHz core_i7</td>\n",
       "      <td>Intel</td>\n",
       "      <td>16</td>\n",
       "      <td>512 GB SSD</td>\n",
       "      <td>Windows 11 Pro</td>\n",
       "      <td>10</td>\n",
       "      <td>Intel</td>\n",
       "      <td>0</td>\n",
       "      <td>0</td>\n",
       "      <td>_1920</td>\n",
       "      <td>1200</td>\n",
       "    </tr>\n",
       "    <tr>\n",
       "      <th>71</th>\n",
       "      <td>ASUS ROG Flow X13 (2023) 2-in-1 Gaming Laptop,...</td>\n",
       "      <td>2199.0</td>\n",
       "      <td>Asus</td>\n",
       "      <td>ASUS ROG Flow X13 (2023) 2-in-1 Gaming Laptop</td>\n",
       "      <td>13.4</td>\n",
       "      <td>_2560 x 1600 pixels</td>\n",
       "      <td>AMD Ryzen 9</td>\n",
       "      <td>_4 GHz ryzen_9</td>\n",
       "      <td>NVIDIA</td>\n",
       "      <td>16</td>\n",
       "      <td>1024 GB SSD</td>\n",
       "      <td>_Windows 11 Home</td>\n",
       "      <td>8</td>\n",
       "      <td>_AMD</td>\n",
       "      <td>0</td>\n",
       "      <td>0</td>\n",
       "      <td>_2560</td>\n",
       "      <td>1600 pixels</td>\n",
       "    </tr>\n",
       "    <tr>\n",
       "      <th>1133</th>\n",
       "      <td>2023 Dell Inspiron 15 I3525 15.6\" FHD IPS Lapt...</td>\n",
       "      <td>1309.0</td>\n",
       "      <td>Dell</td>\n",
       "      <td>Inspiron 15</td>\n",
       "      <td>15.6</td>\n",
       "      <td>_1920 x 1080</td>\n",
       "      <td>AMD Ryzen 7</td>\n",
       "      <td>_2 GHz ryzen_7</td>\n",
       "      <td>AMD</td>\n",
       "      <td>32</td>\n",
       "      <td>1024 GB SSD</td>\n",
       "      <td>Windows 11 Pro</td>\n",
       "      <td>8</td>\n",
       "      <td>AMD</td>\n",
       "      <td>0</td>\n",
       "      <td>1</td>\n",
       "      <td>_1920</td>\n",
       "      <td>1080</td>\n",
       "    </tr>\n",
       "    <tr>\n",
       "      <th>896</th>\n",
       "      <td>Lenovo 100e 2nd Gen 11.6\" HD Laptop - Intel Ce...</td>\n",
       "      <td>264.0</td>\n",
       "      <td>Lenovo</td>\n",
       "      <td>Lenovo 100e 2nd Gen</td>\n",
       "      <td>11.6</td>\n",
       "      <td>_1366 x 768</td>\n",
       "      <td>Intel Celeron</td>\n",
       "      <td>_1.1 GHz celeron_n4020</td>\n",
       "      <td>Intel</td>\n",
       "      <td>16</td>\n",
       "      <td>128 GB SSD</td>\n",
       "      <td>Windows 10 Pro</td>\n",
       "      <td>2</td>\n",
       "      <td>Intel</td>\n",
       "      <td>0</td>\n",
       "      <td>0</td>\n",
       "      <td>_1366</td>\n",
       "      <td>768</td>\n",
       "    </tr>\n",
       "    <tr>\n",
       "      <th>511</th>\n",
       "      <td>Acer Swift Go 14 Business Laptop 14\" WUXGA IPS...</td>\n",
       "      <td>1659.0</td>\n",
       "      <td>Acer</td>\n",
       "      <td>Swift Go 14</td>\n",
       "      <td>14</td>\n",
       "      <td>_1920 x 1200</td>\n",
       "      <td>Intel Core i7</td>\n",
       "      <td>_2.9 GHz core_i7_family</td>\n",
       "      <td>Intel</td>\n",
       "      <td>16</td>\n",
       "      <td>512 GB SSD</td>\n",
       "      <td>Windows 11 Pro</td>\n",
       "      <td>14</td>\n",
       "      <td>Intel</td>\n",
       "      <td>1</td>\n",
       "      <td>1</td>\n",
       "      <td>_1920</td>\n",
       "      <td>1200</td>\n",
       "    </tr>\n",
       "    <tr>\n",
       "      <th>1188</th>\n",
       "      <td>Samsung Electronics XE500C13 Chromebook 3 2GB ...</td>\n",
       "      <td>421.0</td>\n",
       "      <td>Samsung</td>\n",
       "      <td>XE500C13-S03US</td>\n",
       "      <td>11.6</td>\n",
       "      <td>_1366 x 768</td>\n",
       "      <td>Intel Celeron D</td>\n",
       "      <td>_1.6 GHz intel_celeron_d</td>\n",
       "      <td>Intel</td>\n",
       "      <td>2</td>\n",
       "      <td>16 GB SSD</td>\n",
       "      <td>Chrome OS</td>\n",
       "      <td>2</td>\n",
       "      <td>Intel</td>\n",
       "      <td>0</td>\n",
       "      <td>0</td>\n",
       "      <td>_1366</td>\n",
       "      <td>768</td>\n",
       "    </tr>\n",
       "    <tr>\n",
       "      <th>446</th>\n",
       "      <td>Acer Swift 3 SF314-511-79TK, 14\" FHD 1920x1080...</td>\n",
       "      <td>1099.0</td>\n",
       "      <td>Acer</td>\n",
       "      <td>SF314-511-79TK</td>\n",
       "      <td>14</td>\n",
       "      <td>_1920 x 1080</td>\n",
       "      <td>Intel Core i7</td>\n",
       "      <td>_2.8 GHz core_i7</td>\n",
       "      <td>Intel</td>\n",
       "      <td>8</td>\n",
       "      <td>512 GB SSD</td>\n",
       "      <td>Windows 11 Home</td>\n",
       "      <td>1</td>\n",
       "      <td>Intel</td>\n",
       "      <td>0</td>\n",
       "      <td>1</td>\n",
       "      <td>_1920</td>\n",
       "      <td>1080</td>\n",
       "    </tr>\n",
       "  </tbody>\n",
       "</table>\n",
       "</div>"
      ],
      "text/plain": [
       "                                                  title   price manufacturer  \\\n",
       "517   HP 15.6\" FHD IPS Touchscreen Laptop, 11th Gen ...   989.0           HP   \n",
       "467   Microsoft Surface Laptop 2 (2018): 13.5\" Touch...  1699.0    Microsoft   \n",
       "967   Microsoft Surface Laptop (2017): 13.5\" Touchsc...  1376.0    Microsoft   \n",
       "919   Lenovo Thinkpad E16 Gen 1 16\" WUXGA (1920 x 12...  1259.0       Lenovo   \n",
       "71    ASUS ROG Flow X13 (2023) 2-in-1 Gaming Laptop,...  2199.0         Asus   \n",
       "1133  2023 Dell Inspiron 15 I3525 15.6\" FHD IPS Lapt...  1309.0         Dell   \n",
       "896   Lenovo 100e 2nd Gen 11.6\" HD Laptop - Intel Ce...   264.0       Lenovo   \n",
       "511   Acer Swift Go 14 Business Laptop 14\" WUXGA IPS...  1659.0         Acer   \n",
       "1188  Samsung Electronics XE500C13 Chromebook 3 2GB ...   421.0      Samsung   \n",
       "446   Acer Swift 3 SF314-511-79TK, 14\" FHD 1920x1080...  1099.0         Acer   \n",
       "\n",
       "                                         model_name screen_size  \\\n",
       "517                                             NaN        15.6   \n",
       "467                                Surface Laptop 2        13.5   \n",
       "967                               Microsoft Surface        13.5   \n",
       "919                       Lenovo Thinkpad E16 Gen 1   16 Inches   \n",
       "71    ASUS ROG Flow X13 (2023) 2-in-1 Gaming Laptop        13.4   \n",
       "1133                                    Inspiron 15        15.6   \n",
       "896                             Lenovo 100e 2nd Gen        11.6   \n",
       "511                                     Swift Go 14          14   \n",
       "1188                                 XE500C13-S03US        11.6   \n",
       "446                                  SF314-511-79TK          14   \n",
       "\n",
       "       display_resolution        cpu_model                 processor  \\\n",
       "517          _1920 x 1080    Intel Core i7          _2.8 GHz core_i7   \n",
       "467          _2256 x 1504    Intel Core i5                       NaN   \n",
       "967          _2256 x 1504    Intel Core i7            _4 GHz core_i7   \n",
       "919          _1920 x 1200    Intel Core i7          _3.7 GHz core_i7   \n",
       "71    _2560 x 1600 pixels      AMD Ryzen 9            _4 GHz ryzen_9   \n",
       "1133         _1920 x 1080      AMD Ryzen 7            _2 GHz ryzen_7   \n",
       "896           _1366 x 768    Intel Celeron    _1.1 GHz celeron_n4020   \n",
       "511          _1920 x 1200    Intel Core i7   _2.9 GHz core_i7_family   \n",
       "1188          _1366 x 768  Intel Celeron D  _1.6 GHz intel_celeron_d   \n",
       "446          _1920 x 1080    Intel Core i7          _2.8 GHz core_i7   \n",
       "\n",
       "     graphics_copressor  ram      storage  operating_system  num_processors  \\\n",
       "517               Intel   16   512 GB SSD   Windows 11 Home               4   \n",
       "467               Intel    8   256 GB SSD   Windows 10 Home               4   \n",
       "967               Intel   16   512 GB SSD      Windows 10 S               2   \n",
       "919               Intel   16   512 GB SSD    Windows 11 Pro              10   \n",
       "71               NVIDIA   16  1024 GB SSD  _Windows 11 Home               8   \n",
       "1133                AMD   32  1024 GB SSD    Windows 11 Pro               8   \n",
       "896               Intel   16   128 GB SSD    Windows 10 Pro               2   \n",
       "511               Intel   16   512 GB SSD    Windows 11 Pro              14   \n",
       "1188              Intel    2    16 GB SSD         Chrome OS               2   \n",
       "446               Intel    8   512 GB SSD   Windows 11 Home               1   \n",
       "\n",
       "     processor_brand  touchable  ips   x_res         y_res  \n",
       "517            Intel          1    1  _1920           1080  \n",
       "467            Intel          1    0  _2256           1504  \n",
       "967            Intel          0    0  _2256           1504  \n",
       "919            Intel          0    0  _1920           1200  \n",
       "71              _AMD          0    0  _2560    1600 pixels  \n",
       "1133             AMD          0    1  _1920           1080  \n",
       "896            Intel          0    0  _1366            768  \n",
       "511            Intel          1    1  _1920           1200  \n",
       "1188           Intel          0    0  _1366            768  \n",
       "446            Intel          0    1  _1920           1080  "
      ]
     },
     "execution_count": 31,
     "metadata": {},
     "output_type": "execute_result"
    }
   ],
   "source": [
    "cleaned_df.sample(10)"
   ]
  },
  {
   "cell_type": "code",
   "execution_count": 32,
   "id": "3794a836",
   "metadata": {},
   "outputs": [],
   "source": [
    "cleaned_df['x_res'] = cleaned_df['x_res'].str.replace('_','', regex=False).astype(int)"
   ]
  },
  {
   "cell_type": "code",
   "execution_count": 33,
   "id": "70baed21",
   "metadata": {},
   "outputs": [
    {
     "data": {
      "text/plain": [
       "array([' 2000', ' 1080', ' 1200', ' 1800', ' 2160', ' 1440', ' 1600',\n",
       "       ' 1600 pixels', '1080', ' 1200 pixel', ' 1080 pixels',\n",
       "       ' 1440 pixels', ' 1080 pixel', ' 1824 pixel', ' 1440 pixel',\n",
       "       ' 1600 pixel', ' 1620 pixel', ' 1920', ' 2400', '1200', '2400',\n",
       "       ' 1800 pixels', '2160', ' 768', ' 720', ' 1664', ' 1964', ' 1864',\n",
       "       ' 2234', ' 1504', '1824', ' 1024', ' 1280', ' 800', ' 1200 pixels',\n",
       "       ' 1824', ' 1400', ' 1620', ' 1800 pixel', ' 768 pixels', ' 1350',\n",
       "       ' 900'], dtype=object)"
      ]
     },
     "execution_count": 33,
     "metadata": {},
     "output_type": "execute_result"
    }
   ],
   "source": [
    "cleaned_df['y_res'].unique()"
   ]
  },
  {
   "cell_type": "code",
   "execution_count": 34,
   "id": "92f17165",
   "metadata": {},
   "outputs": [],
   "source": [
    "cleaned_df['y_res'] = cleaned_df['y_res'].str.replace(r'\\D', '', regex=True).astype(int)"
   ]
  },
  {
   "cell_type": "code",
   "execution_count": 35,
   "id": "29afd9d9",
   "metadata": {},
   "outputs": [
    {
     "data": {
      "text/html": [
       "<div>\n",
       "<style scoped>\n",
       "    .dataframe tbody tr th:only-of-type {\n",
       "        vertical-align: middle;\n",
       "    }\n",
       "\n",
       "    .dataframe tbody tr th {\n",
       "        vertical-align: top;\n",
       "    }\n",
       "\n",
       "    .dataframe thead th {\n",
       "        text-align: right;\n",
       "    }\n",
       "</style>\n",
       "<table border=\"1\" class=\"dataframe\">\n",
       "  <thead>\n",
       "    <tr style=\"text-align: right;\">\n",
       "      <th></th>\n",
       "      <th>title</th>\n",
       "      <th>price</th>\n",
       "      <th>manufacturer</th>\n",
       "      <th>model_name</th>\n",
       "      <th>screen_size</th>\n",
       "      <th>display_resolution</th>\n",
       "      <th>cpu_model</th>\n",
       "      <th>processor</th>\n",
       "      <th>graphics_copressor</th>\n",
       "      <th>ram</th>\n",
       "      <th>storage</th>\n",
       "      <th>operating_system</th>\n",
       "      <th>num_processors</th>\n",
       "      <th>processor_brand</th>\n",
       "      <th>touchable</th>\n",
       "      <th>ips</th>\n",
       "      <th>x_res</th>\n",
       "      <th>y_res</th>\n",
       "    </tr>\n",
       "  </thead>\n",
       "  <tbody>\n",
       "    <tr>\n",
       "      <th>999</th>\n",
       "      <td>Dell Vostro 3520 15.6\" FHD Laptop - Intel Core...</td>\n",
       "      <td>879.0</td>\n",
       "      <td>Dell</td>\n",
       "      <td>Dell Vostro 3520</td>\n",
       "      <td>15.6</td>\n",
       "      <td>_1920 x 1080</td>\n",
       "      <td>Intel Core i5</td>\n",
       "      <td>_2.4 GHz core_i5</td>\n",
       "      <td>Intel</td>\n",
       "      <td>16</td>\n",
       "      <td>512 GB SSD</td>\n",
       "      <td>Windows 11 Pro</td>\n",
       "      <td>4</td>\n",
       "      <td>Intel</td>\n",
       "      <td>0</td>\n",
       "      <td>0</td>\n",
       "      <td>1920</td>\n",
       "      <td>1080</td>\n",
       "    </tr>\n",
       "    <tr>\n",
       "      <th>584</th>\n",
       "      <td>HP Envy 17.3\" FHD Touchscreen Laptop, Intel Co...</td>\n",
       "      <td>1999.0</td>\n",
       "      <td>HP</td>\n",
       "      <td>Envy</td>\n",
       "      <td>17.3 Inches</td>\n",
       "      <td>_1920 x 1080</td>\n",
       "      <td>Intel Core i7</td>\n",
       "      <td>_2.1 GHz core_i7</td>\n",
       "      <td>Intel</td>\n",
       "      <td>64</td>\n",
       "      <td>2048 GB SSD</td>\n",
       "      <td>Windows 11 Pro</td>\n",
       "      <td>12</td>\n",
       "      <td>Intel</td>\n",
       "      <td>1</td>\n",
       "      <td>0</td>\n",
       "      <td>1920</td>\n",
       "      <td>1080</td>\n",
       "    </tr>\n",
       "    <tr>\n",
       "      <th>1198</th>\n",
       "      <td>ASUS ExpertBook B1 Business Laptop, B1502CVA-P...</td>\n",
       "      <td>1235.0</td>\n",
       "      <td>Asus</td>\n",
       "      <td>Asus B1 Series</td>\n",
       "      <td>15.6</td>\n",
       "      <td>_1920 x 1080 pixels</td>\n",
       "      <td>Intel Core i7</td>\n",
       "      <td>_1.8 core_i7</td>\n",
       "      <td>Intel</td>\n",
       "      <td>16</td>\n",
       "      <td>1024 GB SSD</td>\n",
       "      <td>_Windows 11 Pro</td>\n",
       "      <td>1</td>\n",
       "      <td>_Intel</td>\n",
       "      <td>0</td>\n",
       "      <td>0</td>\n",
       "      <td>1920</td>\n",
       "      <td>1080</td>\n",
       "    </tr>\n",
       "    <tr>\n",
       "      <th>31</th>\n",
       "      <td>Lenovo Legion 5 Pro 16\" QHD 165Hz Gaming Lapto...</td>\n",
       "      <td>2949.0</td>\n",
       "      <td>Lenovo</td>\n",
       "      <td>Lenovo Legion 5 Pro</td>\n",
       "      <td>16 Inches</td>\n",
       "      <td>_2560 x 1600</td>\n",
       "      <td>AMD Ryzen 7</td>\n",
       "      <td>_3.2 GHz ryzen_7</td>\n",
       "      <td>NVIDIA</td>\n",
       "      <td>64</td>\n",
       "      <td>2048 GB SSD</td>\n",
       "      <td>Windows 11 Home</td>\n",
       "      <td>8</td>\n",
       "      <td>AMD</td>\n",
       "      <td>0</td>\n",
       "      <td>0</td>\n",
       "      <td>2560</td>\n",
       "      <td>1600</td>\n",
       "    </tr>\n",
       "    <tr>\n",
       "      <th>546</th>\n",
       "      <td>Dell 15 3000 Inspiron 15.6\" 3530 15\" Touch Tou...</td>\n",
       "      <td>1469.0</td>\n",
       "      <td>Dell</td>\n",
       "      <td>Inspiron</td>\n",
       "      <td>15.6</td>\n",
       "      <td>_1920 x 1080</td>\n",
       "      <td>Intel Core i7</td>\n",
       "      <td>_1.7 GHz core_i7</td>\n",
       "      <td>Intel</td>\n",
       "      <td>32</td>\n",
       "      <td>3072 GB SSD</td>\n",
       "      <td>Windows 11 Pro</td>\n",
       "      <td>10</td>\n",
       "      <td>Intel</td>\n",
       "      <td>1</td>\n",
       "      <td>0</td>\n",
       "      <td>1920</td>\n",
       "      <td>1080</td>\n",
       "    </tr>\n",
       "    <tr>\n",
       "      <th>181</th>\n",
       "      <td>ASUS ROG Strix G17 17.3\" 144Hz FHD Gaming Lapt...</td>\n",
       "      <td>2199.0</td>\n",
       "      <td>Asus</td>\n",
       "      <td>ROG Strix</td>\n",
       "      <td>17.3 Inches</td>\n",
       "      <td>_1920 x 1080 pixel</td>\n",
       "      <td>AMD Ryzen 7</td>\n",
       "      <td>_3.2 GHz ryzen_7</td>\n",
       "      <td>NVIDIA</td>\n",
       "      <td>32</td>\n",
       "      <td>2048 GB SSD</td>\n",
       "      <td>_Windows 11 Pro</td>\n",
       "      <td>8</td>\n",
       "      <td>_AMD</td>\n",
       "      <td>0</td>\n",
       "      <td>0</td>\n",
       "      <td>1920</td>\n",
       "      <td>1080</td>\n",
       "    </tr>\n",
       "    <tr>\n",
       "      <th>615</th>\n",
       "      <td>Dell Inspiron 14 Laptop 2023, 14\" 2.2K IPS, In...</td>\n",
       "      <td>1389.0</td>\n",
       "      <td>Dell</td>\n",
       "      <td>Dell Inspiron 14</td>\n",
       "      <td>14</td>\n",
       "      <td>_2240 x 1400</td>\n",
       "      <td>Intel Core i7</td>\n",
       "      <td>_2.4 GHz core_i7_family</td>\n",
       "      <td>Intel</td>\n",
       "      <td>16</td>\n",
       "      <td>1024 GB SSD</td>\n",
       "      <td>Windows 11 Pro</td>\n",
       "      <td>14</td>\n",
       "      <td>Intel</td>\n",
       "      <td>0</td>\n",
       "      <td>1</td>\n",
       "      <td>2240</td>\n",
       "      <td>1400</td>\n",
       "    </tr>\n",
       "    <tr>\n",
       "      <th>702</th>\n",
       "      <td>HP 17 inch Laptop, FHD Display, Intel N200, 8 ...</td>\n",
       "      <td>699.0</td>\n",
       "      <td>HP</td>\n",
       "      <td>HP Laptop 17-cn3000ca</td>\n",
       "      <td>14</td>\n",
       "      <td>_1920 x 1080</td>\n",
       "      <td>Intel Celeron</td>\n",
       "      <td>_3.7 GHz celeron_n</td>\n",
       "      <td>Intel</td>\n",
       "      <td>8</td>\n",
       "      <td>512 GB SSD</td>\n",
       "      <td>Windows 11 Home</td>\n",
       "      <td>10</td>\n",
       "      <td>Intel</td>\n",
       "      <td>0</td>\n",
       "      <td>0</td>\n",
       "      <td>1920</td>\n",
       "      <td>1080</td>\n",
       "    </tr>\n",
       "    <tr>\n",
       "      <th>680</th>\n",
       "      <td>HP Stream 14\" HD BrightView Laptop, Intel Cele...</td>\n",
       "      <td>379.0</td>\n",
       "      <td>HP</td>\n",
       "      <td>Stream</td>\n",
       "      <td>14</td>\n",
       "      <td>_1366 x 768</td>\n",
       "      <td>Intel Celeron</td>\n",
       "      <td>_1.1 GHz celeron_n</td>\n",
       "      <td>Intel</td>\n",
       "      <td>4</td>\n",
       "      <td>64 GB SSD</td>\n",
       "      <td>Windows 11 S</td>\n",
       "      <td>2</td>\n",
       "      <td>Intel</td>\n",
       "      <td>0</td>\n",
       "      <td>0</td>\n",
       "      <td>1366</td>\n",
       "      <td>768</td>\n",
       "    </tr>\n",
       "    <tr>\n",
       "      <th>272</th>\n",
       "      <td>Acer Nitro 17 Gaming Laptop 2023 17.3Ã WQXGA ...</td>\n",
       "      <td>2266.0</td>\n",
       "      <td>Acer</td>\n",
       "      <td>Nitro 17</td>\n",
       "      <td>17.3 Inches</td>\n",
       "      <td>_2560 x 1600</td>\n",
       "      <td>AMD Ryzen 7</td>\n",
       "      <td>_2.8 GHz ryzen_7</td>\n",
       "      <td>NVIDIA</td>\n",
       "      <td>16</td>\n",
       "      <td>1024 GB SSD</td>\n",
       "      <td>Windows 11 Pro</td>\n",
       "      <td>8</td>\n",
       "      <td>AMD</td>\n",
       "      <td>0</td>\n",
       "      <td>1</td>\n",
       "      <td>2560</td>\n",
       "      <td>1600</td>\n",
       "    </tr>\n",
       "  </tbody>\n",
       "</table>\n",
       "</div>"
      ],
      "text/plain": [
       "                                                  title   price manufacturer  \\\n",
       "999   Dell Vostro 3520 15.6\" FHD Laptop - Intel Core...   879.0         Dell   \n",
       "584   HP Envy 17.3\" FHD Touchscreen Laptop, Intel Co...  1999.0           HP   \n",
       "1198  ASUS ExpertBook B1 Business Laptop, B1502CVA-P...  1235.0         Asus   \n",
       "31    Lenovo Legion 5 Pro 16\" QHD 165Hz Gaming Lapto...  2949.0       Lenovo   \n",
       "546   Dell 15 3000 Inspiron 15.6\" 3530 15\" Touch Tou...  1469.0         Dell   \n",
       "181   ASUS ROG Strix G17 17.3\" 144Hz FHD Gaming Lapt...  2199.0         Asus   \n",
       "615   Dell Inspiron 14 Laptop 2023, 14\" 2.2K IPS, In...  1389.0         Dell   \n",
       "702   HP 17 inch Laptop, FHD Display, Intel N200, 8 ...   699.0           HP   \n",
       "680   HP Stream 14\" HD BrightView Laptop, Intel Cele...   379.0           HP   \n",
       "272   Acer Nitro 17 Gaming Laptop 2023 17.3Ã WQXGA ...  2266.0         Acer   \n",
       "\n",
       "                 model_name  screen_size   display_resolution      cpu_model  \\\n",
       "999        Dell Vostro 3520         15.6         _1920 x 1080  Intel Core i5   \n",
       "584                    Envy  17.3 Inches         _1920 x 1080  Intel Core i7   \n",
       "1198         Asus B1 Series         15.6  _1920 x 1080 pixels  Intel Core i7   \n",
       "31      Lenovo Legion 5 Pro    16 Inches         _2560 x 1600    AMD Ryzen 7   \n",
       "546                Inspiron         15.6         _1920 x 1080  Intel Core i7   \n",
       "181               ROG Strix  17.3 Inches   _1920 x 1080 pixel    AMD Ryzen 7   \n",
       "615        Dell Inspiron 14           14         _2240 x 1400  Intel Core i7   \n",
       "702   HP Laptop 17-cn3000ca           14         _1920 x 1080  Intel Celeron   \n",
       "680                  Stream           14          _1366 x 768  Intel Celeron   \n",
       "272                Nitro 17  17.3 Inches         _2560 x 1600    AMD Ryzen 7   \n",
       "\n",
       "                    processor graphics_copressor  ram      storage  \\\n",
       "999          _2.4 GHz core_i5              Intel   16   512 GB SSD   \n",
       "584          _2.1 GHz core_i7              Intel   64  2048 GB SSD   \n",
       "1198             _1.8 core_i7              Intel   16  1024 GB SSD   \n",
       "31           _3.2 GHz ryzen_7             NVIDIA   64  2048 GB SSD   \n",
       "546          _1.7 GHz core_i7              Intel   32  3072 GB SSD   \n",
       "181          _3.2 GHz ryzen_7             NVIDIA   32  2048 GB SSD   \n",
       "615   _2.4 GHz core_i7_family              Intel   16  1024 GB SSD   \n",
       "702        _3.7 GHz celeron_n              Intel    8   512 GB SSD   \n",
       "680        _1.1 GHz celeron_n              Intel    4    64 GB SSD   \n",
       "272          _2.8 GHz ryzen_7             NVIDIA   16  1024 GB SSD   \n",
       "\n",
       "     operating_system  num_processors processor_brand  touchable  ips  x_res  \\\n",
       "999    Windows 11 Pro               4           Intel          0    0   1920   \n",
       "584    Windows 11 Pro              12           Intel          1    0   1920   \n",
       "1198  _Windows 11 Pro               1          _Intel          0    0   1920   \n",
       "31    Windows 11 Home               8             AMD          0    0   2560   \n",
       "546    Windows 11 Pro              10           Intel          1    0   1920   \n",
       "181   _Windows 11 Pro               8            _AMD          0    0   1920   \n",
       "615    Windows 11 Pro              14           Intel          0    1   2240   \n",
       "702   Windows 11 Home              10           Intel          0    0   1920   \n",
       "680      Windows 11 S               2           Intel          0    0   1366   \n",
       "272    Windows 11 Pro               8             AMD          0    1   2560   \n",
       "\n",
       "      y_res  \n",
       "999    1080  \n",
       "584    1080  \n",
       "1198   1080  \n",
       "31     1600  \n",
       "546    1080  \n",
       "181    1080  \n",
       "615    1400  \n",
       "702    1080  \n",
       "680     768  \n",
       "272    1600  "
      ]
     },
     "execution_count": 35,
     "metadata": {},
     "output_type": "execute_result"
    }
   ],
   "source": [
    "cleaned_df.sample(10)"
   ]
  },
  {
   "cell_type": "code",
   "execution_count": 36,
   "id": "4d488a10",
   "metadata": {},
   "outputs": [
    {
     "name": "stdout",
     "output_type": "stream",
     "text": [
      "<class 'pandas.core.frame.DataFrame'>\n",
      "Int64Index: 1255 entries, 0 to 1261\n",
      "Data columns (total 18 columns):\n",
      " #   Column              Non-Null Count  Dtype  \n",
      "---  ------              --------------  -----  \n",
      " 0   title               1255 non-null   object \n",
      " 1   price               1255 non-null   float64\n",
      " 2   manufacturer        1255 non-null   object \n",
      " 3   model_name          1107 non-null   object \n",
      " 4   screen_size         1255 non-null   object \n",
      " 5   display_resolution  1255 non-null   object \n",
      " 6   cpu_model           1255 non-null   object \n",
      " 7   processor           1203 non-null   object \n",
      " 8   graphics_copressor  1255 non-null   object \n",
      " 9   ram                 1255 non-null   int32  \n",
      " 10  storage             1255 non-null   object \n",
      " 11  operating_system    1255 non-null   object \n",
      " 12  num_processors      1255 non-null   int64  \n",
      " 13  processor_brand     1255 non-null   object \n",
      " 14  touchable           1255 non-null   int64  \n",
      " 15  ips                 1255 non-null   int64  \n",
      " 16  x_res               1255 non-null   int64  \n",
      " 17  y_res               1255 non-null   int64  \n",
      "dtypes: float64(1), int32(1), int64(5), object(11)\n",
      "memory usage: 181.4+ KB\n"
     ]
    }
   ],
   "source": [
    "cleaned_df.info()"
   ]
  },
  {
   "cell_type": "code",
   "execution_count": 37,
   "id": "074cc395",
   "metadata": {},
   "outputs": [
    {
     "data": {
      "text/plain": [
       "price             1.000000\n",
       "ram               0.505469\n",
       "num_processors    0.596594\n",
       "touchable        -0.022500\n",
       "ips               0.139814\n",
       "x_res             0.620967\n",
       "y_res             0.637042\n",
       "Name: price, dtype: float64"
      ]
     },
     "execution_count": 37,
     "metadata": {},
     "output_type": "execute_result"
    }
   ],
   "source": [
    "cleaned_df.corr()['price']"
   ]
  },
  {
   "cell_type": "code",
   "execution_count": 38,
   "id": "cfc192da",
   "metadata": {},
   "outputs": [
    {
     "data": {
      "text/plain": [
       "array(['13.5', '15', '15.6', '16 Inches', '14.4', '17.3 Inches', '14',\n",
       "       '13.4', '17 Inches', '11.6', '13.6 Inches', '14.2 Inches',\n",
       "       '15.3 Inches', '16.2 Inches', '13.3', '12.3', '10.5'], dtype=object)"
      ]
     },
     "execution_count": 38,
     "metadata": {},
     "output_type": "execute_result"
    }
   ],
   "source": [
    "cleaned_df['screen_size'].unique()"
   ]
  },
  {
   "cell_type": "code",
   "execution_count": 39,
   "id": "ac1d5985",
   "metadata": {},
   "outputs": [],
   "source": [
    "cleaned_df['screen_size'] = cleaned_df['screen_size'].str.extract(r'(\\d+\\.\\d+|\\d+)', expand=False).astype(float)"
   ]
  },
  {
   "cell_type": "code",
   "execution_count": 40,
   "id": "b2bde1ee",
   "metadata": {},
   "outputs": [
    {
     "data": {
      "text/plain": [
       "array([13.5, 15. , 15.6, 16. , 14.4, 17.3, 14. , 13.4, 17. , 11.6, 13.6,\n",
       "       14.2, 15.3, 16.2, 13.3, 12.3, 10.5])"
      ]
     },
     "execution_count": 40,
     "metadata": {},
     "output_type": "execute_result"
    }
   ],
   "source": [
    "cleaned_df['screen_size'].unique()"
   ]
  },
  {
   "cell_type": "code",
   "execution_count": null,
   "id": "eb21e5b8",
   "metadata": {},
   "outputs": [],
   "source": []
  },
  {
   "cell_type": "code",
   "execution_count": 41,
   "id": "3fd153de",
   "metadata": {},
   "outputs": [],
   "source": [
    "cleaned_df['ppi'] = (((cleaned_df['x_res']**2) + (cleaned_df['y_res']**2))**0.5/cleaned_df['screen_size']).astype('float')"
   ]
  },
  {
   "cell_type": "code",
   "execution_count": 42,
   "id": "019fa3d7",
   "metadata": {},
   "outputs": [
    {
     "data": {
      "text/html": [
       "<div>\n",
       "<style scoped>\n",
       "    .dataframe tbody tr th:only-of-type {\n",
       "        vertical-align: middle;\n",
       "    }\n",
       "\n",
       "    .dataframe tbody tr th {\n",
       "        vertical-align: top;\n",
       "    }\n",
       "\n",
       "    .dataframe thead th {\n",
       "        text-align: right;\n",
       "    }\n",
       "</style>\n",
       "<table border=\"1\" class=\"dataframe\">\n",
       "  <thead>\n",
       "    <tr style=\"text-align: right;\">\n",
       "      <th></th>\n",
       "      <th>title</th>\n",
       "      <th>price</th>\n",
       "      <th>manufacturer</th>\n",
       "      <th>model_name</th>\n",
       "      <th>screen_size</th>\n",
       "      <th>display_resolution</th>\n",
       "      <th>cpu_model</th>\n",
       "      <th>processor</th>\n",
       "      <th>graphics_copressor</th>\n",
       "      <th>ram</th>\n",
       "      <th>storage</th>\n",
       "      <th>operating_system</th>\n",
       "      <th>num_processors</th>\n",
       "      <th>processor_brand</th>\n",
       "      <th>touchable</th>\n",
       "      <th>ips</th>\n",
       "      <th>x_res</th>\n",
       "      <th>y_res</th>\n",
       "      <th>ppi</th>\n",
       "    </tr>\n",
       "  </thead>\n",
       "  <tbody>\n",
       "    <tr>\n",
       "      <th>302</th>\n",
       "      <td>Acer Nitro 5 AN515-46-R0EQ Gaming Laptop | AMD...</td>\n",
       "      <td>1869.0</td>\n",
       "      <td>Acer</td>\n",
       "      <td>Nitro 5</td>\n",
       "      <td>15.6</td>\n",
       "      <td>_2560 x 1440</td>\n",
       "      <td>AMD Ryzen 7</td>\n",
       "      <td>_4.70 ryzen_7</td>\n",
       "      <td>NVIDIA</td>\n",
       "      <td>32</td>\n",
       "      <td>1024 GB SSD</td>\n",
       "      <td>Windows 11 Home</td>\n",
       "      <td>8</td>\n",
       "      <td>AMD</td>\n",
       "      <td>0</td>\n",
       "      <td>1</td>\n",
       "      <td>2560</td>\n",
       "      <td>1440</td>\n",
       "      <td>188.282664</td>\n",
       "    </tr>\n",
       "  </tbody>\n",
       "</table>\n",
       "</div>"
      ],
      "text/plain": [
       "                                                 title   price manufacturer  \\\n",
       "302  Acer Nitro 5 AN515-46-R0EQ Gaming Laptop | AMD...  1869.0         Acer   \n",
       "\n",
       "    model_name  screen_size display_resolution    cpu_model      processor  \\\n",
       "302    Nitro 5         15.6       _2560 x 1440  AMD Ryzen 7  _4.70 ryzen_7   \n",
       "\n",
       "    graphics_copressor  ram      storage operating_system  num_processors  \\\n",
       "302             NVIDIA   32  1024 GB SSD  Windows 11 Home               8   \n",
       "\n",
       "    processor_brand  touchable  ips  x_res  y_res         ppi  \n",
       "302             AMD          0    1   2560   1440  188.282664  "
      ]
     },
     "execution_count": 42,
     "metadata": {},
     "output_type": "execute_result"
    }
   ],
   "source": [
    "cleaned_df.sample()"
   ]
  },
  {
   "cell_type": "code",
   "execution_count": 43,
   "id": "15612b97",
   "metadata": {},
   "outputs": [],
   "source": [
    "cleaned_df.drop(columns=['display_resolution'], inplace=True)"
   ]
  },
  {
   "cell_type": "code",
   "execution_count": 44,
   "id": "0109dfd7",
   "metadata": {},
   "outputs": [
    {
     "data": {
      "text/html": [
       "<div>\n",
       "<style scoped>\n",
       "    .dataframe tbody tr th:only-of-type {\n",
       "        vertical-align: middle;\n",
       "    }\n",
       "\n",
       "    .dataframe tbody tr th {\n",
       "        vertical-align: top;\n",
       "    }\n",
       "\n",
       "    .dataframe thead th {\n",
       "        text-align: right;\n",
       "    }\n",
       "</style>\n",
       "<table border=\"1\" class=\"dataframe\">\n",
       "  <thead>\n",
       "    <tr style=\"text-align: right;\">\n",
       "      <th></th>\n",
       "      <th>title</th>\n",
       "      <th>price</th>\n",
       "      <th>manufacturer</th>\n",
       "      <th>model_name</th>\n",
       "      <th>screen_size</th>\n",
       "      <th>cpu_model</th>\n",
       "      <th>processor</th>\n",
       "      <th>graphics_copressor</th>\n",
       "      <th>ram</th>\n",
       "      <th>storage</th>\n",
       "      <th>operating_system</th>\n",
       "      <th>num_processors</th>\n",
       "      <th>processor_brand</th>\n",
       "      <th>touchable</th>\n",
       "      <th>ips</th>\n",
       "      <th>x_res</th>\n",
       "      <th>y_res</th>\n",
       "      <th>ppi</th>\n",
       "    </tr>\n",
       "  </thead>\n",
       "  <tbody>\n",
       "    <tr>\n",
       "      <th>0</th>\n",
       "      <td>Microsoft Surface Book 2 (2017): 13.5\" Touchsc...</td>\n",
       "      <td>2287.0</td>\n",
       "      <td>Microsoft</td>\n",
       "      <td>Surface Book 2</td>\n",
       "      <td>13.5</td>\n",
       "      <td>Intel Core i7</td>\n",
       "      <td>_4.2 GHz core_i7</td>\n",
       "      <td>NVIDIA</td>\n",
       "      <td>8</td>\n",
       "      <td>256 GB SSD</td>\n",
       "      <td>Windows 10 Pro</td>\n",
       "      <td>4</td>\n",
       "      <td>Intel</td>\n",
       "      <td>1</td>\n",
       "      <td>0</td>\n",
       "      <td>3000</td>\n",
       "      <td>2000</td>\n",
       "      <td>267.077872</td>\n",
       "    </tr>\n",
       "    <tr>\n",
       "      <th>1</th>\n",
       "      <td>Microsoft Surface Book 3 - 15\" Touch-Screen Pi...</td>\n",
       "      <td>2999.0</td>\n",
       "      <td>Microsoft</td>\n",
       "      <td>Surface Book 3</td>\n",
       "      <td>15.0</td>\n",
       "      <td>Intel Core i7</td>\n",
       "      <td>NaN</td>\n",
       "      <td>NVIDIA</td>\n",
       "      <td>16</td>\n",
       "      <td>256 GB SSD</td>\n",
       "      <td>Windows 10</td>\n",
       "      <td>4</td>\n",
       "      <td>Intel</td>\n",
       "      <td>1</td>\n",
       "      <td>0</td>\n",
       "      <td>3000</td>\n",
       "      <td>2000</td>\n",
       "      <td>240.370085</td>\n",
       "    </tr>\n",
       "    <tr>\n",
       "      <th>2</th>\n",
       "      <td>Dell G15 5530 2023 Gaming Laptop ~ 15.6\" FHD 1...</td>\n",
       "      <td>2995.0</td>\n",
       "      <td>Dell</td>\n",
       "      <td>G15 5530</td>\n",
       "      <td>15.6</td>\n",
       "      <td>Intel Core i9</td>\n",
       "      <td>_2.9 GHz intel_core_i9</td>\n",
       "      <td>NVIDIA</td>\n",
       "      <td>64</td>\n",
       "      <td>2048 GB SSD</td>\n",
       "      <td>Windows 11 Pro</td>\n",
       "      <td>24</td>\n",
       "      <td>Intel</td>\n",
       "      <td>0</td>\n",
       "      <td>0</td>\n",
       "      <td>1920</td>\n",
       "      <td>1080</td>\n",
       "      <td>141.211998</td>\n",
       "    </tr>\n",
       "    <tr>\n",
       "      <th>3</th>\n",
       "      <td>Dell Vostro 7000 7620 Laptop (2022) | 16\" FHD+...</td>\n",
       "      <td>1999.0</td>\n",
       "      <td>Dell</td>\n",
       "      <td>Vostro 7620 Laptop</td>\n",
       "      <td>16.0</td>\n",
       "      <td>Intel Core i7</td>\n",
       "      <td>_3.5 GHz core_i7</td>\n",
       "      <td>NVIDIA</td>\n",
       "      <td>8</td>\n",
       "      <td>1024 GB SSD</td>\n",
       "      <td>Windows 11 Pro</td>\n",
       "      <td>14</td>\n",
       "      <td>Intel</td>\n",
       "      <td>0</td>\n",
       "      <td>0</td>\n",
       "      <td>1920</td>\n",
       "      <td>1200</td>\n",
       "      <td>141.509717</td>\n",
       "    </tr>\n",
       "    <tr>\n",
       "      <th>4</th>\n",
       "      <td>Microsoft Surface Book 2 15\"(Intel Core i7, 16...</td>\n",
       "      <td>2999.0</td>\n",
       "      <td>Microsoft</td>\n",
       "      <td>Surface Book 2</td>\n",
       "      <td>15.0</td>\n",
       "      <td>Intel Core i7</td>\n",
       "      <td>_4.2 GHz core_i7</td>\n",
       "      <td>NVIDIA</td>\n",
       "      <td>16</td>\n",
       "      <td>1024 GB SSD</td>\n",
       "      <td>Windows 10 Pro</td>\n",
       "      <td>4</td>\n",
       "      <td>Intel</td>\n",
       "      <td>0</td>\n",
       "      <td>0</td>\n",
       "      <td>3000</td>\n",
       "      <td>2000</td>\n",
       "      <td>240.370085</td>\n",
       "    </tr>\n",
       "    <tr>\n",
       "      <th>...</th>\n",
       "      <td>...</td>\n",
       "      <td>...</td>\n",
       "      <td>...</td>\n",
       "      <td>...</td>\n",
       "      <td>...</td>\n",
       "      <td>...</td>\n",
       "      <td>...</td>\n",
       "      <td>...</td>\n",
       "      <td>...</td>\n",
       "      <td>...</td>\n",
       "      <td>...</td>\n",
       "      <td>...</td>\n",
       "      <td>...</td>\n",
       "      <td>...</td>\n",
       "      <td>...</td>\n",
       "      <td>...</td>\n",
       "      <td>...</td>\n",
       "      <td>...</td>\n",
       "    </tr>\n",
       "    <tr>\n",
       "      <th>1257</th>\n",
       "      <td>Lenovo ThinkPad T14s Gen 3 Business Laptop, 14...</td>\n",
       "      <td>1349.0</td>\n",
       "      <td>Lenovo</td>\n",
       "      <td>ThinkPad</td>\n",
       "      <td>14.0</td>\n",
       "      <td>AMD Ryzen 7</td>\n",
       "      <td>_2.7 GHz ryzen_7</td>\n",
       "      <td>AMD</td>\n",
       "      <td>16</td>\n",
       "      <td>1024 GB SSD</td>\n",
       "      <td>Windows 11 Pro</td>\n",
       "      <td>8</td>\n",
       "      <td>AMD</td>\n",
       "      <td>1</td>\n",
       "      <td>1</td>\n",
       "      <td>1920</td>\n",
       "      <td>1080</td>\n",
       "      <td>157.350512</td>\n",
       "    </tr>\n",
       "    <tr>\n",
       "      <th>1258</th>\n",
       "      <td>Lenovo IdeaPad 15.6\" FHD Laptop, Intel Pentium...</td>\n",
       "      <td>589.0</td>\n",
       "      <td>Lenovo</td>\n",
       "      <td>Lenovo IdeaPad</td>\n",
       "      <td>15.6</td>\n",
       "      <td>Intel Pentium</td>\n",
       "      <td>_1.1 GHz pentium</td>\n",
       "      <td>Intel</td>\n",
       "      <td>20</td>\n",
       "      <td>1024 GB SSD</td>\n",
       "      <td>Windows 11</td>\n",
       "      <td>4</td>\n",
       "      <td>Intel</td>\n",
       "      <td>0</td>\n",
       "      <td>0</td>\n",
       "      <td>1920</td>\n",
       "      <td>1080</td>\n",
       "      <td>141.211998</td>\n",
       "    </tr>\n",
       "    <tr>\n",
       "      <th>1259</th>\n",
       "      <td>Lenovo ThinkPad P1 Gen 6 21FV001UUS 16\" Mobile...</td>\n",
       "      <td>5340.0</td>\n",
       "      <td>Lenovo</td>\n",
       "      <td>ThinkPad P1 Gen 6</td>\n",
       "      <td>16.0</td>\n",
       "      <td>Intel Core i9</td>\n",
       "      <td>_core_i9</td>\n",
       "      <td>NVIDIA</td>\n",
       "      <td>32</td>\n",
       "      <td>1024 GB SSD</td>\n",
       "      <td>Windows 11 Pro</td>\n",
       "      <td>1</td>\n",
       "      <td>Intel</td>\n",
       "      <td>0</td>\n",
       "      <td>0</td>\n",
       "      <td>2560</td>\n",
       "      <td>1600</td>\n",
       "      <td>188.679623</td>\n",
       "    </tr>\n",
       "    <tr>\n",
       "      <th>1260</th>\n",
       "      <td>Lenovo ThinkPad Laptop 2023 New, 14\" FHD IPS T...</td>\n",
       "      <td>1848.0</td>\n",
       "      <td>Lenovo</td>\n",
       "      <td>Lenovo ThinkPad P14s Gen 2 20VX Laptop</td>\n",
       "      <td>14.0</td>\n",
       "      <td>Intel Core i7</td>\n",
       "      <td>_3.1 GHz core_i7_family</td>\n",
       "      <td>NVIDIA</td>\n",
       "      <td>32</td>\n",
       "      <td>1024 GB SSD</td>\n",
       "      <td>Windows 10 Pro</td>\n",
       "      <td>4</td>\n",
       "      <td>Intel</td>\n",
       "      <td>1</td>\n",
       "      <td>1</td>\n",
       "      <td>1920</td>\n",
       "      <td>1080</td>\n",
       "      <td>157.350512</td>\n",
       "    </tr>\n",
       "    <tr>\n",
       "      <th>1261</th>\n",
       "      <td>Lenovo ThinkPad P14s Gen 2 14\" FHD (1920x1080)...</td>\n",
       "      <td>1660.0</td>\n",
       "      <td>Lenovo</td>\n",
       "      <td>ThinkPad P14s</td>\n",
       "      <td>14.0</td>\n",
       "      <td>Intel Core i7</td>\n",
       "      <td>_3.2 GHz core_i7_family</td>\n",
       "      <td>NVIDIA</td>\n",
       "      <td>32</td>\n",
       "      <td>1024 GB SSD</td>\n",
       "      <td>Windows 11 Pro</td>\n",
       "      <td>4</td>\n",
       "      <td>Intel</td>\n",
       "      <td>0</td>\n",
       "      <td>1</td>\n",
       "      <td>1920</td>\n",
       "      <td>1080</td>\n",
       "      <td>157.350512</td>\n",
       "    </tr>\n",
       "  </tbody>\n",
       "</table>\n",
       "<p>1255 rows × 18 columns</p>\n",
       "</div>"
      ],
      "text/plain": [
       "                                                  title   price manufacturer  \\\n",
       "0     Microsoft Surface Book 2 (2017): 13.5\" Touchsc...  2287.0    Microsoft   \n",
       "1     Microsoft Surface Book 3 - 15\" Touch-Screen Pi...  2999.0    Microsoft   \n",
       "2     Dell G15 5530 2023 Gaming Laptop ~ 15.6\" FHD 1...  2995.0         Dell   \n",
       "3     Dell Vostro 7000 7620 Laptop (2022) | 16\" FHD+...  1999.0         Dell   \n",
       "4     Microsoft Surface Book 2 15\"(Intel Core i7, 16...  2999.0    Microsoft   \n",
       "...                                                 ...     ...          ...   \n",
       "1257  Lenovo ThinkPad T14s Gen 3 Business Laptop, 14...  1349.0       Lenovo   \n",
       "1258  Lenovo IdeaPad 15.6\" FHD Laptop, Intel Pentium...   589.0       Lenovo   \n",
       "1259  Lenovo ThinkPad P1 Gen 6 21FV001UUS 16\" Mobile...  5340.0       Lenovo   \n",
       "1260  Lenovo ThinkPad Laptop 2023 New, 14\" FHD IPS T...  1848.0       Lenovo   \n",
       "1261  Lenovo ThinkPad P14s Gen 2 14\" FHD (1920x1080)...  1660.0       Lenovo   \n",
       "\n",
       "                                  model_name  screen_size      cpu_model  \\\n",
       "0                             Surface Book 2         13.5  Intel Core i7   \n",
       "1                             Surface Book 3         15.0  Intel Core i7   \n",
       "2                                   G15 5530         15.6  Intel Core i9   \n",
       "3                         Vostro 7620 Laptop         16.0  Intel Core i7   \n",
       "4                             Surface Book 2         15.0  Intel Core i7   \n",
       "...                                      ...          ...            ...   \n",
       "1257                                ThinkPad         14.0    AMD Ryzen 7   \n",
       "1258                          Lenovo IdeaPad         15.6  Intel Pentium   \n",
       "1259                       ThinkPad P1 Gen 6         16.0  Intel Core i9   \n",
       "1260  Lenovo ThinkPad P14s Gen 2 20VX Laptop         14.0  Intel Core i7   \n",
       "1261                           ThinkPad P14s         14.0  Intel Core i7   \n",
       "\n",
       "                    processor graphics_copressor  ram      storage  \\\n",
       "0            _4.2 GHz core_i7             NVIDIA    8   256 GB SSD   \n",
       "1                         NaN             NVIDIA   16   256 GB SSD   \n",
       "2      _2.9 GHz intel_core_i9             NVIDIA   64  2048 GB SSD   \n",
       "3            _3.5 GHz core_i7             NVIDIA    8  1024 GB SSD   \n",
       "4            _4.2 GHz core_i7             NVIDIA   16  1024 GB SSD   \n",
       "...                       ...                ...  ...          ...   \n",
       "1257         _2.7 GHz ryzen_7                AMD   16  1024 GB SSD   \n",
       "1258         _1.1 GHz pentium              Intel   20  1024 GB SSD   \n",
       "1259                 _core_i9             NVIDIA   32  1024 GB SSD   \n",
       "1260  _3.1 GHz core_i7_family             NVIDIA   32  1024 GB SSD   \n",
       "1261  _3.2 GHz core_i7_family             NVIDIA   32  1024 GB SSD   \n",
       "\n",
       "     operating_system  num_processors processor_brand  touchable  ips  x_res  \\\n",
       "0      Windows 10 Pro               4           Intel          1    0   3000   \n",
       "1          Windows 10               4           Intel          1    0   3000   \n",
       "2      Windows 11 Pro              24           Intel          0    0   1920   \n",
       "3      Windows 11 Pro              14           Intel          0    0   1920   \n",
       "4      Windows 10 Pro               4           Intel          0    0   3000   \n",
       "...               ...             ...             ...        ...  ...    ...   \n",
       "1257   Windows 11 Pro               8             AMD          1    1   1920   \n",
       "1258       Windows 11               4           Intel          0    0   1920   \n",
       "1259   Windows 11 Pro               1           Intel          0    0   2560   \n",
       "1260   Windows 10 Pro               4           Intel          1    1   1920   \n",
       "1261   Windows 11 Pro               4           Intel          0    1   1920   \n",
       "\n",
       "      y_res         ppi  \n",
       "0      2000  267.077872  \n",
       "1      2000  240.370085  \n",
       "2      1080  141.211998  \n",
       "3      1200  141.509717  \n",
       "4      2000  240.370085  \n",
       "...     ...         ...  \n",
       "1257   1080  157.350512  \n",
       "1258   1080  141.211998  \n",
       "1259   1600  188.679623  \n",
       "1260   1080  157.350512  \n",
       "1261   1080  157.350512  \n",
       "\n",
       "[1255 rows x 18 columns]"
      ]
     },
     "execution_count": 44,
     "metadata": {},
     "output_type": "execute_result"
    }
   ],
   "source": [
    "cleaned_df"
   ]
  },
  {
   "cell_type": "code",
   "execution_count": 45,
   "id": "925d7083",
   "metadata": {},
   "outputs": [],
   "source": [
    "cleaned_df.drop(columns=['screen_size', 'x_res', 'y_res'], inplace=True)"
   ]
  },
  {
   "cell_type": "code",
   "execution_count": 46,
   "id": "6bd6e333",
   "metadata": {},
   "outputs": [
    {
     "data": {
      "text/plain": [
       "array(['Intel Core i7', 'Intel Core i9', 'Intel Core i5', 'Intel Xeon',\n",
       "       'AMD Ryzen 7', 'AMD Ryzen 5', 'AMD Ryzen 9', 'Intel Celeron',\n",
       "       'MediaTek', 'M3', 'M3 ', 'M2  ', 'M2', 'M3 Pro', 'M2 Pro',\n",
       "       'M3 Max', 'Intel Core i3', 'Intel Atom', 'Intel Celeron D',\n",
       "       'Intel Pentium', 'Intel Processor N100', 'Intel Core m3',\n",
       "       'AMD Ryzen 3', 'AMD  ', 'AMD Athlon', 'AMD Ryzen 4', 'AMD'],\n",
       "      dtype=object)"
      ]
     },
     "execution_count": 46,
     "metadata": {},
     "output_type": "execute_result"
    }
   ],
   "source": [
    "cleaned_df['cpu_model'].unique()"
   ]
  },
  {
   "cell_type": "code",
   "execution_count": 47,
   "id": "956dc6e3",
   "metadata": {},
   "outputs": [],
   "source": [
    "cleaned_df['cpu_model'] = cleaned_df['cpu_model'].str.strip()"
   ]
  },
  {
   "cell_type": "code",
   "execution_count": 48,
   "id": "592c10b6",
   "metadata": {},
   "outputs": [
    {
     "data": {
      "text/plain": [
       "array(['Intel Core i7', 'Intel Core i9', 'Intel Core i5', 'Intel Xeon',\n",
       "       'AMD Ryzen 7', 'AMD Ryzen 5', 'AMD Ryzen 9', 'Intel Celeron',\n",
       "       'MediaTek', 'M3', 'M2', 'M3 Pro', 'M2 Pro', 'M3 Max',\n",
       "       'Intel Core i3', 'Intel Atom', 'Intel Celeron D', 'Intel Pentium',\n",
       "       'Intel Processor N100', 'Intel Core m3', 'AMD Ryzen 3', 'AMD',\n",
       "       'AMD Athlon', 'AMD Ryzen 4'], dtype=object)"
      ]
     },
     "execution_count": 48,
     "metadata": {},
     "output_type": "execute_result"
    }
   ],
   "source": [
    "cleaned_df['cpu_model'].unique()"
   ]
  },
  {
   "cell_type": "code",
   "execution_count": 49,
   "id": "3ef3f686",
   "metadata": {},
   "outputs": [
    {
     "data": {
      "text/plain": [
       "<AxesSubplot:>"
      ]
     },
     "execution_count": 49,
     "metadata": {},
     "output_type": "execute_result"
    },
    {
     "data": {
      "image/png": "[encoded data removed]",
      "text/plain": [
       "<Figure size 640x480 with 1 Axes>"
      ]
     },
     "metadata": {},
     "output_type": "display_data"
    }
   ],
   "source": [
    "cleaned_df['cpu_model'].value_counts().plot(kind='bar')"
   ]
  },
  {
   "cell_type": "code",
   "execution_count": 51,
   "id": "3142dbf1",
   "metadata": {},
   "outputs": [
    {
     "data": {
      "image/png": "[encoded data removed]",
      "text/plain": [
       "<Figure size 640x480 with 1 Axes>"
      ]
     },
     "metadata": {},
     "output_type": "display_data"
    }
   ],
   "source": [
    "sns.barplot(x=cleaned_df['cpu_model'], y=cleaned_df['price'])\n",
    "plt.xticks(rotation='vertical')\n",
    "plt.show()"
   ]
  },
  {
   "cell_type": "code",
   "execution_count": 52,
   "id": "33b709b8",
   "metadata": {},
   "outputs": [
    {
     "data": {
      "text/plain": [
       "Intel Core i7           374\n",
       "Intel Core i5           243\n",
       "AMD Ryzen 7             135\n",
       "Intel Core i3           107\n",
       "Intel Celeron            99\n",
       "AMD Ryzen 5              88\n",
       "Intel Core i9            49\n",
       "M3                       44\n",
       "Intel Pentium            29\n",
       "AMD Ryzen 3              19\n",
       "AMD Ryzen 9              18\n",
       "MediaTek                  9\n",
       "M2                        9\n",
       "M3 Pro                    7\n",
       "AMD Athlon                6\n",
       "Intel Celeron D           5\n",
       "M3 Max                    3\n",
       "AMD                       2\n",
       "Intel Atom                2\n",
       "Intel Xeon                2\n",
       "Intel Core m3             2\n",
       "M2 Pro                    1\n",
       "Intel Processor N100      1\n",
       "AMD Ryzen 4               1\n",
       "Name: cpu_model, dtype: int64"
      ]
     },
     "execution_count": 52,
     "metadata": {},
     "output_type": "execute_result"
    }
   ],
   "source": [
    "cleaned_df['cpu_model'].value_counts()"
   ]
  },
  {
   "cell_type": "code",
   "execution_count": 53,
   "id": "f77d63ee",
   "metadata": {},
   "outputs": [],
   "source": [
    "def fetch_processor(text):\n",
    "    if text == 'Intel Core i9' or text == 'Intel Core i7' or text == 'Intel Core i5' or text == 'Intel Core i3' or text == 'Intel Celeron':\n",
    "        return text\n",
    "    elif text.split()[0] == 'Intel':\n",
    "        return 'Other Intel Processor'\n",
    "    elif text == 'AMD Ryzen 9' or text == 'AMD Ryzen 7' or text == 'AMD Ryzen 5':\n",
    "        return text\n",
    "    elif text.split()[0] == 'AMD':\n",
    "        return 'Other AMD Processor'\n",
    "    elif text == 'M2' or text == 'M2 Pro' or text == 'M3' or text == 'M3 Max' or text == 'M3 Pro':\n",
    "        return \"Mac Processor\"\n",
    "    elif text == 'MediaTek':\n",
    "        return text\n",
    "    else:\n",
    "        return 'Other'"
   ]
  },
  {
   "cell_type": "code",
   "execution_count": 54,
   "id": "84faeed1",
   "metadata": {},
   "outputs": [],
   "source": [
    "cleaned_df['cpu_name'] = cleaned_df['cpu_model'].apply(fetch_processor)"
   ]
  },
  {
   "cell_type": "code",
   "execution_count": 55,
   "id": "4c8fe4d6",
   "metadata": {},
   "outputs": [
    {
     "data": {
      "text/plain": [
       "array(['Intel Core i7', 'Intel Core i9', 'Intel Core i5', 'Intel Xeon',\n",
       "       'AMD Ryzen 7', 'AMD Ryzen 5', 'AMD Ryzen 9', 'Intel Celeron',\n",
       "       'MediaTek', 'M3', 'M2', 'M3 Pro', 'M2 Pro', 'M3 Max',\n",
       "       'Intel Core i3', 'Intel Atom', 'Intel Celeron D', 'Intel Pentium',\n",
       "       'Intel Processor N100', 'Intel Core m3', 'AMD Ryzen 3', 'AMD',\n",
       "       'AMD Athlon', 'AMD Ryzen 4'], dtype=object)"
      ]
     },
     "execution_count": 55,
     "metadata": {},
     "output_type": "execute_result"
    }
   ],
   "source": [
    "cleaned_df['cpu_model'].unique()"
   ]
  },
  {
   "cell_type": "code",
   "execution_count": 56,
   "id": "1830adde",
   "metadata": {},
   "outputs": [
    {
     "data": {
      "text/plain": [
       "array(['Intel Core i7', 'Intel Core i9', 'Intel Core i5',\n",
       "       'Other Intel Processor', 'AMD Ryzen 7', 'AMD Ryzen 5',\n",
       "       'AMD Ryzen 9', 'Intel Celeron', 'MediaTek', 'Mac Processor',\n",
       "       'Intel Core i3', 'Other AMD Processor'], dtype=object)"
      ]
     },
     "execution_count": 56,
     "metadata": {},
     "output_type": "execute_result"
    }
   ],
   "source": [
    "cleaned_df['cpu_name'].unique()"
   ]
  },
  {
   "cell_type": "code",
   "execution_count": 183,
   "id": "2875263d",
   "metadata": {},
   "outputs": [
    {
     "data": {
      "text/plain": [
       "<AxesSubplot:>"
      ]
     },
     "execution_count": 183,
     "metadata": {},
     "output_type": "execute_result"
    },
    {
     "data": {
      "image/png": "[encoded data removed]",
      "text/plain": [
       "<Figure size 640x480 with 1 Axes>"
      ]
     },
     "metadata": {},
     "output_type": "display_data"
    }
   ],
   "source": [
    "cleaned_df['cpu_name'].value_counts().plot(kind='bar')"
   ]
  },
  {
   "cell_type": "code",
   "execution_count": 58,
   "id": "8e86c437",
   "metadata": {},
   "outputs": [
    {
     "data": {
      "image/png": "[encoded data removed]",
      "text/plain": [
       "<Figure size 640x480 with 1 Axes>"
      ]
     },
     "metadata": {},
     "output_type": "display_data"
    }
   ],
   "source": [
    "sns.barplot(x=cleaned_df['cpu_name'], y=cleaned_df['price'])\n",
    "plt.xticks(rotation='vertical')\n",
    "plt.show()"
   ]
  },
  {
   "cell_type": "code",
   "execution_count": 59,
   "id": "55186f96",
   "metadata": {},
   "outputs": [
    {
     "data": {
      "text/plain": [
       "Intel Core i7            374\n",
       "Intel Core i5            243\n",
       "AMD Ryzen 7              135\n",
       "Intel Core i3            107\n",
       "Intel Celeron             99\n",
       "AMD Ryzen 5               88\n",
       "Mac Processor             64\n",
       "Intel Core i9             49\n",
       "Other Intel Processor     41\n",
       "Other AMD Processor       28\n",
       "AMD Ryzen 9               18\n",
       "MediaTek                   9\n",
       "Name: cpu_name, dtype: int64"
      ]
     },
     "execution_count": 59,
     "metadata": {},
     "output_type": "execute_result"
    }
   ],
   "source": [
    "cleaned_df['cpu_name'].value_counts()"
   ]
  },
  {
   "cell_type": "code",
   "execution_count": 185,
   "id": "fa9548d5",
   "metadata": {},
   "outputs": [],
   "source": [
    "#cleaned_df = cleaned_df[~cleaned_df['cpu_name'].str.contains('MediaTek', case=False)]"
   ]
  },
  {
   "cell_type": "code",
   "execution_count": 186,
   "id": "0182d9c5",
   "metadata": {},
   "outputs": [
    {
     "data": {
      "text/plain": [
       "Intel Core i7            374\n",
       "Intel Core i5            243\n",
       "AMD Ryzen 7              135\n",
       "Intel Core i3            107\n",
       "Intel Celeron             99\n",
       "AMD Ryzen 5               88\n",
       "Mac Processor             64\n",
       "Intel Core i9             49\n",
       "Other AMD Processor       46\n",
       "Other Intel Processor     41\n",
       "Name: cpu_name, dtype: int64"
      ]
     },
     "execution_count": 186,
     "metadata": {},
     "output_type": "execute_result"
    }
   ],
   "source": [
    "#cleaned_df['cpu_name'].value_counts()"
   ]
  },
  {
   "cell_type": "code",
   "execution_count": 61,
   "id": "d5c13149",
   "metadata": {},
   "outputs": [],
   "source": [
    "# sns.barplot(x=cleaned_df['cpu_name'], y=cleaned_df['price'])\n",
    "# plt.xticks(rotation='vertical')\n",
    "# plt.show()"
   ]
  },
  {
   "cell_type": "code",
   "execution_count": 188,
   "id": "4e457ede",
   "metadata": {},
   "outputs": [
    {
     "data": {
      "text/plain": [
       "<AxesSubplot:>"
      ]
     },
     "execution_count": 188,
     "metadata": {},
     "output_type": "execute_result"
    },
    {
     "data": {
      "image/png": "[encoded data removed]",
      "text/plain": [
       "<Figure size 640x480 with 1 Axes>"
      ]
     },
     "metadata": {},
     "output_type": "display_data"
    }
   ],
   "source": [
    "cleaned_df['ram'].value_counts().plot(kind='bar')"
   ]
  },
  {
   "cell_type": "code",
   "execution_count": 189,
   "id": "08daa036",
   "metadata": {},
   "outputs": [
    {
     "data": {
      "text/plain": [
       "<AxesSubplot:xlabel='ram', ylabel='price'>"
      ]
     },
     "execution_count": 189,
     "metadata": {},
     "output_type": "execute_result"
    },
    {
     "data": {
      "image/png": "[encoded data removed]",
      "text/plain": [
       "<Figure size 640x480 with 1 Axes>"
      ]
     },
     "metadata": {},
     "output_type": "display_data"
    }
   ],
   "source": [
    "sns.barplot(x=cleaned_df['ram'], y=cleaned_df['price'])"
   ]
  },
  {
   "cell_type": "code",
   "execution_count": 64,
   "id": "ef2187a7",
   "metadata": {},
   "outputs": [
    {
     "data": {
      "text/html": [
       "<div>\n",
       "<style scoped>\n",
       "    .dataframe tbody tr th:only-of-type {\n",
       "        vertical-align: middle;\n",
       "    }\n",
       "\n",
       "    .dataframe tbody tr th {\n",
       "        vertical-align: top;\n",
       "    }\n",
       "\n",
       "    .dataframe thead th {\n",
       "        text-align: right;\n",
       "    }\n",
       "</style>\n",
       "<table border=\"1\" class=\"dataframe\">\n",
       "  <thead>\n",
       "    <tr style=\"text-align: right;\">\n",
       "      <th></th>\n",
       "      <th>title</th>\n",
       "      <th>price</th>\n",
       "      <th>manufacturer</th>\n",
       "      <th>model_name</th>\n",
       "      <th>cpu_model</th>\n",
       "      <th>processor</th>\n",
       "      <th>graphics_copressor</th>\n",
       "      <th>ram</th>\n",
       "      <th>storage</th>\n",
       "      <th>operating_system</th>\n",
       "      <th>num_processors</th>\n",
       "      <th>processor_brand</th>\n",
       "      <th>touchable</th>\n",
       "      <th>ips</th>\n",
       "      <th>ppi</th>\n",
       "      <th>cpu_name</th>\n",
       "    </tr>\n",
       "  </thead>\n",
       "  <tbody>\n",
       "    <tr>\n",
       "      <th>390</th>\n",
       "      <td>Apple 2023 MacBook Pro Laptop M3 Pro chip with...</td>\n",
       "      <td>3799.0</td>\n",
       "      <td>Apple</td>\n",
       "      <td>MacBook Pro</td>\n",
       "      <td>M3 Pro</td>\n",
       "      <td>12</td>\n",
       "      <td>Mac</td>\n",
       "      <td>36</td>\n",
       "      <td>512 GB SSD</td>\n",
       "      <td>Mac OS</td>\n",
       "      <td>12</td>\n",
       "      <td>Apple</td>\n",
       "      <td>0</td>\n",
       "      <td>0</td>\n",
       "      <td>254.023349</td>\n",
       "      <td>Mac Processor</td>\n",
       "    </tr>\n",
       "    <tr>\n",
       "      <th>395</th>\n",
       "      <td>Apple 2023 MacBook Pro Laptop M3 Max chip with...</td>\n",
       "      <td>4488.0</td>\n",
       "      <td>Apple</td>\n",
       "      <td>MacBook Pro</td>\n",
       "      <td>M3 Max</td>\n",
       "      <td>14</td>\n",
       "      <td>Mac</td>\n",
       "      <td>36</td>\n",
       "      <td>1024 GB SSD</td>\n",
       "      <td>Mac OS</td>\n",
       "      <td>14</td>\n",
       "      <td>Apple</td>\n",
       "      <td>0</td>\n",
       "      <td>0</td>\n",
       "      <td>253.930343</td>\n",
       "      <td>Mac Processor</td>\n",
       "    </tr>\n",
       "    <tr>\n",
       "      <th>396</th>\n",
       "      <td>Apple 2023 MacBook Pro Laptop M3 Max chip with...</td>\n",
       "      <td>4349.0</td>\n",
       "      <td>Apple</td>\n",
       "      <td>MacBook Pro</td>\n",
       "      <td>M3</td>\n",
       "      <td>14</td>\n",
       "      <td>Mac</td>\n",
       "      <td>36</td>\n",
       "      <td>1024 GB SSD</td>\n",
       "      <td>Mac OS</td>\n",
       "      <td>14</td>\n",
       "      <td>Apple</td>\n",
       "      <td>0</td>\n",
       "      <td>0</td>\n",
       "      <td>253.930343</td>\n",
       "      <td>Mac Processor</td>\n",
       "    </tr>\n",
       "    <tr>\n",
       "      <th>554</th>\n",
       "      <td>ASUS Vivobook 15.6Ó FHD Touchscreen Laptop, In...</td>\n",
       "      <td>939.0</td>\n",
       "      <td>Asus</td>\n",
       "      <td>VivoBook</td>\n",
       "      <td>Intel Core i5</td>\n",
       "      <td>_2.4 GHz core_i5</td>\n",
       "      <td>Intel</td>\n",
       "      <td>36</td>\n",
       "      <td>2048 GB SSD</td>\n",
       "      <td>_Windows 11 Pro</td>\n",
       "      <td>4</td>\n",
       "      <td>_Intel</td>\n",
       "      <td>1</td>\n",
       "      <td>0</td>\n",
       "      <td>141.211998</td>\n",
       "      <td>Intel Core i5</td>\n",
       "    </tr>\n",
       "    <tr>\n",
       "      <th>601</th>\n",
       "      <td>ASUS Vivobook 15.6Ó FHD Touchscreen Laptop, In...</td>\n",
       "      <td>879.0</td>\n",
       "      <td>Asus</td>\n",
       "      <td>VivoBook</td>\n",
       "      <td>Intel Core i5</td>\n",
       "      <td>_2.4 GHz core_i5</td>\n",
       "      <td>Intel</td>\n",
       "      <td>36</td>\n",
       "      <td>1024 GB SSD</td>\n",
       "      <td>_Windows 11 Pro</td>\n",
       "      <td>4</td>\n",
       "      <td>_Intel</td>\n",
       "      <td>1</td>\n",
       "      <td>0</td>\n",
       "      <td>141.211998</td>\n",
       "      <td>Intel Core i5</td>\n",
       "    </tr>\n",
       "    <tr>\n",
       "      <th>602</th>\n",
       "      <td>ASUS Vivobook 15.6Ó FHD Touchscreen Laptop, In...</td>\n",
       "      <td>879.0</td>\n",
       "      <td>Asus</td>\n",
       "      <td>VivoBook</td>\n",
       "      <td>Intel Core i5</td>\n",
       "      <td>_2.4 GHz core_i5</td>\n",
       "      <td>Intel</td>\n",
       "      <td>36</td>\n",
       "      <td>1024 GB SSD</td>\n",
       "      <td>_Windows 11 Pro</td>\n",
       "      <td>4</td>\n",
       "      <td>_Intel</td>\n",
       "      <td>1</td>\n",
       "      <td>0</td>\n",
       "      <td>141.211998</td>\n",
       "      <td>Intel Core i5</td>\n",
       "    </tr>\n",
       "  </tbody>\n",
       "</table>\n",
       "</div>"
      ],
      "text/plain": [
       "                                                 title   price manufacturer  \\\n",
       "390  Apple 2023 MacBook Pro Laptop M3 Pro chip with...  3799.0        Apple   \n",
       "395  Apple 2023 MacBook Pro Laptop M3 Max chip with...  4488.0        Apple   \n",
       "396  Apple 2023 MacBook Pro Laptop M3 Max chip with...  4349.0        Apple   \n",
       "554  ASUS Vivobook 15.6Ó FHD Touchscreen Laptop, In...   939.0         Asus   \n",
       "601  ASUS Vivobook 15.6Ó FHD Touchscreen Laptop, In...   879.0         Asus   \n",
       "602  ASUS Vivobook 15.6Ó FHD Touchscreen Laptop, In...   879.0         Asus   \n",
       "\n",
       "      model_name      cpu_model         processor graphics_copressor  ram  \\\n",
       "390  MacBook Pro         M3 Pro                12                Mac   36   \n",
       "395  MacBook Pro         M3 Max                14                Mac   36   \n",
       "396  MacBook Pro             M3                14                Mac   36   \n",
       "554     VivoBook  Intel Core i5  _2.4 GHz core_i5              Intel   36   \n",
       "601     VivoBook  Intel Core i5  _2.4 GHz core_i5              Intel   36   \n",
       "602     VivoBook  Intel Core i5  _2.4 GHz core_i5              Intel   36   \n",
       "\n",
       "         storage operating_system  num_processors processor_brand  touchable  \\\n",
       "390   512 GB SSD           Mac OS              12           Apple          0   \n",
       "395  1024 GB SSD           Mac OS              14           Apple          0   \n",
       "396  1024 GB SSD           Mac OS              14           Apple          0   \n",
       "554  2048 GB SSD  _Windows 11 Pro               4          _Intel          1   \n",
       "601  1024 GB SSD  _Windows 11 Pro               4          _Intel          1   \n",
       "602  1024 GB SSD  _Windows 11 Pro               4          _Intel          1   \n",
       "\n",
       "     ips         ppi       cpu_name  \n",
       "390    0  254.023349  Mac Processor  \n",
       "395    0  253.930343  Mac Processor  \n",
       "396    0  253.930343  Mac Processor  \n",
       "554    0  141.211998  Intel Core i5  \n",
       "601    0  141.211998  Intel Core i5  \n",
       "602    0  141.211998  Intel Core i5  "
      ]
     },
     "execution_count": 64,
     "metadata": {},
     "output_type": "execute_result"
    }
   ],
   "source": [
    "cleaned_df[cleaned_df['ram']==36]"
   ]
  },
  {
   "cell_type": "code",
   "execution_count": 65,
   "id": "80bb2dcc",
   "metadata": {},
   "outputs": [
    {
     "data": {
      "text/plain": [
       "array(['256 GB SSD', '2048 GB SSD', '1024 GB SSD', '512 GB SSD',\n",
       "       '4096 GB SSD', '3072 GB SSD', '8192 GB SSD', '128 GB SSD',\n",
       "       '32 GB Emmc', '64 GB Emmc', '64 GB SSD', '128 GB Emmc',\n",
       "       '16 GB Emmc', '16 GB SSD'], dtype=object)"
      ]
     },
     "execution_count": 65,
     "metadata": {},
     "output_type": "execute_result"
    }
   ],
   "source": [
    "cleaned_df['storage'].unique()"
   ]
  },
  {
   "cell_type": "code",
   "execution_count": 66,
   "id": "4b70a007",
   "metadata": {},
   "outputs": [
    {
     "data": {
      "text/plain": [
       "<AxesSubplot:>"
      ]
     },
     "execution_count": 66,
     "metadata": {},
     "output_type": "execute_result"
    },
    {
     "data": {
      "image/png": "[encoded data removed]",
      "text/plain": [
       "<Figure size 640x480 with 1 Axes>"
      ]
     },
     "metadata": {},
     "output_type": "display_data"
    }
   ],
   "source": [
    "cleaned_df['storage'].value_counts().plot(kind='bar')"
   ]
  },
  {
   "cell_type": "code",
   "execution_count": 67,
   "id": "b55641a3",
   "metadata": {},
   "outputs": [
    {
     "data": {
      "text/plain": [
       "array(['256 GB SSD', '2048 GB SSD', '1024 GB SSD', '512 GB SSD',\n",
       "       '4096 GB SSD', '3072 GB SSD', '8192 GB SSD', '128 GB SSD',\n",
       "       '32 GB Emmc', '64 GB Emmc', '64 GB SSD', '128 GB Emmc',\n",
       "       '16 GB Emmc', '16 GB SSD'], dtype=object)"
      ]
     },
     "execution_count": 67,
     "metadata": {},
     "output_type": "execute_result"
    }
   ],
   "source": [
    "cleaned_df['storage'].str.strip().unique()"
   ]
  },
  {
   "cell_type": "code",
   "execution_count": 68,
   "id": "3ed664f3",
   "metadata": {},
   "outputs": [],
   "source": [
    "def set_storage_range(text):\n",
    "    if text == '1024 GB SSD' or text == '512 GB SSD' or text == '256 GB SSD' or text == '2048 GB SSD':\n",
    "        return text\n",
    "    elif text == '3072 GB SSD' or text == '4096 GB SSD' or text == '8192 GB SSD':\n",
    "        return '3072 GB SSD or Above'\n",
    "    elif text == '128 GB SSD' or text == '64 GB SSD' or text == '32 GB SSD' or text == '16 GB SSD':\n",
    "        return '128 GB SSD or Below'\n",
    "    elif text == '128 GB Emmc' or text == '64 GB Emmc':\n",
    "        return '64 GB Emmc or Above'\n",
    "    elif text == '16 GB Emmc' or text == '32 GB Emmc':\n",
    "        return '32 GB Emmc or Below'"
   ]
  },
  {
   "cell_type": "code",
   "execution_count": 69,
   "id": "4d9c1c6e",
   "metadata": {},
   "outputs": [
    {
     "data": {
      "text/plain": [
       "False    1165\n",
       "True       90\n",
       "Name: storage, dtype: int64"
      ]
     },
     "execution_count": 69,
     "metadata": {},
     "output_type": "execute_result"
    }
   ],
   "source": [
    "cleaned_df['storage'].str.contains('Emmc', case= False).value_counts()"
   ]
  },
  {
   "cell_type": "code",
   "execution_count": 70,
   "id": "fef735e2",
   "metadata": {},
   "outputs": [
    {
     "data": {
      "text/plain": [
       "0        [256, GB, SSD]\n",
       "1        [256, GB, SSD]\n",
       "2       [2048, GB, SSD]\n",
       "3       [1024, GB, SSD]\n",
       "4       [1024, GB, SSD]\n",
       "             ...       \n",
       "1257    [1024, GB, SSD]\n",
       "1258    [1024, GB, SSD]\n",
       "1259    [1024, GB, SSD]\n",
       "1260    [1024, GB, SSD]\n",
       "1261    [1024, GB, SSD]\n",
       "Name: storage, Length: 1255, dtype: object"
      ]
     },
     "execution_count": 70,
     "metadata": {},
     "output_type": "execute_result"
    }
   ],
   "source": [
    "cleaned_df['storage'].str.split()"
   ]
  },
  {
   "cell_type": "code",
   "execution_count": 71,
   "id": "9208dfd2",
   "metadata": {},
   "outputs": [],
   "source": [
    "cleaned_df['storage_range_category'] = cleaned_df['storage'].apply(set_storage_range)"
   ]
  },
  {
   "cell_type": "code",
   "execution_count": 72,
   "id": "ddf990e1",
   "metadata": {},
   "outputs": [
    {
     "data": {
      "text/plain": [
       "1024 GB SSD             379\n",
       "512 GB SSD              337\n",
       "2048 GB SSD             169\n",
       "256 GB SSD              168\n",
       "64 GB Emmc or Above      67\n",
       "128 GB SSD or Below      63\n",
       "3072 GB SSD or Above     49\n",
       "32 GB Emmc or Below      23\n",
       "Name: storage_range_category, dtype: int64"
      ]
     },
     "execution_count": 72,
     "metadata": {},
     "output_type": "execute_result"
    }
   ],
   "source": [
    "cleaned_df['storage_range_category'].value_counts()"
   ]
  },
  {
   "cell_type": "code",
   "execution_count": 73,
   "id": "63a4cd15",
   "metadata": {},
   "outputs": [
    {
     "data": {
      "image/png": "[encoded data removed]",
      "text/plain": [
       "<Figure size 640x480 with 1 Axes>"
      ]
     },
     "metadata": {},
     "output_type": "display_data"
    }
   ],
   "source": [
    "sns.barplot(x=cleaned_df['storage_range_category'], y=cleaned_df['price'])\n",
    "plt.xticks(rotation='vertical')\n",
    "plt.show()"
   ]
  },
  {
   "cell_type": "code",
   "execution_count": 74,
   "id": "97c9e89b",
   "metadata": {},
   "outputs": [
    {
     "data": {
      "text/plain": [
       "array(['256 GB SSD', '2048 GB SSD', '1024 GB SSD', '512 GB SSD',\n",
       "       '3072 GB SSD or Above', '128 GB SSD or Below',\n",
       "       '32 GB Emmc or Below', '64 GB Emmc or Above'], dtype=object)"
      ]
     },
     "execution_count": 74,
     "metadata": {},
     "output_type": "execute_result"
    }
   ],
   "source": [
    "cleaned_df['storage_range_category'].unique()"
   ]
  },
  {
   "cell_type": "code",
   "execution_count": 75,
   "id": "d21fff99",
   "metadata": {},
   "outputs": [
    {
     "data": {
      "text/plain": [
       "array(['2048 GB SSD', '1024 GB SSD', '512 GB SSD', '1024 GB SSD',\n",
       "       '256 GB SSD', '512 GB SSD', '512 GB SSD', '2048 GB SSD',\n",
       "       '1024 GB SSD', '512 GB SSD'], dtype=object)"
      ]
     },
     "execution_count": 75,
     "metadata": {},
     "output_type": "execute_result"
    }
   ],
   "source": [
    "np.array(cleaned_df['storage_range_category'].sample(10))"
   ]
  },
  {
   "cell_type": "code",
   "execution_count": 76,
   "id": "62a69cf3",
   "metadata": {},
   "outputs": [],
   "source": [
    "cleaned_df['ssd'] = 0\n",
    "cleaned_df['emmc'] = 0"
   ]
  },
  {
   "cell_type": "code",
   "execution_count": 77,
   "id": "c17bce46",
   "metadata": {},
   "outputs": [
    {
     "data": {
      "text/html": [
       "<div>\n",
       "<style scoped>\n",
       "    .dataframe tbody tr th:only-of-type {\n",
       "        vertical-align: middle;\n",
       "    }\n",
       "\n",
       "    .dataframe tbody tr th {\n",
       "        vertical-align: top;\n",
       "    }\n",
       "\n",
       "    .dataframe thead th {\n",
       "        text-align: right;\n",
       "    }\n",
       "</style>\n",
       "<table border=\"1\" class=\"dataframe\">\n",
       "  <thead>\n",
       "    <tr style=\"text-align: right;\">\n",
       "      <th></th>\n",
       "      <th>title</th>\n",
       "      <th>price</th>\n",
       "      <th>manufacturer</th>\n",
       "      <th>model_name</th>\n",
       "      <th>cpu_model</th>\n",
       "      <th>processor</th>\n",
       "      <th>graphics_copressor</th>\n",
       "      <th>ram</th>\n",
       "      <th>storage</th>\n",
       "      <th>operating_system</th>\n",
       "      <th>num_processors</th>\n",
       "      <th>processor_brand</th>\n",
       "      <th>touchable</th>\n",
       "      <th>ips</th>\n",
       "      <th>ppi</th>\n",
       "      <th>cpu_name</th>\n",
       "      <th>storage_range_category</th>\n",
       "      <th>ssd</th>\n",
       "      <th>emmc</th>\n",
       "    </tr>\n",
       "  </thead>\n",
       "  <tbody>\n",
       "    <tr>\n",
       "      <th>509</th>\n",
       "      <td>Dell XPS 13 9320 Laptop - 13.4-inch OLED 3.5K ...</td>\n",
       "      <td>2177.0</td>\n",
       "      <td>Dell</td>\n",
       "      <td>Dell XPS 13 9320 Laptop</td>\n",
       "      <td>Intel Core i7</td>\n",
       "      <td>_5 GHz core_i7_family</td>\n",
       "      <td>Intel</td>\n",
       "      <td>16</td>\n",
       "      <td>512 GB SSD</td>\n",
       "      <td>Windows 11 Home</td>\n",
       "      <td>12</td>\n",
       "      <td>Intel</td>\n",
       "      <td>1</td>\n",
       "      <td>0</td>\n",
       "      <td>304.140287</td>\n",
       "      <td>Intel Core i7</td>\n",
       "      <td>512 GB SSD</td>\n",
       "      <td>0</td>\n",
       "      <td>0</td>\n",
       "    </tr>\n",
       "    <tr>\n",
       "      <th>857</th>\n",
       "      <td>HP Stream 14'' HD Laptop, Intel Celeron N4020 ...</td>\n",
       "      <td>399.0</td>\n",
       "      <td>HP</td>\n",
       "      <td>Stream</td>\n",
       "      <td>Intel Celeron</td>\n",
       "      <td>_1.1 GHz celeron_n</td>\n",
       "      <td>Intel</td>\n",
       "      <td>8</td>\n",
       "      <td>64 GB Emmc</td>\n",
       "      <td>Windows 11</td>\n",
       "      <td>2</td>\n",
       "      <td>Intel</td>\n",
       "      <td>0</td>\n",
       "      <td>0</td>\n",
       "      <td>111.935204</td>\n",
       "      <td>Intel Celeron</td>\n",
       "      <td>64 GB Emmc or Above</td>\n",
       "      <td>0</td>\n",
       "      <td>0</td>\n",
       "    </tr>\n",
       "    <tr>\n",
       "      <th>129</th>\n",
       "      <td>2023 Acer Nitro 5 Gaming Laptop 15.6\" FHD 144H...</td>\n",
       "      <td>1579.0</td>\n",
       "      <td>Acer</td>\n",
       "      <td>AN515-55-57C4</td>\n",
       "      <td>Intel Core i5</td>\n",
       "      <td>_2.5 GHz core_i5_family</td>\n",
       "      <td>NVIDIA</td>\n",
       "      <td>16</td>\n",
       "      <td>512 GB SSD</td>\n",
       "      <td>Windows 11 Home</td>\n",
       "      <td>4</td>\n",
       "      <td>Intel</td>\n",
       "      <td>0</td>\n",
       "      <td>1</td>\n",
       "      <td>141.211998</td>\n",
       "      <td>Intel Core i5</td>\n",
       "      <td>512 GB SSD</td>\n",
       "      <td>0</td>\n",
       "      <td>0</td>\n",
       "    </tr>\n",
       "    <tr>\n",
       "      <th>393</th>\n",
       "      <td>Apple 2023 MacBook Pro Laptop M3 Pro chip with...</td>\n",
       "      <td>3249.0</td>\n",
       "      <td>Apple</td>\n",
       "      <td>MacBook Pro</td>\n",
       "      <td>M3 Pro</td>\n",
       "      <td>12</td>\n",
       "      <td>Mac</td>\n",
       "      <td>18</td>\n",
       "      <td>1024 GB SSD</td>\n",
       "      <td>Mac OS</td>\n",
       "      <td>12</td>\n",
       "      <td>Apple</td>\n",
       "      <td>0</td>\n",
       "      <td>0</td>\n",
       "      <td>253.930343</td>\n",
       "      <td>Mac Processor</td>\n",
       "      <td>1024 GB SSD</td>\n",
       "      <td>0</td>\n",
       "      <td>0</td>\n",
       "    </tr>\n",
       "    <tr>\n",
       "      <th>470</th>\n",
       "      <td>Microsoft DAJ-00002 Surface Laptop (1st Gen) L...</td>\n",
       "      <td>2034.0</td>\n",
       "      <td>Microsoft</td>\n",
       "      <td>Surface Laptop</td>\n",
       "      <td>Intel Core i7</td>\n",
       "      <td>_4 GHz core_i7</td>\n",
       "      <td>Intel</td>\n",
       "      <td>8</td>\n",
       "      <td>256 GB SSD</td>\n",
       "      <td>Windows 10</td>\n",
       "      <td>2</td>\n",
       "      <td>Intel</td>\n",
       "      <td>0</td>\n",
       "      <td>0</td>\n",
       "      <td>200.842560</td>\n",
       "      <td>Intel Core i7</td>\n",
       "      <td>256 GB SSD</td>\n",
       "      <td>0</td>\n",
       "      <td>0</td>\n",
       "    </tr>\n",
       "    <tr>\n",
       "      <th>975</th>\n",
       "      <td>Acer Swift 3 13.5\" QHD (2256 x 1504) Business ...</td>\n",
       "      <td>899.0</td>\n",
       "      <td>Acer</td>\n",
       "      <td>NaN</td>\n",
       "      <td>Intel Core i7</td>\n",
       "      <td>_2.5 GHz core_i7</td>\n",
       "      <td>Intel</td>\n",
       "      <td>16</td>\n",
       "      <td>512 GB SSD</td>\n",
       "      <td>Windows 10 Home</td>\n",
       "      <td>14</td>\n",
       "      <td>Intel</td>\n",
       "      <td>0</td>\n",
       "      <td>0</td>\n",
       "      <td>193.669611</td>\n",
       "      <td>Intel Core i7</td>\n",
       "      <td>512 GB SSD</td>\n",
       "      <td>0</td>\n",
       "      <td>0</td>\n",
       "    </tr>\n",
       "    <tr>\n",
       "      <th>261</th>\n",
       "      <td>Acer Nitro 5 AN517-54-79L1 Gaming Laptop | Int...</td>\n",
       "      <td>1759.0</td>\n",
       "      <td>Acer</td>\n",
       "      <td>NaN</td>\n",
       "      <td>Intel Core i7</td>\n",
       "      <td>_4.6 GHz</td>\n",
       "      <td>NVIDIA</td>\n",
       "      <td>16</td>\n",
       "      <td>1024 GB SSD</td>\n",
       "      <td>Windows 11 Home</td>\n",
       "      <td>8</td>\n",
       "      <td>Intel</td>\n",
       "      <td>0</td>\n",
       "      <td>1</td>\n",
       "      <td>127.335675</td>\n",
       "      <td>Intel Core i7</td>\n",
       "      <td>1024 GB SSD</td>\n",
       "      <td>0</td>\n",
       "      <td>0</td>\n",
       "    </tr>\n",
       "    <tr>\n",
       "      <th>608</th>\n",
       "      <td>ASUS VivoBook 15 15.6\" FHD Laptop, Intel Core ...</td>\n",
       "      <td>1159.0</td>\n",
       "      <td>Asus</td>\n",
       "      <td>VivoBook</td>\n",
       "      <td>Intel Core i5</td>\n",
       "      <td>_1.7 GHz core_i5</td>\n",
       "      <td>Intel</td>\n",
       "      <td>40</td>\n",
       "      <td>1024 GB SSD</td>\n",
       "      <td>_Windows 11 Home</td>\n",
       "      <td>12</td>\n",
       "      <td>_Intel</td>\n",
       "      <td>0</td>\n",
       "      <td>0</td>\n",
       "      <td>141.211998</td>\n",
       "      <td>Intel Core i5</td>\n",
       "      <td>1024 GB SSD</td>\n",
       "      <td>0</td>\n",
       "      <td>0</td>\n",
       "    </tr>\n",
       "    <tr>\n",
       "      <th>593</th>\n",
       "      <td>ASUS VivoBook 15.6\" Touchscreen FHD Laptop, 12...</td>\n",
       "      <td>999.0</td>\n",
       "      <td>Asus</td>\n",
       "      <td>VivoBook</td>\n",
       "      <td>Intel Core i7</td>\n",
       "      <td>NaN</td>\n",
       "      <td>Intel</td>\n",
       "      <td>16</td>\n",
       "      <td>1024 GB SSD</td>\n",
       "      <td>_Windows 11 Pro</td>\n",
       "      <td>12</td>\n",
       "      <td>_Intel</td>\n",
       "      <td>1</td>\n",
       "      <td>0</td>\n",
       "      <td>143.980861</td>\n",
       "      <td>Intel Core i7</td>\n",
       "      <td>1024 GB SSD</td>\n",
       "      <td>0</td>\n",
       "      <td>0</td>\n",
       "    </tr>\n",
       "    <tr>\n",
       "      <th>84</th>\n",
       "      <td>Acer Predator Helios Gaming Laptop, 16\" 240Hz ...</td>\n",
       "      <td>3324.0</td>\n",
       "      <td>Acer</td>\n",
       "      <td>Predator</td>\n",
       "      <td>Intel Core i9</td>\n",
       "      <td>_3.9 GHz core_i9</td>\n",
       "      <td>NVIDIA</td>\n",
       "      <td>32</td>\n",
       "      <td>1024 GB SSD</td>\n",
       "      <td>Windows 11 Pro</td>\n",
       "      <td>24</td>\n",
       "      <td>Intel</td>\n",
       "      <td>0</td>\n",
       "      <td>0</td>\n",
       "      <td>188.679623</td>\n",
       "      <td>Intel Core i9</td>\n",
       "      <td>1024 GB SSD</td>\n",
       "      <td>0</td>\n",
       "      <td>0</td>\n",
       "    </tr>\n",
       "  </tbody>\n",
       "</table>\n",
       "</div>"
      ],
      "text/plain": [
       "                                                 title   price manufacturer  \\\n",
       "509  Dell XPS 13 9320 Laptop - 13.4-inch OLED 3.5K ...  2177.0         Dell   \n",
       "857  HP Stream 14'' HD Laptop, Intel Celeron N4020 ...   399.0           HP   \n",
       "129  2023 Acer Nitro 5 Gaming Laptop 15.6\" FHD 144H...  1579.0         Acer   \n",
       "393  Apple 2023 MacBook Pro Laptop M3 Pro chip with...  3249.0        Apple   \n",
       "470  Microsoft DAJ-00002 Surface Laptop (1st Gen) L...  2034.0    Microsoft   \n",
       "975  Acer Swift 3 13.5\" QHD (2256 x 1504) Business ...   899.0         Acer   \n",
       "261  Acer Nitro 5 AN517-54-79L1 Gaming Laptop | Int...  1759.0         Acer   \n",
       "608  ASUS VivoBook 15 15.6\" FHD Laptop, Intel Core ...  1159.0         Asus   \n",
       "593  ASUS VivoBook 15.6\" Touchscreen FHD Laptop, 12...   999.0         Asus   \n",
       "84   Acer Predator Helios Gaming Laptop, 16\" 240Hz ...  3324.0         Acer   \n",
       "\n",
       "                  model_name      cpu_model                processor  \\\n",
       "509  Dell XPS 13 9320 Laptop  Intel Core i7    _5 GHz core_i7_family   \n",
       "857                   Stream  Intel Celeron       _1.1 GHz celeron_n   \n",
       "129            AN515-55-57C4  Intel Core i5  _2.5 GHz core_i5_family   \n",
       "393              MacBook Pro         M3 Pro                       12   \n",
       "470           Surface Laptop  Intel Core i7           _4 GHz core_i7   \n",
       "975                      NaN  Intel Core i7         _2.5 GHz core_i7   \n",
       "261                      NaN  Intel Core i7                 _4.6 GHz   \n",
       "608                 VivoBook  Intel Core i5         _1.7 GHz core_i5   \n",
       "593                 VivoBook  Intel Core i7                      NaN   \n",
       "84                  Predator  Intel Core i9         _3.9 GHz core_i9   \n",
       "\n",
       "    graphics_copressor  ram      storage  operating_system  num_processors  \\\n",
       "509              Intel   16   512 GB SSD   Windows 11 Home              12   \n",
       "857              Intel    8   64 GB Emmc        Windows 11               2   \n",
       "129             NVIDIA   16   512 GB SSD   Windows 11 Home               4   \n",
       "393                Mac   18  1024 GB SSD            Mac OS              12   \n",
       "470              Intel    8   256 GB SSD        Windows 10               2   \n",
       "975              Intel   16   512 GB SSD   Windows 10 Home              14   \n",
       "261             NVIDIA   16  1024 GB SSD   Windows 11 Home               8   \n",
       "608              Intel   40  1024 GB SSD  _Windows 11 Home              12   \n",
       "593              Intel   16  1024 GB SSD   _Windows 11 Pro              12   \n",
       "84              NVIDIA   32  1024 GB SSD    Windows 11 Pro              24   \n",
       "\n",
       "    processor_brand  touchable  ips         ppi       cpu_name  \\\n",
       "509           Intel          1    0  304.140287  Intel Core i7   \n",
       "857           Intel          0    0  111.935204  Intel Celeron   \n",
       "129           Intel          0    1  141.211998  Intel Core i5   \n",
       "393           Apple          0    0  253.930343  Mac Processor   \n",
       "470           Intel          0    0  200.842560  Intel Core i7   \n",
       "975           Intel          0    0  193.669611  Intel Core i7   \n",
       "261           Intel          0    1  127.335675  Intel Core i7   \n",
       "608          _Intel          0    0  141.211998  Intel Core i5   \n",
       "593          _Intel          1    0  143.980861  Intel Core i7   \n",
       "84            Intel          0    0  188.679623  Intel Core i9   \n",
       "\n",
       "    storage_range_category  ssd  emmc  \n",
       "509             512 GB SSD    0     0  \n",
       "857    64 GB Emmc or Above    0     0  \n",
       "129             512 GB SSD    0     0  \n",
       "393            1024 GB SSD    0     0  \n",
       "470             256 GB SSD    0     0  \n",
       "975             512 GB SSD    0     0  \n",
       "261            1024 GB SSD    0     0  \n",
       "608            1024 GB SSD    0     0  \n",
       "593            1024 GB SSD    0     0  \n",
       "84             1024 GB SSD    0     0  "
      ]
     },
     "execution_count": 77,
     "metadata": {},
     "output_type": "execute_result"
    }
   ],
   "source": [
    "cleaned_df.sample(10)"
   ]
  },
  {
   "cell_type": "code",
   "execution_count": 78,
   "id": "654be9bc",
   "metadata": {},
   "outputs": [],
   "source": [
    "cleaned_df.loc[cleaned_df['storage_range_category'].str.contains('SSD'), 'ssd'] = cleaned_df['storage_range_category'].str.extract(r'(\\d+\\.?\\d*)')[0].astype(float)\n",
    "cleaned_df.loc[cleaned_df['storage_range_category'].str.contains('Emmc'), 'emmc'] = cleaned_df['storage_range_category'].str.extract(r'(\\d+\\.?\\d*)')[0].astype(float)"
   ]
  },
  {
   "cell_type": "code",
   "execution_count": 79,
   "id": "e3a95650",
   "metadata": {},
   "outputs": [
    {
     "data": {
      "text/html": [
       "<div>\n",
       "<style scoped>\n",
       "    .dataframe tbody tr th:only-of-type {\n",
       "        vertical-align: middle;\n",
       "    }\n",
       "\n",
       "    .dataframe tbody tr th {\n",
       "        vertical-align: top;\n",
       "    }\n",
       "\n",
       "    .dataframe thead th {\n",
       "        text-align: right;\n",
       "    }\n",
       "</style>\n",
       "<table border=\"1\" class=\"dataframe\">\n",
       "  <thead>\n",
       "    <tr style=\"text-align: right;\">\n",
       "      <th></th>\n",
       "      <th>title</th>\n",
       "      <th>price</th>\n",
       "      <th>manufacturer</th>\n",
       "      <th>model_name</th>\n",
       "      <th>cpu_model</th>\n",
       "      <th>processor</th>\n",
       "      <th>graphics_copressor</th>\n",
       "      <th>ram</th>\n",
       "      <th>storage</th>\n",
       "      <th>operating_system</th>\n",
       "      <th>num_processors</th>\n",
       "      <th>processor_brand</th>\n",
       "      <th>touchable</th>\n",
       "      <th>ips</th>\n",
       "      <th>ppi</th>\n",
       "      <th>cpu_name</th>\n",
       "      <th>storage_range_category</th>\n",
       "      <th>ssd</th>\n",
       "      <th>emmc</th>\n",
       "    </tr>\n",
       "  </thead>\n",
       "  <tbody>\n",
       "    <tr>\n",
       "      <th>211</th>\n",
       "      <td>Acer Nitro 17 Gaming Laptop 2023 17.3Ã WQXGA ...</td>\n",
       "      <td>2631.0</td>\n",
       "      <td>Acer</td>\n",
       "      <td>Nitro 17</td>\n",
       "      <td>AMD Ryzen 7</td>\n",
       "      <td>_2.8 GHz ryzen_7</td>\n",
       "      <td>NVIDIA</td>\n",
       "      <td>48</td>\n",
       "      <td>2048 GB SSD</td>\n",
       "      <td>Windows 10 Home</td>\n",
       "      <td>8</td>\n",
       "      <td>AMD</td>\n",
       "      <td>0</td>\n",
       "      <td>1</td>\n",
       "      <td>174.501385</td>\n",
       "      <td>AMD Ryzen 7</td>\n",
       "      <td>2048 GB SSD</td>\n",
       "      <td>2048</td>\n",
       "      <td>0</td>\n",
       "    </tr>\n",
       "    <tr>\n",
       "      <th>14</th>\n",
       "      <td>LENOVO IdeaPad Gaming 3 15.6\" FHD Laptop, AMD ...</td>\n",
       "      <td>1439.0</td>\n",
       "      <td>Lenovo</td>\n",
       "      <td>IdeaPad</td>\n",
       "      <td>AMD Ryzen 5</td>\n",
       "      <td>_3.3 GHz ryzen_5</td>\n",
       "      <td>NVIDIA</td>\n",
       "      <td>64</td>\n",
       "      <td>4096 GB SSD</td>\n",
       "      <td>Windows 11 Pro</td>\n",
       "      <td>6</td>\n",
       "      <td>AMD</td>\n",
       "      <td>0</td>\n",
       "      <td>0</td>\n",
       "      <td>141.211998</td>\n",
       "      <td>AMD Ryzen 5</td>\n",
       "      <td>3072 GB SSD or Above</td>\n",
       "      <td>3072</td>\n",
       "      <td>0</td>\n",
       "    </tr>\n",
       "    <tr>\n",
       "      <th>856</th>\n",
       "      <td>HP Portable Laptop, Student and Business, 14\" ...</td>\n",
       "      <td>339.0</td>\n",
       "      <td>HP</td>\n",
       "      <td>NaN</td>\n",
       "      <td>Intel Celeron</td>\n",
       "      <td>_1.1 GHz celeron</td>\n",
       "      <td>Intel</td>\n",
       "      <td>4</td>\n",
       "      <td>64 GB Emmc</td>\n",
       "      <td>Windows 11 Home</td>\n",
       "      <td>2</td>\n",
       "      <td>Intel</td>\n",
       "      <td>0</td>\n",
       "      <td>0</td>\n",
       "      <td>111.935204</td>\n",
       "      <td>Intel Celeron</td>\n",
       "      <td>64 GB Emmc or Above</td>\n",
       "      <td>0</td>\n",
       "      <td>64</td>\n",
       "    </tr>\n",
       "    <tr>\n",
       "      <th>531</th>\n",
       "      <td>2023 Acer Aspire 5 15.6Ã FHD IPS Laptop 8-Cor...</td>\n",
       "      <td>835.0</td>\n",
       "      <td>Acer</td>\n",
       "      <td>Aspire 5 15</td>\n",
       "      <td>Intel Core i5</td>\n",
       "      <td>_2.1 GHz core_i5_family</td>\n",
       "      <td>Intel</td>\n",
       "      <td>16</td>\n",
       "      <td>512 GB SSD</td>\n",
       "      <td>Windows 11 Home</td>\n",
       "      <td>8</td>\n",
       "      <td>Intel</td>\n",
       "      <td>0</td>\n",
       "      <td>1</td>\n",
       "      <td>141.211998</td>\n",
       "      <td>Intel Core i5</td>\n",
       "      <td>512 GB SSD</td>\n",
       "      <td>512</td>\n",
       "      <td>0</td>\n",
       "    </tr>\n",
       "    <tr>\n",
       "      <th>237</th>\n",
       "      <td>ASUS TUF Gaming Laptop 2023-15.6\" FHD NVIDIA G...</td>\n",
       "      <td>2023.0</td>\n",
       "      <td>Asus</td>\n",
       "      <td>TUF FX507</td>\n",
       "      <td>Intel Core i7</td>\n",
       "      <td>_2.4 GHz core_i7_family</td>\n",
       "      <td>NVIDIA</td>\n",
       "      <td>32</td>\n",
       "      <td>1024 GB SSD</td>\n",
       "      <td>_Windows 10 Home</td>\n",
       "      <td>14</td>\n",
       "      <td>_Intel</td>\n",
       "      <td>0</td>\n",
       "      <td>0</td>\n",
       "      <td>141.211998</td>\n",
       "      <td>Intel Core i7</td>\n",
       "      <td>1024 GB SSD</td>\n",
       "      <td>1024</td>\n",
       "      <td>0</td>\n",
       "    </tr>\n",
       "    <tr>\n",
       "      <th>262</th>\n",
       "      <td>HP Envy 17 inch Laptop, FHD Display, 13th Gene...</td>\n",
       "      <td>1673.0</td>\n",
       "      <td>HP</td>\n",
       "      <td>HP ENVY 17.3 inch Laptop PC 17-cr1000ca</td>\n",
       "      <td>Intel Core i7</td>\n",
       "      <td>_5 GHz core_i7</td>\n",
       "      <td>NVIDIA</td>\n",
       "      <td>16</td>\n",
       "      <td>1024 GB SSD</td>\n",
       "      <td>Windows 11 Home</td>\n",
       "      <td>10</td>\n",
       "      <td>Intel</td>\n",
       "      <td>0</td>\n",
       "      <td>0</td>\n",
       "      <td>127.335675</td>\n",
       "      <td>Intel Core i7</td>\n",
       "      <td>1024 GB SSD</td>\n",
       "      <td>1024</td>\n",
       "      <td>0</td>\n",
       "    </tr>\n",
       "    <tr>\n",
       "      <th>895</th>\n",
       "      <td>Lenovo Ideapad 3i 15.6\" FHD Touchscreen Laptop...</td>\n",
       "      <td>679.0</td>\n",
       "      <td>Lenovo</td>\n",
       "      <td>NaN</td>\n",
       "      <td>Intel Core i3</td>\n",
       "      <td>_1.7 GHz core_i3</td>\n",
       "      <td>Intel</td>\n",
       "      <td>16</td>\n",
       "      <td>1024 GB SSD</td>\n",
       "      <td>Windows 11</td>\n",
       "      <td>2</td>\n",
       "      <td>Intel</td>\n",
       "      <td>1</td>\n",
       "      <td>0</td>\n",
       "      <td>141.211998</td>\n",
       "      <td>Intel Core i3</td>\n",
       "      <td>1024 GB SSD</td>\n",
       "      <td>1024</td>\n",
       "      <td>0</td>\n",
       "    </tr>\n",
       "    <tr>\n",
       "      <th>1002</th>\n",
       "      <td>Microsoft Surface Laptop 5 13I5/16/512CM WIN11...</td>\n",
       "      <td>2126.0</td>\n",
       "      <td>Microsoft</td>\n",
       "      <td>Surface</td>\n",
       "      <td>Intel Core i5</td>\n",
       "      <td>NaN</td>\n",
       "      <td>Intel</td>\n",
       "      <td>16</td>\n",
       "      <td>512 GB SSD</td>\n",
       "      <td>Windows 11</td>\n",
       "      <td>6</td>\n",
       "      <td>Intel</td>\n",
       "      <td>0</td>\n",
       "      <td>0</td>\n",
       "      <td>221.976027</td>\n",
       "      <td>Intel Core i5</td>\n",
       "      <td>512 GB SSD</td>\n",
       "      <td>512</td>\n",
       "      <td>0</td>\n",
       "    </tr>\n",
       "    <tr>\n",
       "      <th>1155</th>\n",
       "      <td>Lenovo ThinkPad E14 G3 14\" FHD Business Laptop...</td>\n",
       "      <td>1099.0</td>\n",
       "      <td>Lenovo</td>\n",
       "      <td>ThinkPad</td>\n",
       "      <td>AMD Ryzen 7</td>\n",
       "      <td>_1.8 GHz ryzen_7</td>\n",
       "      <td>AMD</td>\n",
       "      <td>16</td>\n",
       "      <td>512 GB SSD</td>\n",
       "      <td>Windows 10 Pro</td>\n",
       "      <td>8</td>\n",
       "      <td>AMD</td>\n",
       "      <td>0</td>\n",
       "      <td>0</td>\n",
       "      <td>157.350512</td>\n",
       "      <td>AMD Ryzen 7</td>\n",
       "      <td>512 GB SSD</td>\n",
       "      <td>512</td>\n",
       "      <td>0</td>\n",
       "    </tr>\n",
       "    <tr>\n",
       "      <th>809</th>\n",
       "      <td>HP 15.6\" FHD Laptop, Intel Core i3-1215U, 32GB...</td>\n",
       "      <td>759.0</td>\n",
       "      <td>HP</td>\n",
       "      <td>NaN</td>\n",
       "      <td>Intel Core i3</td>\n",
       "      <td>_1.2 GHz core_i3</td>\n",
       "      <td>Intel</td>\n",
       "      <td>32</td>\n",
       "      <td>1024 GB SSD</td>\n",
       "      <td>Windows 11 Pro</td>\n",
       "      <td>6</td>\n",
       "      <td>Intel</td>\n",
       "      <td>0</td>\n",
       "      <td>0</td>\n",
       "      <td>141.211998</td>\n",
       "      <td>Intel Core i3</td>\n",
       "      <td>1024 GB SSD</td>\n",
       "      <td>1024</td>\n",
       "      <td>0</td>\n",
       "    </tr>\n",
       "  </tbody>\n",
       "</table>\n",
       "</div>"
      ],
      "text/plain": [
       "                                                  title   price manufacturer  \\\n",
       "211   Acer Nitro 17 Gaming Laptop 2023 17.3Ã WQXGA ...  2631.0         Acer   \n",
       "14    LENOVO IdeaPad Gaming 3 15.6\" FHD Laptop, AMD ...  1439.0       Lenovo   \n",
       "856   HP Portable Laptop, Student and Business, 14\" ...   339.0           HP   \n",
       "531   2023 Acer Aspire 5 15.6Ã FHD IPS Laptop 8-Cor...   835.0         Acer   \n",
       "237   ASUS TUF Gaming Laptop 2023-15.6\" FHD NVIDIA G...  2023.0         Asus   \n",
       "262   HP Envy 17 inch Laptop, FHD Display, 13th Gene...  1673.0           HP   \n",
       "895   Lenovo Ideapad 3i 15.6\" FHD Touchscreen Laptop...   679.0       Lenovo   \n",
       "1002  Microsoft Surface Laptop 5 13I5/16/512CM WIN11...  2126.0    Microsoft   \n",
       "1155  Lenovo ThinkPad E14 G3 14\" FHD Business Laptop...  1099.0       Lenovo   \n",
       "809   HP 15.6\" FHD Laptop, Intel Core i3-1215U, 32GB...   759.0           HP   \n",
       "\n",
       "                                   model_name      cpu_model  \\\n",
       "211                                  Nitro 17    AMD Ryzen 7   \n",
       "14                                    IdeaPad    AMD Ryzen 5   \n",
       "856                                       NaN  Intel Celeron   \n",
       "531                               Aspire 5 15  Intel Core i5   \n",
       "237                                 TUF FX507  Intel Core i7   \n",
       "262   HP ENVY 17.3 inch Laptop PC 17-cr1000ca  Intel Core i7   \n",
       "895                                       NaN  Intel Core i3   \n",
       "1002                                  Surface  Intel Core i5   \n",
       "1155                                 ThinkPad    AMD Ryzen 7   \n",
       "809                                       NaN  Intel Core i3   \n",
       "\n",
       "                    processor graphics_copressor  ram      storage  \\\n",
       "211          _2.8 GHz ryzen_7             NVIDIA   48  2048 GB SSD   \n",
       "14           _3.3 GHz ryzen_5             NVIDIA   64  4096 GB SSD   \n",
       "856          _1.1 GHz celeron              Intel    4   64 GB Emmc   \n",
       "531   _2.1 GHz core_i5_family              Intel   16   512 GB SSD   \n",
       "237   _2.4 GHz core_i7_family             NVIDIA   32  1024 GB SSD   \n",
       "262            _5 GHz core_i7             NVIDIA   16  1024 GB SSD   \n",
       "895          _1.7 GHz core_i3              Intel   16  1024 GB SSD   \n",
       "1002                      NaN              Intel   16   512 GB SSD   \n",
       "1155         _1.8 GHz ryzen_7                AMD   16   512 GB SSD   \n",
       "809          _1.2 GHz core_i3              Intel   32  1024 GB SSD   \n",
       "\n",
       "      operating_system  num_processors processor_brand  touchable  ips  \\\n",
       "211    Windows 10 Home               8             AMD          0    1   \n",
       "14      Windows 11 Pro               6             AMD          0    0   \n",
       "856    Windows 11 Home               2           Intel          0    0   \n",
       "531    Windows 11 Home               8           Intel          0    1   \n",
       "237   _Windows 10 Home              14          _Intel          0    0   \n",
       "262    Windows 11 Home              10           Intel          0    0   \n",
       "895         Windows 11               2           Intel          1    0   \n",
       "1002        Windows 11               6           Intel          0    0   \n",
       "1155    Windows 10 Pro               8             AMD          0    0   \n",
       "809     Windows 11 Pro               6           Intel          0    0   \n",
       "\n",
       "             ppi       cpu_name storage_range_category   ssd  emmc  \n",
       "211   174.501385    AMD Ryzen 7            2048 GB SSD  2048     0  \n",
       "14    141.211998    AMD Ryzen 5   3072 GB SSD or Above  3072     0  \n",
       "856   111.935204  Intel Celeron    64 GB Emmc or Above     0    64  \n",
       "531   141.211998  Intel Core i5             512 GB SSD   512     0  \n",
       "237   141.211998  Intel Core i7            1024 GB SSD  1024     0  \n",
       "262   127.335675  Intel Core i7            1024 GB SSD  1024     0  \n",
       "895   141.211998  Intel Core i3            1024 GB SSD  1024     0  \n",
       "1002  221.976027  Intel Core i5             512 GB SSD   512     0  \n",
       "1155  157.350512    AMD Ryzen 7             512 GB SSD   512     0  \n",
       "809   141.211998  Intel Core i3            1024 GB SSD  1024     0  "
      ]
     },
     "execution_count": 79,
     "metadata": {},
     "output_type": "execute_result"
    }
   ],
   "source": [
    "cleaned_df.sample(10)"
   ]
  },
  {
   "cell_type": "code",
   "execution_count": 80,
   "id": "e2399e7b",
   "metadata": {},
   "outputs": [
    {
     "data": {
      "text/plain": [
       "price             1.000000\n",
       "ram               0.505469\n",
       "num_processors    0.596594\n",
       "touchable        -0.022500\n",
       "ips               0.139814\n",
       "ppi               0.507826\n",
       "ssd               0.530217\n",
       "emmc             -0.310854\n",
       "Name: price, dtype: float64"
      ]
     },
     "execution_count": 80,
     "metadata": {},
     "output_type": "execute_result"
    }
   ],
   "source": [
    "# Analysis for SDD & Emmc\n",
    "cleaned_df.corr()['price']"
   ]
  },
  {
   "cell_type": "code",
   "execution_count": 81,
   "id": "c3f3977f",
   "metadata": {},
   "outputs": [],
   "source": [
    "cleaned_df['memory'] = cleaned_df[['ssd', 'emmc']].sum(axis=1)"
   ]
  },
  {
   "cell_type": "code",
   "execution_count": 82,
   "id": "f47adb42",
   "metadata": {},
   "outputs": [
    {
     "data": {
      "text/html": [
       "<div>\n",
       "<style scoped>\n",
       "    .dataframe tbody tr th:only-of-type {\n",
       "        vertical-align: middle;\n",
       "    }\n",
       "\n",
       "    .dataframe tbody tr th {\n",
       "        vertical-align: top;\n",
       "    }\n",
       "\n",
       "    .dataframe thead th {\n",
       "        text-align: right;\n",
       "    }\n",
       "</style>\n",
       "<table border=\"1\" class=\"dataframe\">\n",
       "  <thead>\n",
       "    <tr style=\"text-align: right;\">\n",
       "      <th></th>\n",
       "      <th>title</th>\n",
       "      <th>price</th>\n",
       "      <th>manufacturer</th>\n",
       "      <th>model_name</th>\n",
       "      <th>cpu_model</th>\n",
       "      <th>processor</th>\n",
       "      <th>graphics_copressor</th>\n",
       "      <th>ram</th>\n",
       "      <th>storage</th>\n",
       "      <th>operating_system</th>\n",
       "      <th>num_processors</th>\n",
       "      <th>processor_brand</th>\n",
       "      <th>touchable</th>\n",
       "      <th>ips</th>\n",
       "      <th>ppi</th>\n",
       "      <th>cpu_name</th>\n",
       "      <th>storage_range_category</th>\n",
       "      <th>ssd</th>\n",
       "      <th>emmc</th>\n",
       "      <th>memory</th>\n",
       "    </tr>\n",
       "  </thead>\n",
       "  <tbody>\n",
       "    <tr>\n",
       "      <th>264</th>\n",
       "      <td>Acer Nitro 5 17.3\" FHD 144Hz Gaming Laptop, In...</td>\n",
       "      <td>1449.0</td>\n",
       "      <td>Acer</td>\n",
       "      <td>Acer Nitro 5</td>\n",
       "      <td>Intel Core i5</td>\n",
       "      <td>_2.5 GHz core_i5</td>\n",
       "      <td>NVIDIA</td>\n",
       "      <td>16</td>\n",
       "      <td>1024 GB SSD</td>\n",
       "      <td>Windows 11 Pro</td>\n",
       "      <td>12</td>\n",
       "      <td>Intel</td>\n",
       "      <td>0</td>\n",
       "      <td>0</td>\n",
       "      <td>127.335675</td>\n",
       "      <td>Intel Core i5</td>\n",
       "      <td>1024 GB SSD</td>\n",
       "      <td>1024</td>\n",
       "      <td>0</td>\n",
       "      <td>1024</td>\n",
       "    </tr>\n",
       "    <tr>\n",
       "      <th>682</th>\n",
       "      <td>HP Stream 14\" HD BrightView Laptop, Intel Cele...</td>\n",
       "      <td>419.0</td>\n",
       "      <td>HP</td>\n",
       "      <td>Stream</td>\n",
       "      <td>Intel Celeron</td>\n",
       "      <td>_1.1 GHz celeron_n</td>\n",
       "      <td>Intel</td>\n",
       "      <td>8</td>\n",
       "      <td>64 GB SSD</td>\n",
       "      <td>Windows 11</td>\n",
       "      <td>2</td>\n",
       "      <td>Intel</td>\n",
       "      <td>0</td>\n",
       "      <td>0</td>\n",
       "      <td>111.935204</td>\n",
       "      <td>Intel Celeron</td>\n",
       "      <td>128 GB SSD or Below</td>\n",
       "      <td>128</td>\n",
       "      <td>0</td>\n",
       "      <td>128</td>\n",
       "    </tr>\n",
       "    <tr>\n",
       "      <th>910</th>\n",
       "      <td>Lenovo Thinkpad X1 Nano 13.3\" 2K Business Lapt...</td>\n",
       "      <td>1319.0</td>\n",
       "      <td>Lenovo</td>\n",
       "      <td>ThinkPad</td>\n",
       "      <td>Intel Core i7</td>\n",
       "      <td>_2.7 GHz core_i7</td>\n",
       "      <td>Intel</td>\n",
       "      <td>16</td>\n",
       "      <td>512 GB SSD</td>\n",
       "      <td>Windows 11 Pro</td>\n",
       "      <td>4</td>\n",
       "      <td>Intel</td>\n",
       "      <td>0</td>\n",
       "      <td>0</td>\n",
       "      <td>331.264236</td>\n",
       "      <td>Intel Core i7</td>\n",
       "      <td>512 GB SSD</td>\n",
       "      <td>512</td>\n",
       "      <td>0</td>\n",
       "      <td>512</td>\n",
       "    </tr>\n",
       "    <tr>\n",
       "      <th>381</th>\n",
       "      <td>Apple 2023 MacBook Air Laptop with M2 chip: 15...</td>\n",
       "      <td>1299.0</td>\n",
       "      <td>Apple</td>\n",
       "      <td>MacBook Air</td>\n",
       "      <td>M2</td>\n",
       "      <td>8</td>\n",
       "      <td>Mac</td>\n",
       "      <td>8</td>\n",
       "      <td>256 GB SSD</td>\n",
       "      <td>Mac OS</td>\n",
       "      <td>8</td>\n",
       "      <td>Apple</td>\n",
       "      <td>0</td>\n",
       "      <td>0</td>\n",
       "      <td>224.221076</td>\n",
       "      <td>Mac Processor</td>\n",
       "      <td>256 GB SSD</td>\n",
       "      <td>256</td>\n",
       "      <td>0</td>\n",
       "      <td>256</td>\n",
       "    </tr>\n",
       "    <tr>\n",
       "      <th>1248</th>\n",
       "      <td>Lenovo 14w Gen 2 14\" FHD Laptop - AMD 3015e, 4...</td>\n",
       "      <td>268.0</td>\n",
       "      <td>Lenovo</td>\n",
       "      <td>Lenovo 14w Gen 2</td>\n",
       "      <td>AMD</td>\n",
       "      <td>_2.3 GHz</td>\n",
       "      <td>AMD</td>\n",
       "      <td>16</td>\n",
       "      <td>128 GB SSD</td>\n",
       "      <td>Windows 11 Pro</td>\n",
       "      <td>1</td>\n",
       "      <td>AMD</td>\n",
       "      <td>0</td>\n",
       "      <td>0</td>\n",
       "      <td>157.350512</td>\n",
       "      <td>Other AMD Processor</td>\n",
       "      <td>128 GB SSD or Below</td>\n",
       "      <td>128</td>\n",
       "      <td>0</td>\n",
       "      <td>128</td>\n",
       "    </tr>\n",
       "  </tbody>\n",
       "</table>\n",
       "</div>"
      ],
      "text/plain": [
       "                                                  title   price manufacturer  \\\n",
       "264   Acer Nitro 5 17.3\" FHD 144Hz Gaming Laptop, In...  1449.0         Acer   \n",
       "682   HP Stream 14\" HD BrightView Laptop, Intel Cele...   419.0           HP   \n",
       "910   Lenovo Thinkpad X1 Nano 13.3\" 2K Business Lapt...  1319.0       Lenovo   \n",
       "381   Apple 2023 MacBook Air Laptop with M2 chip: 15...  1299.0        Apple   \n",
       "1248  Lenovo 14w Gen 2 14\" FHD Laptop - AMD 3015e, 4...   268.0       Lenovo   \n",
       "\n",
       "            model_name      cpu_model           processor graphics_copressor  \\\n",
       "264       Acer Nitro 5  Intel Core i5    _2.5 GHz core_i5             NVIDIA   \n",
       "682             Stream  Intel Celeron  _1.1 GHz celeron_n              Intel   \n",
       "910           ThinkPad  Intel Core i7    _2.7 GHz core_i7              Intel   \n",
       "381        MacBook Air             M2                   8                Mac   \n",
       "1248  Lenovo 14w Gen 2            AMD            _2.3 GHz                AMD   \n",
       "\n",
       "      ram      storage operating_system  num_processors processor_brand  \\\n",
       "264    16  1024 GB SSD   Windows 11 Pro              12           Intel   \n",
       "682     8    64 GB SSD       Windows 11               2           Intel   \n",
       "910    16   512 GB SSD   Windows 11 Pro               4           Intel   \n",
       "381     8   256 GB SSD           Mac OS               8           Apple   \n",
       "1248   16   128 GB SSD   Windows 11 Pro               1             AMD   \n",
       "\n",
       "      touchable  ips         ppi             cpu_name storage_range_category  \\\n",
       "264           0    0  127.335675        Intel Core i5            1024 GB SSD   \n",
       "682           0    0  111.935204        Intel Celeron    128 GB SSD or Below   \n",
       "910           0    0  331.264236        Intel Core i7             512 GB SSD   \n",
       "381           0    0  224.221076        Mac Processor             256 GB SSD   \n",
       "1248          0    0  157.350512  Other AMD Processor    128 GB SSD or Below   \n",
       "\n",
       "       ssd  emmc  memory  \n",
       "264   1024     0    1024  \n",
       "682    128     0     128  \n",
       "910    512     0     512  \n",
       "381    256     0     256  \n",
       "1248   128     0     128  "
      ]
     },
     "execution_count": 82,
     "metadata": {},
     "output_type": "execute_result"
    }
   ],
   "source": [
    "cleaned_df.sample(5)"
   ]
  },
  {
   "cell_type": "code",
   "execution_count": 83,
   "id": "393d3ac3",
   "metadata": {},
   "outputs": [
    {
     "data": {
      "image/png": "[encoded data removed]",
      "text/plain": [
       "<Figure size 640x480 with 1 Axes>"
      ]
     },
     "metadata": {},
     "output_type": "display_data"
    }
   ],
   "source": [
    "sns.barplot(x=cleaned_df['memory'], y=cleaned_df['price'])\n",
    "plt.xticks(rotation='vertical')\n",
    "plt.show()"
   ]
  },
  {
   "cell_type": "code",
   "execution_count": 84,
   "id": "c3f84412",
   "metadata": {},
   "outputs": [
    {
     "data": {
      "text/plain": [
       "1024    379\n",
       "512     337\n",
       "2048    169\n",
       "256     168\n",
       "64       67\n",
       "128      63\n",
       "3072     49\n",
       "32       23\n",
       "Name: memory, dtype: int64"
      ]
     },
     "execution_count": 84,
     "metadata": {},
     "output_type": "execute_result"
    }
   ],
   "source": [
    "cleaned_df['memory'].value_counts()"
   ]
  },
  {
   "cell_type": "code",
   "execution_count": 85,
   "id": "87393ad9",
   "metadata": {},
   "outputs": [
    {
     "data": {
      "text/plain": [
       "array(['Windows 10 Pro', 'Windows 10', 'Windows 11 Pro',\n",
       "       'Windows 11 Home', 'Windows 10 Home', 'Windows 11',\n",
       "       '_Windows 11 Home', '_Windows 11 Pro', '_Windows 11', 'Windows',\n",
       "       '_Windows 10 Pro', '_Windows 10 Home', '__Windows 11 Home',\n",
       "       'Chrome OS', 'Mac OS', 'Windows 10 S', '_Chrome OS',\n",
       "       'Windows 11 S', '__Chrome OS', '_Windows 10 S', '_Windows 11 S',\n",
       "       '_Windows 10', 'Windows 10 Professional'], dtype=object)"
      ]
     },
     "execution_count": 85,
     "metadata": {},
     "output_type": "execute_result"
    }
   ],
   "source": [
    "cleaned_df['operating_system'].unique()"
   ]
  },
  {
   "cell_type": "code",
   "execution_count": 86,
   "id": "51e3d7a2",
   "metadata": {},
   "outputs": [],
   "source": [
    "cleaned_df['operating_system'] = cleaned_df['operating_system'].str.replace('_',\"\")"
   ]
  },
  {
   "cell_type": "code",
   "execution_count": 87,
   "id": "d2c7169e",
   "metadata": {},
   "outputs": [
    {
     "data": {
      "text/plain": [
       "array(['Windows 10 Pro', 'Windows 10', 'Windows 11 Pro',\n",
       "       'Windows 11 Home', 'Windows 10 Home', 'Windows 11', 'Windows',\n",
       "       'Chrome OS', 'Mac OS', 'Windows 10 S', 'Windows 11 S',\n",
       "       'Windows 10 Professional'], dtype=object)"
      ]
     },
     "execution_count": 87,
     "metadata": {},
     "output_type": "execute_result"
    }
   ],
   "source": [
    "cleaned_df['operating_system'].unique()"
   ]
  },
  {
   "cell_type": "code",
   "execution_count": 88,
   "id": "193548f6",
   "metadata": {},
   "outputs": [
    {
     "data": {
      "text/plain": [
       "Windows 11 Pro             394\n",
       "Windows 11 Home            369\n",
       "Windows 11                 114\n",
       "Windows 10 Home             78\n",
       "Windows 10 Pro              77\n",
       "Chrome OS                   68\n",
       "Mac OS                      64\n",
       "Windows 10                  40\n",
       "Windows 11 S                34\n",
       "Windows 10 S                14\n",
       "Windows                      2\n",
       "Windows 10 Professional      1\n",
       "Name: operating_system, dtype: int64"
      ]
     },
     "execution_count": 88,
     "metadata": {},
     "output_type": "execute_result"
    }
   ],
   "source": [
    "cleaned_df['operating_system'].value_counts()"
   ]
  },
  {
   "cell_type": "code",
   "execution_count": 89,
   "id": "88ab16c5",
   "metadata": {},
   "outputs": [],
   "source": [
    "def operating_system(text):\n",
    "    if text.split()[0] == 'Windows':\n",
    "        return 'Windows'\n",
    "    elif text.split()[0] == 'Mac':\n",
    "        return 'Mac'\n",
    "    else:\n",
    "        return 'Others/Chrome OS'"
   ]
  },
  {
   "cell_type": "code",
   "execution_count": 90,
   "id": "b6851c4e",
   "metadata": {},
   "outputs": [],
   "source": [
    "cleaned_df['os'] = cleaned_df['operating_system'].apply(operating_system)"
   ]
  },
  {
   "cell_type": "code",
   "execution_count": 91,
   "id": "4a546d2b",
   "metadata": {},
   "outputs": [
    {
     "data": {
      "text/plain": [
       "Windows             1123\n",
       "Others/Chrome OS      68\n",
       "Mac                   64\n",
       "Name: os, dtype: int64"
      ]
     },
     "execution_count": 91,
     "metadata": {},
     "output_type": "execute_result"
    }
   ],
   "source": [
    "cleaned_df['os'].value_counts()"
   ]
  },
  {
   "cell_type": "code",
   "execution_count": 92,
   "id": "db538ba3",
   "metadata": {},
   "outputs": [
    {
     "data": {
      "text/plain": [
       "<AxesSubplot:xlabel='os', ylabel='price'>"
      ]
     },
     "execution_count": 92,
     "metadata": {},
     "output_type": "execute_result"
    },
    {
     "data": {
      "image/png": "[encoded data removed]",
      "text/plain": [
       "<Figure size 640x480 with 1 Axes>"
      ]
     },
     "metadata": {},
     "output_type": "display_data"
    }
   ],
   "source": [
    "sns.barplot(x=cleaned_df['os'], y=cleaned_df['price'])"
   ]
  },
  {
   "cell_type": "code",
   "execution_count": 93,
   "id": "7adddb0d",
   "metadata": {},
   "outputs": [
    {
     "data": {
      "text/plain": [
       "Intel       681\n",
       "NVIDIA      336\n",
       "AMD         164\n",
       "Mac          64\n",
       "MediaTek      6\n",
       "Mediatek      3\n",
       "ARM           1\n",
       "Name: graphics_copressor, dtype: int64"
      ]
     },
     "execution_count": 93,
     "metadata": {},
     "output_type": "execute_result"
    }
   ],
   "source": [
    "cleaned_df['graphics_copressor'].value_counts()"
   ]
  },
  {
   "cell_type": "code",
   "execution_count": 94,
   "id": "c7dd4af8",
   "metadata": {},
   "outputs": [],
   "source": [
    "cleaned_df = cleaned_df[~cleaned_df['graphics_copressor'].str.contains('MediaTek|Mediatek|ARM', case=False)]"
   ]
  },
  {
   "cell_type": "code",
   "execution_count": 95,
   "id": "5ad3ecc7",
   "metadata": {},
   "outputs": [
    {
     "data": {
      "text/plain": [
       "Intel     681\n",
       "NVIDIA    336\n",
       "AMD       164\n",
       "Mac        64\n",
       "Name: graphics_copressor, dtype: int64"
      ]
     },
     "execution_count": 95,
     "metadata": {},
     "output_type": "execute_result"
    }
   ],
   "source": [
    "cleaned_df['graphics_copressor'].value_counts()"
   ]
  },
  {
   "cell_type": "code",
   "execution_count": 96,
   "id": "5ca46359",
   "metadata": {},
   "outputs": [
    {
     "data": {
      "text/plain": [
       "<AxesSubplot:xlabel='graphics_copressor', ylabel='price'>"
      ]
     },
     "execution_count": 96,
     "metadata": {},
     "output_type": "execute_result"
    },
    {
     "data": {
      "image/png": "[encoded data removed]",
      "text/plain": [
       "<Figure size 640x480 with 1 Axes>"
      ]
     },
     "metadata": {},
     "output_type": "display_data"
    }
   ],
   "source": [
    "sns.barplot(x=cleaned_df['graphics_copressor'], y=cleaned_df['price'])"
   ]
  },
  {
   "cell_type": "code",
   "execution_count": 97,
   "id": "57830392",
   "metadata": {},
   "outputs": [
    {
     "data": {
      "text/plain": [
       "<AxesSubplot:xlabel='graphics_copressor', ylabel='price'>"
      ]
     },
     "execution_count": 97,
     "metadata": {},
     "output_type": "execute_result"
    },
    {
     "data": {
      "image/png": "[encoded data removed]",
      "text/plain": [
       "<Figure size 640x480 with 1 Axes>"
      ]
     },
     "metadata": {},
     "output_type": "display_data"
    }
   ],
   "source": [
    "sns.barplot(x=cleaned_df['graphics_copressor'], y=cleaned_df['price'], estimator=np.median)"
   ]
  },
  {
   "cell_type": "code",
   "execution_count": 98,
   "id": "a2a0186a",
   "metadata": {},
   "outputs": [
    {
     "data": {
      "text/html": [
       "<div>\n",
       "<style scoped>\n",
       "    .dataframe tbody tr th:only-of-type {\n",
       "        vertical-align: middle;\n",
       "    }\n",
       "\n",
       "    .dataframe tbody tr th {\n",
       "        vertical-align: top;\n",
       "    }\n",
       "\n",
       "    .dataframe thead th {\n",
       "        text-align: right;\n",
       "    }\n",
       "</style>\n",
       "<table border=\"1\" class=\"dataframe\">\n",
       "  <thead>\n",
       "    <tr style=\"text-align: right;\">\n",
       "      <th></th>\n",
       "      <th>title</th>\n",
       "      <th>price</th>\n",
       "      <th>manufacturer</th>\n",
       "      <th>model_name</th>\n",
       "      <th>cpu_model</th>\n",
       "      <th>processor</th>\n",
       "      <th>graphics_copressor</th>\n",
       "      <th>ram</th>\n",
       "      <th>storage</th>\n",
       "      <th>operating_system</th>\n",
       "      <th>...</th>\n",
       "      <th>processor_brand</th>\n",
       "      <th>touchable</th>\n",
       "      <th>ips</th>\n",
       "      <th>ppi</th>\n",
       "      <th>cpu_name</th>\n",
       "      <th>storage_range_category</th>\n",
       "      <th>ssd</th>\n",
       "      <th>emmc</th>\n",
       "      <th>memory</th>\n",
       "      <th>os</th>\n",
       "    </tr>\n",
       "  </thead>\n",
       "  <tbody>\n",
       "    <tr>\n",
       "      <th>522</th>\n",
       "      <td>Samsung Galaxy Book3 360 2-in-1 Laptop 2023-15...</td>\n",
       "      <td>1645.0</td>\n",
       "      <td>Samsung</td>\n",
       "      <td>NP750QFG-KABGY</td>\n",
       "      <td>Intel Core i7</td>\n",
       "      <td>_3.2 GHz core_i7_family</td>\n",
       "      <td>Intel</td>\n",
       "      <td>16</td>\n",
       "      <td>512 GB SSD</td>\n",
       "      <td>Windows 11 Pro</td>\n",
       "      <td>...</td>\n",
       "      <td>Intel</td>\n",
       "      <td>0</td>\n",
       "      <td>0</td>\n",
       "      <td>141.211998</td>\n",
       "      <td>Intel Core i7</td>\n",
       "      <td>512 GB SSD</td>\n",
       "      <td>512</td>\n",
       "      <td>0</td>\n",
       "      <td>512</td>\n",
       "      <td>Windows</td>\n",
       "    </tr>\n",
       "    <tr>\n",
       "      <th>94</th>\n",
       "      <td>HP Omen 16.1\" FHD Gaming Laptop (Intel Core i7...</td>\n",
       "      <td>1249.0</td>\n",
       "      <td>HP</td>\n",
       "      <td>HP Omen</td>\n",
       "      <td>Intel Core i7</td>\n",
       "      <td>_3.5 GHz core_i7</td>\n",
       "      <td>NVIDIA</td>\n",
       "      <td>16</td>\n",
       "      <td>1024 GB SSD</td>\n",
       "      <td>Windows 11</td>\n",
       "      <td>...</td>\n",
       "      <td>Intel</td>\n",
       "      <td>0</td>\n",
       "      <td>0</td>\n",
       "      <td>137.681698</td>\n",
       "      <td>Intel Core i7</td>\n",
       "      <td>1024 GB SSD</td>\n",
       "      <td>1024</td>\n",
       "      <td>0</td>\n",
       "      <td>1024</td>\n",
       "      <td>Windows</td>\n",
       "    </tr>\n",
       "    <tr>\n",
       "      <th>131</th>\n",
       "      <td>HP Victus 15.6\" 144Hz FHD Gaming Laptop, Intel...</td>\n",
       "      <td>1129.0</td>\n",
       "      <td>HP</td>\n",
       "      <td>Victus</td>\n",
       "      <td>Intel Core i5</td>\n",
       "      <td>_2.1 GHz core_i5</td>\n",
       "      <td>NVIDIA</td>\n",
       "      <td>16</td>\n",
       "      <td>512 GB SSD</td>\n",
       "      <td>Windows 11 Home</td>\n",
       "      <td>...</td>\n",
       "      <td>Intel</td>\n",
       "      <td>0</td>\n",
       "      <td>0</td>\n",
       "      <td>141.211998</td>\n",
       "      <td>Intel Core i5</td>\n",
       "      <td>512 GB SSD</td>\n",
       "      <td>512</td>\n",
       "      <td>0</td>\n",
       "      <td>512</td>\n",
       "      <td>Windows</td>\n",
       "    </tr>\n",
       "    <tr>\n",
       "      <th>973</th>\n",
       "      <td>Surface Laptop 3 13\" i7/16/512 Sandstone - French</td>\n",
       "      <td>1133.0</td>\n",
       "      <td>Microsoft</td>\n",
       "      <td>Surface Laptop 3</td>\n",
       "      <td>Intel Core i7</td>\n",
       "      <td>_3.9 GHz core_i7_1065g7</td>\n",
       "      <td>Intel</td>\n",
       "      <td>16</td>\n",
       "      <td>512 GB SSD</td>\n",
       "      <td>Windows 10 Home</td>\n",
       "      <td>...</td>\n",
       "      <td>Intel</td>\n",
       "      <td>0</td>\n",
       "      <td>0</td>\n",
       "      <td>200.842560</td>\n",
       "      <td>Intel Core i7</td>\n",
       "      <td>512 GB SSD</td>\n",
       "      <td>512</td>\n",
       "      <td>0</td>\n",
       "      <td>512</td>\n",
       "      <td>Windows</td>\n",
       "    </tr>\n",
       "    <tr>\n",
       "      <th>259</th>\n",
       "      <td>Dell Alienware M16 R1 16\" 165Hz WQXGA (2560x16...</td>\n",
       "      <td>2941.0</td>\n",
       "      <td>Dell</td>\n",
       "      <td>Alienware m16 R1</td>\n",
       "      <td>Intel Core i7</td>\n",
       "      <td>_3.1 GHz core_i7_family</td>\n",
       "      <td>NVIDIA</td>\n",
       "      <td>16</td>\n",
       "      <td>1024 GB SSD</td>\n",
       "      <td>Windows 11 Pro</td>\n",
       "      <td>...</td>\n",
       "      <td>Intel</td>\n",
       "      <td>0</td>\n",
       "      <td>1</td>\n",
       "      <td>188.679623</td>\n",
       "      <td>Intel Core i7</td>\n",
       "      <td>1024 GB SSD</td>\n",
       "      <td>1024</td>\n",
       "      <td>0</td>\n",
       "      <td>1024</td>\n",
       "      <td>Windows</td>\n",
       "    </tr>\n",
       "  </tbody>\n",
       "</table>\n",
       "<p>5 rows × 21 columns</p>\n",
       "</div>"
      ],
      "text/plain": [
       "                                                 title   price manufacturer  \\\n",
       "522  Samsung Galaxy Book3 360 2-in-1 Laptop 2023-15...  1645.0      Samsung   \n",
       "94   HP Omen 16.1\" FHD Gaming Laptop (Intel Core i7...  1249.0           HP   \n",
       "131  HP Victus 15.6\" 144Hz FHD Gaming Laptop, Intel...  1129.0           HP   \n",
       "973  Surface Laptop 3 13\" i7/16/512 Sandstone - French  1133.0    Microsoft   \n",
       "259  Dell Alienware M16 R1 16\" 165Hz WQXGA (2560x16...  2941.0         Dell   \n",
       "\n",
       "           model_name      cpu_model                processor  \\\n",
       "522    NP750QFG-KABGY  Intel Core i7  _3.2 GHz core_i7_family   \n",
       "94            HP Omen  Intel Core i7         _3.5 GHz core_i7   \n",
       "131            Victus  Intel Core i5         _2.1 GHz core_i5   \n",
       "973  Surface Laptop 3  Intel Core i7  _3.9 GHz core_i7_1065g7   \n",
       "259  Alienware m16 R1  Intel Core i7  _3.1 GHz core_i7_family   \n",
       "\n",
       "    graphics_copressor  ram      storage operating_system  ...  \\\n",
       "522              Intel   16   512 GB SSD   Windows 11 Pro  ...   \n",
       "94              NVIDIA   16  1024 GB SSD       Windows 11  ...   \n",
       "131             NVIDIA   16   512 GB SSD  Windows 11 Home  ...   \n",
       "973              Intel   16   512 GB SSD  Windows 10 Home  ...   \n",
       "259             NVIDIA   16  1024 GB SSD   Windows 11 Pro  ...   \n",
       "\n",
       "     processor_brand touchable  ips         ppi       cpu_name  \\\n",
       "522            Intel         0    0  141.211998  Intel Core i7   \n",
       "94             Intel         0    0  137.681698  Intel Core i7   \n",
       "131            Intel         0    0  141.211998  Intel Core i5   \n",
       "973            Intel         0    0  200.842560  Intel Core i7   \n",
       "259            Intel         0    1  188.679623  Intel Core i7   \n",
       "\n",
       "    storage_range_category   ssd  emmc  memory       os  \n",
       "522             512 GB SSD   512     0     512  Windows  \n",
       "94             1024 GB SSD  1024     0    1024  Windows  \n",
       "131             512 GB SSD   512     0     512  Windows  \n",
       "973             512 GB SSD   512     0     512  Windows  \n",
       "259            1024 GB SSD  1024     0    1024  Windows  \n",
       "\n",
       "[5 rows x 21 columns]"
      ]
     },
     "execution_count": 98,
     "metadata": {},
     "output_type": "execute_result"
    }
   ],
   "source": [
    "cleaned_df.sample(5)"
   ]
  },
  {
   "cell_type": "code",
   "execution_count": 99,
   "id": "8618da71",
   "metadata": {},
   "outputs": [
    {
     "data": {
      "text/plain": [
       "array([ 4, 24, 14, 16,  8,  6,  1, 10, 12, 11,  2, 20])"
      ]
     },
     "execution_count": 99,
     "metadata": {},
     "output_type": "execute_result"
    }
   ],
   "source": [
    "cleaned_df['num_processors'].unique()"
   ]
  },
  {
   "cell_type": "code",
   "execution_count": 100,
   "id": "537f6178",
   "metadata": {},
   "outputs": [
    {
     "data": {
      "text/plain": [
       "4     251\n",
       "8     248\n",
       "10    150\n",
       "2     148\n",
       "6     123\n",
       "14     99\n",
       "1      93\n",
       "12     87\n",
       "24     26\n",
       "16     17\n",
       "11      2\n",
       "20      1\n",
       "Name: num_processors, dtype: int64"
      ]
     },
     "execution_count": 100,
     "metadata": {},
     "output_type": "execute_result"
    }
   ],
   "source": [
    "cleaned_df['num_processors'].value_counts()"
   ]
  },
  {
   "cell_type": "code",
   "execution_count": 101,
   "id": "649a27e3",
   "metadata": {},
   "outputs": [
    {
     "data": {
      "text/plain": [
       "<AxesSubplot:xlabel='num_processors', ylabel='price'>"
      ]
     },
     "execution_count": 101,
     "metadata": {},
     "output_type": "execute_result"
    },
    {
     "data": {
      "image/png": "[encoded data removed]",
      "text/plain": [
       "<Figure size 640x480 with 1 Axes>"
      ]
     },
     "metadata": {},
     "output_type": "display_data"
    }
   ],
   "source": [
    "sns.barplot(x=cleaned_df['num_processors'], y=cleaned_df['price'])"
   ]
  },
  {
   "cell_type": "code",
   "execution_count": 106,
   "id": "67eed463",
   "metadata": {},
   "outputs": [],
   "source": [
    "cleaned_df = cleaned_df[~cleaned_df['num_processors'].isin([11,20])]\n"
   ]
  },
  {
   "cell_type": "code",
   "execution_count": 107,
   "id": "2f66d957",
   "metadata": {},
   "outputs": [
    {
     "data": {
      "text/plain": [
       "array([ 4, 24, 14, 16,  8,  6,  1, 10, 12,  2])"
      ]
     },
     "execution_count": 107,
     "metadata": {},
     "output_type": "execute_result"
    }
   ],
   "source": [
    "cleaned_df['num_processors'].unique()"
   ]
  },
  {
   "cell_type": "code",
   "execution_count": 108,
   "id": "8840e9c9",
   "metadata": {},
   "outputs": [
    {
     "data": {
      "text/plain": [
       "<AxesSubplot:xlabel='num_processors', ylabel='price'>"
      ]
     },
     "execution_count": 108,
     "metadata": {},
     "output_type": "execute_result"
    },
    {
     "data": {
      "image/png": "[encoded data removed]",
      "text/plain": [
       "<Figure size 640x480 with 1 Axes>"
      ]
     },
     "metadata": {},
     "output_type": "display_data"
    }
   ],
   "source": [
    "sns.barplot(x=cleaned_df['num_processors'], y=cleaned_df['price'])"
   ]
  },
  {
   "cell_type": "markdown",
   "id": "8e6fe566",
   "metadata": {},
   "source": [
    "## Dropping Extra Columns"
   ]
  },
  {
   "cell_type": "code",
   "execution_count": 109,
   "id": "d2cb9d20",
   "metadata": {},
   "outputs": [
    {
     "name": "stderr",
     "output_type": "stream",
     "text": [
      "/var/folders/xz/lwbfvlv571j_h6ypxn81t_pc0000gn/T/ipykernel_20911/2447251904.py:1: SettingWithCopyWarning: \n",
      "A value is trying to be set on a copy of a slice from a DataFrame\n",
      "\n",
      "See the caveats in the documentation: https://pandas.pydata.org/pandas-docs/stable/user_guide/indexing.html#returning-a-view-versus-a-copy\n",
      "  cleaned_df.drop(columns=[\"title\", \"model_name\", \"storage\",\"processor_brand\", \"operating_system\", \"model_name\", \"cpu_model\", \"ssd\", \"emmc\", \"storage_range_category\", \"processor\"], inplace=True)\n"
     ]
    }
   ],
   "source": [
    "cleaned_df.drop(columns=[\"title\", \"model_name\", \"storage\",\"processor_brand\", \"operating_system\", \"model_name\", \"cpu_model\", \"ssd\", \"emmc\", \"storage_range_category\", \"processor\"], inplace=True)\n"
   ]
  },
  {
   "cell_type": "code",
   "execution_count": 245,
   "id": "e36f7c2f",
   "metadata": {},
   "outputs": [],
   "source": []
  },
  {
   "cell_type": "code",
   "execution_count": null,
   "id": "b8c2549a",
   "metadata": {},
   "outputs": [],
   "source": []
  },
  {
   "cell_type": "code",
   "execution_count": 110,
   "id": "5d51299a",
   "metadata": {},
   "outputs": [
    {
     "data": {
      "text/html": [
       "<div>\n",
       "<style scoped>\n",
       "    .dataframe tbody tr th:only-of-type {\n",
       "        vertical-align: middle;\n",
       "    }\n",
       "\n",
       "    .dataframe tbody tr th {\n",
       "        vertical-align: top;\n",
       "    }\n",
       "\n",
       "    .dataframe thead th {\n",
       "        text-align: right;\n",
       "    }\n",
       "</style>\n",
       "<table border=\"1\" class=\"dataframe\">\n",
       "  <thead>\n",
       "    <tr style=\"text-align: right;\">\n",
       "      <th></th>\n",
       "      <th>price</th>\n",
       "      <th>manufacturer</th>\n",
       "      <th>graphics_copressor</th>\n",
       "      <th>ram</th>\n",
       "      <th>num_processors</th>\n",
       "      <th>touchable</th>\n",
       "      <th>ips</th>\n",
       "      <th>ppi</th>\n",
       "      <th>cpu_name</th>\n",
       "      <th>memory</th>\n",
       "      <th>os</th>\n",
       "    </tr>\n",
       "  </thead>\n",
       "  <tbody>\n",
       "    <tr>\n",
       "      <th>803</th>\n",
       "      <td>599.0</td>\n",
       "      <td>HP</td>\n",
       "      <td>Intel</td>\n",
       "      <td>16</td>\n",
       "      <td>2</td>\n",
       "      <td>0</td>\n",
       "      <td>0</td>\n",
       "      <td>141.211998</td>\n",
       "      <td>Intel Celeron</td>\n",
       "      <td>1024</td>\n",
       "      <td>Windows</td>\n",
       "    </tr>\n",
       "    <tr>\n",
       "      <th>286</th>\n",
       "      <td>2499.0</td>\n",
       "      <td>Acer</td>\n",
       "      <td>NVIDIA</td>\n",
       "      <td>32</td>\n",
       "      <td>6</td>\n",
       "      <td>0</td>\n",
       "      <td>0</td>\n",
       "      <td>183.575598</td>\n",
       "      <td>Intel Core i9</td>\n",
       "      <td>1024</td>\n",
       "      <td>Windows</td>\n",
       "    </tr>\n",
       "    <tr>\n",
       "      <th>320</th>\n",
       "      <td>999.0</td>\n",
       "      <td>Lenovo</td>\n",
       "      <td>NVIDIA</td>\n",
       "      <td>8</td>\n",
       "      <td>4</td>\n",
       "      <td>0</td>\n",
       "      <td>0</td>\n",
       "      <td>141.211998</td>\n",
       "      <td>Intel Core i5</td>\n",
       "      <td>512</td>\n",
       "      <td>Windows</td>\n",
       "    </tr>\n",
       "    <tr>\n",
       "      <th>896</th>\n",
       "      <td>264.0</td>\n",
       "      <td>Lenovo</td>\n",
       "      <td>Intel</td>\n",
       "      <td>16</td>\n",
       "      <td>2</td>\n",
       "      <td>0</td>\n",
       "      <td>0</td>\n",
       "      <td>135.094211</td>\n",
       "      <td>Intel Celeron</td>\n",
       "      <td>128</td>\n",
       "      <td>Windows</td>\n",
       "    </tr>\n",
       "    <tr>\n",
       "      <th>1074</th>\n",
       "      <td>833.0</td>\n",
       "      <td>HP</td>\n",
       "      <td>AMD</td>\n",
       "      <td>16</td>\n",
       "      <td>8</td>\n",
       "      <td>0</td>\n",
       "      <td>0</td>\n",
       "      <td>165.632118</td>\n",
       "      <td>AMD Ryzen 7</td>\n",
       "      <td>512</td>\n",
       "      <td>Windows</td>\n",
       "    </tr>\n",
       "  </tbody>\n",
       "</table>\n",
       "</div>"
      ],
      "text/plain": [
       "       price manufacturer graphics_copressor  ram  num_processors  touchable  \\\n",
       "803    599.0           HP              Intel   16               2          0   \n",
       "286   2499.0         Acer             NVIDIA   32               6          0   \n",
       "320    999.0       Lenovo             NVIDIA    8               4          0   \n",
       "896    264.0       Lenovo              Intel   16               2          0   \n",
       "1074   833.0           HP                AMD   16               8          0   \n",
       "\n",
       "      ips         ppi       cpu_name  memory       os  \n",
       "803     0  141.211998  Intel Celeron    1024  Windows  \n",
       "286     0  183.575598  Intel Core i9    1024  Windows  \n",
       "320     0  141.211998  Intel Core i5     512  Windows  \n",
       "896     0  135.094211  Intel Celeron     128  Windows  \n",
       "1074    0  165.632118    AMD Ryzen 7     512  Windows  "
      ]
     },
     "execution_count": 110,
     "metadata": {},
     "output_type": "execute_result"
    }
   ],
   "source": [
    "cleaned_df.sample(5)"
   ]
  },
  {
   "cell_type": "code",
   "execution_count": 113,
   "id": "926d99e8",
   "metadata": {},
   "outputs": [
    {
     "name": "stdout",
     "output_type": "stream",
     "text": [
      "<class 'pandas.core.frame.DataFrame'>\n",
      "Int64Index: 1242 entries, 0 to 1261\n",
      "Data columns (total 11 columns):\n",
      " #   Column              Non-Null Count  Dtype  \n",
      "---  ------              --------------  -----  \n",
      " 0   price               1242 non-null   float64\n",
      " 1   manufacturer        1242 non-null   object \n",
      " 2   graphics_copressor  1242 non-null   object \n",
      " 3   ram                 1242 non-null   int32  \n",
      " 4   num_processors      1242 non-null   int64  \n",
      " 5   touchable           1242 non-null   int64  \n",
      " 6   ips                 1242 non-null   int64  \n",
      " 7   ppi                 1242 non-null   float64\n",
      " 8   cpu_name            1242 non-null   object \n",
      " 9   memory              1242 non-null   int64  \n",
      " 10  os                  1242 non-null   object \n",
      "dtypes: float64(2), int32(1), int64(4), object(4)\n",
      "memory usage: 111.6+ KB\n"
     ]
    }
   ],
   "source": [
    "cleaned_df.info()"
   ]
  },
  {
   "cell_type": "code",
   "execution_count": null,
   "id": "c275c45d",
   "metadata": {},
   "outputs": [],
   "source": []
  },
  {
   "cell_type": "code",
   "execution_count": 114,
   "id": "a1355a92",
   "metadata": {},
   "outputs": [
    {
     "data": {
      "text/plain": [
       "137"
      ]
     },
     "execution_count": 114,
     "metadata": {},
     "output_type": "execute_result"
    }
   ],
   "source": [
    "cleaned_df.duplicated().sum()"
   ]
  },
  {
   "cell_type": "code",
   "execution_count": 115,
   "id": "2a399180",
   "metadata": {},
   "outputs": [
    {
     "data": {
      "text/plain": [
       "price                 0\n",
       "manufacturer          0\n",
       "graphics_copressor    0\n",
       "ram                   0\n",
       "num_processors        0\n",
       "touchable             0\n",
       "ips                   0\n",
       "ppi                   0\n",
       "cpu_name              0\n",
       "memory                0\n",
       "os                    0\n",
       "dtype: int64"
      ]
     },
     "execution_count": 115,
     "metadata": {},
     "output_type": "execute_result"
    }
   ],
   "source": [
    "cleaned_df.isnull().sum()"
   ]
  },
  {
   "cell_type": "code",
   "execution_count": 116,
   "id": "ada91005",
   "metadata": {},
   "outputs": [],
   "source": [
    "laptop_df = cleaned_df.drop_duplicates()"
   ]
  },
  {
   "cell_type": "code",
   "execution_count": 117,
   "id": "ebeacc76",
   "metadata": {},
   "outputs": [
    {
     "name": "stdout",
     "output_type": "stream",
     "text": [
      "<class 'pandas.core.frame.DataFrame'>\n",
      "Int64Index: 1105 entries, 0 to 1261\n",
      "Data columns (total 11 columns):\n",
      " #   Column              Non-Null Count  Dtype  \n",
      "---  ------              --------------  -----  \n",
      " 0   price               1105 non-null   float64\n",
      " 1   manufacturer        1105 non-null   object \n",
      " 2   graphics_copressor  1105 non-null   object \n",
      " 3   ram                 1105 non-null   int32  \n",
      " 4   num_processors      1105 non-null   int64  \n",
      " 5   touchable           1105 non-null   int64  \n",
      " 6   ips                 1105 non-null   int64  \n",
      " 7   ppi                 1105 non-null   float64\n",
      " 8   cpu_name            1105 non-null   object \n",
      " 9   memory              1105 non-null   int64  \n",
      " 10  os                  1105 non-null   object \n",
      "dtypes: float64(2), int32(1), int64(4), object(4)\n",
      "memory usage: 99.3+ KB\n"
     ]
    }
   ],
   "source": [
    "laptop_df.info()"
   ]
  },
  {
   "cell_type": "code",
   "execution_count": 118,
   "id": "001e95c8",
   "metadata": {},
   "outputs": [
    {
     "data": {
      "text/html": [
       "<div>\n",
       "<style scoped>\n",
       "    .dataframe tbody tr th:only-of-type {\n",
       "        vertical-align: middle;\n",
       "    }\n",
       "\n",
       "    .dataframe tbody tr th {\n",
       "        vertical-align: top;\n",
       "    }\n",
       "\n",
       "    .dataframe thead th {\n",
       "        text-align: right;\n",
       "    }\n",
       "</style>\n",
       "<table border=\"1\" class=\"dataframe\">\n",
       "  <thead>\n",
       "    <tr style=\"text-align: right;\">\n",
       "      <th></th>\n",
       "      <th>price</th>\n",
       "      <th>manufacturer</th>\n",
       "      <th>graphics_copressor</th>\n",
       "      <th>ram</th>\n",
       "      <th>num_processors</th>\n",
       "      <th>touchable</th>\n",
       "      <th>ips</th>\n",
       "      <th>ppi</th>\n",
       "      <th>cpu_name</th>\n",
       "      <th>memory</th>\n",
       "      <th>os</th>\n",
       "    </tr>\n",
       "  </thead>\n",
       "  <tbody>\n",
       "    <tr>\n",
       "      <th>0</th>\n",
       "      <td>2287.0</td>\n",
       "      <td>Microsoft</td>\n",
       "      <td>NVIDIA</td>\n",
       "      <td>8</td>\n",
       "      <td>4</td>\n",
       "      <td>1</td>\n",
       "      <td>0</td>\n",
       "      <td>267.077872</td>\n",
       "      <td>Intel Core i7</td>\n",
       "      <td>256</td>\n",
       "      <td>Windows</td>\n",
       "    </tr>\n",
       "    <tr>\n",
       "      <th>1</th>\n",
       "      <td>2999.0</td>\n",
       "      <td>Microsoft</td>\n",
       "      <td>NVIDIA</td>\n",
       "      <td>16</td>\n",
       "      <td>4</td>\n",
       "      <td>1</td>\n",
       "      <td>0</td>\n",
       "      <td>240.370085</td>\n",
       "      <td>Intel Core i7</td>\n",
       "      <td>256</td>\n",
       "      <td>Windows</td>\n",
       "    </tr>\n",
       "    <tr>\n",
       "      <th>2</th>\n",
       "      <td>2995.0</td>\n",
       "      <td>Dell</td>\n",
       "      <td>NVIDIA</td>\n",
       "      <td>64</td>\n",
       "      <td>24</td>\n",
       "      <td>0</td>\n",
       "      <td>0</td>\n",
       "      <td>141.211998</td>\n",
       "      <td>Intel Core i9</td>\n",
       "      <td>2048</td>\n",
       "      <td>Windows</td>\n",
       "    </tr>\n",
       "    <tr>\n",
       "      <th>3</th>\n",
       "      <td>1999.0</td>\n",
       "      <td>Dell</td>\n",
       "      <td>NVIDIA</td>\n",
       "      <td>8</td>\n",
       "      <td>14</td>\n",
       "      <td>0</td>\n",
       "      <td>0</td>\n",
       "      <td>141.509717</td>\n",
       "      <td>Intel Core i7</td>\n",
       "      <td>1024</td>\n",
       "      <td>Windows</td>\n",
       "    </tr>\n",
       "    <tr>\n",
       "      <th>4</th>\n",
       "      <td>2999.0</td>\n",
       "      <td>Microsoft</td>\n",
       "      <td>NVIDIA</td>\n",
       "      <td>16</td>\n",
       "      <td>4</td>\n",
       "      <td>0</td>\n",
       "      <td>0</td>\n",
       "      <td>240.370085</td>\n",
       "      <td>Intel Core i7</td>\n",
       "      <td>1024</td>\n",
       "      <td>Windows</td>\n",
       "    </tr>\n",
       "    <tr>\n",
       "      <th>...</th>\n",
       "      <td>...</td>\n",
       "      <td>...</td>\n",
       "      <td>...</td>\n",
       "      <td>...</td>\n",
       "      <td>...</td>\n",
       "      <td>...</td>\n",
       "      <td>...</td>\n",
       "      <td>...</td>\n",
       "      <td>...</td>\n",
       "      <td>...</td>\n",
       "      <td>...</td>\n",
       "    </tr>\n",
       "    <tr>\n",
       "      <th>1257</th>\n",
       "      <td>1349.0</td>\n",
       "      <td>Lenovo</td>\n",
       "      <td>AMD</td>\n",
       "      <td>16</td>\n",
       "      <td>8</td>\n",
       "      <td>1</td>\n",
       "      <td>1</td>\n",
       "      <td>157.350512</td>\n",
       "      <td>AMD Ryzen 7</td>\n",
       "      <td>1024</td>\n",
       "      <td>Windows</td>\n",
       "    </tr>\n",
       "    <tr>\n",
       "      <th>1258</th>\n",
       "      <td>589.0</td>\n",
       "      <td>Lenovo</td>\n",
       "      <td>Intel</td>\n",
       "      <td>20</td>\n",
       "      <td>4</td>\n",
       "      <td>0</td>\n",
       "      <td>0</td>\n",
       "      <td>141.211998</td>\n",
       "      <td>Other Intel Processor</td>\n",
       "      <td>1024</td>\n",
       "      <td>Windows</td>\n",
       "    </tr>\n",
       "    <tr>\n",
       "      <th>1259</th>\n",
       "      <td>5340.0</td>\n",
       "      <td>Lenovo</td>\n",
       "      <td>NVIDIA</td>\n",
       "      <td>32</td>\n",
       "      <td>1</td>\n",
       "      <td>0</td>\n",
       "      <td>0</td>\n",
       "      <td>188.679623</td>\n",
       "      <td>Intel Core i9</td>\n",
       "      <td>1024</td>\n",
       "      <td>Windows</td>\n",
       "    </tr>\n",
       "    <tr>\n",
       "      <th>1260</th>\n",
       "      <td>1848.0</td>\n",
       "      <td>Lenovo</td>\n",
       "      <td>NVIDIA</td>\n",
       "      <td>32</td>\n",
       "      <td>4</td>\n",
       "      <td>1</td>\n",
       "      <td>1</td>\n",
       "      <td>157.350512</td>\n",
       "      <td>Intel Core i7</td>\n",
       "      <td>1024</td>\n",
       "      <td>Windows</td>\n",
       "    </tr>\n",
       "    <tr>\n",
       "      <th>1261</th>\n",
       "      <td>1660.0</td>\n",
       "      <td>Lenovo</td>\n",
       "      <td>NVIDIA</td>\n",
       "      <td>32</td>\n",
       "      <td>4</td>\n",
       "      <td>0</td>\n",
       "      <td>1</td>\n",
       "      <td>157.350512</td>\n",
       "      <td>Intel Core i7</td>\n",
       "      <td>1024</td>\n",
       "      <td>Windows</td>\n",
       "    </tr>\n",
       "  </tbody>\n",
       "</table>\n",
       "<p>1105 rows × 11 columns</p>\n",
       "</div>"
      ],
      "text/plain": [
       "       price manufacturer graphics_copressor  ram  num_processors  touchable  \\\n",
       "0     2287.0    Microsoft             NVIDIA    8               4          1   \n",
       "1     2999.0    Microsoft             NVIDIA   16               4          1   \n",
       "2     2995.0         Dell             NVIDIA   64              24          0   \n",
       "3     1999.0         Dell             NVIDIA    8              14          0   \n",
       "4     2999.0    Microsoft             NVIDIA   16               4          0   \n",
       "...      ...          ...                ...  ...             ...        ...   \n",
       "1257  1349.0       Lenovo                AMD   16               8          1   \n",
       "1258   589.0       Lenovo              Intel   20               4          0   \n",
       "1259  5340.0       Lenovo             NVIDIA   32               1          0   \n",
       "1260  1848.0       Lenovo             NVIDIA   32               4          1   \n",
       "1261  1660.0       Lenovo             NVIDIA   32               4          0   \n",
       "\n",
       "      ips         ppi               cpu_name  memory       os  \n",
       "0       0  267.077872          Intel Core i7     256  Windows  \n",
       "1       0  240.370085          Intel Core i7     256  Windows  \n",
       "2       0  141.211998          Intel Core i9    2048  Windows  \n",
       "3       0  141.509717          Intel Core i7    1024  Windows  \n",
       "4       0  240.370085          Intel Core i7    1024  Windows  \n",
       "...   ...         ...                    ...     ...      ...  \n",
       "1257    1  157.350512            AMD Ryzen 7    1024  Windows  \n",
       "1258    0  141.211998  Other Intel Processor    1024  Windows  \n",
       "1259    0  188.679623          Intel Core i9    1024  Windows  \n",
       "1260    1  157.350512          Intel Core i7    1024  Windows  \n",
       "1261    1  157.350512          Intel Core i7    1024  Windows  \n",
       "\n",
       "[1105 rows x 11 columns]"
      ]
     },
     "execution_count": 118,
     "metadata": {},
     "output_type": "execute_result"
    }
   ],
   "source": [
    "laptop_df"
   ]
  },
  {
   "cell_type": "code",
   "execution_count": 119,
   "id": "52c7a9fc",
   "metadata": {},
   "outputs": [
    {
     "data": {
      "text/plain": [
       "price             1.000000\n",
       "ram               0.521539\n",
       "num_processors    0.599387\n",
       "touchable        -0.010926\n",
       "ips               0.149676\n",
       "ppi               0.505140\n",
       "memory            0.534030\n",
       "Name: price, dtype: float64"
      ]
     },
     "execution_count": 119,
     "metadata": {},
     "output_type": "execute_result"
    }
   ],
   "source": [
    "laptop_df.corr()['price']"
   ]
  },
  {
   "cell_type": "code",
   "execution_count": 120,
   "id": "69dc9061",
   "metadata": {},
   "outputs": [
    {
     "data": {
      "text/plain": [
       "<AxesSubplot:>"
      ]
     },
     "execution_count": 120,
     "metadata": {},
     "output_type": "execute_result"
    },
    {
     "data": {
      "image/png": "[encoded data removed]",
      "text/plain": [
       "<Figure size 640x480 with 2 Axes>"
      ]
     },
     "metadata": {},
     "output_type": "display_data"
    }
   ],
   "source": [
    "sns.heatmap(laptop_df.corr())"
   ]
  },
  {
   "cell_type": "code",
   "execution_count": 121,
   "id": "9229d7d1",
   "metadata": {},
   "outputs": [
    {
     "name": "stderr",
     "output_type": "stream",
     "text": [
      "/Users/shoaib/opt/anaconda3/lib/python3.9/site-packages/seaborn/distributions.py:2619: FutureWarning: `distplot` is a deprecated function and will be removed in a future version. Please adapt your code to use either `displot` (a figure-level function with similar flexibility) or `histplot` (an axes-level function for histograms).\n",
      "  warnings.warn(msg, FutureWarning)\n"
     ]
    },
    {
     "data": {
      "text/plain": [
       "<AxesSubplot:xlabel='price', ylabel='Density'>"
      ]
     },
     "execution_count": 121,
     "metadata": {},
     "output_type": "execute_result"
    },
    {
     "data": {
      "image/png": "[encoded data removed]",
      "text/plain": [
       "<Figure size 640x480 with 1 Axes>"
      ]
     },
     "metadata": {},
     "output_type": "display_data"
    }
   ],
   "source": [
    "sns.distplot(laptop_df['price'])"
   ]
  },
  {
   "cell_type": "code",
   "execution_count": 122,
   "id": "ddeca2e6",
   "metadata": {},
   "outputs": [
    {
     "name": "stderr",
     "output_type": "stream",
     "text": [
      "/Users/shoaib/opt/anaconda3/lib/python3.9/site-packages/seaborn/distributions.py:2619: FutureWarning: `distplot` is a deprecated function and will be removed in a future version. Please adapt your code to use either `displot` (a figure-level function with similar flexibility) or `histplot` (an axes-level function for histograms).\n",
      "  warnings.warn(msg, FutureWarning)\n"
     ]
    },
    {
     "data": {
      "text/plain": [
       "<AxesSubplot:xlabel='price', ylabel='Density'>"
      ]
     },
     "execution_count": 122,
     "metadata": {},
     "output_type": "execute_result"
    },
    {
     "data": {
      "image/png": "[encoded data removed]",
      "text/plain": [
       "<Figure size 640x480 with 1 Axes>"
      ]
     },
     "metadata": {},
     "output_type": "display_data"
    }
   ],
   "source": [
    "sns.distplot(np.log(laptop_df['price']))"
   ]
  },
  {
   "cell_type": "code",
   "execution_count": 123,
   "id": "1bb54f29",
   "metadata": {},
   "outputs": [],
   "source": [
    "laptop_df.to_csv('data/laptop_df.csv')"
   ]
  },
  {
   "cell_type": "code",
   "execution_count": null,
   "id": "e27987cf",
   "metadata": {},
   "outputs": [],
   "source": []
  },
  {
   "cell_type": "code",
   "execution_count": null,
   "id": "c845ad8c",
   "metadata": {},
   "outputs": [],
   "source": []
  },
  {
   "cell_type": "code",
   "execution_count": null,
   "id": "600557cc",
   "metadata": {},
   "outputs": [],
   "source": []
  },
  {
   "cell_type": "code",
   "execution_count": null,
   "id": "6a5ca523",
   "metadata": {},
   "outputs": [],
   "source": []
  }
 ],
 "metadata": {
  "kernelspec": {
   "display_name": "Python 3 (ipykernel)",
   "language": "python",
   "name": "python3"
  },
  "language_info": {
   "codemirror_mode": {
    "name": "ipython",
    "version": 3
   },
   "file_extension": ".py",
   "mimetype": "text/x-python",
   "name": "python",
   "nbconvert_exporter": "python",
   "pygments_lexer": "ipython3",
   "version": "3.9.13"
  }
 },
 "nbformat": 4,
 "nbformat_minor": 5
}
