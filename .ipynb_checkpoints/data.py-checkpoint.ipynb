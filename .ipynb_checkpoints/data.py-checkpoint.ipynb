{
 "cells": [
  {
   "cell_type": "code",
   "execution_count": 1,
   "id": "4a76309c",
   "metadata": {},
   "outputs": [
    {
     "name": "stderr",
     "output_type": "stream",
     "text": [
      "/Users/shoaib/opt/anaconda3/lib/python3.9/site-packages/scipy/__init__.py:155: UserWarning: A NumPy version >=1.18.5 and <1.25.0 is required for this version of SciPy (detected version 1.26.4\n",
      "  warnings.warn(f\"A NumPy version >={np_minversion} and <{np_maxversion}\"\n"
     ]
    }
   ],
   "source": [
    "import pandas as pd\n",
    "import numpy as np\n",
    "import seaborn as sns\n",
    "import matplotlib.pyplot as plt"
   ]
  },
  {
   "cell_type": "code",
   "execution_count": null,
   "id": "5fedccc5",
   "metadata": {},
   "outputs": [],
   "source": []
  },
  {
   "cell_type": "code",
   "execution_count": null,
   "id": "9b633db9",
   "metadata": {},
   "outputs": [],
   "source": []
  },
  {
   "cell_type": "code",
   "execution_count": 6,
   "id": "d1b8d57d",
   "metadata": {},
   "outputs": [],
   "source": [
    "df = pd.read_csv('data/_laptop_data.csv', encoding='unicode_escape')"
   ]
  },
  {
   "cell_type": "code",
   "execution_count": 7,
   "id": "d55bb8c8",
   "metadata": {},
   "outputs": [
    {
     "data": {
      "text/html": [
       "<div>\n",
       "<style scoped>\n",
       "    .dataframe tbody tr th:only-of-type {\n",
       "        vertical-align: middle;\n",
       "    }\n",
       "\n",
       "    .dataframe tbody tr th {\n",
       "        vertical-align: top;\n",
       "    }\n",
       "\n",
       "    .dataframe thead th {\n",
       "        text-align: right;\n",
       "    }\n",
       "</style>\n",
       "<table border=\"1\" class=\"dataframe\">\n",
       "  <thead>\n",
       "    <tr style=\"text-align: right;\">\n",
       "      <th></th>\n",
       "      <th>web-scraper-order</th>\n",
       "      <th>web-scraper-start-url</th>\n",
       "      <th>single</th>\n",
       "      <th>single-href</th>\n",
       "      <th>title</th>\n",
       "      <th>price</th>\n",
       "      <th>manufacturer</th>\n",
       "      <th>model_name</th>\n",
       "      <th>screen_size</th>\n",
       "      <th>display_resolution</th>\n",
       "      <th>cpu_model</th>\n",
       "      <th>processor</th>\n",
       "      <th>graphics_copressor</th>\n",
       "      <th>ram</th>\n",
       "      <th>storage</th>\n",
       "      <th>operating_system</th>\n",
       "      <th>weight</th>\n",
       "      <th>num_processors</th>\n",
       "      <th>processor_brand</th>\n",
       "    </tr>\n",
       "  </thead>\n",
       "  <tbody>\n",
       "    <tr>\n",
       "      <th>0</th>\n",
       "      <td>1715882222-101</td>\n",
       "      <td>https://www.amazon.ca/s?k=microsoft+laptop&amp;i=e...</td>\n",
       "      <td>Surface Book 2 (2017): 13.5\" Touchscreen Lapto...</td>\n",
       "      <td>https://www.amazon.ca/Microsoft-13-5-Surface-I...</td>\n",
       "      <td>Microsoft Surface Book 2 (2017): 13.5\" Touchsc...</td>\n",
       "      <td>2287</td>\n",
       "      <td>Microsoft</td>\n",
       "      <td>Surface Book 2</td>\n",
       "      <td>13.5</td>\n",
       "      <td>_3000 x 2000</td>\n",
       "      <td>Intel Core i7</td>\n",
       "      <td>_4.2 GHz core_i7</td>\n",
       "      <td>NVIDIA</td>\n",
       "      <td>8</td>\n",
       "      <td>256 GB SSD</td>\n",
       "      <td>Windows 10 Pro</td>\n",
       "      <td>NaN</td>\n",
       "      <td>4</td>\n",
       "      <td>Intel</td>\n",
       "    </tr>\n",
       "    <tr>\n",
       "      <th>1</th>\n",
       "      <td>1715882215-100</td>\n",
       "      <td>https://www.amazon.ca/s?k=microsoft+laptop&amp;i=e...</td>\n",
       "      <td>Surface Book 3 - 15\" Touch-Screen PixelSense -...</td>\n",
       "      <td>https://www.amazon.ca/Microsoft-Surface-Book-T...</td>\n",
       "      <td>Microsoft Surface Book 3 - 15\" Touch-Screen Pi...</td>\n",
       "      <td>2999</td>\n",
       "      <td>Microsoft</td>\n",
       "      <td>Surface Book 3</td>\n",
       "      <td>15</td>\n",
       "      <td>_3000 x 2000</td>\n",
       "      <td>Intel Core i7</td>\n",
       "      <td>NaN</td>\n",
       "      <td>NVIDIA</td>\n",
       "      <td>16</td>\n",
       "      <td>256 GB SSD</td>\n",
       "      <td>Windows 10</td>\n",
       "      <td>NaN</td>\n",
       "      <td>4</td>\n",
       "      <td>Intel</td>\n",
       "    </tr>\n",
       "    <tr>\n",
       "      <th>2</th>\n",
       "      <td>1715877814-82</td>\n",
       "      <td>https://www.amazon.ca/s?k=dell+laptop&amp;i=electr...</td>\n",
       "      <td>G15 5530 2023 Gaming Laptop ~ 15.6\" FHD 165Hz ...</td>\n",
       "      <td>https://www.amazon.ca/Dell-i9-13900HX-DDR4-2TB...</td>\n",
       "      <td>Dell G15 5530 2023 Gaming Laptop ~ 15.6\" FHD 1...</td>\n",
       "      <td>2995</td>\n",
       "      <td>Dell</td>\n",
       "      <td>G15 5530</td>\n",
       "      <td>15.6</td>\n",
       "      <td>_1920 x 1080</td>\n",
       "      <td>Intel Core i9</td>\n",
       "      <td>_2.9 GHz intel_core_i9</td>\n",
       "      <td>NVIDIA</td>\n",
       "      <td>64</td>\n",
       "      <td>2048 GB SSD</td>\n",
       "      <td>Windows 11 Pro</td>\n",
       "      <td>NaN</td>\n",
       "      <td>24</td>\n",
       "      <td>Intel</td>\n",
       "    </tr>\n",
       "    <tr>\n",
       "      <th>3</th>\n",
       "      <td>1715877520-1</td>\n",
       "      <td>https://www.amazon.ca/s?k=dell+laptop&amp;i=electr...</td>\n",
       "      <td>Vostro 7000 7620 Laptop (2022) | 16\" FHD+ | Co...</td>\n",
       "      <td>https://www.amazon.ca/Dell-Vostro-7000-7620-La...</td>\n",
       "      <td>Dell Vostro 7000 7620 Laptop (2022) | 16\" FHD+...</td>\n",
       "      <td>1999</td>\n",
       "      <td>Dell</td>\n",
       "      <td>Vostro 7620 Laptop</td>\n",
       "      <td>16 Inches</td>\n",
       "      <td>_1920 x 1200</td>\n",
       "      <td>Intel Core i7</td>\n",
       "      <td>_3.5 GHz core_i7</td>\n",
       "      <td>NVIDIA</td>\n",
       "      <td>8</td>\n",
       "      <td>1024 GB SSD</td>\n",
       "      <td>Windows 11 Pro</td>\n",
       "      <td>NaN</td>\n",
       "      <td>14</td>\n",
       "      <td>Intel</td>\n",
       "    </tr>\n",
       "    <tr>\n",
       "      <th>4</th>\n",
       "      <td>1715881880-17</td>\n",
       "      <td>https://www.amazon.ca/s?k=microsoft+laptop&amp;i=e...</td>\n",
       "      <td>Surface Book 2 15\"(Intel Core i7, 16GB Ram, 1 ...</td>\n",
       "      <td>https://www.amazon.ca/Microsoft-Surface-Book-I...</td>\n",
       "      <td>Microsoft Surface Book 2 15\"(Intel Core i7, 16...</td>\n",
       "      <td>2999</td>\n",
       "      <td>Microsoft</td>\n",
       "      <td>Surface Book 2</td>\n",
       "      <td>15</td>\n",
       "      <td>_3000 x 2000</td>\n",
       "      <td>Intel Core i7</td>\n",
       "      <td>_4.2 GHz core_i7</td>\n",
       "      <td>NVIDIA</td>\n",
       "      <td>16</td>\n",
       "      <td>1024 GB SSD</td>\n",
       "      <td>Windows 10 Pro</td>\n",
       "      <td>NaN</td>\n",
       "      <td>4</td>\n",
       "      <td>Intel</td>\n",
       "    </tr>\n",
       "  </tbody>\n",
       "</table>\n",
       "</div>"
      ],
      "text/plain": [
       "  web-scraper-order                              web-scraper-start-url  \\\n",
       "0    1715882222-101  https://www.amazon.ca/s?k=microsoft+laptop&i=e...   \n",
       "1    1715882215-100  https://www.amazon.ca/s?k=microsoft+laptop&i=e...   \n",
       "2     1715877814-82  https://www.amazon.ca/s?k=dell+laptop&i=electr...   \n",
       "3      1715877520-1  https://www.amazon.ca/s?k=dell+laptop&i=electr...   \n",
       "4     1715881880-17  https://www.amazon.ca/s?k=microsoft+laptop&i=e...   \n",
       "\n",
       "                                              single  \\\n",
       "0  Surface Book 2 (2017): 13.5\" Touchscreen Lapto...   \n",
       "1  Surface Book 3 - 15\" Touch-Screen PixelSense -...   \n",
       "2  G15 5530 2023 Gaming Laptop ~ 15.6\" FHD 165Hz ...   \n",
       "3  Vostro 7000 7620 Laptop (2022) | 16\" FHD+ | Co...   \n",
       "4  Surface Book 2 15\"(Intel Core i7, 16GB Ram, 1 ...   \n",
       "\n",
       "                                         single-href  \\\n",
       "0  https://www.amazon.ca/Microsoft-13-5-Surface-I...   \n",
       "1  https://www.amazon.ca/Microsoft-Surface-Book-T...   \n",
       "2  https://www.amazon.ca/Dell-i9-13900HX-DDR4-2TB...   \n",
       "3  https://www.amazon.ca/Dell-Vostro-7000-7620-La...   \n",
       "4  https://www.amazon.ca/Microsoft-Surface-Book-I...   \n",
       "\n",
       "                                               title price manufacturer  \\\n",
       "0  Microsoft Surface Book 2 (2017): 13.5\" Touchsc...  2287    Microsoft   \n",
       "1  Microsoft Surface Book 3 - 15\" Touch-Screen Pi...  2999    Microsoft   \n",
       "2  Dell G15 5530 2023 Gaming Laptop ~ 15.6\" FHD 1...  2995         Dell   \n",
       "3  Dell Vostro 7000 7620 Laptop (2022) | 16\" FHD+...  1999         Dell   \n",
       "4  Microsoft Surface Book 2 15\"(Intel Core i7, 16...  2999    Microsoft   \n",
       "\n",
       "           model_name screen_size display_resolution      cpu_model  \\\n",
       "0      Surface Book 2        13.5       _3000 x 2000  Intel Core i7   \n",
       "1      Surface Book 3          15       _3000 x 2000  Intel Core i7   \n",
       "2            G15 5530        15.6       _1920 x 1080  Intel Core i9   \n",
       "3  Vostro 7620 Laptop   16 Inches       _1920 x 1200  Intel Core i7   \n",
       "4      Surface Book 2          15       _3000 x 2000  Intel Core i7   \n",
       "\n",
       "                processor graphics_copressor  ram      storage  \\\n",
       "0        _4.2 GHz core_i7             NVIDIA    8   256 GB SSD   \n",
       "1                     NaN             NVIDIA   16   256 GB SSD   \n",
       "2  _2.9 GHz intel_core_i9             NVIDIA   64  2048 GB SSD   \n",
       "3        _3.5 GHz core_i7             NVIDIA    8  1024 GB SSD   \n",
       "4        _4.2 GHz core_i7             NVIDIA   16  1024 GB SSD   \n",
       "\n",
       "  operating_system weight  num_processors processor_brand  \n",
       "0   Windows 10 Pro    NaN               4           Intel  \n",
       "1       Windows 10    NaN               4           Intel  \n",
       "2   Windows 11 Pro    NaN              24           Intel  \n",
       "3   Windows 11 Pro    NaN              14           Intel  \n",
       "4   Windows 10 Pro    NaN               4           Intel  "
      ]
     },
     "execution_count": 7,
     "metadata": {},
     "output_type": "execute_result"
    }
   ],
   "source": [
    "df.head()"
   ]
  },
  {
   "cell_type": "code",
   "execution_count": 8,
   "id": "a4cf5b6e",
   "metadata": {},
   "outputs": [
    {
     "data": {
      "text/plain": [
       "array(['Microsoft', 'Dell', 'Samsung', 'Lenovo', 'Asus', 'Acer', 'HP',\n",
       "       'Apple', 'ACEMAGIC', 'LG', 'Ruzava'], dtype=object)"
      ]
     },
     "execution_count": 8,
     "metadata": {},
     "output_type": "execute_result"
    }
   ],
   "source": [
    "df['manufacturer'].unique()"
   ]
  },
  {
   "cell_type": "code",
   "execution_count": 9,
   "id": "53c47c3d",
   "metadata": {},
   "outputs": [
    {
     "data": {
      "text/plain": [
       "(1262, 19)"
      ]
     },
     "execution_count": 9,
     "metadata": {},
     "output_type": "execute_result"
    }
   ],
   "source": [
    "df.shape"
   ]
  },
  {
   "cell_type": "code",
   "execution_count": 10,
   "id": "1896bf04",
   "metadata": {},
   "outputs": [
    {
     "name": "stdout",
     "output_type": "stream",
     "text": [
      "<class 'pandas.core.frame.DataFrame'>\n",
      "RangeIndex: 1262 entries, 0 to 1261\n",
      "Data columns (total 19 columns):\n",
      " #   Column                 Non-Null Count  Dtype \n",
      "---  ------                 --------------  ----- \n",
      " 0   web-scraper-order      1262 non-null   object\n",
      " 1   web-scraper-start-url  1262 non-null   object\n",
      " 2   single                 1262 non-null   object\n",
      " 3   single-href            1262 non-null   object\n",
      " 4   title                  1262 non-null   object\n",
      " 5   price                  1262 non-null   object\n",
      " 6   manufacturer           1262 non-null   object\n",
      " 7   model_name             1113 non-null   object\n",
      " 8   screen_size            1262 non-null   object\n",
      " 9   display_resolution     1262 non-null   object\n",
      " 10  cpu_model              1262 non-null   object\n",
      " 11  processor              1209 non-null   object\n",
      " 12  graphics_copressor     1262 non-null   object\n",
      " 13  ram                    1262 non-null   int64 \n",
      " 14  storage                1262 non-null   object\n",
      " 15  operating_system       1262 non-null   object\n",
      " 16  weight                 633 non-null    object\n",
      " 17  num_processors         1262 non-null   int64 \n",
      " 18  processor_brand        1262 non-null   object\n",
      "dtypes: int64(2), object(17)\n",
      "memory usage: 187.5+ KB\n"
     ]
    }
   ],
   "source": [
    "df.info()"
   ]
  },
  {
   "cell_type": "code",
   "execution_count": 11,
   "id": "c2852d81",
   "metadata": {},
   "outputs": [
    {
     "data": {
      "text/plain": [
       "0"
      ]
     },
     "execution_count": 11,
     "metadata": {},
     "output_type": "execute_result"
    }
   ],
   "source": [
    "df.duplicated().sum()"
   ]
  },
  {
   "cell_type": "code",
   "execution_count": 12,
   "id": "c2c2b0dd",
   "metadata": {},
   "outputs": [
    {
     "data": {
      "text/plain": [
       "web-scraper-order          0\n",
       "web-scraper-start-url      0\n",
       "single                     0\n",
       "single-href                0\n",
       "title                      0\n",
       "price                      0\n",
       "manufacturer               0\n",
       "model_name               149\n",
       "screen_size                0\n",
       "display_resolution         0\n",
       "cpu_model                  0\n",
       "processor                 53\n",
       "graphics_copressor         0\n",
       "ram                        0\n",
       "storage                    0\n",
       "operating_system           0\n",
       "weight                   629\n",
       "num_processors             0\n",
       "processor_brand            0\n",
       "dtype: int64"
      ]
     },
     "execution_count": 12,
     "metadata": {},
     "output_type": "execute_result"
    }
   ],
   "source": [
    "df.isnull().sum()"
   ]
  },
  {
   "cell_type": "code",
   "execution_count": 13,
   "id": "dbdcef11",
   "metadata": {},
   "outputs": [],
   "source": [
    "cleaned_df = df.drop(columns=['web-scraper-order','web-scraper-start-url','single','single-href','weight'])"
   ]
  },
  {
   "cell_type": "code",
   "execution_count": 14,
   "id": "0b1898a8",
   "metadata": {},
   "outputs": [],
   "source": [
    "cleaned_df['ram'] = cleaned_df['ram'].astype('int32')"
   ]
  },
  {
   "cell_type": "code",
   "execution_count": 15,
   "id": "2c8c16f5",
   "metadata": {},
   "outputs": [],
   "source": [
    "cleaned_df['price'] = cleaned_df['price'].str.replace(',','', regex=False).astype(float)"
   ]
  },
  {
   "cell_type": "code",
   "execution_count": null,
   "id": "59f8d724",
   "metadata": {},
   "outputs": [],
   "source": []
  },
  {
   "cell_type": "code",
   "execution_count": 16,
   "id": "2a0e0236",
   "metadata": {},
   "outputs": [
    {
     "name": "stdout",
     "output_type": "stream",
     "text": [
      "<class 'pandas.core.frame.DataFrame'>\n",
      "RangeIndex: 1262 entries, 0 to 1261\n",
      "Data columns (total 14 columns):\n",
      " #   Column              Non-Null Count  Dtype  \n",
      "---  ------              --------------  -----  \n",
      " 0   title               1262 non-null   object \n",
      " 1   price               1262 non-null   float64\n",
      " 2   manufacturer        1262 non-null   object \n",
      " 3   model_name          1113 non-null   object \n",
      " 4   screen_size         1262 non-null   object \n",
      " 5   display_resolution  1262 non-null   object \n",
      " 6   cpu_model           1262 non-null   object \n",
      " 7   processor           1209 non-null   object \n",
      " 8   graphics_copressor  1262 non-null   object \n",
      " 9   ram                 1262 non-null   int32  \n",
      " 10  storage             1262 non-null   object \n",
      " 11  operating_system    1262 non-null   object \n",
      " 12  num_processors      1262 non-null   int64  \n",
      " 13  processor_brand     1262 non-null   object \n",
      "dtypes: float64(1), int32(1), int64(1), object(11)\n",
      "memory usage: 133.2+ KB\n"
     ]
    }
   ],
   "source": [
    "cleaned_df.info()"
   ]
  },
  {
   "cell_type": "code",
   "execution_count": 17,
   "id": "b2cd481c",
   "metadata": {},
   "outputs": [
    {
     "name": "stderr",
     "output_type": "stream",
     "text": [
      "/Users/shoaib/opt/anaconda3/lib/python3.9/site-packages/seaborn/distributions.py:2619: FutureWarning: `distplot` is a deprecated function and will be removed in a future version. Please adapt your code to use either `displot` (a figure-level function with similar flexibility) or `histplot` (an axes-level function for histograms).\n",
      "  warnings.warn(msg, FutureWarning)\n"
     ]
    },
    {
     "data": {
      "text/plain": [
       "<AxesSubplot:ylabel='Density'>"
      ]
     },
     "execution_count": 17,
     "metadata": {},
     "output_type": "execute_result"
    },
    {
     "data": {
      "image/png": "[encoded data removed]",
      "text/plain": [
       "<Figure size 640x480 with 1 Axes>"
      ]
     },
     "metadata": {},
     "output_type": "display_data"
    }
   ],
   "source": [
    "sns.distplot([cleaned_df['price']])"
   ]
  },
  {
   "cell_type": "code",
   "execution_count": 18,
   "id": "ebb7f9d4",
   "metadata": {},
   "outputs": [
    {
     "data": {
      "text/plain": [
       "<AxesSubplot:>"
      ]
     },
     "execution_count": 18,
     "metadata": {},
     "output_type": "execute_result"
    },
    {
     "data": {
      "image/png": "[encoded data removed]",
      "text/plain": [
       "<Figure size 640x480 with 1 Axes>"
      ]
     },
     "metadata": {},
     "output_type": "display_data"
    }
   ],
   "source": [
    "cleaned_df['manufacturer'].value_counts().plot(kind='bar')"
   ]
  },
  {
   "cell_type": "code",
   "execution_count": 23,
   "id": "064c5fc5",
   "metadata": {},
   "outputs": [
    {
     "data": {
      "text/plain": [
       "Acer         222\n",
       "HP           217\n",
       "Lenovo       207\n",
       "Dell         199\n",
       "Asus         198\n",
       "Microsoft     77\n",
       "Samsung       71\n",
       "Apple         64\n",
       "ACEMAGIC       3\n",
       "LG             3\n",
       "Ruzava         1\n",
       "Name: manufacturer, dtype: int64"
      ]
     },
     "execution_count": 23,
     "metadata": {},
     "output_type": "execute_result"
    }
   ],
   "source": [
    "cleaned_df['manufacturer'].value_counts()"
   ]
  },
  {
   "cell_type": "code",
   "execution_count": 24,
   "id": "462a079b",
   "metadata": {},
   "outputs": [],
   "source": [
    "# Remove rows where 'manufacturer' contains 'LG', 'Ruzava' or 'ACEMAGIC'\n",
    "cleaned_df = cleaned_df[~cleaned_df['manufacturer'].str.contains('LG|Ruzava|ACEMAGIC', case=False)]"
   ]
  },
  {
   "cell_type": "code",
   "execution_count": 25,
   "id": "116fa55a",
   "metadata": {},
   "outputs": [
    {
     "data": {
      "text/plain": [
       "Acer         222\n",
       "HP           217\n",
       "Lenovo       207\n",
       "Dell         199\n",
       "Asus         198\n",
       "Microsoft     77\n",
       "Samsung       71\n",
       "Apple         64\n",
       "Name: manufacturer, dtype: int64"
      ]
     },
     "execution_count": 25,
     "metadata": {},
     "output_type": "execute_result"
    }
   ],
   "source": [
    "cleaned_df['manufacturer'].value_counts()"
   ]
  },
  {
   "cell_type": "code",
   "execution_count": 26,
   "id": "1b90ffd2",
   "metadata": {},
   "outputs": [
    {
     "data": {
      "image/png": "[encoded data removed]",
      "text/plain": [
       "<Figure size 640x480 with 1 Axes>"
      ]
     },
     "metadata": {},
     "output_type": "display_data"
    }
   ],
   "source": [
    "sns.barplot(x=cleaned_df['manufacturer'], y=cleaned_df['price'])\n",
    "plt.xticks(rotation='vertical')\n",
    "plt.show()"
   ]
  },
  {
   "cell_type": "code",
   "execution_count": 27,
   "id": "a6ad330a",
   "metadata": {},
   "outputs": [],
   "source": [
    "def is_touchable(title):\n",
    "    keywords = ['touchscreen', 'touch screen', 'touch-screen']\n",
    "    for keyword in keywords:\n",
    "        if keyword.lower() in title.lower():\n",
    "            return 1\n",
    "    return 0"
   ]
  },
  {
   "cell_type": "code",
   "execution_count": 28,
   "id": "9b836bcf",
   "metadata": {},
   "outputs": [
    {
     "name": "stderr",
     "output_type": "stream",
     "text": [
      "/var/folders/xz/lwbfvlv571j_h6ypxn81t_pc0000gn/T/ipykernel_16524/1732135206.py:1: SettingWithCopyWarning: \n",
      "A value is trying to be set on a copy of a slice from a DataFrame.\n",
      "Try using .loc[row_indexer,col_indexer] = value instead\n",
      "\n",
      "See the caveats in the documentation: https://pandas.pydata.org/pandas-docs/stable/user_guide/indexing.html#returning-a-view-versus-a-copy\n",
      "  cleaned_df['touchable'] = cleaned_df['title'].apply(is_touchable)\n"
     ]
    }
   ],
   "source": [
    "cleaned_df['touchable'] = cleaned_df['title'].apply(is_touchable)"
   ]
  },
  {
   "cell_type": "code",
   "execution_count": 29,
   "id": "5a0dbca7",
   "metadata": {},
   "outputs": [
    {
     "data": {
      "text/html": [
       "<div>\n",
       "<style scoped>\n",
       "    .dataframe tbody tr th:only-of-type {\n",
       "        vertical-align: middle;\n",
       "    }\n",
       "\n",
       "    .dataframe tbody tr th {\n",
       "        vertical-align: top;\n",
       "    }\n",
       "\n",
       "    .dataframe thead th {\n",
       "        text-align: right;\n",
       "    }\n",
       "</style>\n",
       "<table border=\"1\" class=\"dataframe\">\n",
       "  <thead>\n",
       "    <tr style=\"text-align: right;\">\n",
       "      <th></th>\n",
       "      <th>title</th>\n",
       "      <th>price</th>\n",
       "      <th>manufacturer</th>\n",
       "      <th>model_name</th>\n",
       "      <th>screen_size</th>\n",
       "      <th>display_resolution</th>\n",
       "      <th>cpu_model</th>\n",
       "      <th>processor</th>\n",
       "      <th>graphics_copressor</th>\n",
       "      <th>ram</th>\n",
       "      <th>storage</th>\n",
       "      <th>operating_system</th>\n",
       "      <th>num_processors</th>\n",
       "      <th>processor_brand</th>\n",
       "      <th>touchable</th>\n",
       "    </tr>\n",
       "  </thead>\n",
       "  <tbody>\n",
       "    <tr>\n",
       "      <th>955</th>\n",
       "      <td>Lenovo IdeaPad 3i 15.6\" FHD Touchscreen Laptop...</td>\n",
       "      <td>839.0</td>\n",
       "      <td>Lenovo</td>\n",
       "      <td>Lenovo IdeaPad</td>\n",
       "      <td>15.6</td>\n",
       "      <td>_1920 x 1080</td>\n",
       "      <td>Intel Core i5</td>\n",
       "      <td>_2.5 GHz core_i5</td>\n",
       "      <td>Intel</td>\n",
       "      <td>40</td>\n",
       "      <td>1024 GB SSD</td>\n",
       "      <td>Windows 11</td>\n",
       "      <td>4</td>\n",
       "      <td>Intel</td>\n",
       "      <td>1</td>\n",
       "    </tr>\n",
       "    <tr>\n",
       "      <th>763</th>\n",
       "      <td>HP 15 inch Laptop, HD Display, Intel Processor...</td>\n",
       "      <td>379.0</td>\n",
       "      <td>HP</td>\n",
       "      <td>HP 15.6 inch Laptop PC 15-fd0000ca</td>\n",
       "      <td>15.6</td>\n",
       "      <td>_1366 x 768</td>\n",
       "      <td>Intel Processor N100</td>\n",
       "      <td>_3.4 GHz none</td>\n",
       "      <td>Intel</td>\n",
       "      <td>4</td>\n",
       "      <td>128 GB SSD</td>\n",
       "      <td>Windows 11 Home</td>\n",
       "      <td>4</td>\n",
       "      <td>Intel</td>\n",
       "      <td>0</td>\n",
       "    </tr>\n",
       "    <tr>\n",
       "      <th>85</th>\n",
       "      <td>Acer Nitro 5 Gaming Laptop 15.6\" FHD IPS 144Hz...</td>\n",
       "      <td>1862.0</td>\n",
       "      <td>Acer</td>\n",
       "      <td>AN515</td>\n",
       "      <td>15.6</td>\n",
       "      <td>_1920x1080</td>\n",
       "      <td>Intel Core i7</td>\n",
       "      <td>_2.3 GHz core_i7_family</td>\n",
       "      <td>NVIDIA</td>\n",
       "      <td>32</td>\n",
       "      <td>1024 GB SSD</td>\n",
       "      <td>Windows 11 Home</td>\n",
       "      <td>8</td>\n",
       "      <td>Intel</td>\n",
       "      <td>0</td>\n",
       "    </tr>\n",
       "    <tr>\n",
       "      <th>1155</th>\n",
       "      <td>Lenovo ThinkPad E14 G3 14\" FHD Business Laptop...</td>\n",
       "      <td>1099.0</td>\n",
       "      <td>Lenovo</td>\n",
       "      <td>ThinkPad</td>\n",
       "      <td>14</td>\n",
       "      <td>_1920 x 1080</td>\n",
       "      <td>AMD Ryzen 7</td>\n",
       "      <td>_1.8 GHz ryzen_7</td>\n",
       "      <td>AMD</td>\n",
       "      <td>16</td>\n",
       "      <td>512 GB SSD</td>\n",
       "      <td>Windows 10 Pro</td>\n",
       "      <td>8</td>\n",
       "      <td>AMD</td>\n",
       "      <td>0</td>\n",
       "    </tr>\n",
       "    <tr>\n",
       "      <th>69</th>\n",
       "      <td>ASUS TUF Gaming F15 (2023) Gaming Laptop, 15.6...</td>\n",
       "      <td>1899.0</td>\n",
       "      <td>Asus</td>\n",
       "      <td>ASUS TUF Gaming F15 (2023) Gaming Laptop</td>\n",
       "      <td>15.6</td>\n",
       "      <td>_1920 x 1080 pixel</td>\n",
       "      <td>Intel Core i9</td>\n",
       "      <td>_2.6 GHz core_i9</td>\n",
       "      <td>NVIDIA</td>\n",
       "      <td>16</td>\n",
       "      <td>1024 GB SSD</td>\n",
       "      <td>_Windows 11 Home</td>\n",
       "      <td>14</td>\n",
       "      <td>_Intel</td>\n",
       "      <td>0</td>\n",
       "    </tr>\n",
       "    <tr>\n",
       "      <th>605</th>\n",
       "      <td>ASUS Vivobook 14 14\" FHD Lightweight Laptop, I...</td>\n",
       "      <td>949.0</td>\n",
       "      <td>Asus</td>\n",
       "      <td>VivoBook</td>\n",
       "      <td>14</td>\n",
       "      <td>_1920 x 1080 pixels</td>\n",
       "      <td>Intel Core i5</td>\n",
       "      <td>_1.3 GHz core_i5</td>\n",
       "      <td>Intel</td>\n",
       "      <td>40</td>\n",
       "      <td>1024 GB SSD</td>\n",
       "      <td>_Windows 11 Pro</td>\n",
       "      <td>10</td>\n",
       "      <td>_Intel</td>\n",
       "      <td>0</td>\n",
       "    </tr>\n",
       "    <tr>\n",
       "      <th>432</th>\n",
       "      <td>ASUS B1502CBA-P71-CA ExpertBook B1 Business La...</td>\n",
       "      <td>1323.0</td>\n",
       "      <td>Asus</td>\n",
       "      <td>Asus B1 Expertbook</td>\n",
       "      <td>15.6</td>\n",
       "      <td>_1920 x 1080 pixel</td>\n",
       "      <td>Intel Core i7</td>\n",
       "      <td>_1.7 GHz apple_ci7</td>\n",
       "      <td>Intel</td>\n",
       "      <td>16</td>\n",
       "      <td>512 GB SSD</td>\n",
       "      <td>_Windows 11 Pro</td>\n",
       "      <td>1</td>\n",
       "      <td>_Intel</td>\n",
       "      <td>0</td>\n",
       "    </tr>\n",
       "    <tr>\n",
       "      <th>201</th>\n",
       "      <td>Dell G16 16\" QHD 165Hz Gaming Laptop, Intel Co...</td>\n",
       "      <td>2049.0</td>\n",
       "      <td>Dell</td>\n",
       "      <td>NaN</td>\n",
       "      <td>16 Inches</td>\n",
       "      <td>_2560 x 1600</td>\n",
       "      <td>Intel Core i7</td>\n",
       "      <td>_2.7 GHz core_i7</td>\n",
       "      <td>NVIDIA</td>\n",
       "      <td>32</td>\n",
       "      <td>2048 GB SSD</td>\n",
       "      <td>Windows 11 Pro</td>\n",
       "      <td>14</td>\n",
       "      <td>Intel</td>\n",
       "      <td>0</td>\n",
       "    </tr>\n",
       "    <tr>\n",
       "      <th>738</th>\n",
       "      <td>HP 15.6\" HD Everyday Laptop, Intel Pentium Sil...</td>\n",
       "      <td>579.0</td>\n",
       "      <td>HP</td>\n",
       "      <td>NaN</td>\n",
       "      <td>15.6</td>\n",
       "      <td>_1366 x 768</td>\n",
       "      <td>Intel Pentium</td>\n",
       "      <td>_1.1 GHz pentium</td>\n",
       "      <td>Intel</td>\n",
       "      <td>16</td>\n",
       "      <td>256 GB SSD</td>\n",
       "      <td>Windows 11</td>\n",
       "      <td>4</td>\n",
       "      <td>AMD</td>\n",
       "      <td>0</td>\n",
       "    </tr>\n",
       "    <tr>\n",
       "      <th>1071</th>\n",
       "      <td>Acer Aspire 3 A314-23P-R3QA Slim Laptop | 14.0...</td>\n",
       "      <td>565.0</td>\n",
       "      <td>Acer</td>\n",
       "      <td>Aspire 3</td>\n",
       "      <td>14</td>\n",
       "      <td>_1920 x 1080</td>\n",
       "      <td>AMD Ryzen 5</td>\n",
       "      <td>_4.3 ryzen_5</td>\n",
       "      <td>AMD</td>\n",
       "      <td>8</td>\n",
       "      <td>512 GB SSD</td>\n",
       "      <td>Windows 11</td>\n",
       "      <td>4</td>\n",
       "      <td>AMD</td>\n",
       "      <td>0</td>\n",
       "    </tr>\n",
       "  </tbody>\n",
       "</table>\n",
       "</div>"
      ],
      "text/plain": [
       "                                                  title   price manufacturer  \\\n",
       "955   Lenovo IdeaPad 3i 15.6\" FHD Touchscreen Laptop...   839.0       Lenovo   \n",
       "763   HP 15 inch Laptop, HD Display, Intel Processor...   379.0           HP   \n",
       "85    Acer Nitro 5 Gaming Laptop 15.6\" FHD IPS 144Hz...  1862.0         Acer   \n",
       "1155  Lenovo ThinkPad E14 G3 14\" FHD Business Laptop...  1099.0       Lenovo   \n",
       "69    ASUS TUF Gaming F15 (2023) Gaming Laptop, 15.6...  1899.0         Asus   \n",
       "605   ASUS Vivobook 14 14\" FHD Lightweight Laptop, I...   949.0         Asus   \n",
       "432   ASUS B1502CBA-P71-CA ExpertBook B1 Business La...  1323.0         Asus   \n",
       "201   Dell G16 16\" QHD 165Hz Gaming Laptop, Intel Co...  2049.0         Dell   \n",
       "738   HP 15.6\" HD Everyday Laptop, Intel Pentium Sil...   579.0           HP   \n",
       "1071  Acer Aspire 3 A314-23P-R3QA Slim Laptop | 14.0...   565.0         Acer   \n",
       "\n",
       "                                    model_name screen_size  \\\n",
       "955                             Lenovo IdeaPad        15.6   \n",
       "763         HP 15.6 inch Laptop PC 15-fd0000ca        15.6   \n",
       "85                                       AN515        15.6   \n",
       "1155                                  ThinkPad          14   \n",
       "69    ASUS TUF Gaming F15 (2023) Gaming Laptop        15.6   \n",
       "605                                   VivoBook          14   \n",
       "432                         Asus B1 Expertbook        15.6   \n",
       "201                                        NaN   16 Inches   \n",
       "738                                        NaN        15.6   \n",
       "1071                                  Aspire 3          14   \n",
       "\n",
       "       display_resolution             cpu_model                processor  \\\n",
       "955          _1920 x 1080         Intel Core i5         _2.5 GHz core_i5   \n",
       "763           _1366 x 768  Intel Processor N100            _3.4 GHz none   \n",
       "85             _1920x1080         Intel Core i7  _2.3 GHz core_i7_family   \n",
       "1155         _1920 x 1080           AMD Ryzen 7         _1.8 GHz ryzen_7   \n",
       "69     _1920 x 1080 pixel         Intel Core i9         _2.6 GHz core_i9   \n",
       "605   _1920 x 1080 pixels         Intel Core i5         _1.3 GHz core_i5   \n",
       "432    _1920 x 1080 pixel         Intel Core i7       _1.7 GHz apple_ci7   \n",
       "201          _2560 x 1600         Intel Core i7         _2.7 GHz core_i7   \n",
       "738           _1366 x 768         Intel Pentium         _1.1 GHz pentium   \n",
       "1071         _1920 x 1080           AMD Ryzen 5             _4.3 ryzen_5   \n",
       "\n",
       "     graphics_copressor  ram      storage  operating_system  num_processors  \\\n",
       "955               Intel   40  1024 GB SSD        Windows 11               4   \n",
       "763               Intel    4   128 GB SSD   Windows 11 Home               4   \n",
       "85               NVIDIA   32  1024 GB SSD   Windows 11 Home               8   \n",
       "1155                AMD   16   512 GB SSD    Windows 10 Pro               8   \n",
       "69               NVIDIA   16  1024 GB SSD  _Windows 11 Home              14   \n",
       "605               Intel   40  1024 GB SSD   _Windows 11 Pro              10   \n",
       "432               Intel   16   512 GB SSD   _Windows 11 Pro               1   \n",
       "201              NVIDIA   32  2048 GB SSD    Windows 11 Pro              14   \n",
       "738               Intel   16   256 GB SSD        Windows 11               4   \n",
       "1071                AMD    8   512 GB SSD        Windows 11               4   \n",
       "\n",
       "     processor_brand  touchable  \n",
       "955            Intel          1  \n",
       "763            Intel          0  \n",
       "85             Intel          0  \n",
       "1155             AMD          0  \n",
       "69            _Intel          0  \n",
       "605           _Intel          0  \n",
       "432           _Intel          0  \n",
       "201            Intel          0  \n",
       "738              AMD          0  \n",
       "1071             AMD          0  "
      ]
     },
     "execution_count": 29,
     "metadata": {},
     "output_type": "execute_result"
    }
   ],
   "source": [
    "cleaned_df.sample(10)"
   ]
  },
  {
   "cell_type": "code",
   "execution_count": 30,
   "id": "c7d3405d",
   "metadata": {},
   "outputs": [
    {
     "data": {
      "text/plain": [
       "<AxesSubplot:>"
      ]
     },
     "execution_count": 30,
     "metadata": {},
     "output_type": "execute_result"
    },
    {
     "data": {
      "image/png": "[encoded data removed]",
      "text/plain": [
       "<Figure size 640x480 with 1 Axes>"
      ]
     },
     "metadata": {},
     "output_type": "display_data"
    }
   ],
   "source": [
    "cleaned_df['touchable'].value_counts().plot(kind='bar')"
   ]
  },
  {
   "cell_type": "code",
   "execution_count": 31,
   "id": "030378c5",
   "metadata": {},
   "outputs": [
    {
     "data": {
      "text/plain": [
       "<AxesSubplot:xlabel='touchable', ylabel='price'>"
      ]
     },
     "execution_count": 31,
     "metadata": {},
     "output_type": "execute_result"
    },
    {
     "data": {
      "image/png": "[encoded data removed]",
      "text/plain": [
       "<Figure size 640x480 with 1 Axes>"
      ]
     },
     "metadata": {},
     "output_type": "display_data"
    }
   ],
   "source": [
    "sns.barplot(x=cleaned_df['touchable'], y=cleaned_df['price'])"
   ]
  },
  {
   "cell_type": "code",
   "execution_count": 32,
   "id": "e6ee2c4b",
   "metadata": {},
   "outputs": [],
   "source": [
    "def is_ips(title):\n",
    "    if \"IPS\".lower() in title.lower():\n",
    "            return 1\n",
    "    return 0"
   ]
  },
  {
   "cell_type": "code",
   "execution_count": 33,
   "id": "2bbaaa6a",
   "metadata": {},
   "outputs": [
    {
     "name": "stderr",
     "output_type": "stream",
     "text": [
      "/var/folders/xz/lwbfvlv571j_h6ypxn81t_pc0000gn/T/ipykernel_16524/602139396.py:1: SettingWithCopyWarning: \n",
      "A value is trying to be set on a copy of a slice from a DataFrame.\n",
      "Try using .loc[row_indexer,col_indexer] = value instead\n",
      "\n",
      "See the caveats in the documentation: https://pandas.pydata.org/pandas-docs/stable/user_guide/indexing.html#returning-a-view-versus-a-copy\n",
      "  cleaned_df['ips'] = cleaned_df['title'].apply(is_ips)\n"
     ]
    }
   ],
   "source": [
    "cleaned_df['ips'] = cleaned_df['title'].apply(is_ips)"
   ]
  },
  {
   "cell_type": "code",
   "execution_count": 34,
   "id": "5c6cec50",
   "metadata": {},
   "outputs": [
    {
     "data": {
      "text/html": [
       "<div>\n",
       "<style scoped>\n",
       "    .dataframe tbody tr th:only-of-type {\n",
       "        vertical-align: middle;\n",
       "    }\n",
       "\n",
       "    .dataframe tbody tr th {\n",
       "        vertical-align: top;\n",
       "    }\n",
       "\n",
       "    .dataframe thead th {\n",
       "        text-align: right;\n",
       "    }\n",
       "</style>\n",
       "<table border=\"1\" class=\"dataframe\">\n",
       "  <thead>\n",
       "    <tr style=\"text-align: right;\">\n",
       "      <th></th>\n",
       "      <th>title</th>\n",
       "      <th>price</th>\n",
       "      <th>manufacturer</th>\n",
       "      <th>model_name</th>\n",
       "      <th>screen_size</th>\n",
       "      <th>display_resolution</th>\n",
       "      <th>cpu_model</th>\n",
       "      <th>processor</th>\n",
       "      <th>graphics_copressor</th>\n",
       "      <th>ram</th>\n",
       "      <th>storage</th>\n",
       "      <th>operating_system</th>\n",
       "      <th>num_processors</th>\n",
       "      <th>processor_brand</th>\n",
       "      <th>touchable</th>\n",
       "      <th>ips</th>\n",
       "    </tr>\n",
       "  </thead>\n",
       "  <tbody>\n",
       "    <tr>\n",
       "      <th>963</th>\n",
       "      <td>Acer Swift Ultra Thin and Light EVO, 13.3\" QHD...</td>\n",
       "      <td>1507.0</td>\n",
       "      <td>Acer</td>\n",
       "      <td>Spin 3</td>\n",
       "      <td>13.3</td>\n",
       "      <td>_2560 x 1600</td>\n",
       "      <td>Intel Core i7</td>\n",
       "      <td>_2.8 GHz core_i7_family</td>\n",
       "      <td>Intel</td>\n",
       "      <td>16</td>\n",
       "      <td>512 GB SSD</td>\n",
       "      <td>Windows 10 Home</td>\n",
       "      <td>4</td>\n",
       "      <td>Intel</td>\n",
       "      <td>1</td>\n",
       "      <td>1</td>\n",
       "    </tr>\n",
       "    <tr>\n",
       "      <th>688</th>\n",
       "      <td>HP Stream 14\" HD BrightView Laptop, Intel Cele...</td>\n",
       "      <td>449.0</td>\n",
       "      <td>HP</td>\n",
       "      <td>Stream</td>\n",
       "      <td>14</td>\n",
       "      <td>_1366 x 768</td>\n",
       "      <td>Intel Celeron</td>\n",
       "      <td>_1.1 GHz celeron_n</td>\n",
       "      <td>Intel</td>\n",
       "      <td>16</td>\n",
       "      <td>64 GB SSD</td>\n",
       "      <td>Windows 11</td>\n",
       "      <td>2</td>\n",
       "      <td>Intel</td>\n",
       "      <td>0</td>\n",
       "      <td>0</td>\n",
       "    </tr>\n",
       "    <tr>\n",
       "      <th>922</th>\n",
       "      <td>Lenovo Ideapad 3i 14\" FHD Laptop, Intel Core i...</td>\n",
       "      <td>699.0</td>\n",
       "      <td>Lenovo</td>\n",
       "      <td>IdeaPad</td>\n",
       "      <td>14</td>\n",
       "      <td>_1920 x 1080</td>\n",
       "      <td>Intel Core i5</td>\n",
       "      <td>_2.5 GHz core_i5</td>\n",
       "      <td>Intel</td>\n",
       "      <td>16</td>\n",
       "      <td>512 GB SSD</td>\n",
       "      <td>Windows 11 Pro</td>\n",
       "      <td>4</td>\n",
       "      <td>Intel</td>\n",
       "      <td>0</td>\n",
       "      <td>0</td>\n",
       "    </tr>\n",
       "    <tr>\n",
       "      <th>291</th>\n",
       "      <td>Dell XPS 15.6\" FHD+ (1920x1200) IPS Laptop 202...</td>\n",
       "      <td>2280.0</td>\n",
       "      <td>Dell</td>\n",
       "      <td>XPS 15</td>\n",
       "      <td>15.6</td>\n",
       "      <td>_1920 x 1200</td>\n",
       "      <td>Intel Core i7</td>\n",
       "      <td>_3 GHz core_i7_family</td>\n",
       "      <td>NVIDIA</td>\n",
       "      <td>32</td>\n",
       "      <td>1024 GB SSD</td>\n",
       "      <td>Windows 11 Home</td>\n",
       "      <td>14</td>\n",
       "      <td>Intel</td>\n",
       "      <td>0</td>\n",
       "      <td>1</td>\n",
       "    </tr>\n",
       "    <tr>\n",
       "      <th>149</th>\n",
       "      <td>ASUS ROG Strix G17 17.3\" 144Hz FHD Gaming Lapt...</td>\n",
       "      <td>2449.0</td>\n",
       "      <td>Asus</td>\n",
       "      <td>ROG Strix</td>\n",
       "      <td>17.3 Inches</td>\n",
       "      <td>_1920 x 1080 pixel</td>\n",
       "      <td>AMD Ryzen 7</td>\n",
       "      <td>_3.2 GHz ryzen_7</td>\n",
       "      <td>NVIDIA</td>\n",
       "      <td>64</td>\n",
       "      <td>4096 GB SSD</td>\n",
       "      <td>_Windows 11 Pro</td>\n",
       "      <td>8</td>\n",
       "      <td>_AMD</td>\n",
       "      <td>0</td>\n",
       "      <td>0</td>\n",
       "    </tr>\n",
       "    <tr>\n",
       "      <th>515</th>\n",
       "      <td>Dell Inspiron 15.6\" FHD Touchscreen Business L...</td>\n",
       "      <td>1199.0</td>\n",
       "      <td>Dell</td>\n",
       "      <td>Dell Inspiron</td>\n",
       "      <td>15.6</td>\n",
       "      <td>_1920 x 1080</td>\n",
       "      <td>Intel Core i7</td>\n",
       "      <td>_1.7 GHz core_i7</td>\n",
       "      <td>Intel</td>\n",
       "      <td>16</td>\n",
       "      <td>512 GB SSD</td>\n",
       "      <td>Windows 11</td>\n",
       "      <td>10</td>\n",
       "      <td>Intel</td>\n",
       "      <td>1</td>\n",
       "      <td>0</td>\n",
       "    </tr>\n",
       "    <tr>\n",
       "      <th>647</th>\n",
       "      <td>Dell 15 3000 Inspiron 15.6\" 3530 15\" Touchscre...</td>\n",
       "      <td>1259.0</td>\n",
       "      <td>Dell</td>\n",
       "      <td>Inspiron</td>\n",
       "      <td>15.6</td>\n",
       "      <td>_1920 x 1080</td>\n",
       "      <td>Intel Core i7</td>\n",
       "      <td>_1.7 GHz core_i7</td>\n",
       "      <td>Intel</td>\n",
       "      <td>32</td>\n",
       "      <td>1024 GB SSD</td>\n",
       "      <td>Windows 11 Pro</td>\n",
       "      <td>10</td>\n",
       "      <td>Intel</td>\n",
       "      <td>1</td>\n",
       "      <td>0</td>\n",
       "    </tr>\n",
       "    <tr>\n",
       "      <th>495</th>\n",
       "      <td>ASUS ExpertBook B5 Business Laptop, 13.3Ó FHD ...</td>\n",
       "      <td>1089.0</td>\n",
       "      <td>Asus</td>\n",
       "      <td>NaN</td>\n",
       "      <td>13.3</td>\n",
       "      <td>_1920 x 1080 pixels</td>\n",
       "      <td>Intel Core i5</td>\n",
       "      <td>_2.4 GHz core_i5</td>\n",
       "      <td>Intel</td>\n",
       "      <td>16</td>\n",
       "      <td>512 GB SSD</td>\n",
       "      <td>_Windows 10 Pro</td>\n",
       "      <td>4</td>\n",
       "      <td>_Intel</td>\n",
       "      <td>0</td>\n",
       "      <td>0</td>\n",
       "    </tr>\n",
       "    <tr>\n",
       "      <th>99</th>\n",
       "      <td>ASUS TUF F17 Gaming Laptop, 17.3\" 144Hz FHD IP...</td>\n",
       "      <td>1379.0</td>\n",
       "      <td>Asus</td>\n",
       "      <td>ASUS TUF Gaming F1</td>\n",
       "      <td>17.3 Inches</td>\n",
       "      <td>_1920 x 1080 pixels</td>\n",
       "      <td>Intel Core i5</td>\n",
       "      <td>_3 GHz core_i5</td>\n",
       "      <td>NVIDIA</td>\n",
       "      <td>8</td>\n",
       "      <td>512 GB SSD</td>\n",
       "      <td>_Windows 11 Home</td>\n",
       "      <td>6</td>\n",
       "      <td>_Intel</td>\n",
       "      <td>0</td>\n",
       "      <td>1</td>\n",
       "    </tr>\n",
       "    <tr>\n",
       "      <th>1135</th>\n",
       "      <td>Dell Inspiron 15 3535 Personal Laptop 2023 15....</td>\n",
       "      <td>930.0</td>\n",
       "      <td>Dell</td>\n",
       "      <td>Inspiron 15 3535</td>\n",
       "      <td>15.6</td>\n",
       "      <td>_1920 x 1080</td>\n",
       "      <td>AMD Ryzen 5</td>\n",
       "      <td>_1.9 GHz ryzen_5</td>\n",
       "      <td>AMD</td>\n",
       "      <td>32</td>\n",
       "      <td>1024 GB SSD</td>\n",
       "      <td>Windows 11 Home</td>\n",
       "      <td>6</td>\n",
       "      <td>AMD</td>\n",
       "      <td>0</td>\n",
       "      <td>0</td>\n",
       "    </tr>\n",
       "  </tbody>\n",
       "</table>\n",
       "</div>"
      ],
      "text/plain": [
       "                                                  title   price manufacturer  \\\n",
       "963   Acer Swift Ultra Thin and Light EVO, 13.3\" QHD...  1507.0         Acer   \n",
       "688   HP Stream 14\" HD BrightView Laptop, Intel Cele...   449.0           HP   \n",
       "922   Lenovo Ideapad 3i 14\" FHD Laptop, Intel Core i...   699.0       Lenovo   \n",
       "291   Dell XPS 15.6\" FHD+ (1920x1200) IPS Laptop 202...  2280.0         Dell   \n",
       "149   ASUS ROG Strix G17 17.3\" 144Hz FHD Gaming Lapt...  2449.0         Asus   \n",
       "515   Dell Inspiron 15.6\" FHD Touchscreen Business L...  1199.0         Dell   \n",
       "647   Dell 15 3000 Inspiron 15.6\" 3530 15\" Touchscre...  1259.0         Dell   \n",
       "495   ASUS ExpertBook B5 Business Laptop, 13.3Ó FHD ...  1089.0         Asus   \n",
       "99    ASUS TUF F17 Gaming Laptop, 17.3\" 144Hz FHD IP...  1379.0         Asus   \n",
       "1135  Dell Inspiron 15 3535 Personal Laptop 2023 15....   930.0         Dell   \n",
       "\n",
       "              model_name  screen_size   display_resolution      cpu_model  \\\n",
       "963               Spin 3         13.3         _2560 x 1600  Intel Core i7   \n",
       "688               Stream           14          _1366 x 768  Intel Celeron   \n",
       "922              IdeaPad           14         _1920 x 1080  Intel Core i5   \n",
       "291               XPS 15         15.6         _1920 x 1200  Intel Core i7   \n",
       "149            ROG Strix  17.3 Inches   _1920 x 1080 pixel    AMD Ryzen 7   \n",
       "515        Dell Inspiron         15.6         _1920 x 1080  Intel Core i7   \n",
       "647             Inspiron         15.6         _1920 x 1080  Intel Core i7   \n",
       "495                  NaN         13.3  _1920 x 1080 pixels  Intel Core i5   \n",
       "99    ASUS TUF Gaming F1  17.3 Inches  _1920 x 1080 pixels  Intel Core i5   \n",
       "1135    Inspiron 15 3535         15.6         _1920 x 1080    AMD Ryzen 5   \n",
       "\n",
       "                    processor graphics_copressor  ram      storage  \\\n",
       "963   _2.8 GHz core_i7_family              Intel   16   512 GB SSD   \n",
       "688        _1.1 GHz celeron_n              Intel   16    64 GB SSD   \n",
       "922          _2.5 GHz core_i5              Intel   16   512 GB SSD   \n",
       "291     _3 GHz core_i7_family             NVIDIA   32  1024 GB SSD   \n",
       "149          _3.2 GHz ryzen_7             NVIDIA   64  4096 GB SSD   \n",
       "515          _1.7 GHz core_i7              Intel   16   512 GB SSD   \n",
       "647          _1.7 GHz core_i7              Intel   32  1024 GB SSD   \n",
       "495          _2.4 GHz core_i5              Intel   16   512 GB SSD   \n",
       "99             _3 GHz core_i5             NVIDIA    8   512 GB SSD   \n",
       "1135         _1.9 GHz ryzen_5                AMD   32  1024 GB SSD   \n",
       "\n",
       "      operating_system  num_processors processor_brand  touchable  ips  \n",
       "963    Windows 10 Home               4           Intel          1    1  \n",
       "688         Windows 11               2           Intel          0    0  \n",
       "922     Windows 11 Pro               4           Intel          0    0  \n",
       "291    Windows 11 Home              14           Intel          0    1  \n",
       "149    _Windows 11 Pro               8            _AMD          0    0  \n",
       "515         Windows 11              10           Intel          1    0  \n",
       "647     Windows 11 Pro              10           Intel          1    0  \n",
       "495    _Windows 10 Pro               4          _Intel          0    0  \n",
       "99    _Windows 11 Home               6          _Intel          0    1  \n",
       "1135   Windows 11 Home               6             AMD          0    0  "
      ]
     },
     "execution_count": 34,
     "metadata": {},
     "output_type": "execute_result"
    }
   ],
   "source": [
    "cleaned_df.sample(10)"
   ]
  },
  {
   "cell_type": "code",
   "execution_count": 35,
   "id": "0ce77618",
   "metadata": {},
   "outputs": [
    {
     "data": {
      "text/plain": [
       "<AxesSubplot:>"
      ]
     },
     "execution_count": 35,
     "metadata": {},
     "output_type": "execute_result"
    },
    {
     "data": {
      "image/png": "[encoded data removed]",
      "text/plain": [
       "<Figure size 640x480 with 1 Axes>"
      ]
     },
     "metadata": {},
     "output_type": "display_data"
    }
   ],
   "source": [
    "cleaned_df['ips'].value_counts().plot(kind='bar')"
   ]
  },
  {
   "cell_type": "code",
   "execution_count": 36,
   "id": "f79607a0",
   "metadata": {},
   "outputs": [
    {
     "data": {
      "text/plain": [
       "<AxesSubplot:xlabel='ips', ylabel='price'>"
      ]
     },
     "execution_count": 36,
     "metadata": {},
     "output_type": "execute_result"
    },
    {
     "data": {
      "image/png": "[encoded data removed]",
      "text/plain": [
       "<Figure size 640x480 with 1 Axes>"
      ]
     },
     "metadata": {},
     "output_type": "display_data"
    }
   ],
   "source": [
    "sns.barplot(x=cleaned_df['ips'], y=cleaned_df['price'])"
   ]
  },
  {
   "cell_type": "code",
   "execution_count": 37,
   "id": "e87e20e1",
   "metadata": {},
   "outputs": [],
   "source": [
    "new = cleaned_df['display_resolution'].str.split('x', n=1, expand=True)"
   ]
  },
  {
   "cell_type": "code",
   "execution_count": 38,
   "id": "01ceafce",
   "metadata": {},
   "outputs": [
    {
     "name": "stderr",
     "output_type": "stream",
     "text": [
      "/var/folders/xz/lwbfvlv571j_h6ypxn81t_pc0000gn/T/ipykernel_16524/3010070856.py:1: SettingWithCopyWarning: \n",
      "A value is trying to be set on a copy of a slice from a DataFrame.\n",
      "Try using .loc[row_indexer,col_indexer] = value instead\n",
      "\n",
      "See the caveats in the documentation: https://pandas.pydata.org/pandas-docs/stable/user_guide/indexing.html#returning-a-view-versus-a-copy\n",
      "  cleaned_df['x_res'] = new[0]\n",
      "/var/folders/xz/lwbfvlv571j_h6ypxn81t_pc0000gn/T/ipykernel_16524/3010070856.py:2: SettingWithCopyWarning: \n",
      "A value is trying to be set on a copy of a slice from a DataFrame.\n",
      "Try using .loc[row_indexer,col_indexer] = value instead\n",
      "\n",
      "See the caveats in the documentation: https://pandas.pydata.org/pandas-docs/stable/user_guide/indexing.html#returning-a-view-versus-a-copy\n",
      "  cleaned_df['y_res'] = new[1]\n"
     ]
    }
   ],
   "source": [
    "cleaned_df['x_res'] = new[0]\n",
    "cleaned_df['y_res'] = new[1]"
   ]
  },
  {
   "cell_type": "code",
   "execution_count": 39,
   "id": "cff5127a",
   "metadata": {},
   "outputs": [
    {
     "data": {
      "text/html": [
       "<div>\n",
       "<style scoped>\n",
       "    .dataframe tbody tr th:only-of-type {\n",
       "        vertical-align: middle;\n",
       "    }\n",
       "\n",
       "    .dataframe tbody tr th {\n",
       "        vertical-align: top;\n",
       "    }\n",
       "\n",
       "    .dataframe thead th {\n",
       "        text-align: right;\n",
       "    }\n",
       "</style>\n",
       "<table border=\"1\" class=\"dataframe\">\n",
       "  <thead>\n",
       "    <tr style=\"text-align: right;\">\n",
       "      <th></th>\n",
       "      <th>title</th>\n",
       "      <th>price</th>\n",
       "      <th>manufacturer</th>\n",
       "      <th>model_name</th>\n",
       "      <th>screen_size</th>\n",
       "      <th>display_resolution</th>\n",
       "      <th>cpu_model</th>\n",
       "      <th>processor</th>\n",
       "      <th>graphics_copressor</th>\n",
       "      <th>ram</th>\n",
       "      <th>storage</th>\n",
       "      <th>operating_system</th>\n",
       "      <th>num_processors</th>\n",
       "      <th>processor_brand</th>\n",
       "      <th>touchable</th>\n",
       "      <th>ips</th>\n",
       "      <th>x_res</th>\n",
       "      <th>y_res</th>\n",
       "    </tr>\n",
       "  </thead>\n",
       "  <tbody>\n",
       "    <tr>\n",
       "      <th>270</th>\n",
       "      <td>Acer Nitro 17 Gaming Laptop 2023 17.3Ã WQXGA ...</td>\n",
       "      <td>2199.0</td>\n",
       "      <td>Acer</td>\n",
       "      <td>Nitro 17</td>\n",
       "      <td>17.3 Inches</td>\n",
       "      <td>_2560 x 1600</td>\n",
       "      <td>AMD Ryzen 7</td>\n",
       "      <td>_2.8 GHz ryzen_7</td>\n",
       "      <td>NVIDIA</td>\n",
       "      <td>16</td>\n",
       "      <td>1024 GB SSD</td>\n",
       "      <td>Windows 11 Home</td>\n",
       "      <td>8</td>\n",
       "      <td>AMD</td>\n",
       "      <td>0</td>\n",
       "      <td>1</td>\n",
       "      <td>_2560</td>\n",
       "      <td>1600</td>\n",
       "    </tr>\n",
       "    <tr>\n",
       "      <th>166</th>\n",
       "      <td>Acer Nitro 5 17 - Laptop - 17.3\" FHD IPS - 144...</td>\n",
       "      <td>2307.0</td>\n",
       "      <td>Acer</td>\n",
       "      <td>Nitro 5 17</td>\n",
       "      <td>17.3 Inches</td>\n",
       "      <td>_1920 x 1080</td>\n",
       "      <td>Intel Core i5</td>\n",
       "      <td>_2.1 GHz core_i5_family</td>\n",
       "      <td>NVIDIA</td>\n",
       "      <td>64</td>\n",
       "      <td>4096 GB SSD</td>\n",
       "      <td>Windows 10 Pro</td>\n",
       "      <td>8</td>\n",
       "      <td>Intel</td>\n",
       "      <td>0</td>\n",
       "      <td>1</td>\n",
       "      <td>_1920</td>\n",
       "      <td>1080</td>\n",
       "    </tr>\n",
       "    <tr>\n",
       "      <th>689</th>\n",
       "      <td>HP Stream 14\" HD BrightView Laptop, Intel Cele...</td>\n",
       "      <td>449.0</td>\n",
       "      <td>HP</td>\n",
       "      <td>Stream</td>\n",
       "      <td>14</td>\n",
       "      <td>_1366 x 768</td>\n",
       "      <td>Intel Celeron</td>\n",
       "      <td>_1.1 GHz celeron_n</td>\n",
       "      <td>Intel</td>\n",
       "      <td>16</td>\n",
       "      <td>64 GB SSD</td>\n",
       "      <td>Windows 11</td>\n",
       "      <td>2</td>\n",
       "      <td>Intel</td>\n",
       "      <td>0</td>\n",
       "      <td>0</td>\n",
       "      <td>_1366</td>\n",
       "      <td>768</td>\n",
       "    </tr>\n",
       "    <tr>\n",
       "      <th>489</th>\n",
       "      <td>Dell Inspiron 3520 15.6\" Touchscreen FHD Lapto...</td>\n",
       "      <td>579.0</td>\n",
       "      <td>Dell</td>\n",
       "      <td>Dell Inspiron 3520</td>\n",
       "      <td>15.6</td>\n",
       "      <td>_1920 x 1080</td>\n",
       "      <td>Intel Core i5</td>\n",
       "      <td>_2.5 GHz core_i5</td>\n",
       "      <td>Intel</td>\n",
       "      <td>8</td>\n",
       "      <td>256 GB SSD</td>\n",
       "      <td>Windows 11 S</td>\n",
       "      <td>4</td>\n",
       "      <td>Intel</td>\n",
       "      <td>1</td>\n",
       "      <td>0</td>\n",
       "      <td>_1920</td>\n",
       "      <td>1080</td>\n",
       "    </tr>\n",
       "    <tr>\n",
       "      <th>1222</th>\n",
       "      <td>Dell Inspiron 15 3000 3520 12th Gen Intel i5-1...</td>\n",
       "      <td>749.0</td>\n",
       "      <td>Dell</td>\n",
       "      <td>Inspiron</td>\n",
       "      <td>15.6</td>\n",
       "      <td>_1920 x 1080</td>\n",
       "      <td>Intel Core i5</td>\n",
       "      <td>_1.3 GHz core_i5</td>\n",
       "      <td>Intel</td>\n",
       "      <td>16</td>\n",
       "      <td>1024 GB SSD</td>\n",
       "      <td>Windows 11 Pro</td>\n",
       "      <td>10</td>\n",
       "      <td>Intel</td>\n",
       "      <td>0</td>\n",
       "      <td>0</td>\n",
       "      <td>_1920</td>\n",
       "      <td>1080</td>\n",
       "    </tr>\n",
       "    <tr>\n",
       "      <th>363</th>\n",
       "      <td>Apple 2023 MacBook Air Laptop with M2 chip: 15...</td>\n",
       "      <td>1599.0</td>\n",
       "      <td>Apple</td>\n",
       "      <td>MacBook Air</td>\n",
       "      <td>15.3 Inches</td>\n",
       "      <td>_2880 x 1864</td>\n",
       "      <td>M2</td>\n",
       "      <td>8</td>\n",
       "      <td>Mac</td>\n",
       "      <td>8</td>\n",
       "      <td>512 GB SSD</td>\n",
       "      <td>Mac OS</td>\n",
       "      <td>8</td>\n",
       "      <td>Apple</td>\n",
       "      <td>0</td>\n",
       "      <td>0</td>\n",
       "      <td>_2880</td>\n",
       "      <td>1864</td>\n",
       "    </tr>\n",
       "    <tr>\n",
       "      <th>737</th>\n",
       "      <td>HP 17.3\" IPS FHD Business Laptop, Intel Core i...</td>\n",
       "      <td>699.0</td>\n",
       "      <td>HP</td>\n",
       "      <td>NaN</td>\n",
       "      <td>17.3 Inches</td>\n",
       "      <td>_1920 x 1080</td>\n",
       "      <td>Intel Core i3</td>\n",
       "      <td>_1.8 GHz core_i3</td>\n",
       "      <td>Intel</td>\n",
       "      <td>8</td>\n",
       "      <td>256 GB SSD</td>\n",
       "      <td>Windows 11 Pro</td>\n",
       "      <td>8</td>\n",
       "      <td>Intel</td>\n",
       "      <td>0</td>\n",
       "      <td>1</td>\n",
       "      <td>_1920</td>\n",
       "      <td>1080</td>\n",
       "    </tr>\n",
       "    <tr>\n",
       "      <th>929</th>\n",
       "      <td>Lenovo V15 G2 15.6\" FHD Anti-Glare Business La...</td>\n",
       "      <td>549.0</td>\n",
       "      <td>Lenovo</td>\n",
       "      <td>Lenovo V15</td>\n",
       "      <td>15.6</td>\n",
       "      <td>_1920 x 1080</td>\n",
       "      <td>Intel Celeron</td>\n",
       "      <td>_1.1 GHz celeron_n</td>\n",
       "      <td>Intel</td>\n",
       "      <td>16</td>\n",
       "      <td>512 GB SSD</td>\n",
       "      <td>Windows 11 Home</td>\n",
       "      <td>2</td>\n",
       "      <td>Intel</td>\n",
       "      <td>0</td>\n",
       "      <td>0</td>\n",
       "      <td>_1920</td>\n",
       "      <td>1080</td>\n",
       "    </tr>\n",
       "    <tr>\n",
       "      <th>680</th>\n",
       "      <td>HP Stream 14\" HD BrightView Laptop, Intel Cele...</td>\n",
       "      <td>379.0</td>\n",
       "      <td>HP</td>\n",
       "      <td>Stream</td>\n",
       "      <td>14</td>\n",
       "      <td>_1366 x 768</td>\n",
       "      <td>Intel Celeron</td>\n",
       "      <td>_1.1 GHz celeron_n</td>\n",
       "      <td>Intel</td>\n",
       "      <td>4</td>\n",
       "      <td>64 GB SSD</td>\n",
       "      <td>Windows 11 S</td>\n",
       "      <td>2</td>\n",
       "      <td>Intel</td>\n",
       "      <td>0</td>\n",
       "      <td>0</td>\n",
       "      <td>_1366</td>\n",
       "      <td>768</td>\n",
       "    </tr>\n",
       "    <tr>\n",
       "      <th>761</th>\n",
       "      <td>ASUS Chromebook Plus CX34 14\" FHD Laptop, 12th...</td>\n",
       "      <td>549.0</td>\n",
       "      <td>Asus</td>\n",
       "      <td>ASUS Chromebook Plus CX34</td>\n",
       "      <td>14</td>\n",
       "      <td>_1920 x 1080 pixel</td>\n",
       "      <td>Intel Core i3</td>\n",
       "      <td>_1.2 GHz core_i3</td>\n",
       "      <td>Intel</td>\n",
       "      <td>8</td>\n",
       "      <td>128 GB SSD</td>\n",
       "      <td>_Chrome OS</td>\n",
       "      <td>6</td>\n",
       "      <td>_Intel</td>\n",
       "      <td>0</td>\n",
       "      <td>0</td>\n",
       "      <td>_1920</td>\n",
       "      <td>1080 pixel</td>\n",
       "    </tr>\n",
       "  </tbody>\n",
       "</table>\n",
       "</div>"
      ],
      "text/plain": [
       "                                                  title   price manufacturer  \\\n",
       "270   Acer Nitro 17 Gaming Laptop 2023 17.3Ã WQXGA ...  2199.0         Acer   \n",
       "166   Acer Nitro 5 17 - Laptop - 17.3\" FHD IPS - 144...  2307.0         Acer   \n",
       "689   HP Stream 14\" HD BrightView Laptop, Intel Cele...   449.0           HP   \n",
       "489   Dell Inspiron 3520 15.6\" Touchscreen FHD Lapto...   579.0         Dell   \n",
       "1222  Dell Inspiron 15 3000 3520 12th Gen Intel i5-1...   749.0         Dell   \n",
       "363   Apple 2023 MacBook Air Laptop with M2 chip: 15...  1599.0        Apple   \n",
       "737   HP 17.3\" IPS FHD Business Laptop, Intel Core i...   699.0           HP   \n",
       "929   Lenovo V15 G2 15.6\" FHD Anti-Glare Business La...   549.0       Lenovo   \n",
       "680   HP Stream 14\" HD BrightView Laptop, Intel Cele...   379.0           HP   \n",
       "761   ASUS Chromebook Plus CX34 14\" FHD Laptop, 12th...   549.0         Asus   \n",
       "\n",
       "                     model_name  screen_size  display_resolution  \\\n",
       "270                    Nitro 17  17.3 Inches        _2560 x 1600   \n",
       "166                  Nitro 5 17  17.3 Inches        _1920 x 1080   \n",
       "689                      Stream           14         _1366 x 768   \n",
       "489          Dell Inspiron 3520         15.6        _1920 x 1080   \n",
       "1222                   Inspiron         15.6        _1920 x 1080   \n",
       "363                 MacBook Air  15.3 Inches        _2880 x 1864   \n",
       "737                         NaN  17.3 Inches        _1920 x 1080   \n",
       "929                  Lenovo V15         15.6        _1920 x 1080   \n",
       "680                      Stream           14         _1366 x 768   \n",
       "761   ASUS Chromebook Plus CX34           14  _1920 x 1080 pixel   \n",
       "\n",
       "          cpu_model                processor graphics_copressor  ram  \\\n",
       "270     AMD Ryzen 7         _2.8 GHz ryzen_7             NVIDIA   16   \n",
       "166   Intel Core i5  _2.1 GHz core_i5_family             NVIDIA   64   \n",
       "689   Intel Celeron       _1.1 GHz celeron_n              Intel   16   \n",
       "489   Intel Core i5         _2.5 GHz core_i5              Intel    8   \n",
       "1222  Intel Core i5         _1.3 GHz core_i5              Intel   16   \n",
       "363              M2                        8                Mac    8   \n",
       "737   Intel Core i3         _1.8 GHz core_i3              Intel    8   \n",
       "929   Intel Celeron       _1.1 GHz celeron_n              Intel   16   \n",
       "680   Intel Celeron       _1.1 GHz celeron_n              Intel    4   \n",
       "761   Intel Core i3         _1.2 GHz core_i3              Intel    8   \n",
       "\n",
       "          storage operating_system  num_processors processor_brand  touchable  \\\n",
       "270   1024 GB SSD  Windows 11 Home               8             AMD          0   \n",
       "166   4096 GB SSD   Windows 10 Pro               8           Intel          0   \n",
       "689     64 GB SSD       Windows 11               2           Intel          0   \n",
       "489    256 GB SSD     Windows 11 S               4           Intel          1   \n",
       "1222  1024 GB SSD   Windows 11 Pro              10           Intel          0   \n",
       "363    512 GB SSD           Mac OS               8           Apple          0   \n",
       "737    256 GB SSD   Windows 11 Pro               8           Intel          0   \n",
       "929    512 GB SSD  Windows 11 Home               2           Intel          0   \n",
       "680     64 GB SSD     Windows 11 S               2           Intel          0   \n",
       "761    128 GB SSD       _Chrome OS               6          _Intel          0   \n",
       "\n",
       "      ips   x_res        y_res  \n",
       "270     1  _2560          1600  \n",
       "166     1  _1920          1080  \n",
       "689     0  _1366           768  \n",
       "489     0  _1920          1080  \n",
       "1222    0  _1920          1080  \n",
       "363     0  _2880          1864  \n",
       "737     1  _1920          1080  \n",
       "929     0  _1920          1080  \n",
       "680     0  _1366           768  \n",
       "761     0  _1920    1080 pixel  "
      ]
     },
     "execution_count": 39,
     "metadata": {},
     "output_type": "execute_result"
    }
   ],
   "source": [
    "cleaned_df.sample(10)"
   ]
  },
  {
   "cell_type": "code",
   "execution_count": 40,
   "id": "3794a836",
   "metadata": {},
   "outputs": [
    {
     "name": "stderr",
     "output_type": "stream",
     "text": [
      "/var/folders/xz/lwbfvlv571j_h6ypxn81t_pc0000gn/T/ipykernel_16524/346855165.py:1: SettingWithCopyWarning: \n",
      "A value is trying to be set on a copy of a slice from a DataFrame.\n",
      "Try using .loc[row_indexer,col_indexer] = value instead\n",
      "\n",
      "See the caveats in the documentation: https://pandas.pydata.org/pandas-docs/stable/user_guide/indexing.html#returning-a-view-versus-a-copy\n",
      "  cleaned_df['x_res'] = cleaned_df['x_res'].str.replace('_','', regex=False).astype(int)\n"
     ]
    }
   ],
   "source": [
    "cleaned_df['x_res'] = cleaned_df['x_res'].str.replace('_','', regex=False).astype(int)"
   ]
  },
  {
   "cell_type": "code",
   "execution_count": 41,
   "id": "70baed21",
   "metadata": {},
   "outputs": [
    {
     "data": {
      "text/plain": [
       "array([' 2000', ' 1080', ' 1200', ' 1800', ' 2160', ' 1440', ' 1600',\n",
       "       ' 1600 pixels', '1080', ' 1200 pixel', ' 1080 pixels',\n",
       "       ' 1440 pixels', ' 1080 pixel', ' 1824 pixel', ' 1440 pixel',\n",
       "       ' 1600 pixel', ' 1620 pixel', ' 1920', ' 2400', '1200', '2400',\n",
       "       ' 1800 pixels', '2160', ' 768', ' 720', ' 1664', ' 1964', ' 1864',\n",
       "       ' 2234', ' 1504', '1824', ' 1024', ' 1280', ' 800', ' 1200 pixels',\n",
       "       ' 1824', ' 1400', ' 1620', ' 1800 pixel', ' 768 pixels', ' 1350',\n",
       "       ' 900'], dtype=object)"
      ]
     },
     "execution_count": 41,
     "metadata": {},
     "output_type": "execute_result"
    }
   ],
   "source": [
    "cleaned_df['y_res'].unique()"
   ]
  },
  {
   "cell_type": "code",
   "execution_count": 42,
   "id": "92f17165",
   "metadata": {},
   "outputs": [
    {
     "name": "stderr",
     "output_type": "stream",
     "text": [
      "/var/folders/xz/lwbfvlv571j_h6ypxn81t_pc0000gn/T/ipykernel_16524/956683858.py:1: SettingWithCopyWarning: \n",
      "A value is trying to be set on a copy of a slice from a DataFrame.\n",
      "Try using .loc[row_indexer,col_indexer] = value instead\n",
      "\n",
      "See the caveats in the documentation: https://pandas.pydata.org/pandas-docs/stable/user_guide/indexing.html#returning-a-view-versus-a-copy\n",
      "  cleaned_df['y_res'] = cleaned_df['y_res'].str.replace(r'\\D', '', regex=True).astype(int)\n"
     ]
    }
   ],
   "source": [
    "cleaned_df['y_res'] = cleaned_df['y_res'].str.replace(r'\\D', '', regex=True).astype(int)"
   ]
  },
  {
   "cell_type": "code",
   "execution_count": 43,
   "id": "29afd9d9",
   "metadata": {},
   "outputs": [
    {
     "data": {
      "text/html": [
       "<div>\n",
       "<style scoped>\n",
       "    .dataframe tbody tr th:only-of-type {\n",
       "        vertical-align: middle;\n",
       "    }\n",
       "\n",
       "    .dataframe tbody tr th {\n",
       "        vertical-align: top;\n",
       "    }\n",
       "\n",
       "    .dataframe thead th {\n",
       "        text-align: right;\n",
       "    }\n",
       "</style>\n",
       "<table border=\"1\" class=\"dataframe\">\n",
       "  <thead>\n",
       "    <tr style=\"text-align: right;\">\n",
       "      <th></th>\n",
       "      <th>title</th>\n",
       "      <th>price</th>\n",
       "      <th>manufacturer</th>\n",
       "      <th>model_name</th>\n",
       "      <th>screen_size</th>\n",
       "      <th>display_resolution</th>\n",
       "      <th>cpu_model</th>\n",
       "      <th>processor</th>\n",
       "      <th>graphics_copressor</th>\n",
       "      <th>ram</th>\n",
       "      <th>storage</th>\n",
       "      <th>operating_system</th>\n",
       "      <th>num_processors</th>\n",
       "      <th>processor_brand</th>\n",
       "      <th>touchable</th>\n",
       "      <th>ips</th>\n",
       "      <th>x_res</th>\n",
       "      <th>y_res</th>\n",
       "    </tr>\n",
       "  </thead>\n",
       "  <tbody>\n",
       "    <tr>\n",
       "      <th>18</th>\n",
       "      <td>Lenovo ThinkPad P1 Gen 6 Intel Core i9-13900H ...</td>\n",
       "      <td>4771.0</td>\n",
       "      <td>Lenovo</td>\n",
       "      <td>Lenovo P1 Gen 6</td>\n",
       "      <td>16 Inches</td>\n",
       "      <td>_3840 x 2160</td>\n",
       "      <td>Intel Core i9</td>\n",
       "      <td>_intel_core_i9</td>\n",
       "      <td>NVIDIA</td>\n",
       "      <td>16</td>\n",
       "      <td>2048 GB SSD</td>\n",
       "      <td>Windows 11 Pro</td>\n",
       "      <td>14</td>\n",
       "      <td>Intel</td>\n",
       "      <td>0</td>\n",
       "      <td>0</td>\n",
       "      <td>3840</td>\n",
       "      <td>2160</td>\n",
       "    </tr>\n",
       "    <tr>\n",
       "      <th>47</th>\n",
       "      <td>Dell Precision 5470 Mobile Workstation 14\" FHD...</td>\n",
       "      <td>799.0</td>\n",
       "      <td>Dell</td>\n",
       "      <td>Dell Precision 5470</td>\n",
       "      <td>14</td>\n",
       "      <td>_1920 x 1080</td>\n",
       "      <td>Intel Core i5</td>\n",
       "      <td>_3.3 GHz core_i5</td>\n",
       "      <td>NVIDIA</td>\n",
       "      <td>16</td>\n",
       "      <td>256 GB SSD</td>\n",
       "      <td>Windows 11 Pro</td>\n",
       "      <td>1</td>\n",
       "      <td>Intel</td>\n",
       "      <td>0</td>\n",
       "      <td>0</td>\n",
       "      <td>1920</td>\n",
       "      <td>1080</td>\n",
       "    </tr>\n",
       "    <tr>\n",
       "      <th>380</th>\n",
       "      <td>Apple 2023 MacBook Air Laptop with M2 chip: 15...</td>\n",
       "      <td>1499.0</td>\n",
       "      <td>Apple</td>\n",
       "      <td>MacBook Air</td>\n",
       "      <td>15.3 Inches</td>\n",
       "      <td>_2880 x 1864</td>\n",
       "      <td>M2</td>\n",
       "      <td>8</td>\n",
       "      <td>Mac</td>\n",
       "      <td>8</td>\n",
       "      <td>256 GB SSD</td>\n",
       "      <td>Mac OS</td>\n",
       "      <td>8</td>\n",
       "      <td>Apple</td>\n",
       "      <td>0</td>\n",
       "      <td>0</td>\n",
       "      <td>2880</td>\n",
       "      <td>1864</td>\n",
       "    </tr>\n",
       "    <tr>\n",
       "      <th>888</th>\n",
       "      <td>Lenovo Ideapad 3i 15.6\" FHD Touchscreen Laptop...</td>\n",
       "      <td>649.0</td>\n",
       "      <td>Lenovo</td>\n",
       "      <td>NaN</td>\n",
       "      <td>15.6</td>\n",
       "      <td>_1920 x 1080</td>\n",
       "      <td>Intel Core i3</td>\n",
       "      <td>_1.7 GHz core_i3</td>\n",
       "      <td>Intel</td>\n",
       "      <td>16</td>\n",
       "      <td>512 GB SSD</td>\n",
       "      <td>Windows 11</td>\n",
       "      <td>2</td>\n",
       "      <td>Intel</td>\n",
       "      <td>1</td>\n",
       "      <td>0</td>\n",
       "      <td>1920</td>\n",
       "      <td>1080</td>\n",
       "    </tr>\n",
       "    <tr>\n",
       "      <th>1012</th>\n",
       "      <td>Samsung XE521QAB-K01US Chromebook Plus Intel C...</td>\n",
       "      <td>447.0</td>\n",
       "      <td>Samsung</td>\n",
       "      <td>Chromebook Plus</td>\n",
       "      <td>12.3</td>\n",
       "      <td>_1366 x 768</td>\n",
       "      <td>Intel Celeron</td>\n",
       "      <td>_1.5 GHz core_m</td>\n",
       "      <td>Intel</td>\n",
       "      <td>4</td>\n",
       "      <td>32 GB Emmc</td>\n",
       "      <td>Chrome OS</td>\n",
       "      <td>2</td>\n",
       "      <td>Intel</td>\n",
       "      <td>0</td>\n",
       "      <td>0</td>\n",
       "      <td>1366</td>\n",
       "      <td>768</td>\n",
       "    </tr>\n",
       "    <tr>\n",
       "      <th>210</th>\n",
       "      <td>2023 Dell G15 15.6Ã 165Hz FHD Laptop 24-Core ...</td>\n",
       "      <td>2739.0</td>\n",
       "      <td>Dell</td>\n",
       "      <td>G15 5530</td>\n",
       "      <td>15.6</td>\n",
       "      <td>_1920 x 1080</td>\n",
       "      <td>Intel Core i9</td>\n",
       "      <td>_2.9 GHz intel_core_i9</td>\n",
       "      <td>NVIDIA</td>\n",
       "      <td>48</td>\n",
       "      <td>2048 GB SSD</td>\n",
       "      <td>Windows 11 Pro</td>\n",
       "      <td>24</td>\n",
       "      <td>Intel</td>\n",
       "      <td>0</td>\n",
       "      <td>0</td>\n",
       "      <td>1920</td>\n",
       "      <td>1080</td>\n",
       "    </tr>\n",
       "    <tr>\n",
       "      <th>1215</th>\n",
       "      <td>HP ProBook 445 G10 Business Laptop, 14\" FHD Sc...</td>\n",
       "      <td>1239.0</td>\n",
       "      <td>HP</td>\n",
       "      <td>ProBook</td>\n",
       "      <td>14</td>\n",
       "      <td>_1920 x 1080</td>\n",
       "      <td>Intel Core i7</td>\n",
       "      <td>_4.5 GHz core_i7</td>\n",
       "      <td>AMD</td>\n",
       "      <td>16</td>\n",
       "      <td>1024 GB SSD</td>\n",
       "      <td>Windows 11 Pro</td>\n",
       "      <td>8</td>\n",
       "      <td>AMD</td>\n",
       "      <td>0</td>\n",
       "      <td>0</td>\n",
       "      <td>1920</td>\n",
       "      <td>1080</td>\n",
       "    </tr>\n",
       "    <tr>\n",
       "      <th>835</th>\n",
       "      <td>HP 14 inch Laptop, FHD Display, Intel Celeron ...</td>\n",
       "      <td>363.0</td>\n",
       "      <td>HP</td>\n",
       "      <td>14-dq3200ca</td>\n",
       "      <td>14</td>\n",
       "      <td>_1920 x 1080</td>\n",
       "      <td>Intel Celeron</td>\n",
       "      <td>_2.8 GHz celeron</td>\n",
       "      <td>Intel</td>\n",
       "      <td>4</td>\n",
       "      <td>64 GB Emmc</td>\n",
       "      <td>Windows 11 Home</td>\n",
       "      <td>2</td>\n",
       "      <td>Intel</td>\n",
       "      <td>0</td>\n",
       "      <td>0</td>\n",
       "      <td>1920</td>\n",
       "      <td>1080</td>\n",
       "    </tr>\n",
       "    <tr>\n",
       "      <th>660</th>\n",
       "      <td>HP 15.6\" FHD Laptop Computer, 11th Gen Intel C...</td>\n",
       "      <td>849.0</td>\n",
       "      <td>HP</td>\n",
       "      <td>NaN</td>\n",
       "      <td>15.6</td>\n",
       "      <td>_1920 x 1080</td>\n",
       "      <td>Intel Core i5</td>\n",
       "      <td>_2.4 GHz core_i5</td>\n",
       "      <td>Intel</td>\n",
       "      <td>32</td>\n",
       "      <td>1024 GB SSD</td>\n",
       "      <td>Windows 11 Home</td>\n",
       "      <td>4</td>\n",
       "      <td>Intel</td>\n",
       "      <td>0</td>\n",
       "      <td>0</td>\n",
       "      <td>1920</td>\n",
       "      <td>1080</td>\n",
       "    </tr>\n",
       "    <tr>\n",
       "      <th>457</th>\n",
       "      <td>SAMSUNG Chromebook 3 11.6-inch HD WLED Intel C...</td>\n",
       "      <td>404.0</td>\n",
       "      <td>Samsung</td>\n",
       "      <td>XE501C13-S02US</td>\n",
       "      <td>11.6</td>\n",
       "      <td>_1366 x 768</td>\n",
       "      <td>Intel Atom</td>\n",
       "      <td>_1.04 GHz intel_atom</td>\n",
       "      <td>Intel</td>\n",
       "      <td>4</td>\n",
       "      <td>32 GB Emmc</td>\n",
       "      <td>Chrome OS</td>\n",
       "      <td>4</td>\n",
       "      <td>Intel</td>\n",
       "      <td>0</td>\n",
       "      <td>0</td>\n",
       "      <td>1366</td>\n",
       "      <td>768</td>\n",
       "    </tr>\n",
       "  </tbody>\n",
       "</table>\n",
       "</div>"
      ],
      "text/plain": [
       "                                                  title   price manufacturer  \\\n",
       "18    Lenovo ThinkPad P1 Gen 6 Intel Core i9-13900H ...  4771.0       Lenovo   \n",
       "47    Dell Precision 5470 Mobile Workstation 14\" FHD...   799.0         Dell   \n",
       "380   Apple 2023 MacBook Air Laptop with M2 chip: 15...  1499.0        Apple   \n",
       "888   Lenovo Ideapad 3i 15.6\" FHD Touchscreen Laptop...   649.0       Lenovo   \n",
       "1012  Samsung XE521QAB-K01US Chromebook Plus Intel C...   447.0      Samsung   \n",
       "210   2023 Dell G15 15.6Ã 165Hz FHD Laptop 24-Core ...  2739.0         Dell   \n",
       "1215  HP ProBook 445 G10 Business Laptop, 14\" FHD Sc...  1239.0           HP   \n",
       "835   HP 14 inch Laptop, FHD Display, Intel Celeron ...   363.0           HP   \n",
       "660   HP 15.6\" FHD Laptop Computer, 11th Gen Intel C...   849.0           HP   \n",
       "457   SAMSUNG Chromebook 3 11.6-inch HD WLED Intel C...   404.0      Samsung   \n",
       "\n",
       "               model_name  screen_size display_resolution      cpu_model  \\\n",
       "18        Lenovo P1 Gen 6    16 Inches       _3840 x 2160  Intel Core i9   \n",
       "47    Dell Precision 5470           14       _1920 x 1080  Intel Core i5   \n",
       "380           MacBook Air  15.3 Inches       _2880 x 1864             M2   \n",
       "888                   NaN         15.6       _1920 x 1080  Intel Core i3   \n",
       "1012      Chromebook Plus         12.3        _1366 x 768  Intel Celeron   \n",
       "210              G15 5530         15.6       _1920 x 1080  Intel Core i9   \n",
       "1215              ProBook           14       _1920 x 1080  Intel Core i7   \n",
       "835           14-dq3200ca           14       _1920 x 1080  Intel Celeron   \n",
       "660                   NaN         15.6       _1920 x 1080  Intel Core i5   \n",
       "457        XE501C13-S02US         11.6        _1366 x 768     Intel Atom   \n",
       "\n",
       "                   processor graphics_copressor  ram      storage  \\\n",
       "18            _intel_core_i9             NVIDIA   16  2048 GB SSD   \n",
       "47          _3.3 GHz core_i5             NVIDIA   16   256 GB SSD   \n",
       "380                        8                Mac    8   256 GB SSD   \n",
       "888         _1.7 GHz core_i3              Intel   16   512 GB SSD   \n",
       "1012         _1.5 GHz core_m              Intel    4   32 GB Emmc   \n",
       "210   _2.9 GHz intel_core_i9             NVIDIA   48  2048 GB SSD   \n",
       "1215        _4.5 GHz core_i7                AMD   16  1024 GB SSD   \n",
       "835         _2.8 GHz celeron              Intel    4   64 GB Emmc   \n",
       "660         _2.4 GHz core_i5              Intel   32  1024 GB SSD   \n",
       "457     _1.04 GHz intel_atom              Intel    4   32 GB Emmc   \n",
       "\n",
       "     operating_system  num_processors processor_brand  touchable  ips  x_res  \\\n",
       "18     Windows 11 Pro              14           Intel          0    0   3840   \n",
       "47     Windows 11 Pro               1           Intel          0    0   1920   \n",
       "380            Mac OS               8           Apple          0    0   2880   \n",
       "888        Windows 11               2           Intel          1    0   1920   \n",
       "1012        Chrome OS               2           Intel          0    0   1366   \n",
       "210    Windows 11 Pro              24           Intel          0    0   1920   \n",
       "1215   Windows 11 Pro               8             AMD          0    0   1920   \n",
       "835   Windows 11 Home               2           Intel          0    0   1920   \n",
       "660   Windows 11 Home               4           Intel          0    0   1920   \n",
       "457         Chrome OS               4           Intel          0    0   1366   \n",
       "\n",
       "      y_res  \n",
       "18     2160  \n",
       "47     1080  \n",
       "380    1864  \n",
       "888    1080  \n",
       "1012    768  \n",
       "210    1080  \n",
       "1215   1080  \n",
       "835    1080  \n",
       "660    1080  \n",
       "457     768  "
      ]
     },
     "execution_count": 43,
     "metadata": {},
     "output_type": "execute_result"
    }
   ],
   "source": [
    "cleaned_df.sample(10)"
   ]
  },
  {
   "cell_type": "code",
   "execution_count": 44,
   "id": "4d488a10",
   "metadata": {},
   "outputs": [
    {
     "name": "stdout",
     "output_type": "stream",
     "text": [
      "<class 'pandas.core.frame.DataFrame'>\n",
      "Int64Index: 1255 entries, 0 to 1261\n",
      "Data columns (total 18 columns):\n",
      " #   Column              Non-Null Count  Dtype  \n",
      "---  ------              --------------  -----  \n",
      " 0   title               1255 non-null   object \n",
      " 1   price               1255 non-null   float64\n",
      " 2   manufacturer        1255 non-null   object \n",
      " 3   model_name          1107 non-null   object \n",
      " 4   screen_size         1255 non-null   object \n",
      " 5   display_resolution  1255 non-null   object \n",
      " 6   cpu_model           1255 non-null   object \n",
      " 7   processor           1203 non-null   object \n",
      " 8   graphics_copressor  1255 non-null   object \n",
      " 9   ram                 1255 non-null   int32  \n",
      " 10  storage             1255 non-null   object \n",
      " 11  operating_system    1255 non-null   object \n",
      " 12  num_processors      1255 non-null   int64  \n",
      " 13  processor_brand     1255 non-null   object \n",
      " 14  touchable           1255 non-null   int64  \n",
      " 15  ips                 1255 non-null   int64  \n",
      " 16  x_res               1255 non-null   int64  \n",
      " 17  y_res               1255 non-null   int64  \n",
      "dtypes: float64(1), int32(1), int64(5), object(11)\n",
      "memory usage: 181.4+ KB\n"
     ]
    }
   ],
   "source": [
    "cleaned_df.info()"
   ]
  },
  {
   "cell_type": "code",
   "execution_count": 45,
   "id": "074cc395",
   "metadata": {},
   "outputs": [
    {
     "data": {
      "text/plain": [
       "price             1.000000\n",
       "ram               0.505469\n",
       "num_processors    0.596594\n",
       "touchable        -0.022500\n",
       "ips               0.139814\n",
       "x_res             0.620967\n",
       "y_res             0.637042\n",
       "Name: price, dtype: float64"
      ]
     },
     "execution_count": 45,
     "metadata": {},
     "output_type": "execute_result"
    }
   ],
   "source": [
    "cleaned_df.corr()['price']"
   ]
  },
  {
   "cell_type": "code",
   "execution_count": 46,
   "id": "cfc192da",
   "metadata": {},
   "outputs": [
    {
     "data": {
      "text/plain": [
       "array(['13.5', '15', '15.6', '16 Inches', '14.4', '17.3 Inches', '14',\n",
       "       '13.4', '17 Inches', '11.6', '13.6 Inches', '14.2 Inches',\n",
       "       '15.3 Inches', '16.2 Inches', '13.3', '12.3', '10.5'], dtype=object)"
      ]
     },
     "execution_count": 46,
     "metadata": {},
     "output_type": "execute_result"
    }
   ],
   "source": [
    "cleaned_df['screen_size'].unique()"
   ]
  },
  {
   "cell_type": "code",
   "execution_count": 47,
   "id": "ac1d5985",
   "metadata": {},
   "outputs": [
    {
     "name": "stderr",
     "output_type": "stream",
     "text": [
      "/var/folders/xz/lwbfvlv571j_h6ypxn81t_pc0000gn/T/ipykernel_16524/3501237837.py:1: SettingWithCopyWarning: \n",
      "A value is trying to be set on a copy of a slice from a DataFrame.\n",
      "Try using .loc[row_indexer,col_indexer] = value instead\n",
      "\n",
      "See the caveats in the documentation: https://pandas.pydata.org/pandas-docs/stable/user_guide/indexing.html#returning-a-view-versus-a-copy\n",
      "  cleaned_df['screen_size'] = cleaned_df['screen_size'].str.extract(r'(\\d+\\.\\d+|\\d+)', expand=False).astype(float)\n"
     ]
    }
   ],
   "source": [
    "cleaned_df['screen_size'] = cleaned_df['screen_size'].str.extract(r'(\\d+\\.\\d+|\\d+)', expand=False).astype(float)"
   ]
  },
  {
   "cell_type": "code",
   "execution_count": 48,
   "id": "b2bde1ee",
   "metadata": {},
   "outputs": [
    {
     "data": {
      "text/plain": [
       "array([13.5, 15. , 15.6, 16. , 14.4, 17.3, 14. , 13.4, 17. , 11.6, 13.6,\n",
       "       14.2, 15.3, 16.2, 13.3, 12.3, 10.5])"
      ]
     },
     "execution_count": 48,
     "metadata": {},
     "output_type": "execute_result"
    }
   ],
   "source": [
    "cleaned_df['screen_size'].unique()"
   ]
  },
  {
   "cell_type": "code",
   "execution_count": null,
   "id": "eb21e5b8",
   "metadata": {},
   "outputs": [],
   "source": []
  },
  {
   "cell_type": "code",
   "execution_count": 49,
   "id": "3fd153de",
   "metadata": {},
   "outputs": [
    {
     "name": "stderr",
     "output_type": "stream",
     "text": [
      "/var/folders/xz/lwbfvlv571j_h6ypxn81t_pc0000gn/T/ipykernel_16524/2762644191.py:1: SettingWithCopyWarning: \n",
      "A value is trying to be set on a copy of a slice from a DataFrame.\n",
      "Try using .loc[row_indexer,col_indexer] = value instead\n",
      "\n",
      "See the caveats in the documentation: https://pandas.pydata.org/pandas-docs/stable/user_guide/indexing.html#returning-a-view-versus-a-copy\n",
      "  cleaned_df['ppi'] = (((cleaned_df['x_res']**2) + (cleaned_df['y_res']**2))**0.5/cleaned_df['screen_size']).astype('float')\n"
     ]
    }
   ],
   "source": [
    "cleaned_df['ppi'] = (((cleaned_df['x_res']**2) + (cleaned_df['y_res']**2))**0.5/cleaned_df['screen_size']).astype('float')"
   ]
  },
  {
   "cell_type": "code",
   "execution_count": 50,
   "id": "019fa3d7",
   "metadata": {},
   "outputs": [
    {
     "data": {
      "text/html": [
       "<div>\n",
       "<style scoped>\n",
       "    .dataframe tbody tr th:only-of-type {\n",
       "        vertical-align: middle;\n",
       "    }\n",
       "\n",
       "    .dataframe tbody tr th {\n",
       "        vertical-align: top;\n",
       "    }\n",
       "\n",
       "    .dataframe thead th {\n",
       "        text-align: right;\n",
       "    }\n",
       "</style>\n",
       "<table border=\"1\" class=\"dataframe\">\n",
       "  <thead>\n",
       "    <tr style=\"text-align: right;\">\n",
       "      <th></th>\n",
       "      <th>title</th>\n",
       "      <th>price</th>\n",
       "      <th>manufacturer</th>\n",
       "      <th>model_name</th>\n",
       "      <th>screen_size</th>\n",
       "      <th>display_resolution</th>\n",
       "      <th>cpu_model</th>\n",
       "      <th>processor</th>\n",
       "      <th>graphics_copressor</th>\n",
       "      <th>ram</th>\n",
       "      <th>storage</th>\n",
       "      <th>operating_system</th>\n",
       "      <th>num_processors</th>\n",
       "      <th>processor_brand</th>\n",
       "      <th>touchable</th>\n",
       "      <th>ips</th>\n",
       "      <th>x_res</th>\n",
       "      <th>y_res</th>\n",
       "      <th>ppi</th>\n",
       "    </tr>\n",
       "  </thead>\n",
       "  <tbody>\n",
       "    <tr>\n",
       "      <th>369</th>\n",
       "      <td>Apple 2024 MacBook Air 15-inch Laptop with M3 ...</td>\n",
       "      <td>2249.0</td>\n",
       "      <td>Apple</td>\n",
       "      <td>MacBook Air</td>\n",
       "      <td>15.3</td>\n",
       "      <td>_2880 x 1864</td>\n",
       "      <td>M3</td>\n",
       "      <td>8</td>\n",
       "      <td>Mac</td>\n",
       "      <td>16</td>\n",
       "      <td>512 GB SSD</td>\n",
       "      <td>Mac OS</td>\n",
       "      <td>8</td>\n",
       "      <td>Apple</td>\n",
       "      <td>0</td>\n",
       "      <td>0</td>\n",
       "      <td>2880</td>\n",
       "      <td>1864</td>\n",
       "      <td>224.221076</td>\n",
       "    </tr>\n",
       "  </tbody>\n",
       "</table>\n",
       "</div>"
      ],
      "text/plain": [
       "                                                 title   price manufacturer  \\\n",
       "369  Apple 2024 MacBook Air 15-inch Laptop with M3 ...  2249.0        Apple   \n",
       "\n",
       "      model_name  screen_size display_resolution cpu_model processor  \\\n",
       "369  MacBook Air         15.3       _2880 x 1864        M3         8   \n",
       "\n",
       "    graphics_copressor  ram     storage operating_system  num_processors  \\\n",
       "369                Mac   16  512 GB SSD           Mac OS               8   \n",
       "\n",
       "    processor_brand  touchable  ips  x_res  y_res         ppi  \n",
       "369           Apple          0    0   2880   1864  224.221076  "
      ]
     },
     "execution_count": 50,
     "metadata": {},
     "output_type": "execute_result"
    }
   ],
   "source": [
    "cleaned_df.sample()"
   ]
  },
  {
   "cell_type": "code",
   "execution_count": 51,
   "id": "15612b97",
   "metadata": {},
   "outputs": [
    {
     "name": "stderr",
     "output_type": "stream",
     "text": [
      "/var/folders/xz/lwbfvlv571j_h6ypxn81t_pc0000gn/T/ipykernel_16524/3867287200.py:1: SettingWithCopyWarning: \n",
      "A value is trying to be set on a copy of a slice from a DataFrame\n",
      "\n",
      "See the caveats in the documentation: https://pandas.pydata.org/pandas-docs/stable/user_guide/indexing.html#returning-a-view-versus-a-copy\n",
      "  cleaned_df.drop(columns=['display_resolution'], inplace=True)\n"
     ]
    }
   ],
   "source": [
    "cleaned_df.drop(columns=['display_resolution'], inplace=True)"
   ]
  },
  {
   "cell_type": "code",
   "execution_count": 52,
   "id": "0109dfd7",
   "metadata": {},
   "outputs": [
    {
     "data": {
      "text/html": [
       "<div>\n",
       "<style scoped>\n",
       "    .dataframe tbody tr th:only-of-type {\n",
       "        vertical-align: middle;\n",
       "    }\n",
       "\n",
       "    .dataframe tbody tr th {\n",
       "        vertical-align: top;\n",
       "    }\n",
       "\n",
       "    .dataframe thead th {\n",
       "        text-align: right;\n",
       "    }\n",
       "</style>\n",
       "<table border=\"1\" class=\"dataframe\">\n",
       "  <thead>\n",
       "    <tr style=\"text-align: right;\">\n",
       "      <th></th>\n",
       "      <th>title</th>\n",
       "      <th>price</th>\n",
       "      <th>manufacturer</th>\n",
       "      <th>model_name</th>\n",
       "      <th>screen_size</th>\n",
       "      <th>cpu_model</th>\n",
       "      <th>processor</th>\n",
       "      <th>graphics_copressor</th>\n",
       "      <th>ram</th>\n",
       "      <th>storage</th>\n",
       "      <th>operating_system</th>\n",
       "      <th>num_processors</th>\n",
       "      <th>processor_brand</th>\n",
       "      <th>touchable</th>\n",
       "      <th>ips</th>\n",
       "      <th>x_res</th>\n",
       "      <th>y_res</th>\n",
       "      <th>ppi</th>\n",
       "    </tr>\n",
       "  </thead>\n",
       "  <tbody>\n",
       "    <tr>\n",
       "      <th>0</th>\n",
       "      <td>Microsoft Surface Book 2 (2017): 13.5\" Touchsc...</td>\n",
       "      <td>2287.0</td>\n",
       "      <td>Microsoft</td>\n",
       "      <td>Surface Book 2</td>\n",
       "      <td>13.5</td>\n",
       "      <td>Intel Core i7</td>\n",
       "      <td>_4.2 GHz core_i7</td>\n",
       "      <td>NVIDIA</td>\n",
       "      <td>8</td>\n",
       "      <td>256 GB SSD</td>\n",
       "      <td>Windows 10 Pro</td>\n",
       "      <td>4</td>\n",
       "      <td>Intel</td>\n",
       "      <td>1</td>\n",
       "      <td>0</td>\n",
       "      <td>3000</td>\n",
       "      <td>2000</td>\n",
       "      <td>267.077872</td>\n",
       "    </tr>\n",
       "    <tr>\n",
       "      <th>1</th>\n",
       "      <td>Microsoft Surface Book 3 - 15\" Touch-Screen Pi...</td>\n",
       "      <td>2999.0</td>\n",
       "      <td>Microsoft</td>\n",
       "      <td>Surface Book 3</td>\n",
       "      <td>15.0</td>\n",
       "      <td>Intel Core i7</td>\n",
       "      <td>NaN</td>\n",
       "      <td>NVIDIA</td>\n",
       "      <td>16</td>\n",
       "      <td>256 GB SSD</td>\n",
       "      <td>Windows 10</td>\n",
       "      <td>4</td>\n",
       "      <td>Intel</td>\n",
       "      <td>1</td>\n",
       "      <td>0</td>\n",
       "      <td>3000</td>\n",
       "      <td>2000</td>\n",
       "      <td>240.370085</td>\n",
       "    </tr>\n",
       "    <tr>\n",
       "      <th>2</th>\n",
       "      <td>Dell G15 5530 2023 Gaming Laptop ~ 15.6\" FHD 1...</td>\n",
       "      <td>2995.0</td>\n",
       "      <td>Dell</td>\n",
       "      <td>G15 5530</td>\n",
       "      <td>15.6</td>\n",
       "      <td>Intel Core i9</td>\n",
       "      <td>_2.9 GHz intel_core_i9</td>\n",
       "      <td>NVIDIA</td>\n",
       "      <td>64</td>\n",
       "      <td>2048 GB SSD</td>\n",
       "      <td>Windows 11 Pro</td>\n",
       "      <td>24</td>\n",
       "      <td>Intel</td>\n",
       "      <td>0</td>\n",
       "      <td>0</td>\n",
       "      <td>1920</td>\n",
       "      <td>1080</td>\n",
       "      <td>141.211998</td>\n",
       "    </tr>\n",
       "    <tr>\n",
       "      <th>3</th>\n",
       "      <td>Dell Vostro 7000 7620 Laptop (2022) | 16\" FHD+...</td>\n",
       "      <td>1999.0</td>\n",
       "      <td>Dell</td>\n",
       "      <td>Vostro 7620 Laptop</td>\n",
       "      <td>16.0</td>\n",
       "      <td>Intel Core i7</td>\n",
       "      <td>_3.5 GHz core_i7</td>\n",
       "      <td>NVIDIA</td>\n",
       "      <td>8</td>\n",
       "      <td>1024 GB SSD</td>\n",
       "      <td>Windows 11 Pro</td>\n",
       "      <td>14</td>\n",
       "      <td>Intel</td>\n",
       "      <td>0</td>\n",
       "      <td>0</td>\n",
       "      <td>1920</td>\n",
       "      <td>1200</td>\n",
       "      <td>141.509717</td>\n",
       "    </tr>\n",
       "    <tr>\n",
       "      <th>4</th>\n",
       "      <td>Microsoft Surface Book 2 15\"(Intel Core i7, 16...</td>\n",
       "      <td>2999.0</td>\n",
       "      <td>Microsoft</td>\n",
       "      <td>Surface Book 2</td>\n",
       "      <td>15.0</td>\n",
       "      <td>Intel Core i7</td>\n",
       "      <td>_4.2 GHz core_i7</td>\n",
       "      <td>NVIDIA</td>\n",
       "      <td>16</td>\n",
       "      <td>1024 GB SSD</td>\n",
       "      <td>Windows 10 Pro</td>\n",
       "      <td>4</td>\n",
       "      <td>Intel</td>\n",
       "      <td>0</td>\n",
       "      <td>0</td>\n",
       "      <td>3000</td>\n",
       "      <td>2000</td>\n",
       "      <td>240.370085</td>\n",
       "    </tr>\n",
       "    <tr>\n",
       "      <th>...</th>\n",
       "      <td>...</td>\n",
       "      <td>...</td>\n",
       "      <td>...</td>\n",
       "      <td>...</td>\n",
       "      <td>...</td>\n",
       "      <td>...</td>\n",
       "      <td>...</td>\n",
       "      <td>...</td>\n",
       "      <td>...</td>\n",
       "      <td>...</td>\n",
       "      <td>...</td>\n",
       "      <td>...</td>\n",
       "      <td>...</td>\n",
       "      <td>...</td>\n",
       "      <td>...</td>\n",
       "      <td>...</td>\n",
       "      <td>...</td>\n",
       "      <td>...</td>\n",
       "    </tr>\n",
       "    <tr>\n",
       "      <th>1257</th>\n",
       "      <td>Lenovo ThinkPad T14s Gen 3 Business Laptop, 14...</td>\n",
       "      <td>1349.0</td>\n",
       "      <td>Lenovo</td>\n",
       "      <td>ThinkPad</td>\n",
       "      <td>14.0</td>\n",
       "      <td>AMD Ryzen 7</td>\n",
       "      <td>_2.7 GHz ryzen_7</td>\n",
       "      <td>AMD</td>\n",
       "      <td>16</td>\n",
       "      <td>1024 GB SSD</td>\n",
       "      <td>Windows 11 Pro</td>\n",
       "      <td>8</td>\n",
       "      <td>AMD</td>\n",
       "      <td>1</td>\n",
       "      <td>1</td>\n",
       "      <td>1920</td>\n",
       "      <td>1080</td>\n",
       "      <td>157.350512</td>\n",
       "    </tr>\n",
       "    <tr>\n",
       "      <th>1258</th>\n",
       "      <td>Lenovo IdeaPad 15.6\" FHD Laptop, Intel Pentium...</td>\n",
       "      <td>589.0</td>\n",
       "      <td>Lenovo</td>\n",
       "      <td>Lenovo IdeaPad</td>\n",
       "      <td>15.6</td>\n",
       "      <td>Intel Pentium</td>\n",
       "      <td>_1.1 GHz pentium</td>\n",
       "      <td>Intel</td>\n",
       "      <td>20</td>\n",
       "      <td>1024 GB SSD</td>\n",
       "      <td>Windows 11</td>\n",
       "      <td>4</td>\n",
       "      <td>Intel</td>\n",
       "      <td>0</td>\n",
       "      <td>0</td>\n",
       "      <td>1920</td>\n",
       "      <td>1080</td>\n",
       "      <td>141.211998</td>\n",
       "    </tr>\n",
       "    <tr>\n",
       "      <th>1259</th>\n",
       "      <td>Lenovo ThinkPad P1 Gen 6 21FV001UUS 16\" Mobile...</td>\n",
       "      <td>5340.0</td>\n",
       "      <td>Lenovo</td>\n",
       "      <td>ThinkPad P1 Gen 6</td>\n",
       "      <td>16.0</td>\n",
       "      <td>Intel Core i9</td>\n",
       "      <td>_core_i9</td>\n",
       "      <td>NVIDIA</td>\n",
       "      <td>32</td>\n",
       "      <td>1024 GB SSD</td>\n",
       "      <td>Windows 11 Pro</td>\n",
       "      <td>1</td>\n",
       "      <td>Intel</td>\n",
       "      <td>0</td>\n",
       "      <td>0</td>\n",
       "      <td>2560</td>\n",
       "      <td>1600</td>\n",
       "      <td>188.679623</td>\n",
       "    </tr>\n",
       "    <tr>\n",
       "      <th>1260</th>\n",
       "      <td>Lenovo ThinkPad Laptop 2023 New, 14\" FHD IPS T...</td>\n",
       "      <td>1848.0</td>\n",
       "      <td>Lenovo</td>\n",
       "      <td>Lenovo ThinkPad P14s Gen 2 20VX Laptop</td>\n",
       "      <td>14.0</td>\n",
       "      <td>Intel Core i7</td>\n",
       "      <td>_3.1 GHz core_i7_family</td>\n",
       "      <td>NVIDIA</td>\n",
       "      <td>32</td>\n",
       "      <td>1024 GB SSD</td>\n",
       "      <td>Windows 10 Pro</td>\n",
       "      <td>4</td>\n",
       "      <td>Intel</td>\n",
       "      <td>1</td>\n",
       "      <td>1</td>\n",
       "      <td>1920</td>\n",
       "      <td>1080</td>\n",
       "      <td>157.350512</td>\n",
       "    </tr>\n",
       "    <tr>\n",
       "      <th>1261</th>\n",
       "      <td>Lenovo ThinkPad P14s Gen 2 14\" FHD (1920x1080)...</td>\n",
       "      <td>1660.0</td>\n",
       "      <td>Lenovo</td>\n",
       "      <td>ThinkPad P14s</td>\n",
       "      <td>14.0</td>\n",
       "      <td>Intel Core i7</td>\n",
       "      <td>_3.2 GHz core_i7_family</td>\n",
       "      <td>NVIDIA</td>\n",
       "      <td>32</td>\n",
       "      <td>1024 GB SSD</td>\n",
       "      <td>Windows 11 Pro</td>\n",
       "      <td>4</td>\n",
       "      <td>Intel</td>\n",
       "      <td>0</td>\n",
       "      <td>1</td>\n",
       "      <td>1920</td>\n",
       "      <td>1080</td>\n",
       "      <td>157.350512</td>\n",
       "    </tr>\n",
       "  </tbody>\n",
       "</table>\n",
       "<p>1255 rows × 18 columns</p>\n",
       "</div>"
      ],
      "text/plain": [
       "                                                  title   price manufacturer  \\\n",
       "0     Microsoft Surface Book 2 (2017): 13.5\" Touchsc...  2287.0    Microsoft   \n",
       "1     Microsoft Surface Book 3 - 15\" Touch-Screen Pi...  2999.0    Microsoft   \n",
       "2     Dell G15 5530 2023 Gaming Laptop ~ 15.6\" FHD 1...  2995.0         Dell   \n",
       "3     Dell Vostro 7000 7620 Laptop (2022) | 16\" FHD+...  1999.0         Dell   \n",
       "4     Microsoft Surface Book 2 15\"(Intel Core i7, 16...  2999.0    Microsoft   \n",
       "...                                                 ...     ...          ...   \n",
       "1257  Lenovo ThinkPad T14s Gen 3 Business Laptop, 14...  1349.0       Lenovo   \n",
       "1258  Lenovo IdeaPad 15.6\" FHD Laptop, Intel Pentium...   589.0       Lenovo   \n",
       "1259  Lenovo ThinkPad P1 Gen 6 21FV001UUS 16\" Mobile...  5340.0       Lenovo   \n",
       "1260  Lenovo ThinkPad Laptop 2023 New, 14\" FHD IPS T...  1848.0       Lenovo   \n",
       "1261  Lenovo ThinkPad P14s Gen 2 14\" FHD (1920x1080)...  1660.0       Lenovo   \n",
       "\n",
       "                                  model_name  screen_size      cpu_model  \\\n",
       "0                             Surface Book 2         13.5  Intel Core i7   \n",
       "1                             Surface Book 3         15.0  Intel Core i7   \n",
       "2                                   G15 5530         15.6  Intel Core i9   \n",
       "3                         Vostro 7620 Laptop         16.0  Intel Core i7   \n",
       "4                             Surface Book 2         15.0  Intel Core i7   \n",
       "...                                      ...          ...            ...   \n",
       "1257                                ThinkPad         14.0    AMD Ryzen 7   \n",
       "1258                          Lenovo IdeaPad         15.6  Intel Pentium   \n",
       "1259                       ThinkPad P1 Gen 6         16.0  Intel Core i9   \n",
       "1260  Lenovo ThinkPad P14s Gen 2 20VX Laptop         14.0  Intel Core i7   \n",
       "1261                           ThinkPad P14s         14.0  Intel Core i7   \n",
       "\n",
       "                    processor graphics_copressor  ram      storage  \\\n",
       "0            _4.2 GHz core_i7             NVIDIA    8   256 GB SSD   \n",
       "1                         NaN             NVIDIA   16   256 GB SSD   \n",
       "2      _2.9 GHz intel_core_i9             NVIDIA   64  2048 GB SSD   \n",
       "3            _3.5 GHz core_i7             NVIDIA    8  1024 GB SSD   \n",
       "4            _4.2 GHz core_i7             NVIDIA   16  1024 GB SSD   \n",
       "...                       ...                ...  ...          ...   \n",
       "1257         _2.7 GHz ryzen_7                AMD   16  1024 GB SSD   \n",
       "1258         _1.1 GHz pentium              Intel   20  1024 GB SSD   \n",
       "1259                 _core_i9             NVIDIA   32  1024 GB SSD   \n",
       "1260  _3.1 GHz core_i7_family             NVIDIA   32  1024 GB SSD   \n",
       "1261  _3.2 GHz core_i7_family             NVIDIA   32  1024 GB SSD   \n",
       "\n",
       "     operating_system  num_processors processor_brand  touchable  ips  x_res  \\\n",
       "0      Windows 10 Pro               4           Intel          1    0   3000   \n",
       "1          Windows 10               4           Intel          1    0   3000   \n",
       "2      Windows 11 Pro              24           Intel          0    0   1920   \n",
       "3      Windows 11 Pro              14           Intel          0    0   1920   \n",
       "4      Windows 10 Pro               4           Intel          0    0   3000   \n",
       "...               ...             ...             ...        ...  ...    ...   \n",
       "1257   Windows 11 Pro               8             AMD          1    1   1920   \n",
       "1258       Windows 11               4           Intel          0    0   1920   \n",
       "1259   Windows 11 Pro               1           Intel          0    0   2560   \n",
       "1260   Windows 10 Pro               4           Intel          1    1   1920   \n",
       "1261   Windows 11 Pro               4           Intel          0    1   1920   \n",
       "\n",
       "      y_res         ppi  \n",
       "0      2000  267.077872  \n",
       "1      2000  240.370085  \n",
       "2      1080  141.211998  \n",
       "3      1200  141.509717  \n",
       "4      2000  240.370085  \n",
       "...     ...         ...  \n",
       "1257   1080  157.350512  \n",
       "1258   1080  141.211998  \n",
       "1259   1600  188.679623  \n",
       "1260   1080  157.350512  \n",
       "1261   1080  157.350512  \n",
       "\n",
       "[1255 rows x 18 columns]"
      ]
     },
     "execution_count": 52,
     "metadata": {},
     "output_type": "execute_result"
    }
   ],
   "source": [
    "cleaned_df"
   ]
  },
  {
   "cell_type": "code",
   "execution_count": 53,
   "id": "925d7083",
   "metadata": {},
   "outputs": [
    {
     "name": "stderr",
     "output_type": "stream",
     "text": [
      "/var/folders/xz/lwbfvlv571j_h6ypxn81t_pc0000gn/T/ipykernel_16524/2536329384.py:1: SettingWithCopyWarning: \n",
      "A value is trying to be set on a copy of a slice from a DataFrame\n",
      "\n",
      "See the caveats in the documentation: https://pandas.pydata.org/pandas-docs/stable/user_guide/indexing.html#returning-a-view-versus-a-copy\n",
      "  cleaned_df.drop(columns=['screen_size', 'x_res', 'y_res'], inplace=True)\n"
     ]
    }
   ],
   "source": [
    "cleaned_df.drop(columns=['screen_size', 'x_res', 'y_res'], inplace=True)"
   ]
  },
  {
   "cell_type": "code",
   "execution_count": 54,
   "id": "6bd6e333",
   "metadata": {},
   "outputs": [
    {
     "data": {
      "text/plain": [
       "array(['Intel Core i7', 'Intel Core i9', 'Intel Core i5', 'Intel Xeon',\n",
       "       'AMD Ryzen 7', 'AMD Ryzen 5', 'AMD Ryzen 9', 'Intel Celeron',\n",
       "       'MediaTek', 'M3', 'M3 ', 'M2  ', 'M2', 'M3 Pro', 'M2 Pro',\n",
       "       'M3 Max', 'Intel Core i3', 'Intel Atom', 'Intel Celeron D',\n",
       "       'Intel Pentium', 'Intel Processor N100', 'Intel Core m3',\n",
       "       'AMD Ryzen 3', 'AMD  ', 'AMD Athlon', 'AMD Ryzen 4', 'AMD'],\n",
       "      dtype=object)"
      ]
     },
     "execution_count": 54,
     "metadata": {},
     "output_type": "execute_result"
    }
   ],
   "source": [
    "cleaned_df['cpu_model'].unique()"
   ]
  },
  {
   "cell_type": "code",
   "execution_count": 55,
   "id": "956dc6e3",
   "metadata": {},
   "outputs": [
    {
     "name": "stderr",
     "output_type": "stream",
     "text": [
      "/var/folders/xz/lwbfvlv571j_h6ypxn81t_pc0000gn/T/ipykernel_16524/1069636904.py:1: SettingWithCopyWarning: \n",
      "A value is trying to be set on a copy of a slice from a DataFrame.\n",
      "Try using .loc[row_indexer,col_indexer] = value instead\n",
      "\n",
      "See the caveats in the documentation: https://pandas.pydata.org/pandas-docs/stable/user_guide/indexing.html#returning-a-view-versus-a-copy\n",
      "  cleaned_df['cpu_model'] = cleaned_df['cpu_model'].str.strip()\n"
     ]
    }
   ],
   "source": [
    "cleaned_df['cpu_model'] = cleaned_df['cpu_model'].str.strip()"
   ]
  },
  {
   "cell_type": "code",
   "execution_count": 56,
   "id": "592c10b6",
   "metadata": {},
   "outputs": [
    {
     "data": {
      "text/plain": [
       "array(['Intel Core i7', 'Intel Core i9', 'Intel Core i5', 'Intel Xeon',\n",
       "       'AMD Ryzen 7', 'AMD Ryzen 5', 'AMD Ryzen 9', 'Intel Celeron',\n",
       "       'MediaTek', 'M3', 'M2', 'M3 Pro', 'M2 Pro', 'M3 Max',\n",
       "       'Intel Core i3', 'Intel Atom', 'Intel Celeron D', 'Intel Pentium',\n",
       "       'Intel Processor N100', 'Intel Core m3', 'AMD Ryzen 3', 'AMD',\n",
       "       'AMD Athlon', 'AMD Ryzen 4'], dtype=object)"
      ]
     },
     "execution_count": 56,
     "metadata": {},
     "output_type": "execute_result"
    }
   ],
   "source": [
    "cleaned_df['cpu_model'].unique()"
   ]
  },
  {
   "cell_type": "code",
   "execution_count": 57,
   "id": "3ef3f686",
   "metadata": {},
   "outputs": [
    {
     "data": {
      "text/plain": [
       "<AxesSubplot:>"
      ]
     },
     "execution_count": 57,
     "metadata": {},
     "output_type": "execute_result"
    },
    {
     "data": {
      "image/png": "[encoded data removed]",
      "text/plain": [
       "<Figure size 640x480 with 1 Axes>"
      ]
     },
     "metadata": {},
     "output_type": "display_data"
    }
   ],
   "source": [
    "cleaned_df['cpu_model'].value_counts().plot(kind='bar')"
   ]
  },
  {
   "cell_type": "code",
   "execution_count": 58,
   "id": "f77d63ee",
   "metadata": {},
   "outputs": [],
   "source": [
    "def fetch_processor(text):\n",
    "    if text == 'Intel Core i9' or text == 'Intel Core i7' or text == 'Intel Core i5' or text == 'Intel Core i3' or text == 'Intel Celeron':\n",
    "        return text\n",
    "    elif text.split()[0] == 'Intel':\n",
    "        return 'Other Intel Processor'\n",
    "    elif text == 'AMD Ryzen 7' or text == 'AMD Ryzen 5':\n",
    "        return text\n",
    "    elif text.split()[0] == 'AMD':\n",
    "        return 'Other AMD Processor'\n",
    "    elif text == 'M2' or text == 'M2 Pro' or text == 'M3' or text == 'M3 Max' or text == 'M3 Pro':\n",
    "        return \"Mac Processor\"\n",
    "    elif text == 'MediaTek':\n",
    "        return text\n",
    "    else:\n",
    "        return 'Other'"
   ]
  },
  {
   "cell_type": "code",
   "execution_count": 59,
   "id": "84faeed1",
   "metadata": {},
   "outputs": [
    {
     "name": "stderr",
     "output_type": "stream",
     "text": [
      "/var/folders/xz/lwbfvlv571j_h6ypxn81t_pc0000gn/T/ipykernel_16524/238274609.py:1: SettingWithCopyWarning: \n",
      "A value is trying to be set on a copy of a slice from a DataFrame.\n",
      "Try using .loc[row_indexer,col_indexer] = value instead\n",
      "\n",
      "See the caveats in the documentation: https://pandas.pydata.org/pandas-docs/stable/user_guide/indexing.html#returning-a-view-versus-a-copy\n",
      "  cleaned_df['cpu_name'] = cleaned_df['cpu_model'].apply(fetch_processor)\n"
     ]
    }
   ],
   "source": [
    "cleaned_df['cpu_name'] = cleaned_df['cpu_model'].apply(fetch_processor)"
   ]
  },
  {
   "cell_type": "code",
   "execution_count": 60,
   "id": "4c8fe4d6",
   "metadata": {},
   "outputs": [
    {
     "data": {
      "text/plain": [
       "array(['Intel Core i7', 'Intel Core i9', 'Intel Core i5', 'Intel Xeon',\n",
       "       'AMD Ryzen 7', 'AMD Ryzen 5', 'AMD Ryzen 9', 'Intel Celeron',\n",
       "       'MediaTek', 'M3', 'M2', 'M3 Pro', 'M2 Pro', 'M3 Max',\n",
       "       'Intel Core i3', 'Intel Atom', 'Intel Celeron D', 'Intel Pentium',\n",
       "       'Intel Processor N100', 'Intel Core m3', 'AMD Ryzen 3', 'AMD',\n",
       "       'AMD Athlon', 'AMD Ryzen 4'], dtype=object)"
      ]
     },
     "execution_count": 60,
     "metadata": {},
     "output_type": "execute_result"
    }
   ],
   "source": [
    "cleaned_df['cpu_model'].unique()"
   ]
  },
  {
   "cell_type": "code",
   "execution_count": 61,
   "id": "1830adde",
   "metadata": {},
   "outputs": [
    {
     "data": {
      "text/plain": [
       "array(['Intel Core i7', 'Intel Core i9', 'Intel Core i5',\n",
       "       'Other Intel Processor', 'AMD Ryzen 7', 'AMD Ryzen 5',\n",
       "       'Other AMD Processor', 'Intel Celeron', 'MediaTek',\n",
       "       'Mac Processor', 'Intel Core i3'], dtype=object)"
      ]
     },
     "execution_count": 61,
     "metadata": {},
     "output_type": "execute_result"
    }
   ],
   "source": [
    "cleaned_df['cpu_name'].unique()"
   ]
  },
  {
   "cell_type": "code",
   "execution_count": 62,
   "id": "2875263d",
   "metadata": {},
   "outputs": [
    {
     "data": {
      "text/plain": [
       "<AxesSubplot:>"
      ]
     },
     "execution_count": 62,
     "metadata": {},
     "output_type": "execute_result"
    },
    {
     "data": {
      "image/png": "[encoded data removed]",
      "text/plain": [
       "<Figure size 640x480 with 1 Axes>"
      ]
     },
     "metadata": {},
     "output_type": "display_data"
    }
   ],
   "source": [
    "cleaned_df['cpu_name'].value_counts().plot(kind='bar')"
   ]
  },
  {
   "cell_type": "code",
   "execution_count": 63,
   "id": "55186f96",
   "metadata": {},
   "outputs": [
    {
     "data": {
      "text/plain": [
       "Intel Core i7            374\n",
       "Intel Core i5            243\n",
       "AMD Ryzen 7              135\n",
       "Intel Core i3            107\n",
       "Intel Celeron             99\n",
       "AMD Ryzen 5               88\n",
       "Mac Processor             64\n",
       "Intel Core i9             49\n",
       "Other AMD Processor       46\n",
       "Other Intel Processor     41\n",
       "MediaTek                   9\n",
       "Name: cpu_name, dtype: int64"
      ]
     },
     "execution_count": 63,
     "metadata": {},
     "output_type": "execute_result"
    }
   ],
   "source": [
    "cleaned_df['cpu_name'].value_counts()"
   ]
  },
  {
   "cell_type": "code",
   "execution_count": 105,
   "id": "dc3540d1",
   "metadata": {},
   "outputs": [],
   "source": [
    "cleaned_df = cleaned_df[~cleaned_df['cpu_name'].str.contains('MediaTek', case=False)]"
   ]
  },
  {
   "cell_type": "code",
   "execution_count": 106,
   "id": "2840fa21",
   "metadata": {},
   "outputs": [
    {
     "data": {
      "text/plain": [
       "Intel Core i7            374\n",
       "Intel Core i5            242\n",
       "AMD Ryzen 7              135\n",
       "Intel Core i3            107\n",
       "Intel Celeron             98\n",
       "AMD Ryzen 5               88\n",
       "Mac Processor             64\n",
       "Intel Core i9             49\n",
       "Other AMD Processor       46\n",
       "Other Intel Processor     41\n",
       "Name: cpu_name, dtype: int64"
      ]
     },
     "execution_count": 106,
     "metadata": {},
     "output_type": "execute_result"
    }
   ],
   "source": [
    "cleaned_df['cpu_name'].value_counts()"
   ]
  },
  {
   "cell_type": "code",
   "execution_count": 107,
   "id": "d5c13149",
   "metadata": {},
   "outputs": [
    {
     "data": {
      "image/png": "[encoded data removed]",
      "text/plain": [
       "<Figure size 640x480 with 1 Axes>"
      ]
     },
     "metadata": {},
     "output_type": "display_data"
    }
   ],
   "source": [
    "sns.barplot(x=cleaned_df['cpu_name'], y=cleaned_df['price'])\n",
    "plt.xticks(rotation='vertical')\n",
    "plt.show()"
   ]
  },
  {
   "cell_type": "code",
   "execution_count": 65,
   "id": "4e457ede",
   "metadata": {},
   "outputs": [
    {
     "data": {
      "text/plain": [
       "<AxesSubplot:>"
      ]
     },
     "execution_count": 65,
     "metadata": {},
     "output_type": "execute_result"
    },
    {
     "data": {
      "image/png": "[encoded data removed]",
      "text/plain": [
       "<Figure size 640x480 with 1 Axes>"
      ]
     },
     "metadata": {},
     "output_type": "display_data"
    }
   ],
   "source": [
    "cleaned_df['ram'].value_counts().plot(kind='bar')"
   ]
  },
  {
   "cell_type": "code",
   "execution_count": 66,
   "id": "08daa036",
   "metadata": {},
   "outputs": [
    {
     "data": {
      "text/plain": [
       "<AxesSubplot:xlabel='ram', ylabel='price'>"
      ]
     },
     "execution_count": 66,
     "metadata": {},
     "output_type": "execute_result"
    },
    {
     "data": {
      "image/png": "[encoded data removed]",
      "text/plain": [
       "<Figure size 640x480 with 1 Axes>"
      ]
     },
     "metadata": {},
     "output_type": "display_data"
    }
   ],
   "source": [
    "sns.barplot(x=cleaned_df['ram'], y=cleaned_df['price'])"
   ]
  },
  {
   "cell_type": "code",
   "execution_count": 67,
   "id": "80bb2dcc",
   "metadata": {},
   "outputs": [
    {
     "data": {
      "text/plain": [
       "array(['256 GB SSD', '2048 GB SSD', '1024 GB SSD', '512 GB SSD',\n",
       "       '4096 GB SSD', '3072 GB SSD', '8192 GB SSD', '128 GB SSD',\n",
       "       '32 GB Emmc', '64 GB Emmc', '64 GB SSD', '128 GB Emmc',\n",
       "       '16 GB Emmc', '16 GB SSD'], dtype=object)"
      ]
     },
     "execution_count": 67,
     "metadata": {},
     "output_type": "execute_result"
    }
   ],
   "source": [
    "cleaned_df['storage'].unique()"
   ]
  },
  {
   "cell_type": "code",
   "execution_count": 68,
   "id": "4b70a007",
   "metadata": {},
   "outputs": [
    {
     "data": {
      "text/plain": [
       "<AxesSubplot:>"
      ]
     },
     "execution_count": 68,
     "metadata": {},
     "output_type": "execute_result"
    },
    {
     "data": {
      "image/png": "[encoded data removed]",
      "text/plain": [
       "<Figure size 640x480 with 1 Axes>"
      ]
     },
     "metadata": {},
     "output_type": "display_data"
    }
   ],
   "source": [
    "cleaned_df['storage'].value_counts().plot(kind='bar')"
   ]
  },
  {
   "cell_type": "code",
   "execution_count": 69,
   "id": "b55641a3",
   "metadata": {},
   "outputs": [
    {
     "data": {
      "text/plain": [
       "array(['256 GB SSD', '2048 GB SSD', '1024 GB SSD', '512 GB SSD',\n",
       "       '4096 GB SSD', '3072 GB SSD', '8192 GB SSD', '128 GB SSD',\n",
       "       '32 GB Emmc', '64 GB Emmc', '64 GB SSD', '128 GB Emmc',\n",
       "       '16 GB Emmc', '16 GB SSD'], dtype=object)"
      ]
     },
     "execution_count": 69,
     "metadata": {},
     "output_type": "execute_result"
    }
   ],
   "source": [
    "cleaned_df['storage'].str.strip().unique()"
   ]
  },
  {
   "cell_type": "code",
   "execution_count": 70,
   "id": "3ed664f3",
   "metadata": {},
   "outputs": [],
   "source": [
    "def set_storage_range(text):\n",
    "    if text == '1024 GB SSD' or text == '512 GB SSD' or text == '256 GB SSD' or text == '2048 GB SSD':\n",
    "        return text\n",
    "    elif text == '3072 GB SSD' or text == '4096 GB SSD' or text == '8192 GB SSD':\n",
    "        return '3072 GB SSD or Above'\n",
    "    elif text == '128 GB SSD' or text == '64 GB SSD' or text == '32 GB SSD' or text == '16 GB SSD':\n",
    "        return '128 GB SSD or Below'\n",
    "    elif text == '128 GB Emmc' or text == '64 GB Emmc':\n",
    "        return '64 GB Emmc or Above'\n",
    "    elif text == '16 GB Emmc' or text == '32 GB Emmc':\n",
    "        return '32 GB Emmc or Below'"
   ]
  },
  {
   "cell_type": "code",
   "execution_count": 71,
   "id": "4d9c1c6e",
   "metadata": {},
   "outputs": [
    {
     "data": {
      "text/plain": [
       "False    1165\n",
       "True       90\n",
       "Name: storage, dtype: int64"
      ]
     },
     "execution_count": 71,
     "metadata": {},
     "output_type": "execute_result"
    }
   ],
   "source": [
    "cleaned_df['storage'].str.contains('Emmc', case= False).value_counts()"
   ]
  },
  {
   "cell_type": "code",
   "execution_count": 72,
   "id": "fef735e2",
   "metadata": {},
   "outputs": [
    {
     "data": {
      "text/plain": [
       "0        [256, GB, SSD]\n",
       "1        [256, GB, SSD]\n",
       "2       [2048, GB, SSD]\n",
       "3       [1024, GB, SSD]\n",
       "4       [1024, GB, SSD]\n",
       "             ...       \n",
       "1257    [1024, GB, SSD]\n",
       "1258    [1024, GB, SSD]\n",
       "1259    [1024, GB, SSD]\n",
       "1260    [1024, GB, SSD]\n",
       "1261    [1024, GB, SSD]\n",
       "Name: storage, Length: 1255, dtype: object"
      ]
     },
     "execution_count": 72,
     "metadata": {},
     "output_type": "execute_result"
    }
   ],
   "source": [
    "cleaned_df['storage'].str.split()"
   ]
  },
  {
   "cell_type": "code",
   "execution_count": 73,
   "id": "9208dfd2",
   "metadata": {},
   "outputs": [
    {
     "name": "stderr",
     "output_type": "stream",
     "text": [
      "/var/folders/xz/lwbfvlv571j_h6ypxn81t_pc0000gn/T/ipykernel_16524/3973978566.py:1: SettingWithCopyWarning: \n",
      "A value is trying to be set on a copy of a slice from a DataFrame.\n",
      "Try using .loc[row_indexer,col_indexer] = value instead\n",
      "\n",
      "See the caveats in the documentation: https://pandas.pydata.org/pandas-docs/stable/user_guide/indexing.html#returning-a-view-versus-a-copy\n",
      "  cleaned_df['storage_range_category'] = cleaned_df['storage'].apply(set_storage_range)\n"
     ]
    }
   ],
   "source": [
    "cleaned_df['storage_range_category'] = cleaned_df['storage'].apply(set_storage_range)"
   ]
  },
  {
   "cell_type": "code",
   "execution_count": 74,
   "id": "ddf990e1",
   "metadata": {},
   "outputs": [
    {
     "data": {
      "text/plain": [
       "1024 GB SSD             379\n",
       "512 GB SSD              337\n",
       "2048 GB SSD             169\n",
       "256 GB SSD              168\n",
       "64 GB Emmc or Above      67\n",
       "128 GB SSD or Below      63\n",
       "3072 GB SSD or Above     49\n",
       "32 GB Emmc or Below      23\n",
       "Name: storage_range_category, dtype: int64"
      ]
     },
     "execution_count": 74,
     "metadata": {},
     "output_type": "execute_result"
    }
   ],
   "source": [
    "cleaned_df['storage_range_category'].value_counts()"
   ]
  },
  {
   "cell_type": "code",
   "execution_count": 75,
   "id": "63a4cd15",
   "metadata": {},
   "outputs": [
    {
     "data": {
      "image/png": "[encoded data removed]",
      "text/plain": [
       "<Figure size 640x480 with 1 Axes>"
      ]
     },
     "metadata": {},
     "output_type": "display_data"
    }
   ],
   "source": [
    "sns.barplot(x=cleaned_df['storage_range_category'], y=cleaned_df['price'])\n",
    "plt.xticks(rotation='vertical')\n",
    "plt.show()"
   ]
  },
  {
   "cell_type": "code",
   "execution_count": 76,
   "id": "97c9e89b",
   "metadata": {},
   "outputs": [
    {
     "data": {
      "text/plain": [
       "array(['256 GB SSD', '2048 GB SSD', '1024 GB SSD', '512 GB SSD',\n",
       "       '3072 GB SSD or Above', '128 GB SSD or Below',\n",
       "       '32 GB Emmc or Below', '64 GB Emmc or Above'], dtype=object)"
      ]
     },
     "execution_count": 76,
     "metadata": {},
     "output_type": "execute_result"
    }
   ],
   "source": [
    "cleaned_df['storage_range_category'].unique()"
   ]
  },
  {
   "cell_type": "code",
   "execution_count": 77,
   "id": "d21fff99",
   "metadata": {},
   "outputs": [
    {
     "data": {
      "text/plain": [
       "array(['2048 GB SSD', '512 GB SSD', '256 GB SSD', '512 GB SSD',\n",
       "       '3072 GB SSD or Above', '512 GB SSD', '512 GB SSD', '256 GB SSD',\n",
       "       '3072 GB SSD or Above', '2048 GB SSD'], dtype=object)"
      ]
     },
     "execution_count": 77,
     "metadata": {},
     "output_type": "execute_result"
    }
   ],
   "source": [
    "np.array(cleaned_df['storage_range_category'].sample(10))"
   ]
  },
  {
   "cell_type": "code",
   "execution_count": 78,
   "id": "62a69cf3",
   "metadata": {},
   "outputs": [
    {
     "name": "stderr",
     "output_type": "stream",
     "text": [
      "/var/folders/xz/lwbfvlv571j_h6ypxn81t_pc0000gn/T/ipykernel_16524/2997457836.py:1: SettingWithCopyWarning: \n",
      "A value is trying to be set on a copy of a slice from a DataFrame.\n",
      "Try using .loc[row_indexer,col_indexer] = value instead\n",
      "\n",
      "See the caveats in the documentation: https://pandas.pydata.org/pandas-docs/stable/user_guide/indexing.html#returning-a-view-versus-a-copy\n",
      "  cleaned_df['ssd'] = 0\n",
      "/var/folders/xz/lwbfvlv571j_h6ypxn81t_pc0000gn/T/ipykernel_16524/2997457836.py:2: SettingWithCopyWarning: \n",
      "A value is trying to be set on a copy of a slice from a DataFrame.\n",
      "Try using .loc[row_indexer,col_indexer] = value instead\n",
      "\n",
      "See the caveats in the documentation: https://pandas.pydata.org/pandas-docs/stable/user_guide/indexing.html#returning-a-view-versus-a-copy\n",
      "  cleaned_df['emmc'] = 0\n"
     ]
    }
   ],
   "source": [
    "cleaned_df['ssd'] = 0\n",
    "cleaned_df['emmc'] = 0"
   ]
  },
  {
   "cell_type": "code",
   "execution_count": 79,
   "id": "c17bce46",
   "metadata": {},
   "outputs": [
    {
     "data": {
      "text/html": [
       "<div>\n",
       "<style scoped>\n",
       "    .dataframe tbody tr th:only-of-type {\n",
       "        vertical-align: middle;\n",
       "    }\n",
       "\n",
       "    .dataframe tbody tr th {\n",
       "        vertical-align: top;\n",
       "    }\n",
       "\n",
       "    .dataframe thead th {\n",
       "        text-align: right;\n",
       "    }\n",
       "</style>\n",
       "<table border=\"1\" class=\"dataframe\">\n",
       "  <thead>\n",
       "    <tr style=\"text-align: right;\">\n",
       "      <th></th>\n",
       "      <th>title</th>\n",
       "      <th>price</th>\n",
       "      <th>manufacturer</th>\n",
       "      <th>model_name</th>\n",
       "      <th>cpu_model</th>\n",
       "      <th>processor</th>\n",
       "      <th>graphics_copressor</th>\n",
       "      <th>ram</th>\n",
       "      <th>storage</th>\n",
       "      <th>operating_system</th>\n",
       "      <th>num_processors</th>\n",
       "      <th>processor_brand</th>\n",
       "      <th>touchable</th>\n",
       "      <th>ips</th>\n",
       "      <th>ppi</th>\n",
       "      <th>cpu_name</th>\n",
       "      <th>storage_range_category</th>\n",
       "      <th>ssd</th>\n",
       "      <th>emmc</th>\n",
       "    </tr>\n",
       "  </thead>\n",
       "  <tbody>\n",
       "    <tr>\n",
       "      <th>25</th>\n",
       "      <td>Lenovo Legion Pro 5i 16\" 165Hz WQXGA (2560x160...</td>\n",
       "      <td>2982.0</td>\n",
       "      <td>Lenovo</td>\n",
       "      <td>Legion Pro 5i</td>\n",
       "      <td>Intel Core i7</td>\n",
       "      <td>_3.1 GHz apple_ci7</td>\n",
       "      <td>NVIDIA</td>\n",
       "      <td>48</td>\n",
       "      <td>2048 GB SSD</td>\n",
       "      <td>Windows 11 Home</td>\n",
       "      <td>16</td>\n",
       "      <td>Intel</td>\n",
       "      <td>0</td>\n",
       "      <td>1</td>\n",
       "      <td>188.679623</td>\n",
       "      <td>Intel Core i7</td>\n",
       "      <td>2048 GB SSD</td>\n",
       "      <td>0</td>\n",
       "      <td>0</td>\n",
       "    </tr>\n",
       "    <tr>\n",
       "      <th>577</th>\n",
       "      <td>Acer A515-57-598B Business Laptop 2023 New, 15...</td>\n",
       "      <td>1186.0</td>\n",
       "      <td>Acer</td>\n",
       "      <td>Acer Aspire 5 15</td>\n",
       "      <td>Intel Core i5</td>\n",
       "      <td>_2.2 GHz core_i5_family</td>\n",
       "      <td>Intel</td>\n",
       "      <td>32</td>\n",
       "      <td>2048 GB SSD</td>\n",
       "      <td>Windows 11 Home</td>\n",
       "      <td>8</td>\n",
       "      <td>Intel</td>\n",
       "      <td>0</td>\n",
       "      <td>1</td>\n",
       "      <td>141.211998</td>\n",
       "      <td>Intel Core i5</td>\n",
       "      <td>2048 GB SSD</td>\n",
       "      <td>0</td>\n",
       "      <td>0</td>\n",
       "    </tr>\n",
       "    <tr>\n",
       "      <th>731</th>\n",
       "      <td>HP 15.6\" HD Everyday Laptop, Intel Pentium Sil...</td>\n",
       "      <td>519.0</td>\n",
       "      <td>HP</td>\n",
       "      <td>NaN</td>\n",
       "      <td>Intel Pentium</td>\n",
       "      <td>_1.1 GHz pentium</td>\n",
       "      <td>Intel</td>\n",
       "      <td>8</td>\n",
       "      <td>256 GB SSD</td>\n",
       "      <td>Windows 11</td>\n",
       "      <td>4</td>\n",
       "      <td>AMD</td>\n",
       "      <td>0</td>\n",
       "      <td>0</td>\n",
       "      <td>100.454670</td>\n",
       "      <td>Other Intel Processor</td>\n",
       "      <td>256 GB SSD</td>\n",
       "      <td>0</td>\n",
       "      <td>0</td>\n",
       "    </tr>\n",
       "    <tr>\n",
       "      <th>992</th>\n",
       "      <td>Samsung Chromebook 3 XE501C13-K02US, Intel Dua...</td>\n",
       "      <td>483.0</td>\n",
       "      <td>Samsung</td>\n",
       "      <td>Samsung Chromebook</td>\n",
       "      <td>Intel Celeron</td>\n",
       "      <td>_1.6 GHz celeron</td>\n",
       "      <td>Intel</td>\n",
       "      <td>4</td>\n",
       "      <td>16 GB Emmc</td>\n",
       "      <td>Chrome OS</td>\n",
       "      <td>1</td>\n",
       "      <td>Intel</td>\n",
       "      <td>0</td>\n",
       "      <td>0</td>\n",
       "      <td>135.094211</td>\n",
       "      <td>Intel Celeron</td>\n",
       "      <td>32 GB Emmc or Below</td>\n",
       "      <td>0</td>\n",
       "      <td>0</td>\n",
       "    </tr>\n",
       "    <tr>\n",
       "      <th>514</th>\n",
       "      <td>2023 Acer Aspire 5 15.6\" FHD IPS Laptop 11th G...</td>\n",
       "      <td>1120.0</td>\n",
       "      <td>Acer</td>\n",
       "      <td>A515-56-79N0</td>\n",
       "      <td>Intel Core i7</td>\n",
       "      <td>_1.8 GHz core_i7_family</td>\n",
       "      <td>Intel</td>\n",
       "      <td>16</td>\n",
       "      <td>512 GB SSD</td>\n",
       "      <td>Windows 11 Pro</td>\n",
       "      <td>4</td>\n",
       "      <td>Intel</td>\n",
       "      <td>0</td>\n",
       "      <td>1</td>\n",
       "      <td>141.211998</td>\n",
       "      <td>Intel Core i7</td>\n",
       "      <td>512 GB SSD</td>\n",
       "      <td>0</td>\n",
       "      <td>0</td>\n",
       "    </tr>\n",
       "    <tr>\n",
       "      <th>157</th>\n",
       "      <td>Acer Predator Triton 300 SE 14\" WUXGA 165Hz Ga...</td>\n",
       "      <td>2319.0</td>\n",
       "      <td>Acer</td>\n",
       "      <td>Predator Triton</td>\n",
       "      <td>Intel Core i7</td>\n",
       "      <td>_2.3 GHz core_i7</td>\n",
       "      <td>NVIDIA</td>\n",
       "      <td>64</td>\n",
       "      <td>4096 GB SSD</td>\n",
       "      <td>Windows 11 Home</td>\n",
       "      <td>14</td>\n",
       "      <td>Intel</td>\n",
       "      <td>0</td>\n",
       "      <td>0</td>\n",
       "      <td>161.725391</td>\n",
       "      <td>Intel Core i7</td>\n",
       "      <td>3072 GB SSD or Above</td>\n",
       "      <td>0</td>\n",
       "      <td>0</td>\n",
       "    </tr>\n",
       "    <tr>\n",
       "      <th>1018</th>\n",
       "      <td>Dell Inspiron 15 3000 3520 12th Gen Intel i5-1...</td>\n",
       "      <td>558.0</td>\n",
       "      <td>Dell</td>\n",
       "      <td>Inspiron</td>\n",
       "      <td>Intel Core i5</td>\n",
       "      <td>_1.3 GHz core_i5</td>\n",
       "      <td>Intel</td>\n",
       "      <td>8</td>\n",
       "      <td>256 GB SSD</td>\n",
       "      <td>Windows 11 Home</td>\n",
       "      <td>10</td>\n",
       "      <td>Intel</td>\n",
       "      <td>0</td>\n",
       "      <td>0</td>\n",
       "      <td>141.211998</td>\n",
       "      <td>Intel Core i5</td>\n",
       "      <td>256 GB SSD</td>\n",
       "      <td>0</td>\n",
       "      <td>0</td>\n",
       "    </tr>\n",
       "    <tr>\n",
       "      <th>45</th>\n",
       "      <td>Lenovo IdeaPad Gaming 3 Laptop, 15.6\" FHD 120H...</td>\n",
       "      <td>1079.0</td>\n",
       "      <td>Lenovo</td>\n",
       "      <td>IdeaPad</td>\n",
       "      <td>AMD Ryzen 5</td>\n",
       "      <td>_3.3 GHz ryzen_5</td>\n",
       "      <td>NVIDIA</td>\n",
       "      <td>32</td>\n",
       "      <td>1024 GB SSD</td>\n",
       "      <td>Windows 11 Home</td>\n",
       "      <td>6</td>\n",
       "      <td>AMD</td>\n",
       "      <td>0</td>\n",
       "      <td>0</td>\n",
       "      <td>141.211998</td>\n",
       "      <td>AMD Ryzen 5</td>\n",
       "      <td>1024 GB SSD</td>\n",
       "      <td>0</td>\n",
       "      <td>0</td>\n",
       "    </tr>\n",
       "    <tr>\n",
       "      <th>307</th>\n",
       "      <td>Acer Aspire 7-2023 Gaming Laptop - 15.6\" FHD I...</td>\n",
       "      <td>1186.0</td>\n",
       "      <td>Acer</td>\n",
       "      <td>Aspire 7</td>\n",
       "      <td>AMD Ryzen 5</td>\n",
       "      <td>_2 GHz ryzen_5</td>\n",
       "      <td>NVIDIA</td>\n",
       "      <td>32</td>\n",
       "      <td>1024 GB SSD</td>\n",
       "      <td>Windows 10 Home</td>\n",
       "      <td>6</td>\n",
       "      <td>AMD</td>\n",
       "      <td>0</td>\n",
       "      <td>1</td>\n",
       "      <td>141.211998</td>\n",
       "      <td>AMD Ryzen 5</td>\n",
       "      <td>1024 GB SSD</td>\n",
       "      <td>0</td>\n",
       "      <td>0</td>\n",
       "    </tr>\n",
       "    <tr>\n",
       "      <th>262</th>\n",
       "      <td>HP Envy 17 inch Laptop, FHD Display, 13th Gene...</td>\n",
       "      <td>1673.0</td>\n",
       "      <td>HP</td>\n",
       "      <td>HP ENVY 17.3 inch Laptop PC 17-cr1000ca</td>\n",
       "      <td>Intel Core i7</td>\n",
       "      <td>_5 GHz core_i7</td>\n",
       "      <td>NVIDIA</td>\n",
       "      <td>16</td>\n",
       "      <td>1024 GB SSD</td>\n",
       "      <td>Windows 11 Home</td>\n",
       "      <td>10</td>\n",
       "      <td>Intel</td>\n",
       "      <td>0</td>\n",
       "      <td>0</td>\n",
       "      <td>127.335675</td>\n",
       "      <td>Intel Core i7</td>\n",
       "      <td>1024 GB SSD</td>\n",
       "      <td>0</td>\n",
       "      <td>0</td>\n",
       "    </tr>\n",
       "  </tbody>\n",
       "</table>\n",
       "</div>"
      ],
      "text/plain": [
       "                                                  title   price manufacturer  \\\n",
       "25    Lenovo Legion Pro 5i 16\" 165Hz WQXGA (2560x160...  2982.0       Lenovo   \n",
       "577   Acer A515-57-598B Business Laptop 2023 New, 15...  1186.0         Acer   \n",
       "731   HP 15.6\" HD Everyday Laptop, Intel Pentium Sil...   519.0           HP   \n",
       "992   Samsung Chromebook 3 XE501C13-K02US, Intel Dua...   483.0      Samsung   \n",
       "514   2023 Acer Aspire 5 15.6\" FHD IPS Laptop 11th G...  1120.0         Acer   \n",
       "157   Acer Predator Triton 300 SE 14\" WUXGA 165Hz Ga...  2319.0         Acer   \n",
       "1018  Dell Inspiron 15 3000 3520 12th Gen Intel i5-1...   558.0         Dell   \n",
       "45    Lenovo IdeaPad Gaming 3 Laptop, 15.6\" FHD 120H...  1079.0       Lenovo   \n",
       "307   Acer Aspire 7-2023 Gaming Laptop - 15.6\" FHD I...  1186.0         Acer   \n",
       "262   HP Envy 17 inch Laptop, FHD Display, 13th Gene...  1673.0           HP   \n",
       "\n",
       "                                   model_name      cpu_model  \\\n",
       "25                              Legion Pro 5i  Intel Core i7   \n",
       "577                          Acer Aspire 5 15  Intel Core i5   \n",
       "731                                       NaN  Intel Pentium   \n",
       "992                        Samsung Chromebook  Intel Celeron   \n",
       "514                              A515-56-79N0  Intel Core i7   \n",
       "157                           Predator Triton  Intel Core i7   \n",
       "1018                                 Inspiron  Intel Core i5   \n",
       "45                                    IdeaPad    AMD Ryzen 5   \n",
       "307                                  Aspire 7    AMD Ryzen 5   \n",
       "262   HP ENVY 17.3 inch Laptop PC 17-cr1000ca  Intel Core i7   \n",
       "\n",
       "                    processor graphics_copressor  ram      storage  \\\n",
       "25         _3.1 GHz apple_ci7             NVIDIA   48  2048 GB SSD   \n",
       "577   _2.2 GHz core_i5_family              Intel   32  2048 GB SSD   \n",
       "731          _1.1 GHz pentium              Intel    8   256 GB SSD   \n",
       "992          _1.6 GHz celeron              Intel    4   16 GB Emmc   \n",
       "514   _1.8 GHz core_i7_family              Intel   16   512 GB SSD   \n",
       "157          _2.3 GHz core_i7             NVIDIA   64  4096 GB SSD   \n",
       "1018         _1.3 GHz core_i5              Intel    8   256 GB SSD   \n",
       "45           _3.3 GHz ryzen_5             NVIDIA   32  1024 GB SSD   \n",
       "307            _2 GHz ryzen_5             NVIDIA   32  1024 GB SSD   \n",
       "262            _5 GHz core_i7             NVIDIA   16  1024 GB SSD   \n",
       "\n",
       "     operating_system  num_processors processor_brand  touchable  ips  \\\n",
       "25    Windows 11 Home              16           Intel          0    1   \n",
       "577   Windows 11 Home               8           Intel          0    1   \n",
       "731        Windows 11               4             AMD          0    0   \n",
       "992         Chrome OS               1           Intel          0    0   \n",
       "514    Windows 11 Pro               4           Intel          0    1   \n",
       "157   Windows 11 Home              14           Intel          0    0   \n",
       "1018  Windows 11 Home              10           Intel          0    0   \n",
       "45    Windows 11 Home               6             AMD          0    0   \n",
       "307   Windows 10 Home               6             AMD          0    1   \n",
       "262   Windows 11 Home              10           Intel          0    0   \n",
       "\n",
       "             ppi               cpu_name storage_range_category  ssd  emmc  \n",
       "25    188.679623          Intel Core i7            2048 GB SSD    0     0  \n",
       "577   141.211998          Intel Core i5            2048 GB SSD    0     0  \n",
       "731   100.454670  Other Intel Processor             256 GB SSD    0     0  \n",
       "992   135.094211          Intel Celeron    32 GB Emmc or Below    0     0  \n",
       "514   141.211998          Intel Core i7             512 GB SSD    0     0  \n",
       "157   161.725391          Intel Core i7   3072 GB SSD or Above    0     0  \n",
       "1018  141.211998          Intel Core i5             256 GB SSD    0     0  \n",
       "45    141.211998            AMD Ryzen 5            1024 GB SSD    0     0  \n",
       "307   141.211998            AMD Ryzen 5            1024 GB SSD    0     0  \n",
       "262   127.335675          Intel Core i7            1024 GB SSD    0     0  "
      ]
     },
     "execution_count": 79,
     "metadata": {},
     "output_type": "execute_result"
    }
   ],
   "source": [
    "cleaned_df.sample(10)"
   ]
  },
  {
   "cell_type": "code",
   "execution_count": 80,
   "id": "654be9bc",
   "metadata": {},
   "outputs": [],
   "source": [
    "cleaned_df.loc[cleaned_df['storage_range_category'].str.contains('SSD'), 'ssd'] = cleaned_df['storage_range_category'].str.extract(r'(\\d+\\.?\\d*)')[0].astype(float)\n",
    "cleaned_df.loc[cleaned_df['storage_range_category'].str.contains('Emmc'), 'emmc'] = cleaned_df['storage_range_category'].str.extract(r'(\\d+\\.?\\d*)')[0].astype(float)"
   ]
  },
  {
   "cell_type": "code",
   "execution_count": 81,
   "id": "e3a95650",
   "metadata": {},
   "outputs": [
    {
     "data": {
      "text/html": [
       "<div>\n",
       "<style scoped>\n",
       "    .dataframe tbody tr th:only-of-type {\n",
       "        vertical-align: middle;\n",
       "    }\n",
       "\n",
       "    .dataframe tbody tr th {\n",
       "        vertical-align: top;\n",
       "    }\n",
       "\n",
       "    .dataframe thead th {\n",
       "        text-align: right;\n",
       "    }\n",
       "</style>\n",
       "<table border=\"1\" class=\"dataframe\">\n",
       "  <thead>\n",
       "    <tr style=\"text-align: right;\">\n",
       "      <th></th>\n",
       "      <th>title</th>\n",
       "      <th>price</th>\n",
       "      <th>manufacturer</th>\n",
       "      <th>model_name</th>\n",
       "      <th>cpu_model</th>\n",
       "      <th>processor</th>\n",
       "      <th>graphics_copressor</th>\n",
       "      <th>ram</th>\n",
       "      <th>storage</th>\n",
       "      <th>operating_system</th>\n",
       "      <th>num_processors</th>\n",
       "      <th>processor_brand</th>\n",
       "      <th>touchable</th>\n",
       "      <th>ips</th>\n",
       "      <th>ppi</th>\n",
       "      <th>cpu_name</th>\n",
       "      <th>storage_range_category</th>\n",
       "      <th>ssd</th>\n",
       "      <th>emmc</th>\n",
       "    </tr>\n",
       "  </thead>\n",
       "  <tbody>\n",
       "    <tr>\n",
       "      <th>639</th>\n",
       "      <td>Dell Inspiron Laptop 2023 New, 15.6\" FHD IPS T...</td>\n",
       "      <td>916.0</td>\n",
       "      <td>Dell</td>\n",
       "      <td>Inspiron 15 3520</td>\n",
       "      <td>Intel Core i5</td>\n",
       "      <td>_2.6 GHz core_i5_family</td>\n",
       "      <td>Intel</td>\n",
       "      <td>16</td>\n",
       "      <td>1024 GB SSD</td>\n",
       "      <td>Windows 11 Home</td>\n",
       "      <td>4</td>\n",
       "      <td>Intel</td>\n",
       "      <td>1</td>\n",
       "      <td>1</td>\n",
       "      <td>141.211998</td>\n",
       "      <td>Intel Core i5</td>\n",
       "      <td>1024 GB SSD</td>\n",
       "      <td>1024</td>\n",
       "      <td>0</td>\n",
       "    </tr>\n",
       "    <tr>\n",
       "      <th>912</th>\n",
       "      <td>Lenovo Thinkpad X1 Carbon Gen 8 14\" FHD Touchs...</td>\n",
       "      <td>1699.0</td>\n",
       "      <td>Lenovo</td>\n",
       "      <td>Lenovo Thinkpad</td>\n",
       "      <td>Intel Core i7</td>\n",
       "      <td>NaN</td>\n",
       "      <td>Intel</td>\n",
       "      <td>16</td>\n",
       "      <td>512 GB SSD</td>\n",
       "      <td>Windows 10 Pro</td>\n",
       "      <td>4</td>\n",
       "      <td>Intel</td>\n",
       "      <td>1</td>\n",
       "      <td>0</td>\n",
       "      <td>157.350512</td>\n",
       "      <td>Intel Core i7</td>\n",
       "      <td>512 GB SSD</td>\n",
       "      <td>512</td>\n",
       "      <td>0</td>\n",
       "    </tr>\n",
       "    <tr>\n",
       "      <th>421</th>\n",
       "      <td>Dell XPS 15 Multimedia Laptop 2023 15.6Ã WUXG...</td>\n",
       "      <td>2280.0</td>\n",
       "      <td>Dell</td>\n",
       "      <td>XPS 15</td>\n",
       "      <td>Intel Core i7</td>\n",
       "      <td>_2.8 GHz core_i7_family</td>\n",
       "      <td>Intel</td>\n",
       "      <td>32</td>\n",
       "      <td>1024 GB SSD</td>\n",
       "      <td>Windows 11 Pro</td>\n",
       "      <td>14</td>\n",
       "      <td>Intel</td>\n",
       "      <td>0</td>\n",
       "      <td>1</td>\n",
       "      <td>145.138171</td>\n",
       "      <td>Intel Core i7</td>\n",
       "      <td>1024 GB SSD</td>\n",
       "      <td>1024</td>\n",
       "      <td>0</td>\n",
       "    </tr>\n",
       "    <tr>\n",
       "      <th>283</th>\n",
       "      <td>Dell XPS 15 9530 Laptop - 15.6-inch OLED 3.5K ...</td>\n",
       "      <td>3699.0</td>\n",
       "      <td>Dell</td>\n",
       "      <td>Dell XPS 15 9530 Laptop</td>\n",
       "      <td>Intel Core i9</td>\n",
       "      <td>_5.4 GHz core_i9</td>\n",
       "      <td>NVIDIA</td>\n",
       "      <td>32</td>\n",
       "      <td>1024 GB SSD</td>\n",
       "      <td>Windows 11 Home</td>\n",
       "      <td>14</td>\n",
       "      <td>Intel</td>\n",
       "      <td>1</td>\n",
       "      <td>0</td>\n",
       "      <td>261.248708</td>\n",
       "      <td>Intel Core i9</td>\n",
       "      <td>1024 GB SSD</td>\n",
       "      <td>1024</td>\n",
       "      <td>0</td>\n",
       "    </tr>\n",
       "    <tr>\n",
       "      <th>641</th>\n",
       "      <td>HP 15.6\" FHD Laptop, 11th Gen Intel Core i5-11...</td>\n",
       "      <td>779.0</td>\n",
       "      <td>HP</td>\n",
       "      <td>NaN</td>\n",
       "      <td>Intel Core i5</td>\n",
       "      <td>_2.4 GHz core_i5</td>\n",
       "      <td>Intel</td>\n",
       "      <td>16</td>\n",
       "      <td>1024 GB SSD</td>\n",
       "      <td>Windows 11 Home</td>\n",
       "      <td>4</td>\n",
       "      <td>Intel</td>\n",
       "      <td>0</td>\n",
       "      <td>0</td>\n",
       "      <td>141.211998</td>\n",
       "      <td>Intel Core i5</td>\n",
       "      <td>1024 GB SSD</td>\n",
       "      <td>1024</td>\n",
       "      <td>0</td>\n",
       "    </tr>\n",
       "    <tr>\n",
       "      <th>657</th>\n",
       "      <td>HP Envy 17.3\" FHD IPS Touchscreen Laptop, Inte...</td>\n",
       "      <td>1899.0</td>\n",
       "      <td>HP</td>\n",
       "      <td>Envy</td>\n",
       "      <td>Intel Core i7</td>\n",
       "      <td>_2.1 GHz core_i7</td>\n",
       "      <td>Intel</td>\n",
       "      <td>32</td>\n",
       "      <td>1024 GB SSD</td>\n",
       "      <td>Windows 11 Pro</td>\n",
       "      <td>12</td>\n",
       "      <td>Intel</td>\n",
       "      <td>1</td>\n",
       "      <td>1</td>\n",
       "      <td>127.335675</td>\n",
       "      <td>Intel Core i7</td>\n",
       "      <td>1024 GB SSD</td>\n",
       "      <td>1024</td>\n",
       "      <td>0</td>\n",
       "    </tr>\n",
       "    <tr>\n",
       "      <th>287</th>\n",
       "      <td>Dell XPS 17 9720 Laptop17.0-inch UHD+ (3840 x ...</td>\n",
       "      <td>3499.0</td>\n",
       "      <td>Dell</td>\n",
       "      <td>XPS</td>\n",
       "      <td>Intel Core i9</td>\n",
       "      <td>_5 GHz</td>\n",
       "      <td>NVIDIA</td>\n",
       "      <td>32</td>\n",
       "      <td>1024 GB SSD</td>\n",
       "      <td>Windows 11 Pro</td>\n",
       "      <td>1</td>\n",
       "      <td>NVIDIA</td>\n",
       "      <td>1</td>\n",
       "      <td>0</td>\n",
       "      <td>266.371232</td>\n",
       "      <td>Intel Core i9</td>\n",
       "      <td>1024 GB SSD</td>\n",
       "      <td>1024</td>\n",
       "      <td>0</td>\n",
       "    </tr>\n",
       "    <tr>\n",
       "      <th>895</th>\n",
       "      <td>Lenovo Ideapad 3i 15.6\" FHD Touchscreen Laptop...</td>\n",
       "      <td>679.0</td>\n",
       "      <td>Lenovo</td>\n",
       "      <td>NaN</td>\n",
       "      <td>Intel Core i3</td>\n",
       "      <td>_1.7 GHz core_i3</td>\n",
       "      <td>Intel</td>\n",
       "      <td>16</td>\n",
       "      <td>1024 GB SSD</td>\n",
       "      <td>Windows 11</td>\n",
       "      <td>2</td>\n",
       "      <td>Intel</td>\n",
       "      <td>1</td>\n",
       "      <td>0</td>\n",
       "      <td>141.211998</td>\n",
       "      <td>Intel Core i3</td>\n",
       "      <td>1024 GB SSD</td>\n",
       "      <td>1024</td>\n",
       "      <td>0</td>\n",
       "    </tr>\n",
       "    <tr>\n",
       "      <th>1133</th>\n",
       "      <td>2023 Dell Inspiron 15 I3525 15.6\" FHD IPS Lapt...</td>\n",
       "      <td>1309.0</td>\n",
       "      <td>Dell</td>\n",
       "      <td>Inspiron 15</td>\n",
       "      <td>AMD Ryzen 7</td>\n",
       "      <td>_2 GHz ryzen_7</td>\n",
       "      <td>AMD</td>\n",
       "      <td>32</td>\n",
       "      <td>1024 GB SSD</td>\n",
       "      <td>Windows 11 Pro</td>\n",
       "      <td>8</td>\n",
       "      <td>AMD</td>\n",
       "      <td>0</td>\n",
       "      <td>1</td>\n",
       "      <td>141.211998</td>\n",
       "      <td>AMD Ryzen 7</td>\n",
       "      <td>1024 GB SSD</td>\n",
       "      <td>1024</td>\n",
       "      <td>0</td>\n",
       "    </tr>\n",
       "    <tr>\n",
       "      <th>100</th>\n",
       "      <td>ASUS VivoBook Pro 15 OLED Laptop, 15.6Ó 2.8K O...</td>\n",
       "      <td>1799.0</td>\n",
       "      <td>Asus</td>\n",
       "      <td>ASUS VivoBook Pro 15 OLED Laptop</td>\n",
       "      <td>Intel Core i9</td>\n",
       "      <td>_2.6 GHz intel_core_i9</td>\n",
       "      <td>NVIDIA</td>\n",
       "      <td>16</td>\n",
       "      <td>512 GB SSD</td>\n",
       "      <td>_Windows 11 Home</td>\n",
       "      <td>14</td>\n",
       "      <td>_Intel</td>\n",
       "      <td>0</td>\n",
       "      <td>0</td>\n",
       "      <td>211.817997</td>\n",
       "      <td>Intel Core i9</td>\n",
       "      <td>512 GB SSD</td>\n",
       "      <td>512</td>\n",
       "      <td>0</td>\n",
       "    </tr>\n",
       "  </tbody>\n",
       "</table>\n",
       "</div>"
      ],
      "text/plain": [
       "                                                  title   price manufacturer  \\\n",
       "639   Dell Inspiron Laptop 2023 New, 15.6\" FHD IPS T...   916.0         Dell   \n",
       "912   Lenovo Thinkpad X1 Carbon Gen 8 14\" FHD Touchs...  1699.0       Lenovo   \n",
       "421   Dell XPS 15 Multimedia Laptop 2023 15.6Ã WUXG...  2280.0         Dell   \n",
       "283   Dell XPS 15 9530 Laptop - 15.6-inch OLED 3.5K ...  3699.0         Dell   \n",
       "641   HP 15.6\" FHD Laptop, 11th Gen Intel Core i5-11...   779.0           HP   \n",
       "657   HP Envy 17.3\" FHD IPS Touchscreen Laptop, Inte...  1899.0           HP   \n",
       "287   Dell XPS 17 9720 Laptop17.0-inch UHD+ (3840 x ...  3499.0         Dell   \n",
       "895   Lenovo Ideapad 3i 15.6\" FHD Touchscreen Laptop...   679.0       Lenovo   \n",
       "1133  2023 Dell Inspiron 15 I3525 15.6\" FHD IPS Lapt...  1309.0         Dell   \n",
       "100   ASUS VivoBook Pro 15 OLED Laptop, 15.6Ó 2.8K O...  1799.0         Asus   \n",
       "\n",
       "                            model_name      cpu_model  \\\n",
       "639                   Inspiron 15 3520  Intel Core i5   \n",
       "912                    Lenovo Thinkpad  Intel Core i7   \n",
       "421                             XPS 15  Intel Core i7   \n",
       "283            Dell XPS 15 9530 Laptop  Intel Core i9   \n",
       "641                                NaN  Intel Core i5   \n",
       "657                               Envy  Intel Core i7   \n",
       "287                                XPS  Intel Core i9   \n",
       "895                                NaN  Intel Core i3   \n",
       "1133                       Inspiron 15    AMD Ryzen 7   \n",
       "100   ASUS VivoBook Pro 15 OLED Laptop  Intel Core i9   \n",
       "\n",
       "                    processor graphics_copressor  ram      storage  \\\n",
       "639   _2.6 GHz core_i5_family              Intel   16  1024 GB SSD   \n",
       "912                       NaN              Intel   16   512 GB SSD   \n",
       "421   _2.8 GHz core_i7_family              Intel   32  1024 GB SSD   \n",
       "283          _5.4 GHz core_i9             NVIDIA   32  1024 GB SSD   \n",
       "641          _2.4 GHz core_i5              Intel   16  1024 GB SSD   \n",
       "657          _2.1 GHz core_i7              Intel   32  1024 GB SSD   \n",
       "287                    _5 GHz             NVIDIA   32  1024 GB SSD   \n",
       "895          _1.7 GHz core_i3              Intel   16  1024 GB SSD   \n",
       "1133           _2 GHz ryzen_7                AMD   32  1024 GB SSD   \n",
       "100    _2.6 GHz intel_core_i9             NVIDIA   16   512 GB SSD   \n",
       "\n",
       "      operating_system  num_processors processor_brand  touchable  ips  \\\n",
       "639    Windows 11 Home               4           Intel          1    1   \n",
       "912     Windows 10 Pro               4           Intel          1    0   \n",
       "421     Windows 11 Pro              14           Intel          0    1   \n",
       "283    Windows 11 Home              14           Intel          1    0   \n",
       "641    Windows 11 Home               4           Intel          0    0   \n",
       "657     Windows 11 Pro              12           Intel          1    1   \n",
       "287     Windows 11 Pro               1          NVIDIA          1    0   \n",
       "895         Windows 11               2           Intel          1    0   \n",
       "1133    Windows 11 Pro               8             AMD          0    1   \n",
       "100   _Windows 11 Home              14          _Intel          0    0   \n",
       "\n",
       "             ppi       cpu_name storage_range_category   ssd  emmc  \n",
       "639   141.211998  Intel Core i5            1024 GB SSD  1024     0  \n",
       "912   157.350512  Intel Core i7             512 GB SSD   512     0  \n",
       "421   145.138171  Intel Core i7            1024 GB SSD  1024     0  \n",
       "283   261.248708  Intel Core i9            1024 GB SSD  1024     0  \n",
       "641   141.211998  Intel Core i5            1024 GB SSD  1024     0  \n",
       "657   127.335675  Intel Core i7            1024 GB SSD  1024     0  \n",
       "287   266.371232  Intel Core i9            1024 GB SSD  1024     0  \n",
       "895   141.211998  Intel Core i3            1024 GB SSD  1024     0  \n",
       "1133  141.211998    AMD Ryzen 7            1024 GB SSD  1024     0  \n",
       "100   211.817997  Intel Core i9             512 GB SSD   512     0  "
      ]
     },
     "execution_count": 81,
     "metadata": {},
     "output_type": "execute_result"
    }
   ],
   "source": [
    "cleaned_df.sample(10)"
   ]
  },
  {
   "cell_type": "code",
   "execution_count": 82,
   "id": "e2399e7b",
   "metadata": {},
   "outputs": [
    {
     "data": {
      "text/plain": [
       "price             1.000000\n",
       "ram               0.505469\n",
       "num_processors    0.596594\n",
       "touchable        -0.022500\n",
       "ips               0.139814\n",
       "ppi               0.507826\n",
       "ssd               0.530217\n",
       "emmc             -0.310854\n",
       "Name: price, dtype: float64"
      ]
     },
     "execution_count": 82,
     "metadata": {},
     "output_type": "execute_result"
    }
   ],
   "source": [
    "# Analysis for SDD & Emmc\n",
    "cleaned_df.corr()['price']"
   ]
  },
  {
   "cell_type": "code",
   "execution_count": 83,
   "id": "c3f3977f",
   "metadata": {},
   "outputs": [
    {
     "name": "stderr",
     "output_type": "stream",
     "text": [
      "/var/folders/xz/lwbfvlv571j_h6ypxn81t_pc0000gn/T/ipykernel_16524/1908030435.py:1: SettingWithCopyWarning: \n",
      "A value is trying to be set on a copy of a slice from a DataFrame.\n",
      "Try using .loc[row_indexer,col_indexer] = value instead\n",
      "\n",
      "See the caveats in the documentation: https://pandas.pydata.org/pandas-docs/stable/user_guide/indexing.html#returning-a-view-versus-a-copy\n",
      "  cleaned_df['memory'] = cleaned_df[['ssd', 'emmc']].sum(axis=1)\n"
     ]
    }
   ],
   "source": [
    "cleaned_df['memory'] = cleaned_df[['ssd', 'emmc']].sum(axis=1)"
   ]
  },
  {
   "cell_type": "code",
   "execution_count": 84,
   "id": "f47adb42",
   "metadata": {},
   "outputs": [
    {
     "data": {
      "text/html": [
       "<div>\n",
       "<style scoped>\n",
       "    .dataframe tbody tr th:only-of-type {\n",
       "        vertical-align: middle;\n",
       "    }\n",
       "\n",
       "    .dataframe tbody tr th {\n",
       "        vertical-align: top;\n",
       "    }\n",
       "\n",
       "    .dataframe thead th {\n",
       "        text-align: right;\n",
       "    }\n",
       "</style>\n",
       "<table border=\"1\" class=\"dataframe\">\n",
       "  <thead>\n",
       "    <tr style=\"text-align: right;\">\n",
       "      <th></th>\n",
       "      <th>title</th>\n",
       "      <th>price</th>\n",
       "      <th>manufacturer</th>\n",
       "      <th>model_name</th>\n",
       "      <th>cpu_model</th>\n",
       "      <th>processor</th>\n",
       "      <th>graphics_copressor</th>\n",
       "      <th>ram</th>\n",
       "      <th>storage</th>\n",
       "      <th>operating_system</th>\n",
       "      <th>num_processors</th>\n",
       "      <th>processor_brand</th>\n",
       "      <th>touchable</th>\n",
       "      <th>ips</th>\n",
       "      <th>ppi</th>\n",
       "      <th>cpu_name</th>\n",
       "      <th>storage_range_category</th>\n",
       "      <th>ssd</th>\n",
       "      <th>emmc</th>\n",
       "      <th>memory</th>\n",
       "    </tr>\n",
       "  </thead>\n",
       "  <tbody>\n",
       "    <tr>\n",
       "      <th>1021</th>\n",
       "      <td>Samsung - Notebook 7 Spin 2-in-1 13.3\" Touch-S...</td>\n",
       "      <td>899.0</td>\n",
       "      <td>Samsung</td>\n",
       "      <td>Samsung Notebook 7</td>\n",
       "      <td>Intel Core i5</td>\n",
       "      <td>NaN</td>\n",
       "      <td>Intel</td>\n",
       "      <td>8</td>\n",
       "      <td>256 GB SSD</td>\n",
       "      <td>Windows 10 Home</td>\n",
       "      <td>2</td>\n",
       "      <td>Intel</td>\n",
       "      <td>1</td>\n",
       "      <td>0</td>\n",
       "      <td>165.632118</td>\n",
       "      <td>Intel Core i5</td>\n",
       "      <td>256 GB SSD</td>\n",
       "      <td>256</td>\n",
       "      <td>0</td>\n",
       "      <td>256</td>\n",
       "    </tr>\n",
       "    <tr>\n",
       "      <th>743</th>\n",
       "      <td>HP 15.6'' HD Everyday Slim Laptop, Intel Core ...</td>\n",
       "      <td>569.0</td>\n",
       "      <td>HP</td>\n",
       "      <td>NaN</td>\n",
       "      <td>Intel Core i3</td>\n",
       "      <td>_3 GHz core_i3</td>\n",
       "      <td>Intel</td>\n",
       "      <td>16</td>\n",
       "      <td>256 GB SSD</td>\n",
       "      <td>Windows 11</td>\n",
       "      <td>2</td>\n",
       "      <td>Intel</td>\n",
       "      <td>0</td>\n",
       "      <td>0</td>\n",
       "      <td>100.454670</td>\n",
       "      <td>Intel Core i3</td>\n",
       "      <td>256 GB SSD</td>\n",
       "      <td>256</td>\n",
       "      <td>0</td>\n",
       "      <td>256</td>\n",
       "    </tr>\n",
       "    <tr>\n",
       "      <th>167</th>\n",
       "      <td>Acer Nitro 5 15.6\" QHD (2560 x 1440) 165Hz Gam...</td>\n",
       "      <td>2249.0</td>\n",
       "      <td>Acer</td>\n",
       "      <td>Nitro</td>\n",
       "      <td>AMD Ryzen 7</td>\n",
       "      <td>_3.2 GHz ryzen_7</td>\n",
       "      <td>NVIDIA</td>\n",
       "      <td>64</td>\n",
       "      <td>4096 GB SSD</td>\n",
       "      <td>Windows 11 Pro</td>\n",
       "      <td>8</td>\n",
       "      <td>AMD</td>\n",
       "      <td>0</td>\n",
       "      <td>0</td>\n",
       "      <td>188.282664</td>\n",
       "      <td>AMD Ryzen 7</td>\n",
       "      <td>3072 GB SSD or Above</td>\n",
       "      <td>3072</td>\n",
       "      <td>0</td>\n",
       "      <td>3072</td>\n",
       "    </tr>\n",
       "    <tr>\n",
       "      <th>861</th>\n",
       "      <td>HP Premium 14\" Stream HD Laptop, Intel Celeron...</td>\n",
       "      <td>349.0</td>\n",
       "      <td>HP</td>\n",
       "      <td>Stream</td>\n",
       "      <td>Intel Celeron</td>\n",
       "      <td>_1.1 GHz celeron_n</td>\n",
       "      <td>Intel</td>\n",
       "      <td>8</td>\n",
       "      <td>64 GB Emmc</td>\n",
       "      <td>Windows 11 S</td>\n",
       "      <td>4</td>\n",
       "      <td>Intel</td>\n",
       "      <td>0</td>\n",
       "      <td>0</td>\n",
       "      <td>111.935204</td>\n",
       "      <td>Intel Celeron</td>\n",
       "      <td>64 GB Emmc or Above</td>\n",
       "      <td>0</td>\n",
       "      <td>64</td>\n",
       "      <td>64</td>\n",
       "    </tr>\n",
       "    <tr>\n",
       "      <th>6</th>\n",
       "      <td>Samsung Galaxy Book4 Ultra Laptop, 16\", Intel ...</td>\n",
       "      <td>3599.0</td>\n",
       "      <td>Samsung</td>\n",
       "      <td>Galaxy Book4 Ultra</td>\n",
       "      <td>Intel Core i9</td>\n",
       "      <td>_5.1 GHz core_i9</td>\n",
       "      <td>NVIDIA</td>\n",
       "      <td>32</td>\n",
       "      <td>1024 GB SSD</td>\n",
       "      <td>Windows 11 Home</td>\n",
       "      <td>16</td>\n",
       "      <td>Intel</td>\n",
       "      <td>0</td>\n",
       "      <td>0</td>\n",
       "      <td>212.264575</td>\n",
       "      <td>Intel Core i9</td>\n",
       "      <td>1024 GB SSD</td>\n",
       "      <td>1024</td>\n",
       "      <td>0</td>\n",
       "      <td>1024</td>\n",
       "    </tr>\n",
       "  </tbody>\n",
       "</table>\n",
       "</div>"
      ],
      "text/plain": [
       "                                                  title   price manufacturer  \\\n",
       "1021  Samsung - Notebook 7 Spin 2-in-1 13.3\" Touch-S...   899.0      Samsung   \n",
       "743   HP 15.6'' HD Everyday Slim Laptop, Intel Core ...   569.0           HP   \n",
       "167   Acer Nitro 5 15.6\" QHD (2560 x 1440) 165Hz Gam...  2249.0         Acer   \n",
       "861   HP Premium 14\" Stream HD Laptop, Intel Celeron...   349.0           HP   \n",
       "6     Samsung Galaxy Book4 Ultra Laptop, 16\", Intel ...  3599.0      Samsung   \n",
       "\n",
       "              model_name      cpu_model           processor  \\\n",
       "1021  Samsung Notebook 7  Intel Core i5                 NaN   \n",
       "743                  NaN  Intel Core i3      _3 GHz core_i3   \n",
       "167                Nitro    AMD Ryzen 7    _3.2 GHz ryzen_7   \n",
       "861               Stream  Intel Celeron  _1.1 GHz celeron_n   \n",
       "6     Galaxy Book4 Ultra  Intel Core i9    _5.1 GHz core_i9   \n",
       "\n",
       "     graphics_copressor  ram      storage operating_system  num_processors  \\\n",
       "1021              Intel    8   256 GB SSD  Windows 10 Home               2   \n",
       "743               Intel   16   256 GB SSD       Windows 11               2   \n",
       "167              NVIDIA   64  4096 GB SSD   Windows 11 Pro               8   \n",
       "861               Intel    8   64 GB Emmc     Windows 11 S               4   \n",
       "6                NVIDIA   32  1024 GB SSD  Windows 11 Home              16   \n",
       "\n",
       "     processor_brand  touchable  ips         ppi       cpu_name  \\\n",
       "1021           Intel          1    0  165.632118  Intel Core i5   \n",
       "743            Intel          0    0  100.454670  Intel Core i3   \n",
       "167              AMD          0    0  188.282664    AMD Ryzen 7   \n",
       "861            Intel          0    0  111.935204  Intel Celeron   \n",
       "6              Intel          0    0  212.264575  Intel Core i9   \n",
       "\n",
       "     storage_range_category   ssd  emmc  memory  \n",
       "1021             256 GB SSD   256     0     256  \n",
       "743              256 GB SSD   256     0     256  \n",
       "167    3072 GB SSD or Above  3072     0    3072  \n",
       "861     64 GB Emmc or Above     0    64      64  \n",
       "6               1024 GB SSD  1024     0    1024  "
      ]
     },
     "execution_count": 84,
     "metadata": {},
     "output_type": "execute_result"
    }
   ],
   "source": [
    "cleaned_df.sample(5)"
   ]
  },
  {
   "cell_type": "code",
   "execution_count": 85,
   "id": "393d3ac3",
   "metadata": {},
   "outputs": [
    {
     "data": {
      "image/png": "[encoded data removed]",
      "text/plain": [
       "<Figure size 640x480 with 1 Axes>"
      ]
     },
     "metadata": {},
     "output_type": "display_data"
    }
   ],
   "source": [
    "sns.barplot(x=cleaned_df['memory'], y=cleaned_df['price'])\n",
    "plt.xticks(rotation='vertical')\n",
    "plt.show()"
   ]
  },
  {
   "cell_type": "code",
   "execution_count": 86,
   "id": "c3f84412",
   "metadata": {},
   "outputs": [
    {
     "data": {
      "text/plain": [
       "1024    379\n",
       "512     337\n",
       "2048    169\n",
       "256     168\n",
       "64       67\n",
       "128      63\n",
       "3072     49\n",
       "32       23\n",
       "Name: memory, dtype: int64"
      ]
     },
     "execution_count": 86,
     "metadata": {},
     "output_type": "execute_result"
    }
   ],
   "source": [
    "cleaned_df['memory'].value_counts()"
   ]
  },
  {
   "cell_type": "code",
   "execution_count": 87,
   "id": "87393ad9",
   "metadata": {},
   "outputs": [
    {
     "data": {
      "text/plain": [
       "array(['Windows 10 Pro', 'Windows 10', 'Windows 11 Pro',\n",
       "       'Windows 11 Home', 'Windows 10 Home', 'Windows 11',\n",
       "       '_Windows 11 Home', '_Windows 11 Pro', '_Windows 11', 'Windows',\n",
       "       '_Windows 10 Pro', '_Windows 10 Home', '__Windows 11 Home',\n",
       "       'Chrome OS', 'Mac OS', 'Windows 10 S', '_Chrome OS',\n",
       "       'Windows 11 S', '__Chrome OS', '_Windows 10 S', '_Windows 11 S',\n",
       "       '_Windows 10', 'Windows 10 Professional'], dtype=object)"
      ]
     },
     "execution_count": 87,
     "metadata": {},
     "output_type": "execute_result"
    }
   ],
   "source": [
    "cleaned_df['operating_system'].unique()"
   ]
  },
  {
   "cell_type": "code",
   "execution_count": 88,
   "id": "51e3d7a2",
   "metadata": {},
   "outputs": [
    {
     "name": "stderr",
     "output_type": "stream",
     "text": [
      "/var/folders/xz/lwbfvlv571j_h6ypxn81t_pc0000gn/T/ipykernel_16524/2791969294.py:1: SettingWithCopyWarning: \n",
      "A value is trying to be set on a copy of a slice from a DataFrame.\n",
      "Try using .loc[row_indexer,col_indexer] = value instead\n",
      "\n",
      "See the caveats in the documentation: https://pandas.pydata.org/pandas-docs/stable/user_guide/indexing.html#returning-a-view-versus-a-copy\n",
      "  cleaned_df['operating_system'] = cleaned_df['operating_system'].str.replace('_',\"\")\n"
     ]
    }
   ],
   "source": [
    "cleaned_df['operating_system'] = cleaned_df['operating_system'].str.replace('_',\"\")"
   ]
  },
  {
   "cell_type": "code",
   "execution_count": 89,
   "id": "d2c7169e",
   "metadata": {},
   "outputs": [
    {
     "data": {
      "text/plain": [
       "array(['Windows 10 Pro', 'Windows 10', 'Windows 11 Pro',\n",
       "       'Windows 11 Home', 'Windows 10 Home', 'Windows 11', 'Windows',\n",
       "       'Chrome OS', 'Mac OS', 'Windows 10 S', 'Windows 11 S',\n",
       "       'Windows 10 Professional'], dtype=object)"
      ]
     },
     "execution_count": 89,
     "metadata": {},
     "output_type": "execute_result"
    }
   ],
   "source": [
    "cleaned_df['operating_system'].unique()"
   ]
  },
  {
   "cell_type": "code",
   "execution_count": 90,
   "id": "193548f6",
   "metadata": {},
   "outputs": [
    {
     "data": {
      "text/plain": [
       "Windows 11 Pro             394\n",
       "Windows 11 Home            369\n",
       "Windows 11                 114\n",
       "Windows 10 Home             78\n",
       "Windows 10 Pro              77\n",
       "Chrome OS                   68\n",
       "Mac OS                      64\n",
       "Windows 10                  40\n",
       "Windows 11 S                34\n",
       "Windows 10 S                14\n",
       "Windows                      2\n",
       "Windows 10 Professional      1\n",
       "Name: operating_system, dtype: int64"
      ]
     },
     "execution_count": 90,
     "metadata": {},
     "output_type": "execute_result"
    }
   ],
   "source": [
    "cleaned_df['operating_system'].value_counts()"
   ]
  },
  {
   "cell_type": "code",
   "execution_count": 91,
   "id": "88ab16c5",
   "metadata": {},
   "outputs": [],
   "source": [
    "def operating_system(text):\n",
    "    if text.split()[0] == 'Windows':\n",
    "        return 'Windows'\n",
    "    elif text.split()[0] == 'Mac':\n",
    "        return 'Mac'\n",
    "    else:\n",
    "        return 'Others/Chrome OS'"
   ]
  },
  {
   "cell_type": "code",
   "execution_count": 92,
   "id": "b6851c4e",
   "metadata": {},
   "outputs": [
    {
     "name": "stderr",
     "output_type": "stream",
     "text": [
      "/var/folders/xz/lwbfvlv571j_h6ypxn81t_pc0000gn/T/ipykernel_16524/3874356791.py:1: SettingWithCopyWarning: \n",
      "A value is trying to be set on a copy of a slice from a DataFrame.\n",
      "Try using .loc[row_indexer,col_indexer] = value instead\n",
      "\n",
      "See the caveats in the documentation: https://pandas.pydata.org/pandas-docs/stable/user_guide/indexing.html#returning-a-view-versus-a-copy\n",
      "  cleaned_df['os'] = cleaned_df['operating_system'].apply(operating_system)\n"
     ]
    }
   ],
   "source": [
    "cleaned_df['os'] = cleaned_df['operating_system'].apply(operating_system)"
   ]
  },
  {
   "cell_type": "code",
   "execution_count": 93,
   "id": "4a546d2b",
   "metadata": {},
   "outputs": [
    {
     "data": {
      "text/plain": [
       "Windows             1123\n",
       "Others/Chrome OS      68\n",
       "Mac                   64\n",
       "Name: os, dtype: int64"
      ]
     },
     "execution_count": 93,
     "metadata": {},
     "output_type": "execute_result"
    }
   ],
   "source": [
    "cleaned_df['os'].value_counts()"
   ]
  },
  {
   "cell_type": "code",
   "execution_count": 94,
   "id": "db538ba3",
   "metadata": {},
   "outputs": [
    {
     "data": {
      "text/plain": [
       "<AxesSubplot:xlabel='os', ylabel='price'>"
      ]
     },
     "execution_count": 94,
     "metadata": {},
     "output_type": "execute_result"
    },
    {
     "data": {
      "image/png": "[encoded data removed]",
      "text/plain": [
       "<Figure size 640x480 with 1 Axes>"
      ]
     },
     "metadata": {},
     "output_type": "display_data"
    }
   ],
   "source": [
    "sns.barplot(x=cleaned_df['os'], y=cleaned_df['price'])"
   ]
  },
  {
   "cell_type": "code",
   "execution_count": 95,
   "id": "7adddb0d",
   "metadata": {},
   "outputs": [
    {
     "data": {
      "text/plain": [
       "Intel       681\n",
       "NVIDIA      336\n",
       "AMD         164\n",
       "Mac          64\n",
       "MediaTek      6\n",
       "Mediatek      3\n",
       "ARM           1\n",
       "Name: graphics_copressor, dtype: int64"
      ]
     },
     "execution_count": 95,
     "metadata": {},
     "output_type": "execute_result"
    }
   ],
   "source": [
    "cleaned_df['graphics_copressor'].value_counts()"
   ]
  },
  {
   "cell_type": "code",
   "execution_count": 97,
   "id": "c7dd4af8",
   "metadata": {},
   "outputs": [],
   "source": [
    "cleaned_df = cleaned_df[~cleaned_df['graphics_copressor'].str.contains('MediaTek|Mediatek|ARM', case=False)]"
   ]
  },
  {
   "cell_type": "code",
   "execution_count": 98,
   "id": "5ad3ecc7",
   "metadata": {},
   "outputs": [
    {
     "data": {
      "text/plain": [
       "Intel     681\n",
       "NVIDIA    336\n",
       "AMD       164\n",
       "Mac        64\n",
       "Name: graphics_copressor, dtype: int64"
      ]
     },
     "execution_count": 98,
     "metadata": {},
     "output_type": "execute_result"
    }
   ],
   "source": [
    "cleaned_df['graphics_copressor'].value_counts()"
   ]
  },
  {
   "cell_type": "code",
   "execution_count": 99,
   "id": "5ca46359",
   "metadata": {},
   "outputs": [
    {
     "data": {
      "text/plain": [
       "<AxesSubplot:xlabel='graphics_copressor', ylabel='price'>"
      ]
     },
     "execution_count": 99,
     "metadata": {},
     "output_type": "execute_result"
    },
    {
     "data": {
      "image/png": "[encoded data removed]",
      "text/plain": [
       "<Figure size 640x480 with 1 Axes>"
      ]
     },
     "metadata": {},
     "output_type": "display_data"
    }
   ],
   "source": [
    "sns.barplot(x=cleaned_df['graphics_copressor'], y=cleaned_df['price'])"
   ]
  },
  {
   "cell_type": "code",
   "execution_count": 100,
   "id": "2d03c6c5",
   "metadata": {},
   "outputs": [
    {
     "data": {
      "text/plain": [
       "<AxesSubplot:xlabel='graphics_copressor', ylabel='price'>"
      ]
     },
     "execution_count": 100,
     "metadata": {},
     "output_type": "execute_result"
    },
    {
     "data": {
      "image/png": "[encoded data removed]",
      "text/plain": [
       "<Figure size 640x480 with 1 Axes>"
      ]
     },
     "metadata": {},
     "output_type": "display_data"
    }
   ],
   "source": [
    "sns.barplot(x=cleaned_df['graphics_copressor'], y=cleaned_df['price'], estimator=np.median)"
   ]
  },
  {
   "cell_type": "code",
   "execution_count": 102,
   "id": "ed77288d",
   "metadata": {},
   "outputs": [
    {
     "data": {
      "text/html": [
       "<div>\n",
       "<style scoped>\n",
       "    .dataframe tbody tr th:only-of-type {\n",
       "        vertical-align: middle;\n",
       "    }\n",
       "\n",
       "    .dataframe tbody tr th {\n",
       "        vertical-align: top;\n",
       "    }\n",
       "\n",
       "    .dataframe thead th {\n",
       "        text-align: right;\n",
       "    }\n",
       "</style>\n",
       "<table border=\"1\" class=\"dataframe\">\n",
       "  <thead>\n",
       "    <tr style=\"text-align: right;\">\n",
       "      <th></th>\n",
       "      <th>title</th>\n",
       "      <th>price</th>\n",
       "      <th>manufacturer</th>\n",
       "      <th>model_name</th>\n",
       "      <th>cpu_model</th>\n",
       "      <th>processor</th>\n",
       "      <th>graphics_copressor</th>\n",
       "      <th>ram</th>\n",
       "      <th>storage</th>\n",
       "      <th>operating_system</th>\n",
       "      <th>...</th>\n",
       "      <th>processor_brand</th>\n",
       "      <th>touchable</th>\n",
       "      <th>ips</th>\n",
       "      <th>ppi</th>\n",
       "      <th>cpu_name</th>\n",
       "      <th>storage_range_category</th>\n",
       "      <th>ssd</th>\n",
       "      <th>emmc</th>\n",
       "      <th>memory</th>\n",
       "      <th>os</th>\n",
       "    </tr>\n",
       "  </thead>\n",
       "  <tbody>\n",
       "    <tr>\n",
       "      <th>753</th>\n",
       "      <td>Dell Inspiron 15 3511 Laptop, 15.6\" FHD Touchs...</td>\n",
       "      <td>949.0</td>\n",
       "      <td>Dell</td>\n",
       "      <td>NaN</td>\n",
       "      <td>Intel Core i5</td>\n",
       "      <td>NaN</td>\n",
       "      <td>Intel</td>\n",
       "      <td>32</td>\n",
       "      <td>2048 GB SSD</td>\n",
       "      <td>Windows 11 Home</td>\n",
       "      <td>...</td>\n",
       "      <td>Intel</td>\n",
       "      <td>1</td>\n",
       "      <td>0</td>\n",
       "      <td>141.211998</td>\n",
       "      <td>Intel Core i5</td>\n",
       "      <td>2048 GB SSD</td>\n",
       "      <td>2048</td>\n",
       "      <td>0</td>\n",
       "      <td>2048</td>\n",
       "      <td>Windows</td>\n",
       "    </tr>\n",
       "    <tr>\n",
       "      <th>385</th>\n",
       "      <td>Apple 2023 MacBook Pro Laptop M3 chip with 8_c...</td>\n",
       "      <td>2349.0</td>\n",
       "      <td>Apple</td>\n",
       "      <td>MacBook Pro</td>\n",
       "      <td>M3</td>\n",
       "      <td>8</td>\n",
       "      <td>Mac</td>\n",
       "      <td>8</td>\n",
       "      <td>1024 GB SSD</td>\n",
       "      <td>Mac OS</td>\n",
       "      <td>...</td>\n",
       "      <td>Apple</td>\n",
       "      <td>0</td>\n",
       "      <td>0</td>\n",
       "      <td>253.930343</td>\n",
       "      <td>Mac Processor</td>\n",
       "      <td>1024 GB SSD</td>\n",
       "      <td>1024</td>\n",
       "      <td>0</td>\n",
       "      <td>1024</td>\n",
       "      <td>Mac</td>\n",
       "    </tr>\n",
       "    <tr>\n",
       "      <th>111</th>\n",
       "      <td>Acer Predator Helios 300 Gaming Laptop PC, 17....</td>\n",
       "      <td>2179.0</td>\n",
       "      <td>Acer</td>\n",
       "      <td>PH317-53-77HB</td>\n",
       "      <td>Intel Core i7</td>\n",
       "      <td>NaN</td>\n",
       "      <td>NVIDIA</td>\n",
       "      <td>8</td>\n",
       "      <td>512 GB SSD</td>\n",
       "      <td>Windows 10 Home</td>\n",
       "      <td>...</td>\n",
       "      <td>Intel</td>\n",
       "      <td>0</td>\n",
       "      <td>1</td>\n",
       "      <td>127.335675</td>\n",
       "      <td>Intel Core i7</td>\n",
       "      <td>512 GB SSD</td>\n",
       "      <td>512</td>\n",
       "      <td>0</td>\n",
       "      <td>512</td>\n",
       "      <td>Windows</td>\n",
       "    </tr>\n",
       "    <tr>\n",
       "      <th>833</th>\n",
       "      <td>Samsung Chromebook 4 Chrome OS 11.6 inch HD La...</td>\n",
       "      <td>319.0</td>\n",
       "      <td>Samsung</td>\n",
       "      <td>Chromebook</td>\n",
       "      <td>Intel Celeron</td>\n",
       "      <td>_1.1 GHz celeron_n4000</td>\n",
       "      <td>Intel</td>\n",
       "      <td>4</td>\n",
       "      <td>64 GB Emmc</td>\n",
       "      <td>Chrome OS</td>\n",
       "      <td>...</td>\n",
       "      <td>Intel</td>\n",
       "      <td>0</td>\n",
       "      <td>0</td>\n",
       "      <td>135.094211</td>\n",
       "      <td>Intel Celeron</td>\n",
       "      <td>64 GB Emmc or Above</td>\n",
       "      <td>0</td>\n",
       "      <td>64</td>\n",
       "      <td>64</td>\n",
       "      <td>Others/Chrome OS</td>\n",
       "    </tr>\n",
       "    <tr>\n",
       "      <th>489</th>\n",
       "      <td>Dell Inspiron 3520 15.6\" Touchscreen FHD Lapto...</td>\n",
       "      <td>579.0</td>\n",
       "      <td>Dell</td>\n",
       "      <td>Dell Inspiron 3520</td>\n",
       "      <td>Intel Core i5</td>\n",
       "      <td>_2.5 GHz core_i5</td>\n",
       "      <td>Intel</td>\n",
       "      <td>8</td>\n",
       "      <td>256 GB SSD</td>\n",
       "      <td>Windows 11 S</td>\n",
       "      <td>...</td>\n",
       "      <td>Intel</td>\n",
       "      <td>1</td>\n",
       "      <td>0</td>\n",
       "      <td>141.211998</td>\n",
       "      <td>Intel Core i5</td>\n",
       "      <td>256 GB SSD</td>\n",
       "      <td>256</td>\n",
       "      <td>0</td>\n",
       "      <td>256</td>\n",
       "      <td>Windows</td>\n",
       "    </tr>\n",
       "  </tbody>\n",
       "</table>\n",
       "<p>5 rows × 21 columns</p>\n",
       "</div>"
      ],
      "text/plain": [
       "                                                 title   price manufacturer  \\\n",
       "753  Dell Inspiron 15 3511 Laptop, 15.6\" FHD Touchs...   949.0         Dell   \n",
       "385  Apple 2023 MacBook Pro Laptop M3 chip with 8_c...  2349.0        Apple   \n",
       "111  Acer Predator Helios 300 Gaming Laptop PC, 17....  2179.0         Acer   \n",
       "833  Samsung Chromebook 4 Chrome OS 11.6 inch HD La...   319.0      Samsung   \n",
       "489  Dell Inspiron 3520 15.6\" Touchscreen FHD Lapto...   579.0         Dell   \n",
       "\n",
       "             model_name      cpu_model               processor  \\\n",
       "753                 NaN  Intel Core i5                     NaN   \n",
       "385         MacBook Pro             M3                       8   \n",
       "111       PH317-53-77HB  Intel Core i7                     NaN   \n",
       "833          Chromebook  Intel Celeron  _1.1 GHz celeron_n4000   \n",
       "489  Dell Inspiron 3520  Intel Core i5        _2.5 GHz core_i5   \n",
       "\n",
       "    graphics_copressor  ram      storage operating_system  ...  \\\n",
       "753              Intel   32  2048 GB SSD  Windows 11 Home  ...   \n",
       "385                Mac    8  1024 GB SSD           Mac OS  ...   \n",
       "111             NVIDIA    8   512 GB SSD  Windows 10 Home  ...   \n",
       "833              Intel    4   64 GB Emmc        Chrome OS  ...   \n",
       "489              Intel    8   256 GB SSD     Windows 11 S  ...   \n",
       "\n",
       "     processor_brand touchable  ips         ppi       cpu_name  \\\n",
       "753            Intel         1    0  141.211998  Intel Core i5   \n",
       "385            Apple         0    0  253.930343  Mac Processor   \n",
       "111            Intel         0    1  127.335675  Intel Core i7   \n",
       "833            Intel         0    0  135.094211  Intel Celeron   \n",
       "489            Intel         1    0  141.211998  Intel Core i5   \n",
       "\n",
       "    storage_range_category   ssd  emmc  memory                os  \n",
       "753            2048 GB SSD  2048     0    2048           Windows  \n",
       "385            1024 GB SSD  1024     0    1024               Mac  \n",
       "111             512 GB SSD   512     0     512           Windows  \n",
       "833    64 GB Emmc or Above     0    64      64  Others/Chrome OS  \n",
       "489             256 GB SSD   256     0     256           Windows  \n",
       "\n",
       "[5 rows x 21 columns]"
      ]
     },
     "execution_count": 102,
     "metadata": {},
     "output_type": "execute_result"
    }
   ],
   "source": [
    "cleaned_df.sample(5)"
   ]
  },
  {
   "cell_type": "code",
   "execution_count": 113,
   "id": "4d090936",
   "metadata": {},
   "outputs": [],
   "source": [
    "cleaned_df.drop(columns=[\"title\", \"model_name\", \"storage\", \"operating_system\", \"model_name\", \"cpu_model\", \"num_processors\", \"ppi\", \"ssd\", \"emmc\", \"storage_range_category\", \"processor\"], inplace=True)\n"
   ]
  },
  {
   "cell_type": "code",
   "execution_count": 114,
   "id": "5d51299a",
   "metadata": {},
   "outputs": [
    {
     "data": {
      "text/html": [
       "<div>\n",
       "<style scoped>\n",
       "    .dataframe tbody tr th:only-of-type {\n",
       "        vertical-align: middle;\n",
       "    }\n",
       "\n",
       "    .dataframe tbody tr th {\n",
       "        vertical-align: top;\n",
       "    }\n",
       "\n",
       "    .dataframe thead th {\n",
       "        text-align: right;\n",
       "    }\n",
       "</style>\n",
       "<table border=\"1\" class=\"dataframe\">\n",
       "  <thead>\n",
       "    <tr style=\"text-align: right;\">\n",
       "      <th></th>\n",
       "      <th>price</th>\n",
       "      <th>manufacturer</th>\n",
       "      <th>graphics_copressor</th>\n",
       "      <th>ram</th>\n",
       "      <th>processor_brand</th>\n",
       "      <th>touchable</th>\n",
       "      <th>ips</th>\n",
       "      <th>cpu_name</th>\n",
       "      <th>memory</th>\n",
       "      <th>os</th>\n",
       "    </tr>\n",
       "  </thead>\n",
       "  <tbody>\n",
       "    <tr>\n",
       "      <th>754</th>\n",
       "      <td>949.0</td>\n",
       "      <td>Dell</td>\n",
       "      <td>Intel</td>\n",
       "      <td>32</td>\n",
       "      <td>Intel</td>\n",
       "      <td>1</td>\n",
       "      <td>0</td>\n",
       "      <td>Intel Core i5</td>\n",
       "      <td>2048</td>\n",
       "      <td>Windows</td>\n",
       "    </tr>\n",
       "    <tr>\n",
       "      <th>242</th>\n",
       "      <td>4507.0</td>\n",
       "      <td>Asus</td>\n",
       "      <td>NVIDIA</td>\n",
       "      <td>32</td>\n",
       "      <td>_AMD</td>\n",
       "      <td>0</td>\n",
       "      <td>0</td>\n",
       "      <td>Other AMD Processor</td>\n",
       "      <td>1024</td>\n",
       "      <td>Windows</td>\n",
       "    </tr>\n",
       "    <tr>\n",
       "      <th>565</th>\n",
       "      <td>1888.0</td>\n",
       "      <td>Samsung</td>\n",
       "      <td>Intel</td>\n",
       "      <td>16</td>\n",
       "      <td>Intel</td>\n",
       "      <td>0</td>\n",
       "      <td>0</td>\n",
       "      <td>Intel Core i7</td>\n",
       "      <td>2048</td>\n",
       "      <td>Windows</td>\n",
       "    </tr>\n",
       "    <tr>\n",
       "      <th>1005</th>\n",
       "      <td>709.0</td>\n",
       "      <td>HP</td>\n",
       "      <td>AMD</td>\n",
       "      <td>16</td>\n",
       "      <td>AMD</td>\n",
       "      <td>0</td>\n",
       "      <td>0</td>\n",
       "      <td>AMD Ryzen 7</td>\n",
       "      <td>512</td>\n",
       "      <td>Windows</td>\n",
       "    </tr>\n",
       "    <tr>\n",
       "      <th>947</th>\n",
       "      <td>779.0</td>\n",
       "      <td>Lenovo</td>\n",
       "      <td>Intel</td>\n",
       "      <td>16</td>\n",
       "      <td>Intel</td>\n",
       "      <td>1</td>\n",
       "      <td>0</td>\n",
       "      <td>Intel Core i5</td>\n",
       "      <td>1024</td>\n",
       "      <td>Windows</td>\n",
       "    </tr>\n",
       "  </tbody>\n",
       "</table>\n",
       "</div>"
      ],
      "text/plain": [
       "       price manufacturer graphics_copressor  ram processor_brand  touchable  \\\n",
       "754    949.0         Dell              Intel   32           Intel          1   \n",
       "242   4507.0         Asus             NVIDIA   32            _AMD          0   \n",
       "565   1888.0      Samsung              Intel   16           Intel          0   \n",
       "1005   709.0           HP                AMD   16             AMD          0   \n",
       "947    779.0       Lenovo              Intel   16           Intel          1   \n",
       "\n",
       "      ips             cpu_name  memory       os  \n",
       "754     0        Intel Core i5    2048  Windows  \n",
       "242     0  Other AMD Processor    1024  Windows  \n",
       "565     0        Intel Core i7    2048  Windows  \n",
       "1005    0          AMD Ryzen 7     512  Windows  \n",
       "947     0        Intel Core i5    1024  Windows  "
      ]
     },
     "execution_count": 114,
     "metadata": {},
     "output_type": "execute_result"
    }
   ],
   "source": [
    "cleaned_df.sample(5)"
   ]
  },
  {
   "cell_type": "code",
   "execution_count": 118,
   "id": "a1355a92",
   "metadata": {},
   "outputs": [
    {
     "data": {
      "text/plain": [
       "148"
      ]
     },
     "execution_count": 118,
     "metadata": {},
     "output_type": "execute_result"
    }
   ],
   "source": [
    "cleaned_df.duplicated().sum()"
   ]
  },
  {
   "cell_type": "code",
   "execution_count": 120,
   "id": "b6bc6b97",
   "metadata": {},
   "outputs": [
    {
     "data": {
      "text/plain": [
       "price                 0\n",
       "manufacturer          0\n",
       "graphics_copressor    0\n",
       "ram                   0\n",
       "processor_brand       0\n",
       "touchable             0\n",
       "ips                   0\n",
       "cpu_name              0\n",
       "memory                0\n",
       "os                    0\n",
       "dtype: int64"
      ]
     },
     "execution_count": 120,
     "metadata": {},
     "output_type": "execute_result"
    }
   ],
   "source": [
    "cleaned_df.isnull().sum()"
   ]
  },
  {
   "cell_type": "code",
   "execution_count": 122,
   "id": "e9558b42",
   "metadata": {},
   "outputs": [],
   "source": [
    "laptop_df = cleaned_df.drop_duplicates()"
   ]
  },
  {
   "cell_type": "code",
   "execution_count": 123,
   "id": "c7e319ea",
   "metadata": {},
   "outputs": [
    {
     "name": "stdout",
     "output_type": "stream",
     "text": [
      "<class 'pandas.core.frame.DataFrame'>\n",
      "Int64Index: 1096 entries, 0 to 1261\n",
      "Data columns (total 10 columns):\n",
      " #   Column              Non-Null Count  Dtype  \n",
      "---  ------              --------------  -----  \n",
      " 0   price               1096 non-null   float64\n",
      " 1   manufacturer        1096 non-null   object \n",
      " 2   graphics_copressor  1096 non-null   object \n",
      " 3   ram                 1096 non-null   int32  \n",
      " 4   processor_brand     1096 non-null   object \n",
      " 5   touchable           1096 non-null   int64  \n",
      " 6   ips                 1096 non-null   int64  \n",
      " 7   cpu_name            1096 non-null   object \n",
      " 8   memory              1096 non-null   int64  \n",
      " 9   os                  1096 non-null   object \n",
      "dtypes: float64(1), int32(1), int64(3), object(5)\n",
      "memory usage: 89.9+ KB\n"
     ]
    }
   ],
   "source": [
    "laptop_df.info()"
   ]
  },
  {
   "cell_type": "code",
   "execution_count": 124,
   "id": "978046d7",
   "metadata": {},
   "outputs": [
    {
     "data": {
      "text/html": [
       "<div>\n",
       "<style scoped>\n",
       "    .dataframe tbody tr th:only-of-type {\n",
       "        vertical-align: middle;\n",
       "    }\n",
       "\n",
       "    .dataframe tbody tr th {\n",
       "        vertical-align: top;\n",
       "    }\n",
       "\n",
       "    .dataframe thead th {\n",
       "        text-align: right;\n",
       "    }\n",
       "</style>\n",
       "<table border=\"1\" class=\"dataframe\">\n",
       "  <thead>\n",
       "    <tr style=\"text-align: right;\">\n",
       "      <th></th>\n",
       "      <th>price</th>\n",
       "      <th>manufacturer</th>\n",
       "      <th>graphics_copressor</th>\n",
       "      <th>ram</th>\n",
       "      <th>processor_brand</th>\n",
       "      <th>touchable</th>\n",
       "      <th>ips</th>\n",
       "      <th>cpu_name</th>\n",
       "      <th>memory</th>\n",
       "      <th>os</th>\n",
       "    </tr>\n",
       "  </thead>\n",
       "  <tbody>\n",
       "    <tr>\n",
       "      <th>0</th>\n",
       "      <td>2287.0</td>\n",
       "      <td>Microsoft</td>\n",
       "      <td>NVIDIA</td>\n",
       "      <td>8</td>\n",
       "      <td>Intel</td>\n",
       "      <td>1</td>\n",
       "      <td>0</td>\n",
       "      <td>Intel Core i7</td>\n",
       "      <td>256</td>\n",
       "      <td>Windows</td>\n",
       "    </tr>\n",
       "    <tr>\n",
       "      <th>1</th>\n",
       "      <td>2999.0</td>\n",
       "      <td>Microsoft</td>\n",
       "      <td>NVIDIA</td>\n",
       "      <td>16</td>\n",
       "      <td>Intel</td>\n",
       "      <td>1</td>\n",
       "      <td>0</td>\n",
       "      <td>Intel Core i7</td>\n",
       "      <td>256</td>\n",
       "      <td>Windows</td>\n",
       "    </tr>\n",
       "    <tr>\n",
       "      <th>2</th>\n",
       "      <td>2995.0</td>\n",
       "      <td>Dell</td>\n",
       "      <td>NVIDIA</td>\n",
       "      <td>64</td>\n",
       "      <td>Intel</td>\n",
       "      <td>0</td>\n",
       "      <td>0</td>\n",
       "      <td>Intel Core i9</td>\n",
       "      <td>2048</td>\n",
       "      <td>Windows</td>\n",
       "    </tr>\n",
       "    <tr>\n",
       "      <th>3</th>\n",
       "      <td>1999.0</td>\n",
       "      <td>Dell</td>\n",
       "      <td>NVIDIA</td>\n",
       "      <td>8</td>\n",
       "      <td>Intel</td>\n",
       "      <td>0</td>\n",
       "      <td>0</td>\n",
       "      <td>Intel Core i7</td>\n",
       "      <td>1024</td>\n",
       "      <td>Windows</td>\n",
       "    </tr>\n",
       "    <tr>\n",
       "      <th>4</th>\n",
       "      <td>2999.0</td>\n",
       "      <td>Microsoft</td>\n",
       "      <td>NVIDIA</td>\n",
       "      <td>16</td>\n",
       "      <td>Intel</td>\n",
       "      <td>0</td>\n",
       "      <td>0</td>\n",
       "      <td>Intel Core i7</td>\n",
       "      <td>1024</td>\n",
       "      <td>Windows</td>\n",
       "    </tr>\n",
       "    <tr>\n",
       "      <th>...</th>\n",
       "      <td>...</td>\n",
       "      <td>...</td>\n",
       "      <td>...</td>\n",
       "      <td>...</td>\n",
       "      <td>...</td>\n",
       "      <td>...</td>\n",
       "      <td>...</td>\n",
       "      <td>...</td>\n",
       "      <td>...</td>\n",
       "      <td>...</td>\n",
       "    </tr>\n",
       "    <tr>\n",
       "      <th>1257</th>\n",
       "      <td>1349.0</td>\n",
       "      <td>Lenovo</td>\n",
       "      <td>AMD</td>\n",
       "      <td>16</td>\n",
       "      <td>AMD</td>\n",
       "      <td>1</td>\n",
       "      <td>1</td>\n",
       "      <td>AMD Ryzen 7</td>\n",
       "      <td>1024</td>\n",
       "      <td>Windows</td>\n",
       "    </tr>\n",
       "    <tr>\n",
       "      <th>1258</th>\n",
       "      <td>589.0</td>\n",
       "      <td>Lenovo</td>\n",
       "      <td>Intel</td>\n",
       "      <td>20</td>\n",
       "      <td>Intel</td>\n",
       "      <td>0</td>\n",
       "      <td>0</td>\n",
       "      <td>Other Intel Processor</td>\n",
       "      <td>1024</td>\n",
       "      <td>Windows</td>\n",
       "    </tr>\n",
       "    <tr>\n",
       "      <th>1259</th>\n",
       "      <td>5340.0</td>\n",
       "      <td>Lenovo</td>\n",
       "      <td>NVIDIA</td>\n",
       "      <td>32</td>\n",
       "      <td>Intel</td>\n",
       "      <td>0</td>\n",
       "      <td>0</td>\n",
       "      <td>Intel Core i9</td>\n",
       "      <td>1024</td>\n",
       "      <td>Windows</td>\n",
       "    </tr>\n",
       "    <tr>\n",
       "      <th>1260</th>\n",
       "      <td>1848.0</td>\n",
       "      <td>Lenovo</td>\n",
       "      <td>NVIDIA</td>\n",
       "      <td>32</td>\n",
       "      <td>Intel</td>\n",
       "      <td>1</td>\n",
       "      <td>1</td>\n",
       "      <td>Intel Core i7</td>\n",
       "      <td>1024</td>\n",
       "      <td>Windows</td>\n",
       "    </tr>\n",
       "    <tr>\n",
       "      <th>1261</th>\n",
       "      <td>1660.0</td>\n",
       "      <td>Lenovo</td>\n",
       "      <td>NVIDIA</td>\n",
       "      <td>32</td>\n",
       "      <td>Intel</td>\n",
       "      <td>0</td>\n",
       "      <td>1</td>\n",
       "      <td>Intel Core i7</td>\n",
       "      <td>1024</td>\n",
       "      <td>Windows</td>\n",
       "    </tr>\n",
       "  </tbody>\n",
       "</table>\n",
       "<p>1096 rows × 10 columns</p>\n",
       "</div>"
      ],
      "text/plain": [
       "       price manufacturer graphics_copressor  ram processor_brand  touchable  \\\n",
       "0     2287.0    Microsoft             NVIDIA    8           Intel          1   \n",
       "1     2999.0    Microsoft             NVIDIA   16           Intel          1   \n",
       "2     2995.0         Dell             NVIDIA   64           Intel          0   \n",
       "3     1999.0         Dell             NVIDIA    8           Intel          0   \n",
       "4     2999.0    Microsoft             NVIDIA   16           Intel          0   \n",
       "...      ...          ...                ...  ...             ...        ...   \n",
       "1257  1349.0       Lenovo                AMD   16             AMD          1   \n",
       "1258   589.0       Lenovo              Intel   20           Intel          0   \n",
       "1259  5340.0       Lenovo             NVIDIA   32           Intel          0   \n",
       "1260  1848.0       Lenovo             NVIDIA   32           Intel          1   \n",
       "1261  1660.0       Lenovo             NVIDIA   32           Intel          0   \n",
       "\n",
       "      ips               cpu_name  memory       os  \n",
       "0       0          Intel Core i7     256  Windows  \n",
       "1       0          Intel Core i7     256  Windows  \n",
       "2       0          Intel Core i9    2048  Windows  \n",
       "3       0          Intel Core i7    1024  Windows  \n",
       "4       0          Intel Core i7    1024  Windows  \n",
       "...   ...                    ...     ...      ...  \n",
       "1257    1            AMD Ryzen 7    1024  Windows  \n",
       "1258    0  Other Intel Processor    1024  Windows  \n",
       "1259    0          Intel Core i9    1024  Windows  \n",
       "1260    1          Intel Core i7    1024  Windows  \n",
       "1261    1          Intel Core i7    1024  Windows  \n",
       "\n",
       "[1096 rows x 10 columns]"
      ]
     },
     "execution_count": 124,
     "metadata": {},
     "output_type": "execute_result"
    }
   ],
   "source": [
    "laptop_df"
   ]
  },
  {
   "cell_type": "code",
   "execution_count": 125,
   "id": "9836783e",
   "metadata": {},
   "outputs": [
    {
     "data": {
      "text/plain": [
       "price        1.000000\n",
       "ram          0.519701\n",
       "touchable   -0.008779\n",
       "ips          0.148915\n",
       "memory       0.531324\n",
       "Name: price, dtype: float64"
      ]
     },
     "execution_count": 125,
     "metadata": {},
     "output_type": "execute_result"
    }
   ],
   "source": [
    "laptop_df.corr()['price']"
   ]
  },
  {
   "cell_type": "code",
   "execution_count": 127,
   "id": "b7b4e893",
   "metadata": {},
   "outputs": [
    {
     "data": {
      "text/plain": [
       "<AxesSubplot:>"
      ]
     },
     "execution_count": 127,
     "metadata": {},
     "output_type": "execute_result"
    },
    {
     "data": {
      "image/png": "[encoded data removed]",
      "text/plain": [
       "<Figure size 640x480 with 2 Axes>"
      ]
     },
     "metadata": {},
     "output_type": "display_data"
    }
   ],
   "source": [
    "sns.heatmap(laptop_df.corr())"
   ]
  },
  {
   "cell_type": "code",
   "execution_count": 128,
   "id": "6bd3f25b",
   "metadata": {},
   "outputs": [
    {
     "name": "stderr",
     "output_type": "stream",
     "text": [
      "/Users/shoaib/opt/anaconda3/lib/python3.9/site-packages/seaborn/distributions.py:2619: FutureWarning: `distplot` is a deprecated function and will be removed in a future version. Please adapt your code to use either `displot` (a figure-level function with similar flexibility) or `histplot` (an axes-level function for histograms).\n",
      "  warnings.warn(msg, FutureWarning)\n"
     ]
    },
    {
     "data": {
      "text/plain": [
       "<AxesSubplot:xlabel='price', ylabel='Density'>"
      ]
     },
     "execution_count": 128,
     "metadata": {},
     "output_type": "execute_result"
    },
    {
     "data": {
      "image/png": "[encoded data removed]",
      "text/plain": [
       "<Figure size 640x480 with 1 Axes>"
      ]
     },
     "metadata": {},
     "output_type": "display_data"
    }
   ],
   "source": [
    "sns.distplot(laptop_df['price'])"
   ]
  },
  {
   "cell_type": "code",
   "execution_count": 129,
   "id": "d761a022",
   "metadata": {},
   "outputs": [
    {
     "name": "stderr",
     "output_type": "stream",
     "text": [
      "/Users/shoaib/opt/anaconda3/lib/python3.9/site-packages/seaborn/distributions.py:2619: FutureWarning: `distplot` is a deprecated function and will be removed in a future version. Please adapt your code to use either `displot` (a figure-level function with similar flexibility) or `histplot` (an axes-level function for histograms).\n",
      "  warnings.warn(msg, FutureWarning)\n"
     ]
    },
    {
     "data": {
      "text/plain": [
       "<AxesSubplot:xlabel='price', ylabel='Density'>"
      ]
     },
     "execution_count": 129,
     "metadata": {},
     "output_type": "execute_result"
    },
    {
     "data": {
      "image/png": "[encoded data removed]",
      "text/plain": [
       "<Figure size 640x480 with 1 Axes>"
      ]
     },
     "metadata": {},
     "output_type": "display_data"
    }
   ],
   "source": [
    "sns.distplot(np.log(laptop_df['price']))"
   ]
  },
  {
   "cell_type": "code",
   "execution_count": null,
   "id": "a49a7450",
   "metadata": {},
   "outputs": [],
   "source": []
  },
  {
   "cell_type": "code",
   "execution_count": null,
   "id": "b65aafd0",
   "metadata": {},
   "outputs": [],
   "source": []
  },
  {
   "cell_type": "code",
   "execution_count": null,
   "id": "fd73e308",
   "metadata": {},
   "outputs": [],
   "source": []
  },
  {
   "cell_type": "code",
   "execution_count": null,
   "id": "600557cc",
   "metadata": {},
   "outputs": [],
   "source": []
  },
  {
   "cell_type": "code",
   "execution_count": null,
   "id": "6a5ca523",
   "metadata": {},
   "outputs": [],
   "source": []
  }
 ],
 "metadata": {
  "kernelspec": {
   "display_name": "Python 3 (ipykernel)",
   "language": "python",
   "name": "python3"
  },
  "language_info": {
   "codemirror_mode": {
    "name": "ipython",
    "version": 3
   },
   "file_extension": ".py",
   "mimetype": "text/x-python",
   "name": "python",
   "nbconvert_exporter": "python",
   "pygments_lexer": "ipython3",
   "version": "3.9.13"
  }
 },
 "nbformat": 4,
 "nbformat_minor": 5
}
