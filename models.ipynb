{
 "cells": [
  {
   "cell_type": "code",
   "execution_count": 1,
   "id": "42ad5e5f",
   "metadata": {},
   "outputs": [],
   "source": [
    "import pandas as pd\n",
    "import numpy as np\n",
    "import seaborn as sns\n",
    "import matplotlib.pyplot as plt\n",
    "from sklearn.model_selection import train_test_split\n",
    "from sklearn.compose import ColumnTransformer\n",
    "from sklearn.pipeline import Pipeline\n",
    "from sklearn.preprocessing import OneHotEncoder\n",
    "from sklearn.metrics import r2_score, mean_absolute_error, mean_squared_error\n",
    "import pickle\n",
    "from sklearn.preprocessing import LabelEncoder"
   ]
  },
  {
   "cell_type": "code",
   "execution_count": 2,
   "id": "5a300f10",
   "metadata": {},
   "outputs": [],
   "source": [
    "from sklearn.linear_model import LinearRegression, Ridge, Lasso\n",
    "from sklearn.neighbors import KNeighborsRegressor\n",
    "from sklearn.tree import DecisionTreeRegressor\n",
    "from sklearn.ensemble import RandomForestRegressor, GradientBoostingRegressor, AdaBoostRegressor, ExtraTreesRegressor\n",
    "from sklearn.svm import SVR\n",
    "from xgboost import XGBRegressor"
   ]
  },
  {
   "cell_type": "code",
   "execution_count": 73,
   "id": "8d41e32e",
   "metadata": {},
   "outputs": [],
   "source": [
    "df = pd.read_csv('data/laptop_df.csv')"
   ]
  },
  {
   "cell_type": "code",
   "execution_count": 74,
   "id": "508133e1",
   "metadata": {},
   "outputs": [
    {
     "data": {
      "text/html": [
       "<div>\n",
       "<style scoped>\n",
       "    .dataframe tbody tr th:only-of-type {\n",
       "        vertical-align: middle;\n",
       "    }\n",
       "\n",
       "    .dataframe tbody tr th {\n",
       "        vertical-align: top;\n",
       "    }\n",
       "\n",
       "    .dataframe thead th {\n",
       "        text-align: right;\n",
       "    }\n",
       "</style>\n",
       "<table border=\"1\" class=\"dataframe\">\n",
       "  <thead>\n",
       "    <tr style=\"text-align: right;\">\n",
       "      <th></th>\n",
       "      <th>Unnamed: 0</th>\n",
       "      <th>price</th>\n",
       "      <th>manufacturer</th>\n",
       "      <th>graphics_copressor</th>\n",
       "      <th>ram</th>\n",
       "      <th>num_processors</th>\n",
       "      <th>touchable</th>\n",
       "      <th>ips</th>\n",
       "      <th>ppi</th>\n",
       "      <th>cpu_name</th>\n",
       "      <th>memory</th>\n",
       "      <th>os</th>\n",
       "    </tr>\n",
       "  </thead>\n",
       "  <tbody>\n",
       "    <tr>\n",
       "      <th>0</th>\n",
       "      <td>0</td>\n",
       "      <td>2287.0</td>\n",
       "      <td>Microsoft</td>\n",
       "      <td>NVIDIA</td>\n",
       "      <td>8</td>\n",
       "      <td>4</td>\n",
       "      <td>1</td>\n",
       "      <td>0</td>\n",
       "      <td>267.077872</td>\n",
       "      <td>Intel Core i7</td>\n",
       "      <td>256</td>\n",
       "      <td>Windows</td>\n",
       "    </tr>\n",
       "  </tbody>\n",
       "</table>\n",
       "</div>"
      ],
      "text/plain": [
       "   Unnamed: 0   price manufacturer graphics_copressor  ram  num_processors  \\\n",
       "0           0  2287.0    Microsoft             NVIDIA    8               4   \n",
       "\n",
       "   touchable  ips         ppi       cpu_name  memory       os  \n",
       "0          1    0  267.077872  Intel Core i7     256  Windows  "
      ]
     },
     "execution_count": 74,
     "metadata": {},
     "output_type": "execute_result"
    }
   ],
   "source": [
    "df.head(1)"
   ]
  },
  {
   "cell_type": "markdown",
   "id": "a1ba7f59",
   "metadata": {},
   "source": [
    "## Preprocessing"
   ]
  },
  {
   "cell_type": "code",
   "execution_count": 75,
   "id": "656427d7",
   "metadata": {},
   "outputs": [],
   "source": [
    "df.drop(columns=['Unnamed: 0'], inplace=True)"
   ]
  },
  {
   "cell_type": "code",
   "execution_count": 76,
   "id": "f50b61f2",
   "metadata": {},
   "outputs": [],
   "source": [
    "new_order = ['manufacturer', 'ram', 'touchable', 'ips', 'ppi', 'cpu_name', 'memory', 'num_processors', 'graphics_copressor', 'os', 'price']"
   ]
  },
  {
   "cell_type": "code",
   "execution_count": 77,
   "id": "7e23f122",
   "metadata": {},
   "outputs": [],
   "source": [
    "df = df[new_order]"
   ]
  },
  {
   "cell_type": "code",
   "execution_count": 78,
   "id": "ec5077c6",
   "metadata": {},
   "outputs": [
    {
     "data": {
      "text/html": [
       "<div>\n",
       "<style scoped>\n",
       "    .dataframe tbody tr th:only-of-type {\n",
       "        vertical-align: middle;\n",
       "    }\n",
       "\n",
       "    .dataframe tbody tr th {\n",
       "        vertical-align: top;\n",
       "    }\n",
       "\n",
       "    .dataframe thead th {\n",
       "        text-align: right;\n",
       "    }\n",
       "</style>\n",
       "<table border=\"1\" class=\"dataframe\">\n",
       "  <thead>\n",
       "    <tr style=\"text-align: right;\">\n",
       "      <th></th>\n",
       "      <th>manufacturer</th>\n",
       "      <th>ram</th>\n",
       "      <th>touchable</th>\n",
       "      <th>ips</th>\n",
       "      <th>ppi</th>\n",
       "      <th>cpu_name</th>\n",
       "      <th>memory</th>\n",
       "      <th>num_processors</th>\n",
       "      <th>graphics_copressor</th>\n",
       "      <th>os</th>\n",
       "      <th>price</th>\n",
       "    </tr>\n",
       "  </thead>\n",
       "  <tbody>\n",
       "    <tr>\n",
       "      <th>0</th>\n",
       "      <td>Microsoft</td>\n",
       "      <td>8</td>\n",
       "      <td>1</td>\n",
       "      <td>0</td>\n",
       "      <td>267.077872</td>\n",
       "      <td>Intel Core i7</td>\n",
       "      <td>256</td>\n",
       "      <td>4</td>\n",
       "      <td>NVIDIA</td>\n",
       "      <td>Windows</td>\n",
       "      <td>2287.0</td>\n",
       "    </tr>\n",
       "  </tbody>\n",
       "</table>\n",
       "</div>"
      ],
      "text/plain": [
       "  manufacturer  ram  touchable  ips         ppi       cpu_name  memory  \\\n",
       "0    Microsoft    8          1    0  267.077872  Intel Core i7     256   \n",
       "\n",
       "   num_processors graphics_copressor       os   price  \n",
       "0               4             NVIDIA  Windows  2287.0  "
      ]
     },
     "execution_count": 78,
     "metadata": {},
     "output_type": "execute_result"
    }
   ],
   "source": [
    "df.head(1)"
   ]
  },
  {
   "cell_type": "code",
   "execution_count": 51,
   "id": "b63ed93c",
   "metadata": {},
   "outputs": [
    {
     "data": {
      "text/plain": [
       "array(['Intel Core i7', 'Intel Core i9', 'Intel Core i5',\n",
       "       'Other Intel Processor', 'AMD Ryzen 7', 'AMD Ryzen 5',\n",
       "       'AMD Ryzen 9', 'Mac Processor', 'Intel Core i3', 'Intel Celeron',\n",
       "       'Other AMD Processor', 'MediaTek'], dtype=object)"
      ]
     },
     "execution_count": 51,
     "metadata": {},
     "output_type": "execute_result"
    }
   ],
   "source": [
    "df['cpu_name'].unique()"
   ]
  },
  {
   "cell_type": "code",
   "execution_count": 79,
   "id": "793828ae",
   "metadata": {},
   "outputs": [],
   "source": [
    "laptop_df = df"
   ]
  },
  {
   "cell_type": "code",
   "execution_count": 52,
   "id": "73786172",
   "metadata": {},
   "outputs": [
    {
     "data": {
      "text/plain": [
       "array([2, 0, 1])"
      ]
     },
     "execution_count": 52,
     "metadata": {},
     "output_type": "execute_result"
    }
   ],
   "source": [
    "os_encoder = LabelEncoder()\n",
    "df['os'] = os_encoder.fit_transform(df['os'])\n",
    "df['os'].unique()"
   ]
  },
  {
   "cell_type": "code",
   "execution_count": 53,
   "id": "38557840",
   "metadata": {},
   "outputs": [
    {
     "data": {
      "text/plain": [
       "array([3, 2, 1, 0])"
      ]
     },
     "execution_count": 53,
     "metadata": {},
     "output_type": "execute_result"
    }
   ],
   "source": [
    "gpu_encoder = LabelEncoder()\n",
    "df['graphics_copressor'] = gpu_encoder.fit_transform(df['graphics_copressor'])\n",
    "df['graphics_copressor'].unique()"
   ]
  },
  {
   "cell_type": "code",
   "execution_count": 54,
   "id": "8bb4e50f",
   "metadata": {},
   "outputs": [
    {
     "data": {
      "text/plain": [
       "array([ 6,  7,  5, 11,  1,  0,  2,  8,  4,  3, 10,  9])"
      ]
     },
     "execution_count": 54,
     "metadata": {},
     "output_type": "execute_result"
    }
   ],
   "source": [
    "cpu_encoder = LabelEncoder()\n",
    "df['cpu_name'] = cpu_encoder.fit_transform(df['cpu_name'])\n",
    "df['cpu_name'].unique()"
   ]
  },
  {
   "cell_type": "code",
   "execution_count": 55,
   "id": "631206ec",
   "metadata": {},
   "outputs": [
    {
     "data": {
      "text/plain": [
       "array([6, 3, 7, 5, 2, 0, 4, 1])"
      ]
     },
     "execution_count": 55,
     "metadata": {},
     "output_type": "execute_result"
    }
   ],
   "source": [
    "manufacturer_encoder = LabelEncoder()\n",
    "df['manufacturer'] = manufacturer_encoder.fit_transform(df['manufacturer'])\n",
    "df['manufacturer'].unique()"
   ]
  },
  {
   "cell_type": "code",
   "execution_count": 56,
   "id": "b0772e43",
   "metadata": {},
   "outputs": [],
   "source": [
    "X = df.drop(columns=['price'])\n",
    "y = np.log(df['price'])"
   ]
  },
  {
   "cell_type": "code",
   "execution_count": 57,
   "id": "561facd2",
   "metadata": {},
   "outputs": [
    {
     "data": {
      "text/plain": [
       "array([ 4, 24, 14, 16,  8,  6,  1, 10, 12,  2])"
      ]
     },
     "execution_count": 57,
     "metadata": {},
     "output_type": "execute_result"
    }
   ],
   "source": [
    "X['num_processors'].unique()"
   ]
  },
  {
   "cell_type": "code",
   "execution_count": 58,
   "id": "db9654e3",
   "metadata": {},
   "outputs": [
    {
     "data": {
      "text/plain": [
       "0       7.734996\n",
       "1       8.006034\n",
       "2       8.004700\n",
       "3       7.600402\n",
       "4       8.006034\n",
       "          ...   \n",
       "1100    7.207119\n",
       "1101    6.378426\n",
       "1102    8.582981\n",
       "1103    7.521859\n",
       "1104    7.414573\n",
       "Name: price, Length: 1105, dtype: float64"
      ]
     },
     "execution_count": 58,
     "metadata": {},
     "output_type": "execute_result"
    }
   ],
   "source": [
    "y"
   ]
  },
  {
   "cell_type": "code",
   "execution_count": 59,
   "id": "be9470dd",
   "metadata": {},
   "outputs": [],
   "source": [
    "X_train, X_test, y_train, y_test = train_test_split(X, y, test_size=0.15, random_state=2)"
   ]
  },
  {
   "cell_type": "markdown",
   "id": "9f97545c",
   "metadata": {},
   "source": [
    "## Linear Regression"
   ]
  },
  {
   "cell_type": "code",
   "execution_count": 33,
   "id": "e74c2d53",
   "metadata": {},
   "outputs": [
    {
     "name": "stdout",
     "output_type": "stream",
     "text": [
      "R2 score  0.8707502919842707\n",
      "MAE  0.17484199481251475\n"
     ]
    }
   ],
   "source": [
    "step1 = ColumnTransformer(transformers=[\n",
    "    ('col_tnf', OneHotEncoder(sparse=False, drop='first'), [0,5,8,9])\n",
    "], remainder='passthrough')\n",
    "\n",
    "step2 = LinearRegression()\n",
    "\n",
    "pipe = Pipeline([\n",
    "    ('step1', step1),\n",
    "    ('step2', step2)\n",
    "])\n",
    "\n",
    "pipe.fit(X_train, y_train)\n",
    "\n",
    "y_pred = pipe.predict(X_test)\n",
    "\n",
    "print('R2 score ',r2_score(y_test, y_pred))\n",
    "print('MAE ', mean_absolute_error(y_test, y_pred))"
   ]
  },
  {
   "cell_type": "code",
   "execution_count": 60,
   "id": "21ac4302",
   "metadata": {},
   "outputs": [
    {
     "name": "stdout",
     "output_type": "stream",
     "text": [
      "R2 score  0.7416903348570723\n",
      "MAE  0.24740303192496216\n"
     ]
    }
   ],
   "source": [
    "lr = LinearRegression()\n",
    "lr.fit(X_train, y_train)\n",
    "y_pred = lr.predict(X_test)\n",
    "\n",
    "print('R2 score ',r2_score(y_test, y_pred))\n",
    "print('MAE ', mean_absolute_error(y_test, y_pred))"
   ]
  },
  {
   "cell_type": "code",
   "execution_count": null,
   "id": "9186d179",
   "metadata": {},
   "outputs": [],
   "source": []
  },
  {
   "cell_type": "code",
   "execution_count": 132,
   "id": "d880b6eb",
   "metadata": {},
   "outputs": [
    {
     "data": {
      "text/plain": [
       "1.2214027581601699"
      ]
     },
     "execution_count": 132,
     "metadata": {},
     "output_type": "execute_result"
    }
   ],
   "source": [
    "np.exp(.20)"
   ]
  },
  {
   "cell_type": "markdown",
   "id": "e7252fac",
   "metadata": {},
   "source": [
    "## Ridge"
   ]
  },
  {
   "cell_type": "code",
   "execution_count": 32,
   "id": "32e859bd",
   "metadata": {},
   "outputs": [
    {
     "name": "stdout",
     "output_type": "stream",
     "text": [
      "R2 score  0.8672876201170919\n",
      "MAE  0.1727388418832285\n"
     ]
    }
   ],
   "source": [
    "step1 = ColumnTransformer(transformers=[\n",
    "    ('col_tnf', OneHotEncoder(sparse=False, drop='first'), [0,5,8,9])\n",
    "], remainder='passthrough')\n",
    "\n",
    "step2 = Ridge(alpha=10)\n",
    "\n",
    "pipe = Pipeline([\n",
    "    ('step1', step1),\n",
    "    ('step2', step2)\n",
    "])\n",
    "\n",
    "pipe.fit(X_train, y_train)\n",
    "\n",
    "y_pred = pipe.predict(X_test)\n",
    "\n",
    "print('R2 score ',r2_score(y_test, y_pred))\n",
    "print('MAE ', mean_absolute_error(y_test, y_pred))"
   ]
  },
  {
   "cell_type": "code",
   "execution_count": 61,
   "id": "7d04cc41",
   "metadata": {},
   "outputs": [
    {
     "name": "stdout",
     "output_type": "stream",
     "text": [
      "R2 score  0.7414768650229107\n",
      "MAE  0.24725087243027338\n"
     ]
    }
   ],
   "source": [
    "ridge = Ridge(alpha=10)\n",
    "ridge.fit(X_train, y_train)\n",
    "y_pred = ridge.predict(X_test)\n",
    "\n",
    "print('R2 score ',r2_score(y_test, y_pred))\n",
    "print('MAE ', mean_absolute_error(y_test, y_pred))"
   ]
  },
  {
   "cell_type": "markdown",
   "id": "482bfa0f",
   "metadata": {},
   "source": [
    "## Lasso"
   ]
  },
  {
   "cell_type": "code",
   "execution_count": 31,
   "id": "06960403",
   "metadata": {},
   "outputs": [
    {
     "name": "stdout",
     "output_type": "stream",
     "text": [
      "R2 score  0.8708190394493661\n",
      "MAE  0.17265791951490622\n"
     ]
    }
   ],
   "source": [
    "step1 = ColumnTransformer(transformers=[\n",
    "    ('col_tnf', OneHotEncoder(sparse=False, drop='first'), [0,5,8,9])\n",
    "], remainder='passthrough')\n",
    "\n",
    "step2 = Lasso(alpha=0.001)\n",
    "\n",
    "pipe = Pipeline([\n",
    "    ('step1', step1),\n",
    "    ('step2', step2)\n",
    "])\n",
    "\n",
    "pipe.fit(X_train, y_train)\n",
    "\n",
    "y_pred = pipe.predict(X_test)\n",
    "\n",
    "print('R2 score ',r2_score(y_test, y_pred))\n",
    "print('MAE ', mean_absolute_error(y_test, y_pred))"
   ]
  },
  {
   "cell_type": "code",
   "execution_count": 62,
   "id": "4af8c5ea",
   "metadata": {},
   "outputs": [
    {
     "name": "stdout",
     "output_type": "stream",
     "text": [
      "R2 score  0.7417519144251157\n",
      "MAE  0.247164363756495\n"
     ]
    }
   ],
   "source": [
    "lasso = Lasso(alpha=0.001)\n",
    "lasso.fit(X_train, y_train)\n",
    "y_pred = lasso.predict(X_test)\n",
    "\n",
    "print('R2 score ',r2_score(y_test, y_pred))\n",
    "print('MAE ', mean_absolute_error(y_test, y_pred))"
   ]
  },
  {
   "cell_type": "markdown",
   "id": "af8e472a",
   "metadata": {},
   "source": [
    "## KNN"
   ]
  },
  {
   "cell_type": "code",
   "execution_count": 30,
   "id": "784e05b7",
   "metadata": {},
   "outputs": [
    {
     "name": "stdout",
     "output_type": "stream",
     "text": [
      "R2 score  0.7593004491800456\n",
      "MAE  0.22522783491541531\n"
     ]
    }
   ],
   "source": [
    "step1 = ColumnTransformer(transformers=[\n",
    "    ('col_tnf', OneHotEncoder(sparse=False, drop='first'), [0,5,8,9])\n",
    "], remainder='passthrough')\n",
    "\n",
    "step2 = KNeighborsRegressor(n_neighbors=3)\n",
    "\n",
    "pipe = Pipeline([\n",
    "    ('step1', step1),\n",
    "    ('step2', step2)\n",
    "])\n",
    "\n",
    "pipe.fit(X_train, y_train)\n",
    "\n",
    "y_pred = pipe.predict(X_test)\n",
    "\n",
    "print('R2 score ',r2_score(y_test, y_pred))\n",
    "print('MAE ', mean_absolute_error(y_test, y_pred))"
   ]
  },
  {
   "cell_type": "code",
   "execution_count": 63,
   "id": "e1d31582",
   "metadata": {},
   "outputs": [
    {
     "name": "stdout",
     "output_type": "stream",
     "text": [
      "R2 score  0.7729373426114075\n",
      "MAE  0.22334877623690683\n"
     ]
    }
   ],
   "source": [
    "knn = KNeighborsRegressor(n_neighbors=4)\n",
    "knn.fit(X_train, y_train)\n",
    "y_pred = knn.predict(X_test)\n",
    "\n",
    "print('R2 score ',r2_score(y_test, y_pred))\n",
    "print('MAE ', mean_absolute_error(y_test, y_pred))"
   ]
  },
  {
   "cell_type": "markdown",
   "id": "b862e0cc",
   "metadata": {},
   "source": [
    "## Decision Tree"
   ]
  },
  {
   "cell_type": "code",
   "execution_count": 29,
   "id": "5ac84cac",
   "metadata": {},
   "outputs": [
    {
     "name": "stdout",
     "output_type": "stream",
     "text": [
      "R2 score  0.8392486902688246\n",
      "MAE  0.18202608622414695\n"
     ]
    }
   ],
   "source": [
    "step1 = ColumnTransformer(transformers=[\n",
    "    ('col_tnf', OneHotEncoder(sparse=False, drop='first'), [0,5,8,9])\n",
    "], remainder='passthrough')\n",
    "\n",
    "step2 = DecisionTreeRegressor(max_depth=8)\n",
    "\n",
    "pipe = Pipeline([\n",
    "    ('step1', step1),\n",
    "    ('step2', step2)\n",
    "])\n",
    "\n",
    "pipe.fit(X_train, y_train)\n",
    "\n",
    "y_pred = pipe.predict(X_test)\n",
    "\n",
    "print('R2 score ',r2_score(y_test, y_pred))\n",
    "print('MAE ', mean_absolute_error(y_test, y_pred))"
   ]
  },
  {
   "cell_type": "code",
   "execution_count": 64,
   "id": "92841ec3",
   "metadata": {},
   "outputs": [
    {
     "name": "stdout",
     "output_type": "stream",
     "text": [
      "R2 score  0.8507961744459601\n",
      "MAE  0.18200529287862172\n"
     ]
    }
   ],
   "source": [
    "dt = DecisionTreeRegressor(max_depth=8)\n",
    "dt.fit(X_train, y_train)\n",
    "y_pred = dt.predict(X_test)\n",
    "\n",
    "print('R2 score ',r2_score(y_test, y_pred))\n",
    "print('MAE ', mean_absolute_error(y_test, y_pred))"
   ]
  },
  {
   "cell_type": "markdown",
   "id": "356aa81d",
   "metadata": {},
   "source": [
    "## SVM"
   ]
  },
  {
   "cell_type": "code",
   "execution_count": 28,
   "id": "c755c965",
   "metadata": {},
   "outputs": [
    {
     "name": "stdout",
     "output_type": "stream",
     "text": [
      "R2 score  0.8656107502294788\n",
      "MAE  0.17177722955611044\n"
     ]
    }
   ],
   "source": [
    "step1 = ColumnTransformer(transformers=[\n",
    "    ('col_tnf', OneHotEncoder(sparse=False, drop='first'), [0,5,8,9])\n",
    "], remainder='passthrough')\n",
    "\n",
    "step2 = SVR(kernel='rbf', C=10000, epsilon=0.1)\n",
    "\n",
    "pipe = Pipeline([\n",
    "    ('step1', step1),\n",
    "    ('step2', step2)\n",
    "])\n",
    "\n",
    "pipe.fit(X_train, y_train)\n",
    "\n",
    "y_pred = pipe.predict(X_test)\n",
    "\n",
    "print('R2 score ',r2_score(y_test, y_pred))\n",
    "print('MAE ', mean_absolute_error(y_test, y_pred))"
   ]
  },
  {
   "cell_type": "code",
   "execution_count": 65,
   "id": "45fde53d",
   "metadata": {},
   "outputs": [
    {
     "name": "stdout",
     "output_type": "stream",
     "text": [
      "R2 score  0.8225209753983004\n",
      "MAE  0.20237569270280628\n"
     ]
    }
   ],
   "source": [
    "svm = SVR(kernel='rbf', C=10000, epsilon=0.1)\n",
    "svm.fit(X_train, y_train)\n",
    "y_pred = svm.predict(X_test)\n",
    "\n",
    "print('R2 score ',r2_score(y_test, y_pred))\n",
    "print('MAE ', mean_absolute_error(y_test, y_pred))"
   ]
  },
  {
   "cell_type": "markdown",
   "id": "4af5e681",
   "metadata": {},
   "source": [
    "## Random Forest"
   ]
  },
  {
   "cell_type": "code",
   "execution_count": 71,
   "id": "14ac57ca",
   "metadata": {},
   "outputs": [
    {
     "name": "stdout",
     "output_type": "stream",
     "text": [
      "R2 score  0.9123553830609958\n",
      "MAE  0.1307484956618807\n"
     ]
    }
   ],
   "source": [
    "step1 = ColumnTransformer(transformers=[\n",
    "    ('col_tnf', OneHotEncoder(sparse=False, drop='first'), [0,5,7,8])\n",
    "], remainder='passthrough')\n",
    "\n",
    "step2 = RandomForestRegressor(n_estimators=100, random_state=42, max_samples=0.5, max_features=0.75, max_depth=15)\n",
    "\n",
    "pipe = Pipeline([\n",
    "    ('step1', step1),\n",
    "    ('step2', step2)\n",
    "])\n",
    "\n",
    "pipe.fit(X_train, y_train)\n",
    "\n",
    "y_pred = pipe.predict(X_test)\n",
    "\n",
    "print('R2 score ',r2_score(y_test, y_pred))\n",
    "print('MAE ', mean_absolute_error(y_test, y_pred))"
   ]
  },
  {
   "cell_type": "code",
   "execution_count": 66,
   "id": "1dd7064d",
   "metadata": {},
   "outputs": [],
   "source": [
    "rf = RandomForestRegressor(n_estimators=100, random_state=42, max_samples=0.5, max_features=0.75, max_depth=15)\n",
    "rf.fit(X_train, y_train)\n",
    "y_pred = rf.predict(X_test)\n"
   ]
  },
  {
   "cell_type": "code",
   "execution_count": 67,
   "id": "bc1a92c8",
   "metadata": {},
   "outputs": [
    {
     "name": "stdout",
     "output_type": "stream",
     "text": [
      "$0.20\n"
     ]
    }
   ],
   "source": [
    "error = np.sqrt(mean_squared_error(y_test, y_pred))\n",
    "print(\"${:,.02f}\".format(error))"
   ]
  },
  {
   "cell_type": "code",
   "execution_count": 68,
   "id": "25764b8b",
   "metadata": {},
   "outputs": [
    {
     "name": "stdout",
     "output_type": "stream",
     "text": [
      "R2 score  0.9046736757977377\n",
      "MAE  0.1390859346822199\n"
     ]
    }
   ],
   "source": [
    "print('R2 score ',r2_score(y_test, y_pred))\n",
    "print('MAE ', mean_absolute_error(y_test, y_pred))"
   ]
  },
  {
   "cell_type": "code",
   "execution_count": null,
   "id": "9fc04346",
   "metadata": {},
   "outputs": [],
   "source": []
  },
  {
   "cell_type": "markdown",
   "id": "68c271a2",
   "metadata": {},
   "source": [
    "## Exporting Model"
   ]
  },
  {
   "cell_type": "code",
   "execution_count": 69,
   "id": "1123514e",
   "metadata": {},
   "outputs": [],
   "source": [
    "data_model = {\"model\": rf, \"manufacturer_encoder\": manufacturer_encoder, \"cpu_encoder\": cpu_encoder, \"gpu_encoder\": gpu_encoder, \"os_encoder\": os_encoder}\n",
    "with open('saved_steps.pkl', 'wb') as file:\n",
    "    pickle.dump(data_model, file)"
   ]
  },
  {
   "cell_type": "code",
   "execution_count": 83,
   "id": "975b306d",
   "metadata": {},
   "outputs": [],
   "source": [
    "pickle.dump(laptop_df, open('df.pkl', 'wb'))\n",
    "#pickle.dump(pipe, open('pipe.pkl', 'wb'))"
   ]
  },
  {
   "cell_type": "code",
   "execution_count": null,
   "id": "f48cdba5",
   "metadata": {},
   "outputs": [],
   "source": []
  }
 ],
 "metadata": {
  "kernelspec": {
   "display_name": "Python 3 (ipykernel)",
   "language": "python",
   "name": "python3"
  },
  "language_info": {
   "codemirror_mode": {
    "name": "ipython",
    "version": 3
   },
   "file_extension": ".py",
   "mimetype": "text/x-python",
   "name": "python",
   "nbconvert_exporter": "python",
   "pygments_lexer": "ipython3",
   "version": "3.9.13"
  }
 },
 "nbformat": 4,
 "nbformat_minor": 5
}
